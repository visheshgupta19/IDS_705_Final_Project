{
 "cells": [
  {
   "cell_type": "code",
   "execution_count": 2,
   "metadata": {},
   "outputs": [
    {
     "name": "stderr",
     "output_type": "stream",
     "text": [
      "/Users/visheshgupta/miniforge3/lib/python3.12/site-packages/tqdm/auto.py:21: TqdmWarning: IProgress not found. Please update jupyter and ipywidgets. See https://ipywidgets.readthedocs.io/en/stable/user_install.html\n",
      "  from .autonotebook import tqdm as notebook_tqdm\n"
     ]
    }
   ],
   "source": [
    "import numpy as np\n",
    "import pandas as pd\n",
    "\n",
    "# vader\n",
    "from vaderSentiment.vaderSentiment import SentimentIntensityAnalyzer\n",
    "\n",
    "# finbert\n",
    "import torch\n",
    "from transformers import BertForSequenceClassification, BertTokenizer\n",
    "\n",
    "# nltk\n",
    "import nltk"
   ]
  },
  {
   "cell_type": "code",
   "execution_count": 3,
   "metadata": {},
   "outputs": [
    {
     "name": "stderr",
     "output_type": "stream",
     "text": [
      "[nltk_data] Downloading package wordnet to\n",
      "[nltk_data]     /Users/visheshgupta/nltk_data...\n",
      "[nltk_data]   Package wordnet is already up-to-date!\n"
     ]
    },
    {
     "data": {
      "text/plain": [
       "True"
      ]
     },
     "execution_count": 3,
     "metadata": {},
     "output_type": "execute_result"
    }
   ],
   "source": [
    "nltk.download(\"wordnet\")"
   ]
  },
  {
   "cell_type": "code",
   "execution_count": 4,
   "metadata": {},
   "outputs": [],
   "source": [
    "gold_df = pd.read_csv(\"gold-dataset-sinha-khandait.csv\")"
   ]
  },
  {
   "cell_type": "code",
   "execution_count": 5,
   "metadata": {},
   "outputs": [
    {
     "data": {
      "text/plain": [
       "'december gold down $1 at $749 an ounce on nymex'"
      ]
     },
     "execution_count": 5,
     "metadata": {},
     "output_type": "execute_result"
    }
   ],
   "source": [
    "gold_df[\"News\"].iloc[10569]"
   ]
  },
  {
   "cell_type": "markdown",
   "metadata": {},
   "source": [
    "# Understand the DATA"
   ]
  },
  {
   "cell_type": "code",
   "execution_count": 6,
   "metadata": {},
   "outputs": [
    {
     "data": {
      "text/plain": [
       "Index(['Dates', 'URL', 'News', 'Price Direction Up',\n",
       "       'Price Direction Constant', 'Price Direction Down', 'Asset Comparision',\n",
       "       'Past Information', 'Future Information', 'Price Sentiment'],\n",
       "      dtype='object')"
      ]
     },
     "execution_count": 6,
     "metadata": {},
     "output_type": "execute_result"
    }
   ],
   "source": [
    "gold_df.columns"
   ]
  },
  {
   "cell_type": "code",
   "execution_count": 7,
   "metadata": {},
   "outputs": [
    {
     "name": "stdout",
     "output_type": "stream",
     "text": [
      "<class 'pandas.core.frame.DataFrame'>\n",
      "RangeIndex: 10570 entries, 0 to 10569\n",
      "Data columns (total 10 columns):\n",
      " #   Column                    Non-Null Count  Dtype \n",
      "---  ------                    --------------  ----- \n",
      " 0   Dates                     10570 non-null  object\n",
      " 1   URL                       10570 non-null  object\n",
      " 2   News                      10570 non-null  object\n",
      " 3   Price Direction Up        10570 non-null  int64 \n",
      " 4   Price Direction Constant  10570 non-null  int64 \n",
      " 5   Price Direction Down      10570 non-null  int64 \n",
      " 6   Asset Comparision         10570 non-null  int64 \n",
      " 7   Past Information          10570 non-null  int64 \n",
      " 8   Future Information        10570 non-null  int64 \n",
      " 9   Price Sentiment           10570 non-null  object\n",
      "dtypes: int64(6), object(4)\n",
      "memory usage: 825.9+ KB\n"
     ]
    }
   ],
   "source": [
    "gold_df.info()"
   ]
  },
  {
   "cell_type": "code",
   "execution_count": 8,
   "metadata": {},
   "outputs": [
    {
     "data": {
      "text/html": [
       "<div>\n",
       "<style scoped>\n",
       "    .dataframe tbody tr th:only-of-type {\n",
       "        vertical-align: middle;\n",
       "    }\n",
       "\n",
       "    .dataframe tbody tr th {\n",
       "        vertical-align: top;\n",
       "    }\n",
       "\n",
       "    .dataframe thead th {\n",
       "        text-align: right;\n",
       "    }\n",
       "</style>\n",
       "<table border=\"1\" class=\"dataframe\">\n",
       "  <thead>\n",
       "    <tr style=\"text-align: right;\">\n",
       "      <th></th>\n",
       "      <th>Price Direction Up</th>\n",
       "      <th>Price Direction Constant</th>\n",
       "      <th>Price Direction Down</th>\n",
       "      <th>Asset Comparision</th>\n",
       "      <th>Past Information</th>\n",
       "      <th>Future Information</th>\n",
       "    </tr>\n",
       "  </thead>\n",
       "  <tbody>\n",
       "    <tr>\n",
       "      <th>count</th>\n",
       "      <td>10570.000000</td>\n",
       "      <td>10570.000000</td>\n",
       "      <td>10570.000000</td>\n",
       "      <td>10570.000000</td>\n",
       "      <td>10570.000000</td>\n",
       "      <td>10570.00000</td>\n",
       "    </tr>\n",
       "    <tr>\n",
       "      <th>mean</th>\n",
       "      <td>0.417408</td>\n",
       "      <td>0.042006</td>\n",
       "      <td>0.370104</td>\n",
       "      <td>0.189309</td>\n",
       "      <td>0.969915</td>\n",
       "      <td>0.03018</td>\n",
       "    </tr>\n",
       "    <tr>\n",
       "      <th>std</th>\n",
       "      <td>0.493155</td>\n",
       "      <td>0.200612</td>\n",
       "      <td>0.482855</td>\n",
       "      <td>0.391773</td>\n",
       "      <td>0.170830</td>\n",
       "      <td>0.17109</td>\n",
       "    </tr>\n",
       "    <tr>\n",
       "      <th>min</th>\n",
       "      <td>0.000000</td>\n",
       "      <td>0.000000</td>\n",
       "      <td>0.000000</td>\n",
       "      <td>0.000000</td>\n",
       "      <td>0.000000</td>\n",
       "      <td>0.00000</td>\n",
       "    </tr>\n",
       "    <tr>\n",
       "      <th>25%</th>\n",
       "      <td>0.000000</td>\n",
       "      <td>0.000000</td>\n",
       "      <td>0.000000</td>\n",
       "      <td>0.000000</td>\n",
       "      <td>1.000000</td>\n",
       "      <td>0.00000</td>\n",
       "    </tr>\n",
       "    <tr>\n",
       "      <th>50%</th>\n",
       "      <td>0.000000</td>\n",
       "      <td>0.000000</td>\n",
       "      <td>0.000000</td>\n",
       "      <td>0.000000</td>\n",
       "      <td>1.000000</td>\n",
       "      <td>0.00000</td>\n",
       "    </tr>\n",
       "    <tr>\n",
       "      <th>75%</th>\n",
       "      <td>1.000000</td>\n",
       "      <td>0.000000</td>\n",
       "      <td>1.000000</td>\n",
       "      <td>0.000000</td>\n",
       "      <td>1.000000</td>\n",
       "      <td>0.00000</td>\n",
       "    </tr>\n",
       "    <tr>\n",
       "      <th>max</th>\n",
       "      <td>1.000000</td>\n",
       "      <td>1.000000</td>\n",
       "      <td>1.000000</td>\n",
       "      <td>1.000000</td>\n",
       "      <td>1.000000</td>\n",
       "      <td>1.00000</td>\n",
       "    </tr>\n",
       "  </tbody>\n",
       "</table>\n",
       "</div>"
      ],
      "text/plain": [
       "       Price Direction Up  Price Direction Constant  Price Direction Down  \\\n",
       "count        10570.000000              10570.000000          10570.000000   \n",
       "mean             0.417408                  0.042006              0.370104   \n",
       "std              0.493155                  0.200612              0.482855   \n",
       "min              0.000000                  0.000000              0.000000   \n",
       "25%              0.000000                  0.000000              0.000000   \n",
       "50%              0.000000                  0.000000              0.000000   \n",
       "75%              1.000000                  0.000000              1.000000   \n",
       "max              1.000000                  1.000000              1.000000   \n",
       "\n",
       "       Asset Comparision  Past Information  Future Information  \n",
       "count       10570.000000      10570.000000         10570.00000  \n",
       "mean            0.189309          0.969915             0.03018  \n",
       "std             0.391773          0.170830             0.17109  \n",
       "min             0.000000          0.000000             0.00000  \n",
       "25%             0.000000          1.000000             0.00000  \n",
       "50%             0.000000          1.000000             0.00000  \n",
       "75%             0.000000          1.000000             0.00000  \n",
       "max             1.000000          1.000000             1.00000  "
      ]
     },
     "execution_count": 8,
     "metadata": {},
     "output_type": "execute_result"
    }
   ],
   "source": [
    "gold_df.describe()"
   ]
  },
  {
   "cell_type": "code",
   "execution_count": 9,
   "metadata": {},
   "outputs": [
    {
     "data": {
      "text/plain": [
       "<Axes: xlabel='Price Sentiment'>"
      ]
     },
     "execution_count": 9,
     "metadata": {},
     "output_type": "execute_result"
    },
    {
     "data": {
      "image/png": "[encoded data removed]",
      "text/plain": [
       "<Figure size 640x480 with 1 Axes>"
      ]
     },
     "metadata": {},
     "output_type": "display_data"
    }
   ],
   "source": [
    "gold_df[[\"News\", \"Price Sentiment\"]].groupby(\"Price Sentiment\").count().plot(kind=\"bar\")"
   ]
  },
  {
   "cell_type": "code",
   "execution_count": 10,
   "metadata": {},
   "outputs": [],
   "source": [
    "# nuetral and none are the same thing\n",
    "gold_df[\"Price Sentiment\"] = np.where(\n",
    "    gold_df[\"Price Sentiment\"] == \"none\", \"neutral\", gold_df[\"Price Sentiment\"]\n",
    ")"
   ]
  },
  {
   "cell_type": "code",
   "execution_count": 12,
   "metadata": {},
   "outputs": [
    {
     "data": {
      "text/html": [
       "<div>\n",
       "<style scoped>\n",
       "    .dataframe tbody tr th:only-of-type {\n",
       "        vertical-align: middle;\n",
       "    }\n",
       "\n",
       "    .dataframe tbody tr th {\n",
       "        vertical-align: top;\n",
       "    }\n",
       "\n",
       "    .dataframe thead th {\n",
       "        text-align: right;\n",
       "    }\n",
       "</style>\n",
       "<table border=\"1\" class=\"dataframe\">\n",
       "  <thead>\n",
       "    <tr style=\"text-align: right;\">\n",
       "      <th></th>\n",
       "      <th>Dates</th>\n",
       "      <th>URL</th>\n",
       "      <th>News</th>\n",
       "      <th>Price Direction Up</th>\n",
       "      <th>Price Direction Constant</th>\n",
       "      <th>Price Direction Down</th>\n",
       "      <th>Asset Comparision</th>\n",
       "      <th>Past Information</th>\n",
       "      <th>Future Information</th>\n",
       "      <th>Price Sentiment</th>\n",
       "    </tr>\n",
       "  </thead>\n",
       "  <tbody>\n",
       "    <tr>\n",
       "      <th>0</th>\n",
       "      <td>28-01-2016</td>\n",
       "      <td>http://www.marketwatch.com/story/april-gold-do...</td>\n",
       "      <td>april gold down 20 cents to settle at $1,116.1...</td>\n",
       "      <td>0</td>\n",
       "      <td>0</td>\n",
       "      <td>1</td>\n",
       "      <td>0</td>\n",
       "      <td>1</td>\n",
       "      <td>0</td>\n",
       "      <td>negative</td>\n",
       "    </tr>\n",
       "    <tr>\n",
       "      <th>1</th>\n",
       "      <td>13-09-2017</td>\n",
       "      <td>http://www.marketwatch.com/story/gold-prices-s...</td>\n",
       "      <td>gold suffers third straight daily decline</td>\n",
       "      <td>0</td>\n",
       "      <td>0</td>\n",
       "      <td>1</td>\n",
       "      <td>0</td>\n",
       "      <td>1</td>\n",
       "      <td>0</td>\n",
       "      <td>negative</td>\n",
       "    </tr>\n",
       "    <tr>\n",
       "      <th>2</th>\n",
       "      <td>26-07-2016</td>\n",
       "      <td>http://www.marketwatch.com/story/gold-futures-...</td>\n",
       "      <td>Gold futures edge up after two-session decline</td>\n",
       "      <td>1</td>\n",
       "      <td>0</td>\n",
       "      <td>0</td>\n",
       "      <td>0</td>\n",
       "      <td>1</td>\n",
       "      <td>0</td>\n",
       "      <td>positive</td>\n",
       "    </tr>\n",
       "    <tr>\n",
       "      <th>3</th>\n",
       "      <td>28-02-2018</td>\n",
       "      <td>https://www.metalsdaily.com/link/277199/dent-r...</td>\n",
       "      <td>dent research : is gold's day in the sun comin...</td>\n",
       "      <td>0</td>\n",
       "      <td>0</td>\n",
       "      <td>0</td>\n",
       "      <td>0</td>\n",
       "      <td>0</td>\n",
       "      <td>1</td>\n",
       "      <td>neutral</td>\n",
       "    </tr>\n",
       "    <tr>\n",
       "      <th>4</th>\n",
       "      <td>06-09-2017</td>\n",
       "      <td>http://www.marketwatch.com/story/gold-steadies...</td>\n",
       "      <td>Gold snaps three-day rally as Trump, lawmakers...</td>\n",
       "      <td>0</td>\n",
       "      <td>0</td>\n",
       "      <td>1</td>\n",
       "      <td>0</td>\n",
       "      <td>1</td>\n",
       "      <td>0</td>\n",
       "      <td>negative</td>\n",
       "    </tr>\n",
       "  </tbody>\n",
       "</table>\n",
       "</div>"
      ],
      "text/plain": [
       "        Dates                                                URL  \\\n",
       "0  28-01-2016  http://www.marketwatch.com/story/april-gold-do...   \n",
       "1  13-09-2017  http://www.marketwatch.com/story/gold-prices-s...   \n",
       "2  26-07-2016  http://www.marketwatch.com/story/gold-futures-...   \n",
       "3  28-02-2018  https://www.metalsdaily.com/link/277199/dent-r...   \n",
       "4  06-09-2017  http://www.marketwatch.com/story/gold-steadies...   \n",
       "\n",
       "                                                News  Price Direction Up  \\\n",
       "0  april gold down 20 cents to settle at $1,116.1...                   0   \n",
       "1          gold suffers third straight daily decline                   0   \n",
       "2     Gold futures edge up after two-session decline                   1   \n",
       "3  dent research : is gold's day in the sun comin...                   0   \n",
       "4  Gold snaps three-day rally as Trump, lawmakers...                   0   \n",
       "\n",
       "   Price Direction Constant  Price Direction Down  Asset Comparision  \\\n",
       "0                         0                     1                  0   \n",
       "1                         0                     1                  0   \n",
       "2                         0                     0                  0   \n",
       "3                         0                     0                  0   \n",
       "4                         0                     1                  0   \n",
       "\n",
       "   Past Information  Future Information Price Sentiment  \n",
       "0                 1                   0        negative  \n",
       "1                 1                   0        negative  \n",
       "2                 1                   0        positive  \n",
       "3                 0                   1         neutral  \n",
       "4                 1                   0        negative  "
      ]
     },
     "execution_count": 12,
     "metadata": {},
     "output_type": "execute_result"
    }
   ],
   "source": [
    "gold_df.head(5)\n"
   ]
  },
  {
   "cell_type": "code",
   "execution_count": 151,
   "metadata": {},
   "outputs": [],
   "source": [
    "vader_analyzer = SentimentIntensityAnalyzer()\n",
    "\n",
    "\n",
    "def vader_sentiment(clean_comment):\n",
    "    if isinstance(clean_comment, str):\n",
    "        sentiment = vader_analyzer.polarity_scores(clean_comment)\n",
    "        return sentiment[\"compound\"]\n",
    "    return None"
   ]
  },
  {
   "cell_type": "code",
   "execution_count": 152,
   "metadata": {},
   "outputs": [],
   "source": [
    "gold_df[\"VADER_sentiment\"] = gold_df[\"News\"].apply(vader_sentiment)\n",
    "gold_df[\"original_sentiment\"] = gold_df[\"Price Sentiment\"]"
   ]
  },
  {
   "cell_type": "code",
   "execution_count": 153,
   "metadata": {},
   "outputs": [],
   "source": [
    "# gold_df[[\"Dates\", \"News\", \"original_sentiment\", \"VADER_sentiment\"]].to_csv(\"sentiment_gold_dataframe.csv\")"
   ]
  },
  {
   "cell_type": "code",
   "execution_count": 154,
   "metadata": {},
   "outputs": [],
   "source": [
    "gold_df[\"VADER_label\"] = np.where(\n",
    "    gold_df[\"VADER_sentiment\"] > 0,\n",
    "    \"positive\",\n",
    "    np.where(gold_df[\"VADER_sentiment\"] == 0, \"neutral\", \"negative\"),\n",
    ")"
   ]
  },
  {
   "cell_type": "code",
   "execution_count": 155,
   "metadata": {},
   "outputs": [
    {
     "data": {
      "text/html": [
       "<div>\n",
       "<style scoped>\n",
       "    .dataframe tbody tr th:only-of-type {\n",
       "        vertical-align: middle;\n",
       "    }\n",
       "\n",
       "    .dataframe tbody tr th {\n",
       "        vertical-align: top;\n",
       "    }\n",
       "\n",
       "    .dataframe thead th {\n",
       "        text-align: right;\n",
       "    }\n",
       "</style>\n",
       "<table border=\"1\" class=\"dataframe\">\n",
       "  <thead>\n",
       "    <tr style=\"text-align: right;\">\n",
       "      <th></th>\n",
       "      <th>original_sentiment</th>\n",
       "      <th>VADER_label</th>\n",
       "    </tr>\n",
       "  </thead>\n",
       "  <tbody>\n",
       "    <tr>\n",
       "      <th>0</th>\n",
       "      <td>negative</td>\n",
       "      <td>neutral</td>\n",
       "    </tr>\n",
       "    <tr>\n",
       "      <th>1</th>\n",
       "      <td>negative</td>\n",
       "      <td>negative</td>\n",
       "    </tr>\n",
       "    <tr>\n",
       "      <th>2</th>\n",
       "      <td>positive</td>\n",
       "      <td>neutral</td>\n",
       "    </tr>\n",
       "    <tr>\n",
       "      <th>3</th>\n",
       "      <td>neutral</td>\n",
       "      <td>neutral</td>\n",
       "    </tr>\n",
       "    <tr>\n",
       "      <th>4</th>\n",
       "      <td>negative</td>\n",
       "      <td>positive</td>\n",
       "    </tr>\n",
       "    <tr>\n",
       "      <th>...</th>\n",
       "      <td>...</td>\n",
       "      <td>...</td>\n",
       "    </tr>\n",
       "    <tr>\n",
       "      <th>10565</th>\n",
       "      <td>negative</td>\n",
       "      <td>negative</td>\n",
       "    </tr>\n",
       "    <tr>\n",
       "      <th>10566</th>\n",
       "      <td>positive</td>\n",
       "      <td>positive</td>\n",
       "    </tr>\n",
       "    <tr>\n",
       "      <th>10567</th>\n",
       "      <td>negative</td>\n",
       "      <td>negative</td>\n",
       "    </tr>\n",
       "    <tr>\n",
       "      <th>10568</th>\n",
       "      <td>positive</td>\n",
       "      <td>neutral</td>\n",
       "    </tr>\n",
       "    <tr>\n",
       "      <th>10569</th>\n",
       "      <td>negative</td>\n",
       "      <td>neutral</td>\n",
       "    </tr>\n",
       "  </tbody>\n",
       "</table>\n",
       "<p>10570 rows × 2 columns</p>\n",
       "</div>"
      ],
      "text/plain": [
       "      original_sentiment VADER_label\n",
       "0               negative     neutral\n",
       "1               negative    negative\n",
       "2               positive     neutral\n",
       "3                neutral     neutral\n",
       "4               negative    positive\n",
       "...                  ...         ...\n",
       "10565           negative    negative\n",
       "10566           positive    positive\n",
       "10567           negative    negative\n",
       "10568           positive     neutral\n",
       "10569           negative     neutral\n",
       "\n",
       "[10570 rows x 2 columns]"
      ]
     },
     "execution_count": 155,
     "metadata": {},
     "output_type": "execute_result"
    }
   ],
   "source": [
    "gold_df[[\"original_sentiment\", \"VADER_label\"]]"
   ]
  },
  {
   "cell_type": "code",
   "execution_count": 156,
   "metadata": {},
   "outputs": [],
   "source": [
    "gold_df[\"VADER_equal\"] = np.where(\n",
    "    gold_df[\"VADER_label\"] == gold_df[\"Price Sentiment\"], 1, 0\n",
    ")"
   ]
  },
  {
   "cell_type": "code",
   "execution_count": 157,
   "metadata": {},
   "outputs": [],
   "source": [
    "tokenizer = BertTokenizer.from_pretrained(\"ProsusAI/finbert\")\n",
    "model = BertForSequenceClassification.from_pretrained(\"ProsusAI/finbert\")"
   ]
  },
  {
   "cell_type": "code",
   "execution_count": 158,
   "metadata": {},
   "outputs": [],
   "source": [
    "def initialize_finbert():\n",
    "    tokenizer = BertTokenizer.from_pretrained(\"ProsusAI/finbert\")\n",
    "    model = BertForSequenceClassification.from_pretrained(\"ProsusAI/finbert\")\n",
    "    return tokenizer, model\n",
    "\n",
    "\n",
    "# Function to get sentiment probabilities\n",
    "def get_sentiment(text, tokenizer, model):\n",
    "    # Tokenize input text\n",
    "    inputs = tokenizer(\n",
    "        text, return_tensors=\"pt\", padding=True, truncation=True, max_length=512\n",
    "    )\n",
    "\n",
    "    # Get model predictions\n",
    "    with torch.no_grad():\n",
    "        outputs = model(**inputs)\n",
    "\n",
    "    probs = torch.nn.functional.softmax(outputs.logits, dim=-1)\n",
    "    probs = probs.detach().numpy()[0]\n",
    "\n",
    "    sentiment_labels = [\"positive\", \"negative\", \"neutral\"]\n",
    "    pred_label = sentiment_labels[np.argmax(probs)]\n",
    "\n",
    "    return pred_label, probs\n",
    "\n",
    "\n",
    "# Function to process entire dataframe\n",
    "def analyze_dataframe_sentiment(df, text_column=\"news\"):\n",
    "\n",
    "    # Initialize FinBERT\n",
    "    tokenizer, model = initialize_finbert()\n",
    "\n",
    "    # Create empty lists to store results\n",
    "    sentiments = []\n",
    "    positive_probs = []\n",
    "    negative_probs = []\n",
    "    neutral_probs = []\n",
    "\n",
    "    for i, text in enumerate(df[text_column]):\n",
    "        try:\n",
    "            label, probs = get_sentiment(text, tokenizer, model)\n",
    "            sentiments.append(label)\n",
    "            positive_probs.append(probs[0])\n",
    "            negative_probs.append(probs[1])\n",
    "            neutral_probs.append(probs[2])\n",
    "\n",
    "        except Exception as e:\n",
    "            print(f\"Error processing row {i}: {str(e)}\")\n",
    "            sentiments.append(\"error\")\n",
    "            positive_probs.append(np.nan)\n",
    "            negative_probs.append(np.nan)\n",
    "            neutral_probs.append(np.nan)\n",
    "\n",
    "    df[\"sentiment\"] = sentiments\n",
    "    # df['positive_prob'] = positive_probs\n",
    "    # df['negative_prob'] = negative_probs\n",
    "    # df['neutral_prob'] = neutral_probs\n",
    "\n",
    "    return df[\"sentiment\"]"
   ]
  },
  {
   "cell_type": "code",
   "execution_count": 159,
   "metadata": {},
   "outputs": [],
   "source": [
    "gold_df[\"Finbert_Sentiment\"] = analyze_dataframe_sentiment(gold_df, text_column=\"News\")"
   ]
  },
  {
   "cell_type": "code",
   "execution_count": 160,
   "metadata": {},
   "outputs": [
    {
     "data": {
      "text/html": [
       "<div>\n",
       "<style scoped>\n",
       "    .dataframe tbody tr th:only-of-type {\n",
       "        vertical-align: middle;\n",
       "    }\n",
       "\n",
       "    .dataframe tbody tr th {\n",
       "        vertical-align: top;\n",
       "    }\n",
       "\n",
       "    .dataframe thead th {\n",
       "        text-align: right;\n",
       "    }\n",
       "</style>\n",
       "<table border=\"1\" class=\"dataframe\">\n",
       "  <thead>\n",
       "    <tr style=\"text-align: right;\">\n",
       "      <th></th>\n",
       "      <th>Dates</th>\n",
       "      <th>URL</th>\n",
       "      <th>News</th>\n",
       "      <th>Price Direction Up</th>\n",
       "      <th>Price Direction Constant</th>\n",
       "      <th>Price Direction Down</th>\n",
       "      <th>Asset Comparision</th>\n",
       "      <th>Past Information</th>\n",
       "      <th>Future Information</th>\n",
       "      <th>Price Sentiment</th>\n",
       "      <th>VADER_sentiment</th>\n",
       "      <th>original_sentiment</th>\n",
       "      <th>VADER_label</th>\n",
       "      <th>VADER_equal</th>\n",
       "      <th>sentiment</th>\n",
       "      <th>Finbert_Sentiment</th>\n",
       "    </tr>\n",
       "  </thead>\n",
       "  <tbody>\n",
       "    <tr>\n",
       "      <th>0</th>\n",
       "      <td>28-01-2016</td>\n",
       "      <td>http://www.marketwatch.com/story/april-gold-do...</td>\n",
       "      <td>april gold down 20 cents to settle at $1,116.1...</td>\n",
       "      <td>0</td>\n",
       "      <td>0</td>\n",
       "      <td>1</td>\n",
       "      <td>0</td>\n",
       "      <td>1</td>\n",
       "      <td>0</td>\n",
       "      <td>negative</td>\n",
       "      <td>0.0</td>\n",
       "      <td>negative</td>\n",
       "      <td>neutral</td>\n",
       "      <td>0</td>\n",
       "      <td>negative</td>\n",
       "      <td>negative</td>\n",
       "    </tr>\n",
       "  </tbody>\n",
       "</table>\n",
       "</div>"
      ],
      "text/plain": [
       "        Dates                                                URL  \\\n",
       "0  28-01-2016  http://www.marketwatch.com/story/april-gold-do...   \n",
       "\n",
       "                                                News  Price Direction Up  \\\n",
       "0  april gold down 20 cents to settle at $1,116.1...                   0   \n",
       "\n",
       "   Price Direction Constant  Price Direction Down  Asset Comparision  \\\n",
       "0                         0                     1                  0   \n",
       "\n",
       "   Past Information  Future Information Price Sentiment  VADER_sentiment  \\\n",
       "0                 1                   0        negative              0.0   \n",
       "\n",
       "  original_sentiment VADER_label  VADER_equal sentiment Finbert_Sentiment  \n",
       "0           negative     neutral            0  negative          negative  "
      ]
     },
     "execution_count": 160,
     "metadata": {},
     "output_type": "execute_result"
    }
   ],
   "source": [
    "gold_df.head(1)"
   ]
  },
  {
   "cell_type": "code",
   "execution_count": 161,
   "metadata": {},
   "outputs": [],
   "source": [
    "gold_df[\"Finbert_Sentiment_equal\"] = np.where(\n",
    "    gold_df[\"Finbert_Sentiment\"] == gold_df[\"Price Sentiment\"], 1, 0\n",
    ")"
   ]
  },
  {
   "cell_type": "code",
   "execution_count": null,
   "metadata": {},
   "outputs": [
    {
     "data": {
      "text/plain": [
       "8211"
      ]
     },
     "execution_count": 162,
     "metadata": {},
     "output_type": "execute_result"
    }
   ],
   "source": [
    "# we need to set the seed to ensure that results will stay the same\n",
    "gold_df[\"Finbert_Sentiment_equal\"].sum()"
   ]
  },
  {
   "cell_type": "code",
   "execution_count": 163,
   "metadata": {},
   "outputs": [],
   "source": [
    "gold_df[\"Finbert_Sentiment_equal_VADER\"] = np.where(\n",
    "    gold_df[\"Finbert_Sentiment\"] == gold_df[\"VADER_label\"], 1, 0\n",
    ")"
   ]
  },
  {
   "cell_type": "code",
   "execution_count": 164,
   "metadata": {},
   "outputs": [
    {
     "data": {
      "text/plain": [
       "4480"
      ]
     },
     "execution_count": 164,
     "metadata": {},
     "output_type": "execute_result"
    }
   ],
   "source": [
    "gold_df[\"Finbert_Sentiment_equal_VADER\"].sum()"
   ]
  },
  {
   "cell_type": "code",
   "execution_count": 165,
   "metadata": {},
   "outputs": [
    {
     "data": {
      "text/plain": [
       "Index(['Dates', 'URL', 'News', 'Price Direction Up',\n",
       "       'Price Direction Constant', 'Price Direction Down', 'Asset Comparision',\n",
       "       'Past Information', 'Future Information', 'Price Sentiment',\n",
       "       'VADER_sentiment', 'original_sentiment', 'VADER_label', 'VADER_equal',\n",
       "       'sentiment', 'Finbert_Sentiment', 'Finbert_Sentiment_equal',\n",
       "       'Finbert_Sentiment_equal_VADER'],\n",
       "      dtype='object')"
      ]
     },
     "execution_count": 165,
     "metadata": {},
     "output_type": "execute_result"
    }
   ],
   "source": [
    "gold_df.columns"
   ]
  },
  {
   "cell_type": "code",
   "execution_count": 166,
   "metadata": {},
   "outputs": [],
   "source": [
    "final_df = gold_df[\n",
    "    [\n",
    "        \"Dates\",\n",
    "        \"News\",\n",
    "        \"Price Sentiment\",\n",
    "        \"VADER_sentiment\",\n",
    "        \"VADER_label\",\n",
    "        \"VADER_equal\",\n",
    "        \"Finbert_Sentiment\",\n",
    "        \"Finbert_Sentiment_equal\",\n",
    "    ]\n",
    "]"
   ]
  },
  {
   "cell_type": "code",
   "execution_count": 167,
   "metadata": {},
   "outputs": [
    {
     "name": "stderr",
     "output_type": "stream",
     "text": [
      "/var/folders/mc/2wjfdchj6vsffbrpfbfgqw4w0000gn/T/ipykernel_11855/3426729801.py:19: SettingWithCopyWarning: \n",
      "A value is trying to be set on a copy of a slice from a DataFrame.\n",
      "Try using .loc[row_indexer,col_indexer] = value instead\n",
      "\n",
      "See the caveats in the documentation: https://pandas.pydata.org/pandas-docs/stable/user_guide/indexing.html#returning-a-view-versus-a-copy\n",
      "  final_df[\"combined_result_VADER_&_Finbert\"] = final_df.apply(logical_or, axis=1)\n"
     ]
    }
   ],
   "source": [
    "# OR logic -> we may want to change this.\n",
    "\"\"\"\n",
    "1. we could add a third approach of getting sentiment and apply that and do best of 2\n",
    "2. maybe we weight them both with Finbert having higher say than VADER and then make a decision\n",
    "Open to discussion\n",
    "\"\"\"\n",
    "\n",
    "\n",
    "def logical_or(row):\n",
    "    x, y = row[\"VADER_label\"], row[\"Finbert_Sentiment\"]\n",
    "    if \"positive\" in (x, y):\n",
    "        return \"positive\"\n",
    "    elif \"negative\" in (x, y):\n",
    "        return \"negative\"\n",
    "    else:\n",
    "        return \"neutral\"\n",
    "\n",
    "\n",
    "final_df[\"combined_result_VADER_&_Finbert\"] = final_df.apply(logical_or, axis=1)"
   ]
  },
  {
   "cell_type": "code",
   "execution_count": 168,
   "metadata": {},
   "outputs": [],
   "source": [
    "VADER_comparison = (\n",
    "    np.where(final_df[\"VADER_label\"] == final_df[\"Price Sentiment\"], 1, 0).sum()\n",
    "    / final_df.shape[0]\n",
    ") * 100\n",
    "\n",
    "FINBERT_comparison = (\n",
    "    np.where(final_df[\"Finbert_Sentiment\"] == final_df[\"Price Sentiment\"], 1, 0).sum()\n",
    "    / final_df.shape[0]\n",
    ") * 100\n",
    "\n",
    "combined_comparison = (\n",
    "    np.where(\n",
    "        final_df[\"combined_result_VADER_&_Finbert\"] == final_df[\"Price Sentiment\"], 1, 0\n",
    "    ).sum()\n",
    "    / final_df.shape[0]\n",
    ") * 100"
   ]
  },
  {
   "cell_type": "code",
   "execution_count": 169,
   "metadata": {},
   "outputs": [
    {
     "name": "stdout",
     "output_type": "stream",
     "text": [
      "VADER gives us 41.892 to the pre defined sentiment\n",
      "\n",
      "FINBERT gives us 77.682 to the pre defined sentiment\n",
      "\n",
      "Combined sentiment gives us 73.415 to the pre defined sentiment\n"
     ]
    }
   ],
   "source": [
    "print(f\"VADER gives us {VADER_comparison :.3f} to the pre defined sentiment\")\n",
    "print(f\"\\nFINBERT gives us {FINBERT_comparison :.3f} to the pre defined sentiment\")\n",
    "print(\n",
    "    f\"\\nCombined sentiment gives us {combined_comparison :.3f} to the pre defined sentiment\"\n",
    ")"
   ]
  }
 ],
 "metadata": {
  "kernelspec": {
   "display_name": "base",
   "language": "python",
   "name": "python3"
  },
  "language_info": {
   "codemirror_mode": {
    "name": "ipython",
    "version": 3
   },
   "file_extension": ".py",
   "mimetype": "text/x-python",
   "name": "python",
   "nbconvert_exporter": "python",
   "pygments_lexer": "ipython3",
   "version": "3.12.8"
  }
 },
 "nbformat": 4,
 "nbformat_minor": 2
}
