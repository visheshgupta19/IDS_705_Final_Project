{
 "cells": [
  {
   "cell_type": "code",
   "execution_count": 1,
   "metadata": {},
   "outputs": [
    {
     "name": "stderr",
     "output_type": "stream",
     "text": [
      "/Users/visheshgupta/miniforge3/lib/python3.12/site-packages/tqdm/auto.py:21: TqdmWarning: IProgress not found. Please update jupyter and ipywidgets. See https://ipywidgets.readthedocs.io/en/stable/user_install.html\n",
      "  from .autonotebook import tqdm as notebook_tqdm\n"
     ]
    }
   ],
   "source": [
    "import pandas as pd\n",
    "from bertopic import BERTopic\n",
    "from sklearn.feature_extraction.text import CountVectorizer\n",
    "from bertopic.backend import BaseEmbedder\n",
    "from sentence_transformers import SentenceTransformer\n",
    "\n",
    "from umap import UMAP\n",
    "from hdbscan import HDBSCAN\n",
    "from keybert import KeyBERT\n",
    "import hdbscan\n",
    "\n",
    "\n",
    "# Step 1: Load data\n",
    "gold_df = pd.read_csv(\"gold-dataset-sinha-khandait.csv\")\n",
    "headlines = gold_df[\"News\"].dropna().astype(str).tolist()"
   ]
  },
  {
   "cell_type": "code",
   "execution_count": 2,
   "metadata": {},
   "outputs": [
    {
     "data": {
      "text/plain": [
       "['april gold down 20 cents to settle at $1,116.10/oz',\n",
       " 'gold suffers third straight daily decline',\n",
       " 'Gold futures edge up after two-session decline',\n",
       " \"dent research : is gold's day in the sun coming soon?\",\n",
       " 'Gold snaps three-day rally as Trump, lawmakers reach debt-ceiling deal',\n",
       " 'Dec. gold climbs $9.40, or 0.7%, to settle at $1,356.90/oz',\n",
       " 'gold falls by rs 25 on sluggish demand, global cues',\n",
       " 'Gold futures fall for the session, but gain for the week',\n",
       " 'Gold struggles; silver slides, base metals falter',\n",
       " 'april gold holds slight gain, up $2.50, or 0.2%, at $1320.20/oz.',\n",
       " 'feb. gold ends up $9.60, or 1.1%, at $901.60 an ounce',\n",
       " 'gold trades in red in early trade; eyes near-term range at rs 28,300-28,600',\n",
       " 'gold loses 1.3%, but logs monthly gain of 6.3%',\n",
       " \"gold recovery? here's one way to play it\",\n",
       " 'gold prices rebound rs 350 on global cues, weak rupee',\n",
       " 'can investment in gold, sensex & ppfs give the same returns?',\n",
       " 'gold rush spooks economy as trade deficit surges to $17.8 bn',\n",
       " 'Gold futures down at Rs 30,244 ',\n",
       " 'state street : gold likely to climb back to $1,350 an ounce by the end of 2018',\n",
       " 'gold prices slip lower as dollar remains supported',\n",
       " 'gold to trade in 28670-29160 range: achiievers equities',\n",
       " 'Gold holds firm near $1,200 on dovish Fed',\n",
       " 'Gold prices finish at a more than one-week high',\n",
       " 'india : is gold a good investment in a volatile market?',\n",
       " 'gold futures down over $20/oz ahead of settlement',\n",
       " 'Gold holds modest gains, up $3.10, or 0.3%, at $1,191.50/oz. after data',\n",
       " 'april gold up $1.40 to end the day at $554.40/oz in ny',\n",
       " 'Gold, Silver may trade lower today: Angel Commodities',\n",
       " 'KAZ Minerals lifts copper, gold guidance',\n",
       " 'Gold little-changed after data',\n",
       " 'germany : why gold market in germany is thriving',\n",
       " 'august gold ends up $1.60, or 0.2%, at $936.20',\n",
       " 'gold futures at highest since early december',\n",
       " 'gold futures close narrowly lower',\n",
       " 'Gold edges up ahead of G20 meeting; set to post second weekly gain',\n",
       " 'feb gold falls 10c to $452.20/oz in morning ny trade',\n",
       " 'gold little changed; copper sinks',\n",
       " 'gold swings between gains and drops on stronger dollar',\n",
       " 'charts : gold gld etf update - breakdown ?',\n",
       " 'feb. gold down $1.20 to close at $1,596.70/oz',\n",
       " 'philly gold and silver index falls 0.5% to end at 93.53',\n",
       " 'Dec. gold settles at $1,269.90/oz, up $7, or 0.6%',\n",
       " 'Gold Prices Hold onto Gains Ahead of FOMC Statement',\n",
       " 'December gold trades 0.8% higher at $1,289/oz.',\n",
       " 'gold bulls push for the exits on strong dollar and lack of fear',\n",
       " 'gold ends 0.5% higher, at $1,159.60 an ounce',\n",
       " 'gold futures soar above $1,200, amid escalating conflict in yemen',\n",
       " 'gold settles at its highest level in a week',\n",
       " 'gold prices rise for a third day, buoyed by geopolitical worries',\n",
       " 'Gold holds near 3-1/2 week low as investors opt for riskier assets',\n",
       " 'gold ends higher, logs biggest weekly gain since 2016',\n",
       " 'August gold rises 0.2% at $1,257.50/oz.',\n",
       " 'gold futures at seven-week low',\n",
       " 'gold edges down as dollar gains on fed rate hike view',\n",
       " 'van eck : tighter global monetary policy to support gold market',\n",
       " 'Gold rebounds to Rs 31,860 on firm global cues',\n",
       " 'december gold gains $4.10, or 0.3%, to $1,345.30/oz.',\n",
       " 'gold prices settle at lowest level in more than a week',\n",
       " 'dec. gold down 30 cents at $1,310/oz on globex',\n",
       " 'Dec. gold settles at $1,323.70/oz, down $1.90, or 0.1%',\n",
       " 'Gold jumps 0.3% from settlement price after Fed minutes to $1,237.40 an ounce',\n",
       " 'gold lost 1% to $1,121.80 an ounce',\n",
       " 'gold futures fall for a third straight session',\n",
       " 'gold has best monthly performance since nov. 2009',\n",
       " 'gold prices settle at lowest level in nearly 8 weeks',\n",
       " 'gold futures climb back above $1,200/oz on comex',\n",
       " 'metals shares turn higher; gold futures still lower',\n",
       " 'gold declines first time in seven days after greek elections',\n",
       " 'gold gains on weaker dollar; markets brace for ecb decision',\n",
       " 'gold holds modest loss after ppi report',\n",
       " 'February gold contract notches highest settlement in over a week',\n",
       " 'August gold climbs by $10.60, or 0.9%, to settle at $1,260/oz',\n",
       " 'gold finishes higher at $1,103.70/oz',\n",
       " \"debt : global debt surges - gold and silver investors' patience will soon pay off\",\n",
       " 'gold futures open higher, as dollar drops',\n",
       " 'gold futures close with a more than $7 loss',\n",
       " 'gold surrenders 11-month highs on stronger dollar, upbeat economic data',\n",
       " 'gold edges up in electronic trade post-fed minutes',\n",
       " \"when will gold's 'summer doldrums' end? history says pretty soon\",\n",
       " 'Gold ends lower as rise in government bond yields dulls investment interest',\n",
       " 'gold jewellery exports fall 70% in july',\n",
       " 'silver, gold near lifetime highs, dollar loses ground',\n",
       " 'african barrick gold production declines',\n",
       " 'Gold futures down at Rs 30,568 on weak global cues',\n",
       " 'metals shares fall, but gold futures edge up',\n",
       " 'august gold ends up $16.20 at $931.30 an ounce on nymex',\n",
       " 'gold futures fall under $400, first time since dec. 2',\n",
       " 'ghana makes government certificate mandatory for exporting dore gold',\n",
       " 'gold holds modest loss after ism services data',\n",
       " 'gold notches two-week high on expectations fed will lift rates slowly',\n",
       " 'gold prices gain in major metros in india',\n",
       " 'gold futures mark first gain in four sessions',\n",
       " 'gold sets fresh multi-decade high of $815.2/ounce, up $4.4',\n",
       " 'Support for MCX Gold Feb at Rs 28800: Kotak Commodity',\n",
       " \"microsoft ceo sees 'gold rush' in the cloud\",\n",
       " 'gold ends at lowest level in over 2 weeks as dollar strengthens',\n",
       " 'gold, silver bounce on global cues, jewellers buying',\n",
       " 'gold scores gain for second session in a row',\n",
       " 'Jewellers want gold import duty cut to 2%',\n",
       " 'gold heads for worst week in 2 months on syria, fed',\n",
       " 'gold hits new high of rs 24,350; silver sheds rs 3,100',\n",
       " 'dec gold falls $4.10 to $462.80/oz in morning ny trade',\n",
       " 'Gold at 10-month low, down 5 weeks in a row',\n",
       " 'abc refinery gains shanghai gold exchange accreditation',\n",
       " 'Spot Gold rates move up today',\n",
       " 'gold jumps above $1,150 as u.s. dollar collapses to 3-month low',\n",
       " 'Gold futures end higher after back-to-back drop',\n",
       " 'natixis : look for gold to rally in september as usd weakens',\n",
       " 'silver steals the shine as gold loses lustre',\n",
       " 'kinross gold agrees $500 million credit facility',\n",
       " 'Dec. gold settles at $1,293.80/oz, up $8.80, or 0.7%',\n",
       " 'gold ends at two-week low as dollar continues to strengthen',\n",
       " 'gold futures fall 0.24% on global cues',\n",
       " 'Gold prices to trade lower today: Angel Commodities',\n",
       " 'gold rates: mcx goldguinea july contract declines',\n",
       " 'india : jewellers & bullion traders spar over gold import duty',\n",
       " 'gold prices may slip to rs 28745-27850: mangal keshav',\n",
       " 'gold issues, futures prices inch up',\n",
       " 'August gold settles at $1,245.50/oz, up $3.50, or 0.3%',\n",
       " 'Gold Prices Remain Lower on Stronger U.S. Dollar',\n",
       " 'gold prices pull back from 4-month highs',\n",
       " 'feb. gold down $3.70, or 0.3%, at $1,234.90/oz',\n",
       " 'December gold gains $8.50, or 0.6%, at $1,368.50/oz.',\n",
       " 'gold futures climb above $700 an ounce in morning dealings',\n",
       " 'gold etfs record rs 900 cr outflow in 2015; aum down 20%',\n",
       " 'gold may touch rs 35500/10gms in few days: kishore narne',\n",
       " 'how trumpenomics torpedoed gold prices',\n",
       " 'august gold off 0.5% at $1,253.90/oz.',\n",
       " 'August gold down $10, or 0.8%, to settle at $1,246.40/oz',\n",
       " 'April gold down $1.60, or 0.1%, at $1,254.10/oz after highs above $1,258',\n",
       " 'Feb. gold settles at $1,184.90/oz, up $11.50, or about 1%',\n",
       " 'gold, oil hold to gains after ism data',\n",
       " 'price-fixing of gold, oil to become a crime in u.k.',\n",
       " 'gold holds steady as dollar firms',\n",
       " 'gold gains on dollar weakness',\n",
       " 'gold rate today: gold, silver down in morning trade',\n",
       " 'Modern medicine strikes gold',\n",
       " 'gold prices gain along with stock futures',\n",
       " 'metals issues climb; gold steadies',\n",
       " 'gold falls for ninth day as dollar rises vs. euro',\n",
       " 'gold futures finish at a 1-week high ahead of fed decision',\n",
       " 'fred hickey - buy gold',\n",
       " 'December gold up 0.3% at $1,343.30/oz.',\n",
       " \"Here's what's driving bitcoin buyers' rush to 'millennial gold'\",\n",
       " \"More steps' to curb gold imports, if needed\",\n",
       " 'Dec. gold settles at $1,294.40/oz, up $7.10, or 0.6%',\n",
       " 'gold shares buoy bay street',\n",
       " 'gold ends higher; silver down 2% after steep loss',\n",
       " 'Gold futures log highest settlement since mid-November',\n",
       " 'gold closes above rs 18,000-level on strong global cues',\n",
       " 'gold ends lower at rs 13,130',\n",
       " 'Gold glitters ahead of Dhanteras, Diwali',\n",
       " 'Gold holds above $1,200/oz on weaker dollar before Fed minutes',\n",
       " 'gold, silver encounter profit-selling, global cues',\n",
       " 'Gold surges most in four weeks on Dagong US downgrade',\n",
       " 'Gold / Silver / Copper futures - weekly outlook: August 4 - 8',\n",
       " 'April gold settles at $1,230.20/bbl, up $3.10, or 0.3%',\n",
       " 'Gold prices gain in Asia as China CPI up less than expected',\n",
       " 'gold futures end slightly higher, but tally a third straight weekly loss',\n",
       " \"have a question about gold? ask the author of 'precious metals investing for dummies' now\",\n",
       " 'sharps pixley: chinese gold demand slipping - but still up y-o-y',\n",
       " 'Expect Gold to trade sideways: Sushil Finance',\n",
       " 'today gold price: track today gold rate latest trends and news',\n",
       " 'Dhanteras: This season, it is lightweight gold, silver',\n",
       " \"hiding behind gold's flashy moves, oil's the true performer\",\n",
       " 'gold, oil trade lower as jobs data weigh',\n",
       " 'sge : daily shanghai gold benchmark price',\n",
       " 'gold futures rise, as dollar edges lower',\n",
       " 'Gold suffers from biggest single-day dollar and percentage loss since Jan. 25',\n",
       " 'expect downward move in gold: astromoneyguru',\n",
       " 'rjo futures : gold versus silver: q2 to benefit the white metals',\n",
       " 'Gold prices end the month with a loss of about 1.1%',\n",
       " 'april gold settles at $1,222.60/oz on comex, up $12.50, or 1%',\n",
       " 'june gold down $11.7, or 1%, after sentiment data',\n",
       " \"hong kong : world's top jeweler reveals growing appetite for gold in china\",\n",
       " 'low inflation phase not for realty, gold; hence investors rushing to equity: ashwini agarwal, ashmore investment',\n",
       " 'Gold slips as dollar steadies on positive US data',\n",
       " 'gold prices jump in early asia as fed hold steady citing global weakness',\n",
       " 'intraday strategy for gold, nickel, lead: angel broking',\n",
       " 'Gold futures settle at lowest level since early February',\n",
       " 'gold ends lower, still flirting with $1,200 level',\n",
       " \"gold may be flying, but this gold stock's a turkey\",\n",
       " 'gold, silver start week on firm note, rise on global cues',\n",
       " 'Gold, silver gain on more bets the Fed will take it slow on raising rates',\n",
       " 'Gold industry sees prices rising to $1,532/oz over 12 months',\n",
       " 'gold rises as dollar weakens anew; silver ends near $16',\n",
       " 'Gold Prices Edge Higher With All Eyes on U.S. Tariffs',\n",
       " 'december gold up $5.90 to $822.70 an ounce on globex',\n",
       " 'Gold at 3-week high as dollar struggles amid US rate outlook',\n",
       " 'june gold up 0.2% at $1,319.90/oz.',\n",
       " 'sell mcx gold dec around rs 31500; target rs 31170: geojit',\n",
       " 'MCX GOLD February contract moves up',\n",
       " 'august gold trades at $1,300.10/oz, down $8.90, or 0.7%',\n",
       " 'Gold futures up 0.36% on positive global cues',\n",
       " 'Gold futures dip to Rs 29,012 on weak global cues',\n",
       " 'MCX GOLDPETAL Nov contract up marginally',\n",
       " 'gold holds steady amid softer dollar',\n",
       " 'Assets under Gold ETFs up nearly three fold',\n",
       " \"Gold marks new session lows as U.S. dollar index trades near day's highs\",\n",
       " 'gold rises to 1-week high as dollar holds steady',\n",
       " 'gold adds to gains after weak china data',\n",
       " 'gold prices fall for the session to post a modest loss for the week',\n",
       " 'commodity watch: gold, silver rise; sugar slides in futures trade',\n",
       " 'Look to buy gold on dips to $1,240',\n",
       " \"goldman's prior end-2013 gold call was $1,435/oz\",\n",
       " 'Gold futures pare gains, but still finish at a 6-week high',\n",
       " 'gold survives goldman sachs',\n",
       " 'gold futures up $12.20 at $954.70 an ounce',\n",
       " 'reserve bank of india adds 2.5 tonnes of gold to forex reserves in q4',\n",
       " 'Gold futures rise to Rs 29,416',\n",
       " 'cboe gold index closes at 84.2, up 4%',\n",
       " 'Dec. gold settles at $1,296.70/oz, up $5.10, or 0.4%',\n",
       " \"moody's revises pilgrim's pride outlook on gold kist bid\",\n",
       " 'june gold futures fall $11.60, or 0.9%, to settle at $1,277.50 an ounce',\n",
       " 'gold prices soar but buyers bet on akshaya tritiya',\n",
       " 'Gold future extend losses after jobs report',\n",
       " 'Dec. gold drops $33.40, or 2.6%, to $1,233/oz',\n",
       " 'hedge funds kept betting against gold even as prices began rally',\n",
       " 'dec. gold reverses losses, gaining 0.6% to $734.70 an ounce',\n",
       " 'gold futures mark their highest settlement since feb. 11',\n",
       " 'current gold rate: check out current gold price',\n",
       " \"2018 gold price 'could hit $1450'\",\n",
       " 'gold rallies to finish near $1,200 as trump fuels market uncertainty',\n",
       " 'gold tops $1,790 to end at over six-week high',\n",
       " 'gold futures rebound on firm global cues',\n",
       " 'gold prices on track to settle lower for the session',\n",
       " 'Fading aura: Gold set for further correction',\n",
       " 'gold prices rebound in asia ahead of china q3 gdp',\n",
       " 'gold, oil hold on to gains post bernanke',\n",
       " 'mcx goldguinea november contract rises',\n",
       " 'Gold futures mark lowest settlement since early June',\n",
       " 'Gold prices trading higher in Chennai, Ahmedabad market',\n",
       " 'gold futures remain lower after durable goods',\n",
       " 'gold kist started at hold at stifel nicolaus',\n",
       " \"gold's 47-year bull market\",\n",
       " 'dubai loses glitter as vat tax crimps demand in city of gold',\n",
       " 'sanguine about gold',\n",
       " \"gold ends narrowly higher as 'many uncertainties' plague the market\",\n",
       " 'june gold last at $1,203.90/oz on comex, down 20 cents',\n",
       " 'June gold down 1.5% at $1,230.40/oz.',\n",
       " 'gold scores third straight win; edges up more after fed decision',\n",
       " 'Gold settles lower as investors look to Jackson Hole',\n",
       " 'gold rises rs 67 in futures trade on global cues',\n",
       " 'gold falls as jobs data clip economic worries',\n",
       " 'festive demand lifts up gold & silver prices',\n",
       " 'gold futures up $8.50 at $1,005.20 an ounce',\n",
       " 'Gold hits 4-week high as central bank meetings, Brexit vote shake stocks',\n",
       " 'gold closes a tad lower at $1,325.10/oz',\n",
       " 'lower oil prices and weaker gold demand positive for current account deficit',\n",
       " 'karvy advises to sell gold, silver',\n",
       " 'oil, gold push higher after german court ruling',\n",
       " 'Gold falls on upbeat U.S. housing, inflation data',\n",
       " 'inflation : long-term evidence: gold and inflation',\n",
       " \"akshay tritiya gold sales to beat last year's record\",\n",
       " 'gold prices edge higher on weaker dollar, trade tensions',\n",
       " 'Gold stands tall as China fears fuel safe-haven draw',\n",
       " 'gold futures turn lower ahead of comex close',\n",
       " \"Gold's 2016 peak now looks easy to reach after the metal's big breakout\",\n",
       " 'Gold settles higher, but seesaws after Fed statement',\n",
       " \"india's 2015-16 gold imports drop 16%: report\",\n",
       " 'dec gold down 1.4% at $407.10',\n",
       " 'Feb. gold settles at $1,204.90/oz, up $3.40, or 0.3%',\n",
       " \"here's why gold might die out as an investment\",\n",
       " 'gold futures rally, as other commodities also rise',\n",
       " 'gold futures mark highest settlement in a month',\n",
       " 'gold advances, oil posts losses after u.s. outlook',\n",
       " 'gold futures gain nearly 3% for the month',\n",
       " 'apollo gold cut to underperform by bmo nesbitt',\n",
       " 'mining : top gold miners production cost still provides floor in the market price',\n",
       " 'gold to trade in 28372-28686 range: achiievers equities',\n",
       " 'gold rebounds to hit four-month high; silver spurts',\n",
       " 'Gold holds slight gain after data',\n",
       " 'gold etfs higher in early trade',\n",
       " 'august gold falls 0.4% to $951.30 an ounce',\n",
       " 'february gold up 0.3% at 1,274.80 an ounce',\n",
       " 'gold edges up on softer dollar, palladium at 16-year peak',\n",
       " 'MCX GOLD Dec contract trading lower',\n",
       " 'dec gold climbs $4.60 to $467.90/oz, a 9-mo high',\n",
       " 'gold stays close to 6-week low as investors await fed outcome',\n",
       " 'gold rises on ukraine unease, though u.s. data cap gains',\n",
       " 'gold futures down 0.43% on weak global cues',\n",
       " 'Gold surges by Rs 290 on global cues; reclaims Rs 26,000-level',\n",
       " 'gold ends lower as bearish sentiment takes hold',\n",
       " 'gold falls 1.5% on day, down 0.4% on week',\n",
       " 'gold futures climb, but end the week down 2.5%',\n",
       " 'Gold edges up after 2-day decline, China concerns support',\n",
       " 'Gold struggles on firmer dollar, Fed rate hike fears',\n",
       " 'june gold up $10.40 at $875.50 an ounce on nymex',\n",
       " 'Dec. gold gains 20 cents to settle at $1,267.70/oz for the session',\n",
       " 'seasonal demand pushes up gold by rs 375; silver by rs 400',\n",
       " 'Gold edges lower as dollar holds steady',\n",
       " 'Gold prices turn higher ahead of Comex settlement',\n",
       " 'Gold, silver edge higher ahead of U.S. jobless claims, housing data',\n",
       " 'gold futures add $19.80 to $1,733.20',\n",
       " \"the curious case of this year's high gold imports\",\n",
       " 'gold logs modest losses for the day and week',\n",
       " 'Gold rises on safe-haven buying',\n",
       " \"gold options 'fear' traders turn to gold miners\",\n",
       " 'Dec. gold declines by $16.80, or 1.3%, to settle at $1,286.20/oz',\n",
       " 'gold slips $2.10 to settle at $1,183.50/oz',\n",
       " 'June gold trades $6.80, or 0.6%, higher at $1,234.50/oz.',\n",
       " 'Gold futures down at Rs 27,477 on profit-taking',\n",
       " 'get gold at a discount now',\n",
       " 'gold futures dull, hold above $440',\n",
       " 'Dec. gold gains $3.70, or 0.3%, to settle at $1,294.70/oz',\n",
       " 'Gold prices push higher amid Hong Kong unrest',\n",
       " 'gold closes 0.2% down at $1,268.70/oz',\n",
       " 'Gold pares losses by the finish, gains 1.2% for the week',\n",
       " 'gold rate today: gold, silver trade higher in morning deals',\n",
       " \"anz cuts '12 gold outlook, cites dollar headwinds\",\n",
       " 'gold closes lower, palladium rises',\n",
       " \"gold kist rejects pilgrim's pride offer as inadequate\",\n",
       " 'waiting for gold to bottom? Watch this group of bulls',\n",
       " 'Gold, silver skid on profit-taking, global cues',\n",
       " 'gold futures settle at lowest level since jan. 2',\n",
       " 'crude oil higher, gold futures lower after data',\n",
       " 'Gold futures mark highest finish in about 5 months',\n",
       " 'Gold prices end with a slight loss as U.S. equities, dollar gain ground',\n",
       " 'iamgold deal for gold field non-sadc assets',\n",
       " \"india : rising gold prices keep india's jewellery buyers at bay\",\n",
       " 'Gold futures trim gain after jobless claims, PPI data',\n",
       " 'MCX GOLD Dec contract trading higher',\n",
       " 'gold prices climb over $8 an ounce in afternoon trading',\n",
       " 'Gold futures extends losses',\n",
       " 'graham birch : this gold guy managed $40 billion at blackrock - but quit to run a farm instead',\n",
       " 'Gold prices rise on softer dollar, Italy budget woes',\n",
       " 'gold futures climb $9, edge back up toward $1,800',\n",
       " 'gold demand in india rose by 66% to 963 tonnes in 2010: wgc',\n",
       " 'MCX GOLDGUINEA Nov contract down marginally',\n",
       " 'mining indexes slump on gold slide',\n",
       " 'Gold ends near 3-week high as dollar sinks',\n",
       " 'gold and silver edge lower while stocks tumble',\n",
       " 'gold prices rip higher following rpts former trump nat. sec. advisor cooperating with special prosecutor',\n",
       " 'Dec. gold trades at $1,255.40/oz, up from $1,253.80 settlement',\n",
       " 'gold futures give up europe-deal gains',\n",
       " 'Going for gold: Olympic triumphs literally losing value at Rio Games',\n",
       " 'why investors are quietly turning bearish on gold prices',\n",
       " 'Gold futures log highest finish since Oct. 3',\n",
       " 'Gold holds early gains after PPI report',\n",
       " 'rbi followed due process in notifying 80:20 gold scheme, says former deputy guv hr khan',\n",
       " 'Gold, silver rebound on aggressive buying',\n",
       " 'dec. gold loses $10.30, or 0.9%, to settle at $1,172.80/oz on comex',\n",
       " 'This-and not North Korea-is why scared investors are buying gold',\n",
       " \"gold prices rise for second day on jewellers' buying\",\n",
       " 'feb gold down $7.70 at $430.70/oz in ny',\n",
       " 'Gold nudges up as Asian shares edge lower',\n",
       " 'gold futures fall, tracking tumble in oil prices',\n",
       " 'gold prices dull on dollar strength',\n",
       " \"gold falls 2% on central banks' action, euro hopes\",\n",
       " 'gold sparkles again',\n",
       " 'gold scores biggest weekly gain since january',\n",
       " 'government fixes rate at rs 2987/gm for sovereign gold bond',\n",
       " 'gold prices to trade volatile: angel commodities',\n",
       " 'when will gold finally return to a bull market?',\n",
       " 'Gold appetite hit a 5-year high in November as prices tumbled',\n",
       " 'june gold down 0.2%, or $1.40, at $688.50/oz in ny',\n",
       " 'April gold climbs $3.40, or 0.3%, to settle at $1,239.50/oz',\n",
       " 'gold steady on easing dollar; fed minutes in focus',\n",
       " 'More upside seen in gold prices; buy futures above Rs 30,450 for target Rs 30,600',\n",
       " 'gold slumps over 1% in wake of fed meeting',\n",
       " 'singapore firm to mint islamic cryptocurrency backed by gold',\n",
       " 'gold inches down, ends week with 3.4% loss',\n",
       " 'dec gold climbs $2.80 to $433.30/oz in ny',\n",
       " 'Gold prices settle lower after two-session gain',\n",
       " 'Gold prices sink nearly 8% in November for worst monthly loss in 2016',\n",
       " 'Gain seen in gold prices in Mumbai, Delhi market',\n",
       " 'the spx/gold ratio',\n",
       " 'Gold prices end the session lower, but tally a gain for the first half of the year',\n",
       " 'Dec. gold gains $8.20, or 0.6%, to settle at $1,330.40/oz',\n",
       " 'oil trades below $73, gold reverses after bernanke',\n",
       " 'Gold prices log lowest settlement since early August',\n",
       " 'buy gold on dips; may test rs 33250: nirmal bang',\n",
       " 'Gold extends its streak of gains to four sessions by a hair',\n",
       " 'gold, silver and oil markets hope for better year',\n",
       " 'gold gains as dollar rally takes a breather',\n",
       " 'Gold prices up in Asia as Fed holds steady, eyes on Eurogroup ahead',\n",
       " 'spot gold quoted at $404.10 in asia',\n",
       " 'gold rises to rs 22,570, silver to rs 54,700 on global cues',\n",
       " 'gold slightly lower as investors await fed',\n",
       " 'gold trades higher as dollar eases',\n",
       " 'gold climbs to 9.5 month high as north korea tensions escalate',\n",
       " 'commodities - gold prices bounce back on softer dollar ahead of fed',\n",
       " 'gold ends higher, posts best settlement price since july',\n",
       " 'Gold prices to trade higher today: Angel Commodities',\n",
       " 'Gold futures up at Rs 30,226/10 gm',\n",
       " 'correct: gold futures settle at lowest level in more than 4 weeks',\n",
       " 'gold to hover around rs 16,000 this week',\n",
       " 'gold futures up over $3 an ounce in afternoon dealings',\n",
       " 'gold prices down 9 sessions, lose 2% for the week',\n",
       " 'feb. gold rises $3.40 to $1,087.90/oz on globex',\n",
       " 'gold settles back under $1,300 an ounce',\n",
       " 'philly gold and silver index falls 2.7% to end at 91.76',\n",
       " 'Gold extends gains as Fed minutes reveal weak pricing concerns',\n",
       " 'oil turns lower, gold holds gain after jobs',\n",
       " 'Dec. gold at $1,190.30/oz in electronic trading, up from $1,189.30 settlement',\n",
       " 'aug. gold up $58 at $1,622.20 after $1,623.20 high',\n",
       " 'Dec. gold gains $3, or 0.2%, to $1,314.40/oz',\n",
       " 'gold, silver rise on wedding season demand',\n",
       " 'dec gold closes at $420.80/oz, down $7.40',\n",
       " 'philadelphia gold/silver index ends at 99.96, up 0.5% on day',\n",
       " 'Dec. gold settles at $1,317.80/oz, up $7.60, or 0.6%',\n",
       " 'gold ends floor trade up $9.8 at $1191.7 an ounce',\n",
       " 'gold plunges rs 350 on weak global cues, low local demand',\n",
       " \"gold futures trade near session's low of $1,701.20\",\n",
       " 'love for yellow metal? we need of spot gold exchanges in the country',\n",
       " 'charts : gold: bearish bias while price contained below $1215',\n",
       " 'Gold holds lower after jobless-claims report, other data',\n",
       " 'gold futures rise above $900 as dollar falls',\n",
       " '5 signs before gold takes off',\n",
       " 'Gold plunges to Rs 28,780; silver slumps below Rs 37,000-mark',\n",
       " \"gold stays lower after fed's beige book\",\n",
       " 'Gold futures score two-week highs even as dollar extends climb',\n",
       " 'gold prices edge closer to $450',\n",
       " 'Commodity outlook: Oil prices likely to trend lower; key support for gold around Rs 31,300, silver at Rs 40,600',\n",
       " 'mcx goldpetal oct contract up marginally',\n",
       " 'gold prices move slightly higher as u.s. stocks trade broadly lower',\n",
       " 'gold etf rises to all-time high',\n",
       " 'fed minutes weigh on stocks, gold while boosting treasurys, dollar',\n",
       " 'gold prices may fall as fed commentary boosts the us dollar',\n",
       " 'Gold goes up Rs 86 on positive global cues',\n",
       " 'Gold pulls back as private-sector hiring data up prospects for higher interest rates',\n",
       " 'Gold holds onto gains from Iraq concerns, Fed language',\n",
       " 'dec gold closes at $473.20, highest since late 1987',\n",
       " 'Gold prices soften on lacklustre demand, global cues',\n",
       " 'us mint : sales of us mint american eagle gold, silver coins fall in march',\n",
       " 'gold rebounds from jobs-inspired slide',\n",
       " \"gold's recent slump bewilders investors\",\n",
       " 'Dec. gold loses $4.90, or 0.4%, to settle at $1,303.30/oz',\n",
       " 'gold prices look to fate of us tax cuts for direction, yellen to speak',\n",
       " 'canadian stocks eke out gains as gold miners rebound',\n",
       " 'gold rate per gram: check out current gold price per gram',\n",
       " \"Gold prices under pressure; here's what investors should do\",\n",
       " 'gold prices fall on firmer dollar',\n",
       " 'india gold demand improves slightly after prices drop',\n",
       " 'gold settles higher amid broad commodity rally',\n",
       " 'silver, gold rally to highest level since 2014',\n",
       " 'gold pushes above $1,300 as dollar eases ahead of ecb policy update',\n",
       " 'gold wipes off losses, trading marginally higher in early trade',\n",
       " 'is gold about to make a run to new highs?',\n",
       " 'june gold down $3.20, or 0.2%, to end at $1,305.90/oz',\n",
       " 'april gold falls 20 cents to $1,123.80/oz on globe',\n",
       " 'gold settles lower, extends loss after fed beige book',\n",
       " 'Gold import may cross 1,000-tonne mark this year: Analysts',\n",
       " 'gold futures log highest settlement since mid-july on comex',\n",
       " 'gold climbs to one-week high',\n",
       " 'August gold edges slightly higher at $1,271.50/oz, up 0.1%',\n",
       " 'Commodities@Moneycontrol: Gold prices near highest since August 2016',\n",
       " 'gold shines, silver fades',\n",
       " 'gold futures end lower, as u.s. dollar rises vs. rivals',\n",
       " 'gold rate today: gold trades lower in morning deals; silver up',\n",
       " 'Gold, silver spurt on festive offtake, global cues',\n",
       " 'gold prices gain in asia as support continues despite fed hike views',\n",
       " 'gold, oil hold on to losses after consumer data',\n",
       " 'December gold rises 1% at $1,265.10',\n",
       " 'Dec. gold gains $1.30, or 0.1%, for the session to finish at $1,325.90/oz',\n",
       " 'gold climbs as europe woes spur demand',\n",
       " 'changes in duties on gold, silver to be announced today',\n",
       " 'gold gains on investment buying',\n",
       " 'gold: where to draw the line in the sand after jobs data',\n",
       " 'august gold closes at $655.40/oz, down $3.80 in ny',\n",
       " 'December gold down $4.90, or 0.4%, at $1,306.50/oz.',\n",
       " 'Gold futures suffer first loss in 3 sessions, but keep grip on $1,300',\n",
       " 'Gold ends at 3-month high as dollar wobbles',\n",
       " 'Third tranche of gold bond scheme coming soon: Shaktikanta Das',\n",
       " 'dec. gold up $12.50, or 2.1%, to close at $619.30/oz',\n",
       " 'Dec. gold climbs $4, or 0.3%, to settle at $1,282.90/oz',\n",
       " 'australian shares edge up, boosted by gold miners',\n",
       " \"the shining truth: gold price isn't made in india\",\n",
       " \"gold glitters, but there're few takers\",\n",
       " 'gold may slip to rs 26500: nirmal bang',\n",
       " 'Gold slips to Rs 30,560 on muted demand, weak global cues ',\n",
       " 'gold futures up $3.40 at $653 an ounce',\n",
       " 'Gold Prices Push Lower on Dollar Strength',\n",
       " 'gold futures drop $16 to settle at $1,713.80',\n",
       " 'feb. gold gains $16, or 1.4%, to settle at a $1,181.30/oz',\n",
       " 'Gold holds losses on rate hike views, trade worries',\n",
       " 'April gold settles at $1,249.70/oz, up $3.20, or 0.3%',\n",
       " 'gold futures down $10.70 at $1,590.40 an ounce',\n",
       " 'Silver drops to Rs 41,400 per kg; gold steady at Rs 30,850',\n",
       " 'dollar plunge propels gold stocks',\n",
       " 'charts : gold enters decisive zone amid growing geopolitics while on downward trend',\n",
       " 'short gold, silver on rally, says karvy commodities broking',\n",
       " 'Gold holds on to overnight gains as stocks, dollar retreat',\n",
       " 'dec gold closes near a two-week high, up $5.20 at $467.50/oz',\n",
       " '4 reasons gold is poised for a comeback',\n",
       " 'govt raises import tariff value of gold, silver',\n",
       " 'gold, silver settle at multi-week lows',\n",
       " 'gold prices hover at 2-week lows on dollar strength',\n",
       " 'gold closes at 7-week low as dollar continues higher',\n",
       " 'gold notches back-to-back gain amid pullback in dollar, bond yields',\n",
       " 'Gold settles lower after posting gains over the last two sessions',\n",
       " 'gold ends 1.4% higher on china exports, weak dollar',\n",
       " 'Gold futures end with a gain of 0.7% for the week',\n",
       " '3 trades: avoid bonds, sell gold, buy blue chips',\n",
       " 'Gold futures hold steady, eyes on U.S. data',\n",
       " 'government hikes import duty on gold; etfs to park some holdings with banks',\n",
       " 'gold inches higher on data, stimulus hopes',\n",
       " 'Gold jumps to Rs 30,450; silver recaptures Rs 41K-mark',\n",
       " 'gold climbs on global cues; silver tops rs 46,000 mark',\n",
       " 'gold futures extend losses to a second session',\n",
       " 'gold prices gain slightly in asia as markets await demand cues',\n",
       " \"Gold's glitter remains, despite the price rise\",\n",
       " 'london clearing : five banks open up trillion dollar gold club',\n",
       " 'gold futures turn higher, up 0.2%',\n",
       " 'Gold prices hold steady as investors wait for Fed minutes',\n",
       " \"in the seconds before jobs report, e-mini futures jumped, gold futures oscillated 'wildly': nanex\",\n",
       " 'gold eyes biggest weekly gain in months on cyprus woes',\n",
       " 'gold rate today: track gold price in india',\n",
       " \"This gold play's breakout looks enticing as Trump swats at the dollar\",\n",
       " 'india gold seen falling further',\n",
       " 'gold futures erase most losses to trade down $2.60',\n",
       " 'gold looks strong at current levels: karvy',\n",
       " 'Gold prices mark fifth decline in six sessions',\n",
       " 'gold prices end lower after failed run at $1,300',\n",
       " 'Gold, silver dip further on weak global cues',\n",
       " 'gold prices gain in asia as trump travel policy noted',\n",
       " 'aug. gold gains $18.20, or 1.3%, to $1,410/oz',\n",
       " 'June gold futures up $6.20, or 0.5%, to $1,234.90 an ounce',\n",
       " 'gold futures up $12.20 at $1,212.40 an ounce',\n",
       " 'Gold: Customs duty hike a revenue measure',\n",
       " \"gold closes slightly lower as dollar's jump outweighs turkey contagion fear\",\n",
       " 'Gold settles down $1.30, or 0.1%, at $1,176.50 an ounce',\n",
       " 'commonweath bank cuts fy13 gold price view by 3%',\n",
       " 'Gold prices to trade sideways today: Angel Commodities',\n",
       " \"state street : fed rate hikes next year won't be enough to unsettle gold prices\",\n",
       " 'Gold may consolidate, move higher',\n",
       " 'gold, copper rise after strong chinese data',\n",
       " 'gold, silver down in early trade',\n",
       " 'Gold prices gain in Asia as investors eye last-minute Greece debt talks',\n",
       " 'October trade deficit widens to $ 17.13 billion despite decline in gold imports',\n",
       " 'gold scores gain to start week ahead of fed rate decision',\n",
       " 'Gold Fields swings to profit, lifts dividend',\n",
       " 'gold imports likely to fall on lower inflation: rajan',\n",
       " 'gold futures up $11.40 at $1,198.70 an ounce',\n",
       " \"Gold taps intraday highs as U.S. Dollar Index drops to day's lows\",\n",
       " 'gold prices dip in asia with focus on upcoming u.s. jobs data',\n",
       " 'dec gold closes at $399.40/oz, down $3.10 for the day',\n",
       " 'randgold gold output up 24% on year',\n",
       " 'gold ends lower; silver, copper gain',\n",
       " 'gold futures settle below $1,200 for the second time in a week',\n",
       " 'Gold prices end streak of losses, finish higher for the session',\n",
       " \"today's commodity basket: gold, zinc, silver, copper\",\n",
       " \"silver's discount to gold is the biggest since the 1990s\",\n",
       " 'Gold futures down at Rs 30,383 per 10 gm',\n",
       " 'Gold sinks after payrolls report shows a strong July gain',\n",
       " 'commodities - gold prices regain ground on north korean threats',\n",
       " 'eldorado gold downgraded to neutral from outperform at credit suisse',\n",
       " 'gold prices edge down as dollar steadies',\n",
       " 'spot gold quoted at $421.30, down 40c from new york',\n",
       " 'gold down on dollar firmness, oil range-bound, copper steady',\n",
       " 'Gold settles at 2-month high amid geopolitical tensions',\n",
       " 'gold buying gains pace as prices move south',\n",
       " 'nymex gold ends with a $2 loss',\n",
       " 'gold climbs, but remains below $1,730/oz',\n",
       " 'Antofagasta gold, copper production rises',\n",
       " 'gold pinned at 2018 lows, draws scant trade-linked haven demand',\n",
       " 'feb gold up 60c at $423.60/oz in ny',\n",
       " 'canadian markets close down; gold stocks hold slight gain',\n",
       " 'gold declines first time in three days before eu summit',\n",
       " 'december gold down $4.50 at $734.40 an ounce on nymex',\n",
       " \"gold contrarians say it's time to start buying\",\n",
       " 'Commodities - Gold Prices Hold Steady Ahead of U.S. Inflation Data',\n",
       " 'gold price chart: find all the latest gold rate chart and news',\n",
       " 'Gold drops $14.70, or 1.1%, to $1,301.70 an ounce',\n",
       " 'us stocks pushing modestly higher amid treasury, gold buying',\n",
       " 'august gold down 0.2% at $1,221.10/oz.',\n",
       " 'gold prices steady in early asia ahead of light data day in the region',\n",
       " 'Silver slumps by Rs 655/kg on heavy selling; gold eases',\n",
       " 'gold futures up 0.6% on day, climbs 4.2% on week',\n",
       " 'geojit comtrade`s 6 trading strategies on gold',\n",
       " 'gold futures retreat; market awaits spain bailout',\n",
       " 'gold futures give back more than half of the gains seen a day earlier',\n",
       " 'gold adds to slight decline after economic reports',\n",
       " 'Gold settles lower, builds on a weekly loss',\n",
       " 'gold down $1 at $587 in the early going',\n",
       " 'us scrap gold prices continue to decline in line with comex gold',\n",
       " 'Gold prices gain in Asia as geopolitical events point to volatility',\n",
       " 'Gold prices get post-settlement boost after Fed minutes',\n",
       " 'Gold edges lower as dollar gain on Fed interest rate expectations',\n",
       " 'oil drops 1.3% after housing data, gold holds',\n",
       " \"gold at $1,670.50, near day's intraday record\",\n",
       " 'gold slips below rs 30,000 on weak global cues, muted demand',\n",
       " 'india : gst, other such policies to boost gold demand, says world gold council',\n",
       " 'gold holds above $1,300 but firm dollar weighs',\n",
       " 'august gold gains $11.70, or 0.9%, to $1,253.40/oz',\n",
       " 'Gold futures decline 0.97% on global cues',\n",
       " 'gold breaks 3-day rise, down rs 100 on global cues, low demand',\n",
       " 'aug. gold closes $down $87.80 at $1,286.20 per oz.',\n",
       " 'Gold settles at a more than two-week high',\n",
       " 'Gold / Silver / Copper futures - weekly outlook: December 8 - 12',\n",
       " 'feb. gold ends up $1.40 at $881.70 an ounce on nymex',\n",
       " 'Gold falls as new trade tariffs, rate-hike view buoy dollar',\n",
       " 'gold regains ground on softer dollar',\n",
       " 'Gold inches up as stocks fall on Deutsche Bank worries',\n",
       " 'Gold, silver decline as investors await U.S. GDP data, FOMC decision',\n",
       " 'gold up by rs 420, silver by rs 1,100 on wedding season demand',\n",
       " 'charts : a hangman and a hammer are identified in gold and the dollar index',\n",
       " 'gold falls as dollar strengthens, etf holdings decline',\n",
       " 'gold inches down amid fed inflation concerns',\n",
       " 'Gold futures tip lower as the U.S. dollar strengthens',\n",
       " 'gold closes lower monday',\n",
       " 'Gold slides 1.5%, falls below $1,300 an ounce for first time in September',\n",
       " \"Is India's gold rush coming to an end?\",\n",
       " 'gold trades flat in morning deals; silver down',\n",
       " 'aug. gold down 20 cents to settle at $1,096.20/oz on comex',\n",
       " 'dec. gold drops $7, or 1.1%, to $632/oz in afternoon trade',\n",
       " 'feb gold falls $2.60 to end the day at $453.20 in ny',\n",
       " 'gold prices hit $338, issues shoot up',\n",
       " 'Gold futures extend losses in electronic trading after FOMC minutes',\n",
       " 'gold climbs rs 400, silver zooms rs 2,400 on global cues',\n",
       " 'Gold, silver plunges on global meltdown',\n",
       " 'indian gold refining units are now focusing on scrap jewellery',\n",
       " 'gold falls as dollar gains but finds some support tied to eurozone concerns',\n",
       " 'Gold Prices Fall In Asia After Official China PMI Dampens Sentiment',\n",
       " 'Gold prices remain supported on weaker dollar',\n",
       " 'Gold loses Rs 255, silver Rs 1,100 on weak Asian cues',\n",
       " 'gold futures drift lower; u.s. markets closed for thanksgiving',\n",
       " 'gold glitters with second biggest gain in 2011; up by rs 1025',\n",
       " 'Gold futures rise to Rs 29,000 per 10 gm',\n",
       " 'august gold up $5.60 at $660/oz in electronic trading',\n",
       " 'dec. gold ends up 1.8% at $1187 an ounce',\n",
       " 'oil up at nearly $85; gold declines 1.1%',\n",
       " 'fresnillo lifts gold forecast; warns on loss',\n",
       " 'gold moves back up after string of losses',\n",
       " 'spot gold quoted at $394.80, up 0.05% from ny',\n",
       " 'gold slips below $1,070 after fed lifts interest rates',\n",
       " 'MCX GOLD April contract gains 1%',\n",
       " 'gold futures at highest close since april 12',\n",
       " 'is an inverted yield curve bullish for the gold price?',\n",
       " 'gold futures rise rs 34 on global cues',\n",
       " 'gold retreats as stocks extend gains',\n",
       " 'gold prices trade in range, but us rate hike view weighs',\n",
       " 'August gold falls $8.10, or 0.6%, to settle at $1,271.40/oz',\n",
       " 'gold prices rise, but end lower for the week',\n",
       " 'gold shares climb as prices fall',\n",
       " 'gold sparkles on diwali demand, tops rs 31,000',\n",
       " 'Gold futures trade flat to lower less than a half hour before settlement',\n",
       " 'Gold, silver prices slip on Fed outlook',\n",
       " 'gold settles lower as sell-off gathers momentum',\n",
       " 'Gold rush keep jewellers buzzing past midnight',\n",
       " 'gold futures fall 1% after two-session climb',\n",
       " 'Dec. gold down $6.80, or 0.5%, to settle at $1,343.20/oz',\n",
       " 'amex gold bugs index ends at a record 393.28, up 4.6%',\n",
       " 'Gold rate',\n",
       " 'buy gold on dips around rs 31370: nirmal bang',\n",
       " 'Gold Rate Today: Gold, silver rise on higher demand',\n",
       " 'April gold settles little changed, down 40 cents at $1,225.40/oz',\n",
       " 'chinese gold panda coins now trading on the shanghai gold ...',\n",
       " 'Gold futures open higher at Rs 29,440',\n",
       " 'dec. gold ends down 30 cents at $787 an ounce on nymex',\n",
       " 'Dec. gold settles at $1,211.20/oz, up $1.40, or 0.1%',\n",
       " 'study predicts gold could plunge to $350 an ounce',\n",
       " 'can gold regain its glitter?',\n",
       " 'June gold falls 30 cents to trade at $1,226.60/oz',\n",
       " \"India's gold demand went up by 9% to 727 tonne in 2017\",\n",
       " 'August gold off $4.40, or 0.4%, at $1,264.50/oz.',\n",
       " 'charts : gold testing crucial level',\n",
       " 'gold prices down in asia with central bank moves in focus',\n",
       " 'an open letter to investors who are bullish on gold',\n",
       " 'Expect Gold to trade negative: Sushil Finance',\n",
       " 'comex gold down 3.5% on week, loses 3.9% on month',\n",
       " 'Gold ends at 3-week low as U.S. stock indexes tap record highs',\n",
       " 'gold tops $414 on low rate signals',\n",
       " 'gold retreats from one-year high as dollar gains ground',\n",
       " 'silver rises on global cues, gold steady',\n",
       " 'april gold up $1.60 at $985.80 an ounce on nymex',\n",
       " 'gold falls to rs 29,240; silver adds rs 800',\n",
       " 'gold prices gain in asia with chinese new year trade in focus',\n",
       " 'Gold prices tally highest finish in over two weeks',\n",
       " 'spot gold quoted at $597.90 in asia trade',\n",
       " 'gold, silver turn weak on global cues, slack demand',\n",
       " 'gold at highest in nearly seven months after fed',\n",
       " 'gold erases gains, turning lower as the dollar gains',\n",
       " 'Gold edges up as investors eye Greek debt crisis',\n",
       " 'gold rate today: gold, silver trade mix in morning deals',\n",
       " 'Gold futures down at Rs 29,335',\n",
       " 'Gold prices steady to higher in Asia, ECB, U.S. jobs in focus',\n",
       " 'crude eases back before european outcome, gold up',\n",
       " 'gold down for first time in seven sessions',\n",
       " 'dec. gold settles at $1,131.50/oz on comex, up $6.70, or 0.6%',\n",
       " 'Gold extends weakness on global cues, low demand',\n",
       " 'dec. gold falls $1.90 to $594/oz in morning trading',\n",
       " 'Gold closes slightly higher in choppy trade, after China devalues yuan',\n",
       " 'dec gold closes at 1-mo high of $412.60, up $3.60',\n",
       " 'august gold up $2.60 at $668.50 an ounce on nymex',\n",
       " 'world gold council announces new managing director in india',\n",
       " 'chinese physical gold investment demand surges while americans pile into stock and crypto bubbles',\n",
       " 'gold bounces off record to end 0.6% lower',\n",
       " 'invest in gold for target of rs 32000: astromoneyguru',\n",
       " 'reuters : analysts slash gold price forecasts after second quarter plunge',\n",
       " 'gold futures fall as economic data lifts dollar',\n",
       " 'gold gains for fourth straight session as dollar falls',\n",
       " 'gold prices remain supported in risk-off trade',\n",
       " 'wgc : global september quarter gold demand steady on etf outflow',\n",
       " 'Gold ends lower after vote soothes French euro exit fears',\n",
       " 'turkey detains 17 people in investigation related to gold trader zarrab: agency',\n",
       " 'Gold prices mark highest Comex finish since Sept. 22',\n",
       " 'Gold futures settle higher for a second straight session',\n",
       " 'incrementum : in gold we trust 2017',\n",
       " 'april gold climbs $1.90 to $688.60/oz after $691.80 high',\n",
       " 'Gold soars Rs 325 on wedding season demand, global cues',\n",
       " 'gold futures rally after u.s. employment report',\n",
       " 'Gold prices ease in Asia with support seen from India holiday demand',\n",
       " 'Gold hits Rs 31,000-mark on festive buying',\n",
       " 'commodity bets: expert views on crude, gold, copper, lead',\n",
       " \"meet d-street's whizkid investor who stays anonymous, but strikes gold in stocks\",\n",
       " 'Gold futures up $10 from the settlement as investors parse Fed statement',\n",
       " 'Barrick Gold started at buy with $29 stock price target at Citigroup',\n",
       " 'gold extends rally; up by rs 50, silver recovers by rs 200',\n",
       " 'Gold futures shift lower ahead of settlement as dollar climbs',\n",
       " 'gold advances on firm overseas trend',\n",
       " 'CORRECTION: December gold settles down $13.30, or 1%, at $1,274.20/oz.',\n",
       " 'Gold edges up to Rs 31,270; silver drops by Rs 300 per kg',\n",
       " 'gold slides for third day on stockists selling, global cues',\n",
       " 'December gold up 0.4% at $1,288.50/oz.',\n",
       " 'spot gold quoted at $552.50 in asia trade',\n",
       " 'Gold futures finish at a 2-month high',\n",
       " 'dec gold climbs $7.40, or 1.5%, to trade at $502/oz',\n",
       " 'gold price forever $1200',\n",
       " 'april gold falls $3.60 to $1,139.70/oz on globex',\n",
       " 'WGC partners with India Post, Reliance Money to offer 7% discount on gold coin',\n",
       " \"dollar aided by gold's fall, service data\",\n",
       " \"for gold, it's goldilocks inflation \",\n",
       " 'Gold falls as rate hike views steady dollar',\n",
       " 'Gold miner stocks soar in wake of Trump victory',\n",
       " 'gold prices dull on newmont news',\n",
       " 'feb gold trades modestly higher in late morning dealings',\n",
       " \"gold coins bearing sachin's face, signature launched\",\n",
       " 'gold ends slightly lower as the metal marks 10 years since first topping $1,000',\n",
       " 'Gold ends lower, then gains in electronic trade after FOMC minutes',\n",
       " 'gold sticks near 12-week high as fed eyes global economy',\n",
       " 'June gold down $5.80, or 0.5%, to $1,255.60/oz',\n",
       " 'dec. gold drops $7.30 to a near 4-wk low of $618/oz',\n",
       " 'gold tops rs 29,000 mark on risk-off sentiment',\n",
       " \"ig : gold beats the 'fad' of cryptocurrencies\",\n",
       " 'dec gold climbs $1 to $448.90/oz in morning ny trade',\n",
       " 'gold futures close lower for the session and week',\n",
       " '1150am update:barrick gold gets bigger',\n",
       " 'Gold ends lower after 3-week climb as traders look to coming jobs report',\n",
       " 'copper falls as economic worries return; gold dips',\n",
       " 'fundamental view on copper, crude oil, gold, silver: iifl',\n",
       " 'current gold price: track current gold rate trends and news',\n",
       " 'vietnam may end gold-import ban; spot prices climb',\n",
       " 'Gold futures log lowest finish since June',\n",
       " 'Gold futures end under $1,200, but still mark 7-week high',\n",
       " \"2018 winter olympics: snowboarder chloe kim gets 'hangry,' grabs gold\",\n",
       " 'dec. gold up $7.20 at $1,392.20/oz on globex',\n",
       " \"Gold turns down a few cents as U.S. dollar index trades near day's high\",\n",
       " 'Gold, Silver may trade with negative bias:Angel Commodities',\n",
       " 'cboe gold index closes at 141.18 points, down 0.4%',\n",
       " 'Dec. gold settles at $1,294/oz, up $3.90, or 0.3%, for the session',\n",
       " 'Gold futures may go up',\n",
       " 'Gold ends at 1-week low as Fed talk rattles market',\n",
       " 'Gold prices dip in Asia on Fed views, ahead of China HSBC flash PMI',\n",
       " \"fed's bullard - oil, gold spike not inflationary\",\n",
       " 'Gold ends lower, extends losing streak to 8 sessions',\n",
       " \"gold surges on 'akshaya tritiya', silver gains\",\n",
       " 'Gold futures turn higher after sharp losses earlier in the session',\n",
       " 'Sell MCX Gold, Crude December futures on rallies: Reliance Commodities',\n",
       " 'gold kist announces $200 mln note offiering',\n",
       " 'gold closes higher on thoughts of inflation ahead',\n",
       " 'Gold futures gain roughly 1.9% for the week',\n",
       " 'Gold ends higher as fall in U.S. manufacturing activity weakens buck',\n",
       " 'gold futures recoup most of what they lost on friday',\n",
       " 'Gold slips as markets calm, but hovers near 10-week high',\n",
       " 'charts : gold investors are fast asleep',\n",
       " 'Gold rises for second day to Rs 33,125 ',\n",
       " 'gold settles lower for fourth session in five',\n",
       " 'india gold hits 3-week low; physical demand slack',\n",
       " 'april gold down $6.30, or 0.5%, at $1,372.70/oz',\n",
       " 'gold firms after three days of losses as stocks drop',\n",
       " 'gold falls as dollar strengthens on retail sales',\n",
       " 'Gold futures may correct lower',\n",
       " \"Gold falls on dollar's strength; set for first weekly gain in four\",\n",
       " 'gold, silver decline on lower off-take',\n",
       " 'Gold rises on Fed caution; palladium hits 16-year peak',\n",
       " 'for first time since 2011, gold prices below rs 28,000',\n",
       " 'Gold edges lower ahead of Fed rate decision',\n",
       " 'gold marks highest closing level in 5 weeks',\n",
       " 'Gold surges to 1-month high; silver eases',\n",
       " \"societe generale 'cautiously bullish' on gold prices\",\n",
       " 'gold slips, ends near lowest levels of the year',\n",
       " 'gold opens to set new peak at rs 16,100 on firm global cues',\n",
       " 'gold rate today: check out price trends and market outlook',\n",
       " 'December gold up $2.10, or 0.2%, at $1,279.80 an ounce',\n",
       " \"Dec. gold trades at $1,328.70/oz vs. the day's settlement at $1,331.40\",\n",
       " 'dec. gold closes at $736.30/oz, down $17.80, or 2.4%',\n",
       " 'gold ends lower, extends losing streak to 3 days',\n",
       " 'Gold futures fall marginally on weak global cues',\n",
       " 'gold higher with eyes on dollar, iraq',\n",
       " 'Gold sinks to a 7-week low',\n",
       " 'Gold Fields revenue per ounce rises 20%',\n",
       " 'india : gold imports may drop to 650 tonnes this fiscal',\n",
       " 'Gold to test resistance, slip',\n",
       " 'buy gold, pressure on rupee to continue: emkay commodities',\n",
       " 'December gold flat at $1,316.70/oz.',\n",
       " 'gold futures trade at a four-session low',\n",
       " 'singapore smx to launch new gold, silver contracts',\n",
       " 'tackling current account deficit: fm p chidambaram likely to place more curbs on gold imports',\n",
       " 'April gold off $2.20, or 0.2%, at $1,245/oz.',\n",
       " 'Gold edges higher as dollar slips on mixed U.S. data',\n",
       " 'gold pares gain after libyan ceasefire',\n",
       " 'Gold settles slightly lower as U.S. stock market hovers near records',\n",
       " 'Dec. gold settles at $1,251.90/oz, down $1.10, or 0.1%, for the session',\n",
       " 'gold futures up 1.8% on day, gains 1.9% on week',\n",
       " 'august gold gains $9.50, or 0.7%, to $1,368/oz',\n",
       " 'Jewellers to stop selling gold bars, coins to bring down CAD',\n",
       " 'Satyug Gold to expand network',\n",
       " 'august gold off 0.2% at $1,224.40/oz.',\n",
       " 'Gold rises to record as slowing growth spurs investor demand',\n",
       " 'gold, silver close at new 18-year highs; copper falls',\n",
       " 'gold futures trade marginally lower on subdued demand',\n",
       " 'gains for gold futures fade as prices settle',\n",
       " 'Govt imposes curbs on gold import by 4, 5 star export houses',\n",
       " 'gold hits over 6-month high as investors flock to safety',\n",
       " 'Gold prices to trade lower: Angel Commodities',\n",
       " 'Dec. gold rises $4.50, or 0.3%, at $1,354.40/oz.',\n",
       " 'gold shares up amid blue chips dive',\n",
       " 'spot gold down $1.40 to $947.70/troy ounce',\n",
       " 'sharps pixley: will gold recover its glister?',\n",
       " 'gold drops $14.80, or 1.2%, to settle at $1,207.70/oz',\n",
       " 'august gold drops to $645.50, its lowest level since jan. 17',\n",
       " 'Gold futures move up to Rs 28,632 per 10 grams',\n",
       " 'gold rates slip in major cites india',\n",
       " 'Gold post first monthly decline since May, down 3.4% over August',\n",
       " 'buy gold around rs 30740; sl below rs 30615: nirmal bang',\n",
       " 'gold rate today: gold down in morning trade, silver up',\n",
       " 'gold hits five-month highs as eu plan questioned',\n",
       " 'Feb. gold settles at $1,190.80/oz, down $3, or 0.3%',\n",
       " 'april gold down $3.90 to $984.60 an ounce on nymex',\n",
       " 'Gold unlikely to breach Rs 32k-mark this month: Experts',\n",
       " 'Gold futures to test resistance',\n",
       " 'august gold falls $2.30 to $672.80/oz in early ny trading',\n",
       " 'Gold clings to gains, but caution prevails ahead of Fed',\n",
       " 'Gold futures dip below 27K level',\n",
       " 'cboe gold index up 2.9% to end at 92.91, up 4.2% on wk',\n",
       " 'gold turns higher, up $14.20 at $1,739.10',\n",
       " 'forget gold this year! demand for yellow metal may return only in 2018',\n",
       " 'asian gold prices dip props up demand, indians await lower prices',\n",
       " 'metals issues lower; gold prices climb',\n",
       " 'gold futures extend loss after jobs data',\n",
       " 'Gold logs a gain for the session, erases its loss for the week',\n",
       " 'gold demand improves on price drop, duty fears',\n",
       " 'Gold settles higher, but logs 7th weekly loss',\n",
       " 'gold prices steady near 1-month high on political, economic uncertainty',\n",
       " 'Gold holds gains after jobless -claims report',\n",
       " 'Buy gold if it dips to $1,245-48/oz',\n",
       " 'spot gold quoted at $471.40 in asia trade',\n",
       " 'gold closes higher on dollar weakness, trade tensions',\n",
       " 'gold turns lower, trades below $1,298 an anounce',\n",
       " 'June gold gains $5.30, or 0.4%, to settle at $1,289.10/oz',\n",
       " 'Gold prices mark lowest finish in nearly 8 weeks',\n",
       " 'gold futures fall eight sessions in a row',\n",
       " 'April gold loses $1.40, or 0.1%, to finish at $1,191.10/oz',\n",
       " \"russia gold firm petropavlovsk '11 net jumps\",\n",
       " 'slim gains for nymex gold futures',\n",
       " 'june gold soars after jobs report, up $21.80, or 1.7%, to $1,294/oz.',\n",
       " 'Gold futures edge down for the day to finish 1.4% lower for the week',\n",
       " 'gold rises 2% to trade at $1,826.30 an ounce',\n",
       " 'Buy MCX Gold at Rs 28,600; Target Rs 28,900: IIFL',\n",
       " 'goldman sachs cuts gold outlook, sees growing risk',\n",
       " 'oil, gold rise as markets rebound',\n",
       " 'gold futures suffer a loss of roughly 0.6% for the week',\n",
       " 'rbc : gold likely to witness a steady rise in 2018',\n",
       " 'Gold gains on European bank fears, Fed expectations',\n",
       " 'india likely to import 30 tonnes of gold in april',\n",
       " 'gold imports to dictate size of current account deficit in h2 of fy2017: icra',\n",
       " 'gold ends 0.3% lower at $1,663.10 an ounce',\n",
       " 'comex gold logs third gain in four sessions',\n",
       " 'Gold Prices Remain on the Downside after Mixed U.S. Data',\n",
       " 'December gold finishes up $2.10, or 0.2%, at $1,359.60/oz.',\n",
       " 'gold futures edge up, as dollar falls, oil surges',\n",
       " 'Gold inches up in thin trade, eyes 2nd straight weekly drop',\n",
       " 'Gold pares loss after jobs report, off $2.60, or 0.3%, $1,215.30/oz.',\n",
       " 'gold futures up $1.30 at $555.90 an ounce',\n",
       " 'gold futures score sixth-straight winning session',\n",
       " 'february gold ends down $6.10 at $820.50 an ounce on nymex',\n",
       " 'gold, base metals futures rally on crude rise',\n",
       " 'gold inches higher with yellen testimony, ukraine violence in focus',\n",
       " 'gold inches higher on hopes of easing',\n",
       " 'crude oil, gold stay lower after trade data',\n",
       " 'gold futures log third straight day of gains',\n",
       " 'cboe gold index closes at 131.17, down 0.6%',\n",
       " \"Gold, silver zoom on investors' buying\",\n",
       " 'Gold futures down 0.14% on weak global cues',\n",
       " 'gold falls on strong dollar, higher us yields',\n",
       " 'agnico-eagle to develop finland gold project for $135 mln',\n",
       " 'june gold closes at $1,455.60/oz, up $2, or 0.1%',\n",
       " 'Gold holds modest losses after economic reports',\n",
       " 'Gold prices trading lower',\n",
       " 'December gold falls $11.30, or 0.9%, to $1,354.20/oz',\n",
       " 'Gold ends little-changed as Dow aims at 20,000',\n",
       " 'Gold marks first gain in 5 sessions as Dow sinks below 20,000',\n",
       " 'Waning demand, stronger dollar take glitter off gold',\n",
       " 'Gold gains in Asia as Fed holds steady as expected, notes prices data',\n",
       " 'gold may find long term support at &#36;1250-1270: eastspring',\n",
       " 'gold down more than $100 as settlement approaches',\n",
       " 'feb gold falls $1.10 to $439.20/oz in morning ny trade',\n",
       " 'marshall & ilsley pays $2.78-cash, $15.72 stk for gold banc',\n",
       " 'Gold prices ease in Asia on profit taking, Iraq, China data eyed',\n",
       " 'Sell gold if it rallies to $1,230-35/oz',\n",
       " \"Oil prices drop toward session lows, but gold trades near the day's highs\",\n",
       " \"Gold under pressure as Fed's Yellen backs gradual rate hikes\",\n",
       " 'Gold slips as Fed official gives upbeat take on U.S. economy',\n",
       " 'Gold gains in Asia on heightened risk sentiment',\n",
       " 'Gold holds modest losses after consumer-confidence report',\n",
       " 'gold futures fall from settlement level after fomc minutes',\n",
       " 'canadian shares bounce back with oil, gold gains',\n",
       " 'comex gold falls $23, or 1.4% in morning trade',\n",
       " 'gold futures at fresh two-week high',\n",
       " \"gold-related companies' shares crash, muthoot down 13%\",\n",
       " 'Gold stuck near 4-week low on US rate hike view',\n",
       " 'april gold falls $2.30 to $546.60/oz after $543.50 low',\n",
       " 'india : mmtc plans a full-fledged portal for transaction of gold and silver',\n",
       " 'Dec. gold falls $2.70, or 0.2%, to $1,314.40/oz',\n",
       " 'gold futures fall, hold recent trading range',\n",
       " 'gold surges as investors rush to safety',\n",
       " 'Why gold prices spiked after the Fed decision',\n",
       " 'gold futures down 10 cents at $1187.60/oz',\n",
       " 'gold futures close higher for an eighth session',\n",
       " 'gold closes down 0.2% at $1,251.10 an ounce',\n",
       " \"gold may regain ground in 2017 but 'bumpy road' ahead: poll\",\n",
       " 'Gold rises on Fed rate outlook',\n",
       " 'Gold ends marginally lower but books solid July performance',\n",
       " 'Gold Prices Continue to Drop on Stronger Dollar',\n",
       " 'gold ends lower, logs third-straight session loss',\n",
       " 'Gold prices mark fourth straight session climb',\n",
       " 'gold slips on stronger dollar; geopolitical risks support',\n",
       " \"bitcoin : has gold lost its shine amid bitcoin's rise? analyst takes a closer look\",\n",
       " 'gold rises by rs 150 on firm demand, silver loses rs 400',\n",
       " 'dec gold ends at $412.80, down $2.70 for the ny session',\n",
       " 'Gold futures remain near 3-week highs in risk-off trade',\n",
       " 'Gold gains as risk aversion weighs on dollar',\n",
       " 'Gold futures rise marginally to Rs 28,311; silver up at Rs 42,667 per kg',\n",
       " 'Dec. gold declines by $8.90, or 0.7%, to settle at $1,269.20/oz',\n",
       " 'Gold prices retreat from a 3-week high',\n",
       " 'Gold prices up in Asia after Fed chief views, Japan, China shut',\n",
       " 'silver dips further on global fall, gold eases',\n",
       " 'gold pulls back from 5-month top, investors await fed outlook ',\n",
       " 'oil, gold fall on report gadhafi mulls peace plan',\n",
       " 'gold rises to 1-month high on weaker us dollar',\n",
       " 'dec. gold last up $3.90 at $1,344.20/oz',\n",
       " 'frank holmes : best month for gold price in 2 years',\n",
       " 'gold extends losses, sheds rs 100 on muted demand',\n",
       " 'Gold steadies, on track for second week of gains',\n",
       " \"oil lower, gold higher after japan's quake reports\",\n",
       " 'gold fields ltd. down 6.7% at $18.28',\n",
       " 'feb. gold gains 2.5% for the week',\n",
       " 'spot gold up $6 at $620.90 an ounce',\n",
       " 'gold prices rebound as stocks slip',\n",
       " 'december gold falls $1.60, or 0.1%, to close at $1,076.30/oz.',\n",
       " 'gold stages comeback with aid of weak dollar',\n",
       " 'gold holds near 3-1/2 month high as growth worries persist',\n",
       " 'Gold prices settle sharply higher ahead of FOMC minutes',\n",
       " 'gold rate: check out the latest gold price, trends and market outlook',\n",
       " 'gold falls towards 1-month low ahead of fed meeting',\n",
       " 'april gold settles at $1,326.40/oz, up $10.70, or 0.8%',\n",
       " 'Gold prices zoom to 1-month high of Rs 30,950',\n",
       " 'gold extends loss to a third session as dollar strengthens to 1 ï¿½-year high',\n",
       " 'Dec. gold loses $8.90, or 0.7%, to settle at $1,325.60/oz',\n",
       " 'Spot Gold rates slip in Jaipur, Ahmd, Chennai market',\n",
       " 'Soft US data supports gold, but weekly dip on the cards',\n",
       " 'gold rangebound as markets await fed minutes',\n",
       " 'Gold rises with focus on Ukraine, copper hits 12-week high',\n",
       " 'goldguinea prices rise 11% in october series so far',\n",
       " 'spot gold quoted at $569.10 in asia trade',\n",
       " 'gold futures up on firm asian cues',\n",
       " 'mcx gold may slip to rs 29150-27850: mangal keshav',\n",
       " 'gold prices gain in asia as fed views on economy seen more upbeat',\n",
       " 'feb gold trades at two-week high of $428.50/oz',\n",
       " 'Gold rebounds on strong retail buying',\n",
       " 'Commodities outlook: Gold, base metals pare gains; crude oil sees a fresh spike',\n",
       " 'Gold futures fall to Rs 27,740 per 10 gram',\n",
       " 'gold ends at a 2-month low, down $13 an ounce',\n",
       " 'Gold spurts further on dollar weakness',\n",
       " 'gold, silver slip in dull trade',\n",
       " 'gold turns lower, fresh record slips for now',\n",
       " 'gold futures up $2.30 at $590 an ounce',\n",
       " 'Gold adds slightly to early gains after PPI report',\n",
       " 'gold futures mark highest close since april 12',\n",
       " 'gold extends losses to third session',\n",
       " 'Gold futures rises to Rs 27,253 on global cues',\n",
       " 'Sell gold if it rises to $1,297-1,300/oz',\n",
       " 'gold slips after an earlier a high of $1,832.90',\n",
       " 'Gold Fields downgraded to underperform from sector perform at RBC Capital',\n",
       " 'gold futures gain roughly 1% for the week',\n",
       " 'Gold prices settle higher as U.S. dollar drops, equities weaken',\n",
       " 'Gold edges up as dollar retreats from 16-month high',\n",
       " 'gold futures fall $6.90 after stronger jobs report',\n",
       " 'gold drops on fed stance, dollar strength',\n",
       " 'aug gold closes at $427.40/oz, up $2.60',\n",
       " \"gold's close below $1,600 is first since september\",\n",
       " 'barrick gold q2 earns decline, but match expectations',\n",
       " 'gold demand in asia picks up due to lower prices',\n",
       " 'gold continues rebound from three-year low',\n",
       " 'Gold futures fall to Rs 31,144 per 10 gm',\n",
       " 'Gold Prices Turn Lower as U.S. Dollar Strengthens',\n",
       " 'gold reacts downwards, silver recovers',\n",
       " 'gold rules flat, silver surges by rs 300 on firm global cues',\n",
       " 'Gold edges higher amid Brexit turmoil',\n",
       " ...]"
      ]
     },
     "execution_count": 2,
     "metadata": {},
     "output_type": "execute_result"
    }
   ],
   "source": [
    "headlines"
   ]
  },
  {
   "cell_type": "code",
   "execution_count": 3,
   "metadata": {},
   "outputs": [],
   "source": [
    "import re\n",
    "import numpy as np\n",
    "\n",
    "headlines_lower = [h.lower() for h in headlines]\n",
    "\n",
    "months = r\"\\b(january|february|march|april|may|june|july|august|september|october|november|december|jan|feb|mar|apr|jun|jul|aug|sep|oct|nov|dec)\\b\"\n",
    "directions = r\"\\b(up|down|higher|lower|rise|rises|fall|falls|gain|gains|loses|loss|rebound|slip|climb|surge|drop|drops|edged|edges|recover|recovery|recovers|flat)\\b\"\n",
    "numbers = r\"[\\d\\.,]+[%$]?|\\d{1,3}(,\\d{3})*(\\.\\d+)?|\\d+\"\n",
    "symbols = r\"\\/oz|rs|bn|usd|\\$|%|oz\"\n",
    "\n",
    "cleaned_headlines = []\n",
    "for h in headlines_lower:\n",
    "    h_clean = re.sub(months, \"\", h, flags=re.IGNORECASE)\n",
    "    h_clean = re.sub(directions, \"\", h_clean, flags=re.IGNORECASE)\n",
    "    h_clean = re.sub(numbers, \"\", h_clean)\n",
    "    h_clean = re.sub(symbols, \"\", h_clean, flags=re.IGNORECASE)\n",
    "    h_clean = re.sub(r\"[^\\w\\s]\", \"\", h_clean)  # remove punctuation\n",
    "    h_clean = re.sub(r\"\\s+\", \" \", h_clean).strip()  # clean up spaces\n",
    "    cleaned_headlines.append(h_clean.lower())"
   ]
  },
  {
   "cell_type": "code",
   "execution_count": 4,
   "metadata": {},
   "outputs": [],
   "source": [
    "embedding_model = SentenceTransformer(\"all-mpnet-base-v2\")"
   ]
  },
  {
   "cell_type": "code",
   "execution_count": 5,
   "metadata": {},
   "outputs": [],
   "source": [
    "vectorizer = CountVectorizer(\n",
    "    stop_words=\"english\",\n",
    "    ngram_range=(1, 3),  # uptil trigrams\n",
    "    min_df=10,  # ignore words in less than 10 headlines (0.1%)\n",
    "    max_df=0.5,  # ignore words in more than 50% headlines\n",
    "    max_features=5_000,\n",
    "    token_pattern=r\"(?u)\\b[\\w\\-]+\\b\",  # Keep hyphenated phrases (e.g., \"AI-driven\")\n",
    ")"
   ]
  },
  {
   "cell_type": "code",
   "execution_count": 6,
   "metadata": {},
   "outputs": [],
   "source": [
    "hdbscan_model = HDBSCAN(\n",
    "    min_cluster_size=60,  # Test values between 30-100\n",
    "    min_samples=10,  # Avoids micro-clusters (10-30% of min_cluster_size)\n",
    "    cluster_selection_epsilon=0.1,  # Merges nearby clusters\n",
    "    prediction_data=True,  # for soft clustering\n",
    ")\n",
    "\n",
    "topic_model = BERTopic(\n",
    "    embedding_model=\"all-mpnet-base-v2\",\n",
    "    hdbscan_model=hdbscan_model,\n",
    "    vectorizer_model=vectorizer,\n",
    "    verbose=True,\n",
    ")"
   ]
  },
  {
   "cell_type": "code",
   "execution_count": 7,
   "metadata": {},
   "outputs": [
    {
     "name": "stderr",
     "output_type": "stream",
     "text": [
      "2025-04-12 14:01:02,472 - BERTopic - Embedding - Transforming documents to embeddings.\n",
      "Batches: 100%|██████████| 331/331 [00:15<00:00, 21.10it/s]\n",
      "2025-04-12 14:01:19,179 - BERTopic - Embedding - Completed ✓\n",
      "2025-04-12 14:01:19,179 - BERTopic - Dimensionality - Fitting the dimensionality reduction algorithm\n",
      "OMP: Info #276: omp_set_nested routine deprecated, please use omp_set_max_active_levels instead.\n",
      "2025-04-12 14:01:27,542 - BERTopic - Dimensionality - Completed ✓\n",
      "2025-04-12 14:01:27,543 - BERTopic - Cluster - Start clustering the reduced embeddings\n",
      "2025-04-12 14:01:27,729 - BERTopic - Cluster - Completed ✓\n",
      "2025-04-12 14:01:27,734 - BERTopic - Representation - Fine-tuning topics using representation models.\n",
      "2025-04-12 14:01:27,843 - BERTopic - Representation - Completed ✓\n"
     ]
    }
   ],
   "source": [
    "topics, probs = topic_model.fit_transform(cleaned_headlines)"
   ]
  },
  {
   "cell_type": "code",
   "execution_count": 8,
   "metadata": {},
   "outputs": [
    {
     "data": {
      "text/plain": [
       "array([0., 1., 1., ..., 1., 1., 1.])"
      ]
     },
     "execution_count": 8,
     "metadata": {},
     "output_type": "execute_result"
    }
   ],
   "source": [
    "topic_model.hdbscan_model.probabilities_"
   ]
  },
  {
   "cell_type": "code",
   "execution_count": 9,
   "metadata": {},
   "outputs": [
    {
     "data": {
      "text/plain": [
       "True"
      ]
     },
     "execution_count": 9,
     "metadata": {},
     "output_type": "execute_result"
    }
   ],
   "source": [
    "(probs == topic_model.hdbscan_model.probabilities_).all()"
   ]
  },
  {
   "cell_type": "code",
   "execution_count": 10,
   "metadata": {},
   "outputs": [],
   "source": [
    "prob_matrix = np.array(hdbscan.all_points_membership_vectors(topic_model.hdbscan_model))"
   ]
  },
  {
   "cell_type": "code",
   "execution_count": 11,
   "metadata": {},
   "outputs": [
    {
     "data": {
      "text/plain": [
       "array([[5.28943372e-003, 3.24716214e-003, 3.73994620e-003, ...,\n",
       "        8.13547641e-003, 7.48872089e-003, 6.74021701e-003],\n",
       "       [8.74894349e-309, 7.16361771e-309, 1.27081225e-308, ...,\n",
       "        3.55479740e-308, 4.03942505e-308, 3.41167338e-308],\n",
       "       [8.19985546e-309, 6.99531847e-309, 1.00313524e-308, ...,\n",
       "        5.48984789e-308, 7.10897883e-308, 4.92595484e-308],\n",
       "       ...,\n",
       "       [3.28588008e-003, 2.96154177e-003, 4.45122458e-003, ...,\n",
       "        2.54035735e-002, 3.71711477e-002, 2.94062858e-002],\n",
       "       [6.53681807e-309, 8.40499063e-309, 1.19914589e-308, ...,\n",
       "        1.36350893e-308, 1.40972541e-308, 1.46112071e-308],\n",
       "       [6.53682772e-309, 8.40495232e-309, 1.19914370e-308, ...,\n",
       "        1.36350127e-308, 1.40971575e-308, 1.46111114e-308]])"
      ]
     },
     "execution_count": 11,
     "metadata": {},
     "output_type": "execute_result"
    }
   ],
   "source": [
    "prob_matrix"
   ]
  },
  {
   "cell_type": "code",
   "execution_count": 12,
   "metadata": {},
   "outputs": [],
   "source": [
    "normalized_prob = prob_matrix / prob_matrix.sum(axis=1, keepdims=True)"
   ]
  },
  {
   "cell_type": "code",
   "execution_count": 13,
   "metadata": {},
   "outputs": [
    {
     "data": {
      "text/plain": [
       "array([8.74894349e-309, 7.16361771e-309, 1.27081225e-308, 9.39898618e-309,\n",
       "       8.24691159e-309, 1.17083040e-308, 1.40327899e-308, 1.05454231e-308,\n",
       "       1.20467061e-308, 1.11260926e-308, 9.98559416e-309, 1.81856910e-308,\n",
       "       2.06940051e-308, 2.29314036e-308, 5.12570819e-308, 2.15414073e-308,\n",
       "       2.74409446e-308, 1.00000000e+000, 4.32273666e-308, 3.13724834e-308,\n",
       "       5.84188539e-308, 4.15510904e-308, 4.31638406e-308, 2.83921527e-308,\n",
       "       2.34195369e-308, 2.64611489e-308, 4.37030858e-308, 3.80530255e-308,\n",
       "       4.31358401e-308, 6.20258774e-308, 4.88265363e-308, 3.42780242e-308,\n",
       "       2.64426126e-308, 3.55479740e-308, 4.03942505e-308, 3.41167338e-308])"
      ]
     },
     "execution_count": 13,
     "metadata": {},
     "output_type": "execute_result"
    }
   ],
   "source": [
    "normalized_prob[1]"
   ]
  },
  {
   "cell_type": "code",
   "execution_count": 14,
   "metadata": {},
   "outputs": [],
   "source": [
    "def get_hdbscan_probabilities(topic_model, documents):\n",
    "    \"\"\"Get full probability distributions for HDBSCAN using soft clustering\"\"\"\n",
    "    # First ensure we have prediction data\n",
    "    if not hasattr(topic_model.hdbscan_model, \"prediction_data_\"):\n",
    "        raise ValueError(\"HDBSCAN needs to be initialized with prediction_data=True\")\n",
    "\n",
    "    # Get embeddings\n",
    "    embeddings = topic_model._extract_embeddings(documents)\n",
    "\n",
    "    # Get all cluster probabilities using HDBSCAN's soft clustering\n",
    "    soft_clusters = hdbscan.all_points_membership_vectors(topic_model.hdbscan_model)\n",
    "\n",
    "    # Convert to numpy array and normalize\n",
    "    prob_matrix = np.array(soft_clusters)\n",
    "    normalized_probs = prob_matrix / prob_matrix.sum(axis=1, keepdims=True)\n",
    "\n",
    "    return normalized_probs\n",
    "    # return prob_matrix\n",
    "\n",
    "\n",
    "# Usage:\n",
    "hdbscan_probs = get_hdbscan_probabilities(topic_model, cleaned_headlines)"
   ]
  },
  {
   "cell_type": "code",
   "execution_count": 15,
   "metadata": {},
   "outputs": [
    {
     "data": {
      "text/plain": [
       "array([[2.28384877e-002, 1.40204559e-002, 1.61481776e-002, ...,\n",
       "        3.51270075e-002, 3.23344745e-002, 2.91026169e-002],\n",
       "       [8.74894349e-309, 7.16361771e-309, 1.27081225e-308, ...,\n",
       "        3.55479740e-308, 4.03942505e-308, 3.41167338e-308],\n",
       "       [8.19985546e-309, 6.99531847e-309, 1.00313524e-308, ...,\n",
       "        5.48984789e-308, 7.10897883e-308, 4.92595484e-308],\n",
       "       ...,\n",
       "       [3.28588008e-003, 2.96154177e-003, 4.45122458e-003, ...,\n",
       "        2.54035735e-002, 3.71711477e-002, 2.94062858e-002],\n",
       "       [6.53681807e-309, 8.40499063e-309, 1.19914589e-308, ...,\n",
       "        1.36350893e-308, 1.40972541e-308, 1.46112071e-308],\n",
       "       [6.53682772e-309, 8.40495232e-309, 1.19914370e-308, ...,\n",
       "        1.36350127e-308, 1.40971575e-308, 1.46111114e-308]])"
      ]
     },
     "execution_count": 15,
     "metadata": {},
     "output_type": "execute_result"
    }
   ],
   "source": [
    "hdbscan_probs"
   ]
  },
  {
   "cell_type": "code",
   "execution_count": 16,
   "metadata": {},
   "outputs": [
    {
     "data": {
      "text/plain": [
       "array([False, False, False, False, False, False, False, False, False,\n",
       "       False, False, False, False, False, False, False, False,  True,\n",
       "       False, False, False, False, False, False, False, False, False,\n",
       "       False, False, False, False, False, False, False, False, False])"
      ]
     },
     "execution_count": 16,
     "metadata": {},
     "output_type": "execute_result"
    }
   ],
   "source": [
    "hdbscan_probs[1] == max(hdbscan_probs[1])"
   ]
  },
  {
   "cell_type": "code",
   "execution_count": 17,
   "metadata": {},
   "outputs": [],
   "source": [
    "n_topics = hdbscan_probs.shape[1]\n",
    "column_names = [str(i) for i in range(0, n_topics)]\n",
    "\n",
    "prob_df = pd.DataFrame(hdbscan_probs, columns=column_names)"
   ]
  },
  {
   "cell_type": "code",
   "execution_count": 18,
   "metadata": {},
   "outputs": [
    {
     "data": {
      "text/html": [
       "<div>\n",
       "<style scoped>\n",
       "    .dataframe tbody tr th:only-of-type {\n",
       "        vertical-align: middle;\n",
       "    }\n",
       "\n",
       "    .dataframe tbody tr th {\n",
       "        vertical-align: top;\n",
       "    }\n",
       "\n",
       "    .dataframe thead th {\n",
       "        text-align: right;\n",
       "    }\n",
       "</style>\n",
       "<table border=\"1\" class=\"dataframe\">\n",
       "  <thead>\n",
       "    <tr style=\"text-align: right;\">\n",
       "      <th></th>\n",
       "      <th>0</th>\n",
       "      <th>1</th>\n",
       "      <th>2</th>\n",
       "      <th>3</th>\n",
       "      <th>4</th>\n",
       "      <th>5</th>\n",
       "      <th>6</th>\n",
       "      <th>7</th>\n",
       "      <th>8</th>\n",
       "      <th>9</th>\n",
       "      <th>...</th>\n",
       "      <th>26</th>\n",
       "      <th>27</th>\n",
       "      <th>28</th>\n",
       "      <th>29</th>\n",
       "      <th>30</th>\n",
       "      <th>31</th>\n",
       "      <th>32</th>\n",
       "      <th>33</th>\n",
       "      <th>34</th>\n",
       "      <th>35</th>\n",
       "    </tr>\n",
       "  </thead>\n",
       "  <tbody>\n",
       "    <tr>\n",
       "      <th>0</th>\n",
       "      <td>2.283849e-02</td>\n",
       "      <td>1.402046e-02</td>\n",
       "      <td>1.614818e-02</td>\n",
       "      <td>1.875945e-02</td>\n",
       "      <td>1.760760e-02</td>\n",
       "      <td>1.867192e-02</td>\n",
       "      <td>1.721324e-02</td>\n",
       "      <td>1.512755e-02</td>\n",
       "      <td>1.744773e-02</td>\n",
       "      <td>1.667150e-02</td>\n",
       "      <td>...</td>\n",
       "      <td>3.295844e-02</td>\n",
       "      <td>3.572198e-02</td>\n",
       "      <td>3.247931e-02</td>\n",
       "      <td>3.346979e-02</td>\n",
       "      <td>3.786850e-02</td>\n",
       "      <td>3.041266e-02</td>\n",
       "      <td>2.770584e-02</td>\n",
       "      <td>3.512701e-02</td>\n",
       "      <td>3.233447e-02</td>\n",
       "      <td>2.910262e-02</td>\n",
       "    </tr>\n",
       "    <tr>\n",
       "      <th>1</th>\n",
       "      <td>8.748943e-309</td>\n",
       "      <td>7.163618e-309</td>\n",
       "      <td>1.270812e-308</td>\n",
       "      <td>9.398986e-309</td>\n",
       "      <td>8.246912e-309</td>\n",
       "      <td>1.170830e-308</td>\n",
       "      <td>1.403279e-308</td>\n",
       "      <td>1.054542e-308</td>\n",
       "      <td>1.204671e-308</td>\n",
       "      <td>1.112609e-308</td>\n",
       "      <td>...</td>\n",
       "      <td>4.370309e-308</td>\n",
       "      <td>3.805303e-308</td>\n",
       "      <td>4.313584e-308</td>\n",
       "      <td>6.202588e-308</td>\n",
       "      <td>4.882654e-308</td>\n",
       "      <td>3.427802e-308</td>\n",
       "      <td>2.644261e-308</td>\n",
       "      <td>3.554797e-308</td>\n",
       "      <td>4.039425e-308</td>\n",
       "      <td>3.411673e-308</td>\n",
       "    </tr>\n",
       "    <tr>\n",
       "      <th>2</th>\n",
       "      <td>8.199855e-309</td>\n",
       "      <td>6.995318e-309</td>\n",
       "      <td>1.003135e-308</td>\n",
       "      <td>1.160200e-308</td>\n",
       "      <td>9.050506e-309</td>\n",
       "      <td>1.060557e-308</td>\n",
       "      <td>1.301338e-308</td>\n",
       "      <td>9.722602e-309</td>\n",
       "      <td>1.050516e-308</td>\n",
       "      <td>9.562994e-309</td>\n",
       "      <td>...</td>\n",
       "      <td>3.104085e-307</td>\n",
       "      <td>6.795310e-308</td>\n",
       "      <td>1.000000e+00</td>\n",
       "      <td>1.784047e-307</td>\n",
       "      <td>6.934975e-308</td>\n",
       "      <td>4.211338e-308</td>\n",
       "      <td>3.335190e-308</td>\n",
       "      <td>5.489848e-308</td>\n",
       "      <td>7.108979e-308</td>\n",
       "      <td>4.925955e-308</td>\n",
       "    </tr>\n",
       "    <tr>\n",
       "      <th>3</th>\n",
       "      <td>7.645843e-309</td>\n",
       "      <td>8.658651e-309</td>\n",
       "      <td>1.007924e-308</td>\n",
       "      <td>9.931215e-309</td>\n",
       "      <td>9.179729e-309</td>\n",
       "      <td>8.943314e-309</td>\n",
       "      <td>1.658564e-308</td>\n",
       "      <td>1.207071e-308</td>\n",
       "      <td>1.303081e-308</td>\n",
       "      <td>1.146434e-308</td>\n",
       "      <td>...</td>\n",
       "      <td>4.483959e-308</td>\n",
       "      <td>5.627556e-308</td>\n",
       "      <td>3.647994e-308</td>\n",
       "      <td>3.448045e-308</td>\n",
       "      <td>5.105556e-308</td>\n",
       "      <td>7.453425e-308</td>\n",
       "      <td>5.152811e-308</td>\n",
       "      <td>4.543721e-308</td>\n",
       "      <td>7.056816e-308</td>\n",
       "      <td>4.600916e-308</td>\n",
       "    </tr>\n",
       "    <tr>\n",
       "      <th>4</th>\n",
       "      <td>3.422318e-03</td>\n",
       "      <td>3.313719e-03</td>\n",
       "      <td>4.413704e-03</td>\n",
       "      <td>4.308059e-03</td>\n",
       "      <td>4.599872e-03</td>\n",
       "      <td>4.414482e-03</td>\n",
       "      <td>7.126344e-03</td>\n",
       "      <td>4.988977e-03</td>\n",
       "      <td>4.762620e-03</td>\n",
       "      <td>4.298298e-03</td>\n",
       "      <td>...</td>\n",
       "      <td>3.593568e-02</td>\n",
       "      <td>3.983067e-02</td>\n",
       "      <td>2.609327e-02</td>\n",
       "      <td>2.253066e-02</td>\n",
       "      <td>3.448307e-02</td>\n",
       "      <td>7.237842e-02</td>\n",
       "      <td>3.867242e-02</td>\n",
       "      <td>5.022091e-02</td>\n",
       "      <td>8.339184e-02</td>\n",
       "      <td>2.393919e-01</td>\n",
       "    </tr>\n",
       "    <tr>\n",
       "      <th>...</th>\n",
       "      <td>...</td>\n",
       "      <td>...</td>\n",
       "      <td>...</td>\n",
       "      <td>...</td>\n",
       "      <td>...</td>\n",
       "      <td>...</td>\n",
       "      <td>...</td>\n",
       "      <td>...</td>\n",
       "      <td>...</td>\n",
       "      <td>...</td>\n",
       "      <td>...</td>\n",
       "      <td>...</td>\n",
       "      <td>...</td>\n",
       "      <td>...</td>\n",
       "      <td>...</td>\n",
       "      <td>...</td>\n",
       "      <td>...</td>\n",
       "      <td>...</td>\n",
       "      <td>...</td>\n",
       "      <td>...</td>\n",
       "      <td>...</td>\n",
       "    </tr>\n",
       "    <tr>\n",
       "      <th>10565</th>\n",
       "      <td>2.542451e-03</td>\n",
       "      <td>2.202854e-03</td>\n",
       "      <td>3.455016e-03</td>\n",
       "      <td>2.854749e-03</td>\n",
       "      <td>2.731068e-03</td>\n",
       "      <td>3.316220e-03</td>\n",
       "      <td>4.449942e-03</td>\n",
       "      <td>3.208422e-03</td>\n",
       "      <td>3.422148e-03</td>\n",
       "      <td>3.131927e-03</td>\n",
       "      <td>...</td>\n",
       "      <td>1.873011e-02</td>\n",
       "      <td>1.627491e-02</td>\n",
       "      <td>1.595591e-02</td>\n",
       "      <td>1.896204e-02</td>\n",
       "      <td>2.093056e-02</td>\n",
       "      <td>1.568752e-02</td>\n",
       "      <td>1.085144e-02</td>\n",
       "      <td>1.616860e-02</td>\n",
       "      <td>2.019150e-02</td>\n",
       "      <td>1.561444e-02</td>\n",
       "    </tr>\n",
       "    <tr>\n",
       "      <th>10566</th>\n",
       "      <td>7.490500e-309</td>\n",
       "      <td>8.670655e-309</td>\n",
       "      <td>9.515465e-309</td>\n",
       "      <td>1.023595e-308</td>\n",
       "      <td>9.473785e-309</td>\n",
       "      <td>8.734067e-309</td>\n",
       "      <td>1.629178e-308</td>\n",
       "      <td>1.226073e-308</td>\n",
       "      <td>1.282935e-308</td>\n",
       "      <td>1.121194e-308</td>\n",
       "      <td>...</td>\n",
       "      <td>4.332395e-308</td>\n",
       "      <td>5.824902e-308</td>\n",
       "      <td>3.491312e-308</td>\n",
       "      <td>3.143857e-308</td>\n",
       "      <td>4.677446e-308</td>\n",
       "      <td>7.226353e-308</td>\n",
       "      <td>5.346830e-308</td>\n",
       "      <td>4.613434e-308</td>\n",
       "      <td>6.917584e-308</td>\n",
       "      <td>4.632731e-308</td>\n",
       "    </tr>\n",
       "    <tr>\n",
       "      <th>10567</th>\n",
       "      <td>3.285880e-03</td>\n",
       "      <td>2.961542e-03</td>\n",
       "      <td>4.451225e-03</td>\n",
       "      <td>3.801242e-03</td>\n",
       "      <td>3.828361e-03</td>\n",
       "      <td>4.303121e-03</td>\n",
       "      <td>6.239479e-03</td>\n",
       "      <td>4.374559e-03</td>\n",
       "      <td>4.461618e-03</td>\n",
       "      <td>4.068127e-03</td>\n",
       "      <td>...</td>\n",
       "      <td>2.752648e-02</td>\n",
       "      <td>2.349916e-02</td>\n",
       "      <td>2.135389e-02</td>\n",
       "      <td>2.222515e-02</td>\n",
       "      <td>2.576929e-02</td>\n",
       "      <td>2.726694e-02</td>\n",
       "      <td>1.766332e-02</td>\n",
       "      <td>2.540357e-02</td>\n",
       "      <td>3.717115e-02</td>\n",
       "      <td>2.940629e-02</td>\n",
       "    </tr>\n",
       "    <tr>\n",
       "      <th>10568</th>\n",
       "      <td>6.536818e-309</td>\n",
       "      <td>8.404991e-309</td>\n",
       "      <td>1.199146e-308</td>\n",
       "      <td>6.640056e-309</td>\n",
       "      <td>8.736814e-309</td>\n",
       "      <td>9.426290e-309</td>\n",
       "      <td>1.981696e-308</td>\n",
       "      <td>1.000000e+00</td>\n",
       "      <td>1.734534e-308</td>\n",
       "      <td>1.672686e-308</td>\n",
       "      <td>...</td>\n",
       "      <td>1.299375e-308</td>\n",
       "      <td>1.335172e-308</td>\n",
       "      <td>1.248824e-308</td>\n",
       "      <td>1.273933e-308</td>\n",
       "      <td>1.346062e-308</td>\n",
       "      <td>1.467211e-308</td>\n",
       "      <td>1.439511e-308</td>\n",
       "      <td>1.363509e-308</td>\n",
       "      <td>1.409725e-308</td>\n",
       "      <td>1.461121e-308</td>\n",
       "    </tr>\n",
       "    <tr>\n",
       "      <th>10569</th>\n",
       "      <td>6.536828e-309</td>\n",
       "      <td>8.404952e-309</td>\n",
       "      <td>1.199144e-308</td>\n",
       "      <td>6.640014e-309</td>\n",
       "      <td>8.736817e-309</td>\n",
       "      <td>9.426292e-309</td>\n",
       "      <td>1.981666e-308</td>\n",
       "      <td>1.000000e+00</td>\n",
       "      <td>1.734505e-308</td>\n",
       "      <td>1.672662e-308</td>\n",
       "      <td>...</td>\n",
       "      <td>1.299367e-308</td>\n",
       "      <td>1.335163e-308</td>\n",
       "      <td>1.248816e-308</td>\n",
       "      <td>1.273925e-308</td>\n",
       "      <td>1.346055e-308</td>\n",
       "      <td>1.467200e-308</td>\n",
       "      <td>1.439501e-308</td>\n",
       "      <td>1.363501e-308</td>\n",
       "      <td>1.409716e-308</td>\n",
       "      <td>1.461111e-308</td>\n",
       "    </tr>\n",
       "  </tbody>\n",
       "</table>\n",
       "<p>10570 rows × 36 columns</p>\n",
       "</div>"
      ],
      "text/plain": [
       "                   0              1              2              3  \\\n",
       "0       2.283849e-02   1.402046e-02   1.614818e-02   1.875945e-02   \n",
       "1      8.748943e-309  7.163618e-309  1.270812e-308  9.398986e-309   \n",
       "2      8.199855e-309  6.995318e-309  1.003135e-308  1.160200e-308   \n",
       "3      7.645843e-309  8.658651e-309  1.007924e-308  9.931215e-309   \n",
       "4       3.422318e-03   3.313719e-03   4.413704e-03   4.308059e-03   \n",
       "...              ...            ...            ...            ...   \n",
       "10565   2.542451e-03   2.202854e-03   3.455016e-03   2.854749e-03   \n",
       "10566  7.490500e-309  8.670655e-309  9.515465e-309  1.023595e-308   \n",
       "10567   3.285880e-03   2.961542e-03   4.451225e-03   3.801242e-03   \n",
       "10568  6.536818e-309  8.404991e-309  1.199146e-308  6.640056e-309   \n",
       "10569  6.536828e-309  8.404952e-309  1.199144e-308  6.640014e-309   \n",
       "\n",
       "                   4              5              6              7  \\\n",
       "0       1.760760e-02   1.867192e-02   1.721324e-02   1.512755e-02   \n",
       "1      8.246912e-309  1.170830e-308  1.403279e-308  1.054542e-308   \n",
       "2      9.050506e-309  1.060557e-308  1.301338e-308  9.722602e-309   \n",
       "3      9.179729e-309  8.943314e-309  1.658564e-308  1.207071e-308   \n",
       "4       4.599872e-03   4.414482e-03   7.126344e-03   4.988977e-03   \n",
       "...              ...            ...            ...            ...   \n",
       "10565   2.731068e-03   3.316220e-03   4.449942e-03   3.208422e-03   \n",
       "10566  9.473785e-309  8.734067e-309  1.629178e-308  1.226073e-308   \n",
       "10567   3.828361e-03   4.303121e-03   6.239479e-03   4.374559e-03   \n",
       "10568  8.736814e-309  9.426290e-309  1.981696e-308   1.000000e+00   \n",
       "10569  8.736817e-309  9.426292e-309  1.981666e-308   1.000000e+00   \n",
       "\n",
       "                   8              9  ...             26             27  \\\n",
       "0       1.744773e-02   1.667150e-02  ...   3.295844e-02   3.572198e-02   \n",
       "1      1.204671e-308  1.112609e-308  ...  4.370309e-308  3.805303e-308   \n",
       "2      1.050516e-308  9.562994e-309  ...  3.104085e-307  6.795310e-308   \n",
       "3      1.303081e-308  1.146434e-308  ...  4.483959e-308  5.627556e-308   \n",
       "4       4.762620e-03   4.298298e-03  ...   3.593568e-02   3.983067e-02   \n",
       "...              ...            ...  ...            ...            ...   \n",
       "10565   3.422148e-03   3.131927e-03  ...   1.873011e-02   1.627491e-02   \n",
       "10566  1.282935e-308  1.121194e-308  ...  4.332395e-308  5.824902e-308   \n",
       "10567   4.461618e-03   4.068127e-03  ...   2.752648e-02   2.349916e-02   \n",
       "10568  1.734534e-308  1.672686e-308  ...  1.299375e-308  1.335172e-308   \n",
       "10569  1.734505e-308  1.672662e-308  ...  1.299367e-308  1.335163e-308   \n",
       "\n",
       "                  28             29             30             31  \\\n",
       "0       3.247931e-02   3.346979e-02   3.786850e-02   3.041266e-02   \n",
       "1      4.313584e-308  6.202588e-308  4.882654e-308  3.427802e-308   \n",
       "2       1.000000e+00  1.784047e-307  6.934975e-308  4.211338e-308   \n",
       "3      3.647994e-308  3.448045e-308  5.105556e-308  7.453425e-308   \n",
       "4       2.609327e-02   2.253066e-02   3.448307e-02   7.237842e-02   \n",
       "...              ...            ...            ...            ...   \n",
       "10565   1.595591e-02   1.896204e-02   2.093056e-02   1.568752e-02   \n",
       "10566  3.491312e-308  3.143857e-308  4.677446e-308  7.226353e-308   \n",
       "10567   2.135389e-02   2.222515e-02   2.576929e-02   2.726694e-02   \n",
       "10568  1.248824e-308  1.273933e-308  1.346062e-308  1.467211e-308   \n",
       "10569  1.248816e-308  1.273925e-308  1.346055e-308  1.467200e-308   \n",
       "\n",
       "                  32             33             34             35  \n",
       "0       2.770584e-02   3.512701e-02   3.233447e-02   2.910262e-02  \n",
       "1      2.644261e-308  3.554797e-308  4.039425e-308  3.411673e-308  \n",
       "2      3.335190e-308  5.489848e-308  7.108979e-308  4.925955e-308  \n",
       "3      5.152811e-308  4.543721e-308  7.056816e-308  4.600916e-308  \n",
       "4       3.867242e-02   5.022091e-02   8.339184e-02   2.393919e-01  \n",
       "...              ...            ...            ...            ...  \n",
       "10565   1.085144e-02   1.616860e-02   2.019150e-02   1.561444e-02  \n",
       "10566  5.346830e-308  4.613434e-308  6.917584e-308  4.632731e-308  \n",
       "10567   1.766332e-02   2.540357e-02   3.717115e-02   2.940629e-02  \n",
       "10568  1.439511e-308  1.363509e-308  1.409725e-308  1.461121e-308  \n",
       "10569  1.439501e-308  1.363501e-308  1.409716e-308  1.461111e-308  \n",
       "\n",
       "[10570 rows x 36 columns]"
      ]
     },
     "execution_count": 18,
     "metadata": {},
     "output_type": "execute_result"
    }
   ],
   "source": [
    "prob_df"
   ]
  },
  {
   "cell_type": "code",
   "execution_count": 19,
   "metadata": {},
   "outputs": [],
   "source": [
    "topic_columns = [col for col in prob_df.columns]\n",
    "\n",
    "prob_df[\"dominant_topic\"] = prob_df[topic_columns].idxmax(axis=1)"
   ]
  },
  {
   "cell_type": "code",
   "execution_count": 20,
   "metadata": {},
   "outputs": [],
   "source": [
    "prob_df[\"topic\"] = topics"
   ]
  },
  {
   "cell_type": "code",
   "execution_count": 21,
   "metadata": {},
   "outputs": [
    {
     "name": "stdout",
     "output_type": "stream",
     "text": [
      "{-1: -1, 0: 19, 1: 11, 2: 28, 3: 21, 4: 23, 5: 16, 6: 10, 7: 34, 8: 30, 9: 25, 10: 32, 11: 17, 12: 7, 13: 29, 14: 24, 15: 14, 16: 33, 17: 0, 18: 31, 19: 26, 20: 18, 21: 13, 22: 1, 23: 27, 24: 2, 25: 9, 26: 35, 27: 20, 28: 22, 29: 4, 30: 15, 31: 12, 32: 6, 33: 5, 34: 8, 35: 3}\n"
     ]
    }
   ],
   "source": [
    "# BERTopic's topic mapping\n",
    "topic_mapping = topic_model.topic_mapper_.get_mappings()\n",
    "print(topic_mapping)"
   ]
  },
  {
   "cell_type": "code",
   "execution_count": 22,
   "metadata": {},
   "outputs": [
    {
     "data": {
      "text/html": [
       "<div>\n",
       "<style scoped>\n",
       "    .dataframe tbody tr th:only-of-type {\n",
       "        vertical-align: middle;\n",
       "    }\n",
       "\n",
       "    .dataframe tbody tr th {\n",
       "        vertical-align: top;\n",
       "    }\n",
       "\n",
       "    .dataframe thead th {\n",
       "        text-align: right;\n",
       "    }\n",
       "</style>\n",
       "<table border=\"1\" class=\"dataframe\">\n",
       "  <thead>\n",
       "    <tr style=\"text-align: right;\">\n",
       "      <th></th>\n",
       "      <th>0</th>\n",
       "      <th>1</th>\n",
       "      <th>2</th>\n",
       "      <th>3</th>\n",
       "      <th>4</th>\n",
       "      <th>5</th>\n",
       "      <th>6</th>\n",
       "      <th>7</th>\n",
       "      <th>8</th>\n",
       "      <th>9</th>\n",
       "      <th>...</th>\n",
       "      <th>28</th>\n",
       "      <th>29</th>\n",
       "      <th>30</th>\n",
       "      <th>31</th>\n",
       "      <th>32</th>\n",
       "      <th>33</th>\n",
       "      <th>34</th>\n",
       "      <th>35</th>\n",
       "      <th>dominant_topic</th>\n",
       "      <th>topic</th>\n",
       "    </tr>\n",
       "  </thead>\n",
       "  <tbody>\n",
       "    <tr>\n",
       "      <th>0</th>\n",
       "      <td>2.283849e-02</td>\n",
       "      <td>1.402046e-02</td>\n",
       "      <td>1.614818e-02</td>\n",
       "      <td>1.875945e-02</td>\n",
       "      <td>1.760760e-02</td>\n",
       "      <td>1.867192e-02</td>\n",
       "      <td>1.721324e-02</td>\n",
       "      <td>1.512755e-02</td>\n",
       "      <td>1.744773e-02</td>\n",
       "      <td>1.667150e-02</td>\n",
       "      <td>...</td>\n",
       "      <td>3.247931e-02</td>\n",
       "      <td>3.346979e-02</td>\n",
       "      <td>3.786850e-02</td>\n",
       "      <td>3.041266e-02</td>\n",
       "      <td>2.770584e-02</td>\n",
       "      <td>3.512701e-02</td>\n",
       "      <td>3.233447e-02</td>\n",
       "      <td>2.910262e-02</td>\n",
       "      <td>20</td>\n",
       "      <td>-1</td>\n",
       "    </tr>\n",
       "    <tr>\n",
       "      <th>1</th>\n",
       "      <td>8.748943e-309</td>\n",
       "      <td>7.163618e-309</td>\n",
       "      <td>1.270812e-308</td>\n",
       "      <td>9.398986e-309</td>\n",
       "      <td>8.246912e-309</td>\n",
       "      <td>1.170830e-308</td>\n",
       "      <td>1.403279e-308</td>\n",
       "      <td>1.054542e-308</td>\n",
       "      <td>1.204671e-308</td>\n",
       "      <td>1.112609e-308</td>\n",
       "      <td>...</td>\n",
       "      <td>4.313584e-308</td>\n",
       "      <td>6.202588e-308</td>\n",
       "      <td>4.882654e-308</td>\n",
       "      <td>3.427802e-308</td>\n",
       "      <td>2.644261e-308</td>\n",
       "      <td>3.554797e-308</td>\n",
       "      <td>4.039425e-308</td>\n",
       "      <td>3.411673e-308</td>\n",
       "      <td>17</td>\n",
       "      <td>0</td>\n",
       "    </tr>\n",
       "    <tr>\n",
       "      <th>2</th>\n",
       "      <td>8.199855e-309</td>\n",
       "      <td>6.995318e-309</td>\n",
       "      <td>1.003135e-308</td>\n",
       "      <td>1.160200e-308</td>\n",
       "      <td>9.050506e-309</td>\n",
       "      <td>1.060557e-308</td>\n",
       "      <td>1.301338e-308</td>\n",
       "      <td>9.722602e-309</td>\n",
       "      <td>1.050516e-308</td>\n",
       "      <td>9.562994e-309</td>\n",
       "      <td>...</td>\n",
       "      <td>1.000000e+00</td>\n",
       "      <td>1.784047e-307</td>\n",
       "      <td>6.934975e-308</td>\n",
       "      <td>4.211338e-308</td>\n",
       "      <td>3.335190e-308</td>\n",
       "      <td>5.489848e-308</td>\n",
       "      <td>7.108979e-308</td>\n",
       "      <td>4.925955e-308</td>\n",
       "      <td>28</td>\n",
       "      <td>22</td>\n",
       "    </tr>\n",
       "    <tr>\n",
       "      <th>3</th>\n",
       "      <td>7.645843e-309</td>\n",
       "      <td>8.658651e-309</td>\n",
       "      <td>1.007924e-308</td>\n",
       "      <td>9.931215e-309</td>\n",
       "      <td>9.179729e-309</td>\n",
       "      <td>8.943314e-309</td>\n",
       "      <td>1.658564e-308</td>\n",
       "      <td>1.207071e-308</td>\n",
       "      <td>1.303081e-308</td>\n",
       "      <td>1.146434e-308</td>\n",
       "      <td>...</td>\n",
       "      <td>3.647994e-308</td>\n",
       "      <td>3.448045e-308</td>\n",
       "      <td>5.105556e-308</td>\n",
       "      <td>7.453425e-308</td>\n",
       "      <td>5.152811e-308</td>\n",
       "      <td>4.543721e-308</td>\n",
       "      <td>7.056816e-308</td>\n",
       "      <td>4.600916e-308</td>\n",
       "      <td>22</td>\n",
       "      <td>1</td>\n",
       "    </tr>\n",
       "    <tr>\n",
       "      <th>4</th>\n",
       "      <td>3.422318e-03</td>\n",
       "      <td>3.313719e-03</td>\n",
       "      <td>4.413704e-03</td>\n",
       "      <td>4.308059e-03</td>\n",
       "      <td>4.599872e-03</td>\n",
       "      <td>4.414482e-03</td>\n",
       "      <td>7.126344e-03</td>\n",
       "      <td>4.988977e-03</td>\n",
       "      <td>4.762620e-03</td>\n",
       "      <td>4.298298e-03</td>\n",
       "      <td>...</td>\n",
       "      <td>2.609327e-02</td>\n",
       "      <td>2.253066e-02</td>\n",
       "      <td>3.448307e-02</td>\n",
       "      <td>7.237842e-02</td>\n",
       "      <td>3.867242e-02</td>\n",
       "      <td>5.022091e-02</td>\n",
       "      <td>8.339184e-02</td>\n",
       "      <td>2.393919e-01</td>\n",
       "      <td>35</td>\n",
       "      <td>-1</td>\n",
       "    </tr>\n",
       "    <tr>\n",
       "      <th>...</th>\n",
       "      <td>...</td>\n",
       "      <td>...</td>\n",
       "      <td>...</td>\n",
       "      <td>...</td>\n",
       "      <td>...</td>\n",
       "      <td>...</td>\n",
       "      <td>...</td>\n",
       "      <td>...</td>\n",
       "      <td>...</td>\n",
       "      <td>...</td>\n",
       "      <td>...</td>\n",
       "      <td>...</td>\n",
       "      <td>...</td>\n",
       "      <td>...</td>\n",
       "      <td>...</td>\n",
       "      <td>...</td>\n",
       "      <td>...</td>\n",
       "      <td>...</td>\n",
       "      <td>...</td>\n",
       "      <td>...</td>\n",
       "      <td>...</td>\n",
       "    </tr>\n",
       "    <tr>\n",
       "      <th>10565</th>\n",
       "      <td>2.542451e-03</td>\n",
       "      <td>2.202854e-03</td>\n",
       "      <td>3.455016e-03</td>\n",
       "      <td>2.854749e-03</td>\n",
       "      <td>2.731068e-03</td>\n",
       "      <td>3.316220e-03</td>\n",
       "      <td>4.449942e-03</td>\n",
       "      <td>3.208422e-03</td>\n",
       "      <td>3.422148e-03</td>\n",
       "      <td>3.131927e-03</td>\n",
       "      <td>...</td>\n",
       "      <td>1.595591e-02</td>\n",
       "      <td>1.896204e-02</td>\n",
       "      <td>2.093056e-02</td>\n",
       "      <td>1.568752e-02</td>\n",
       "      <td>1.085144e-02</td>\n",
       "      <td>1.616860e-02</td>\n",
       "      <td>2.019150e-02</td>\n",
       "      <td>1.561444e-02</td>\n",
       "      <td>17</td>\n",
       "      <td>0</td>\n",
       "    </tr>\n",
       "    <tr>\n",
       "      <th>10566</th>\n",
       "      <td>7.490500e-309</td>\n",
       "      <td>8.670655e-309</td>\n",
       "      <td>9.515465e-309</td>\n",
       "      <td>1.023595e-308</td>\n",
       "      <td>9.473785e-309</td>\n",
       "      <td>8.734067e-309</td>\n",
       "      <td>1.629178e-308</td>\n",
       "      <td>1.226073e-308</td>\n",
       "      <td>1.282935e-308</td>\n",
       "      <td>1.121194e-308</td>\n",
       "      <td>...</td>\n",
       "      <td>3.491312e-308</td>\n",
       "      <td>3.143857e-308</td>\n",
       "      <td>4.677446e-308</td>\n",
       "      <td>7.226353e-308</td>\n",
       "      <td>5.346830e-308</td>\n",
       "      <td>4.613434e-308</td>\n",
       "      <td>6.917584e-308</td>\n",
       "      <td>4.632731e-308</td>\n",
       "      <td>22</td>\n",
       "      <td>1</td>\n",
       "    </tr>\n",
       "    <tr>\n",
       "      <th>10567</th>\n",
       "      <td>3.285880e-03</td>\n",
       "      <td>2.961542e-03</td>\n",
       "      <td>4.451225e-03</td>\n",
       "      <td>3.801242e-03</td>\n",
       "      <td>3.828361e-03</td>\n",
       "      <td>4.303121e-03</td>\n",
       "      <td>6.239479e-03</td>\n",
       "      <td>4.374559e-03</td>\n",
       "      <td>4.461618e-03</td>\n",
       "      <td>4.068127e-03</td>\n",
       "      <td>...</td>\n",
       "      <td>2.135389e-02</td>\n",
       "      <td>2.222515e-02</td>\n",
       "      <td>2.576929e-02</td>\n",
       "      <td>2.726694e-02</td>\n",
       "      <td>1.766332e-02</td>\n",
       "      <td>2.540357e-02</td>\n",
       "      <td>3.717115e-02</td>\n",
       "      <td>2.940629e-02</td>\n",
       "      <td>17</td>\n",
       "      <td>0</td>\n",
       "    </tr>\n",
       "    <tr>\n",
       "      <th>10568</th>\n",
       "      <td>6.536818e-309</td>\n",
       "      <td>8.404991e-309</td>\n",
       "      <td>1.199146e-308</td>\n",
       "      <td>6.640056e-309</td>\n",
       "      <td>8.736814e-309</td>\n",
       "      <td>9.426290e-309</td>\n",
       "      <td>1.981696e-308</td>\n",
       "      <td>1.000000e+00</td>\n",
       "      <td>1.734534e-308</td>\n",
       "      <td>1.672686e-308</td>\n",
       "      <td>...</td>\n",
       "      <td>1.248824e-308</td>\n",
       "      <td>1.273933e-308</td>\n",
       "      <td>1.346062e-308</td>\n",
       "      <td>1.467211e-308</td>\n",
       "      <td>1.439511e-308</td>\n",
       "      <td>1.363509e-308</td>\n",
       "      <td>1.409725e-308</td>\n",
       "      <td>1.461121e-308</td>\n",
       "      <td>7</td>\n",
       "      <td>34</td>\n",
       "    </tr>\n",
       "    <tr>\n",
       "      <th>10569</th>\n",
       "      <td>6.536828e-309</td>\n",
       "      <td>8.404952e-309</td>\n",
       "      <td>1.199144e-308</td>\n",
       "      <td>6.640014e-309</td>\n",
       "      <td>8.736817e-309</td>\n",
       "      <td>9.426292e-309</td>\n",
       "      <td>1.981666e-308</td>\n",
       "      <td>1.000000e+00</td>\n",
       "      <td>1.734505e-308</td>\n",
       "      <td>1.672662e-308</td>\n",
       "      <td>...</td>\n",
       "      <td>1.248816e-308</td>\n",
       "      <td>1.273925e-308</td>\n",
       "      <td>1.346055e-308</td>\n",
       "      <td>1.467200e-308</td>\n",
       "      <td>1.439501e-308</td>\n",
       "      <td>1.363501e-308</td>\n",
       "      <td>1.409716e-308</td>\n",
       "      <td>1.461111e-308</td>\n",
       "      <td>7</td>\n",
       "      <td>34</td>\n",
       "    </tr>\n",
       "  </tbody>\n",
       "</table>\n",
       "<p>10570 rows × 38 columns</p>\n",
       "</div>"
      ],
      "text/plain": [
       "                   0              1              2              3  \\\n",
       "0       2.283849e-02   1.402046e-02   1.614818e-02   1.875945e-02   \n",
       "1      8.748943e-309  7.163618e-309  1.270812e-308  9.398986e-309   \n",
       "2      8.199855e-309  6.995318e-309  1.003135e-308  1.160200e-308   \n",
       "3      7.645843e-309  8.658651e-309  1.007924e-308  9.931215e-309   \n",
       "4       3.422318e-03   3.313719e-03   4.413704e-03   4.308059e-03   \n",
       "...              ...            ...            ...            ...   \n",
       "10565   2.542451e-03   2.202854e-03   3.455016e-03   2.854749e-03   \n",
       "10566  7.490500e-309  8.670655e-309  9.515465e-309  1.023595e-308   \n",
       "10567   3.285880e-03   2.961542e-03   4.451225e-03   3.801242e-03   \n",
       "10568  6.536818e-309  8.404991e-309  1.199146e-308  6.640056e-309   \n",
       "10569  6.536828e-309  8.404952e-309  1.199144e-308  6.640014e-309   \n",
       "\n",
       "                   4              5              6              7  \\\n",
       "0       1.760760e-02   1.867192e-02   1.721324e-02   1.512755e-02   \n",
       "1      8.246912e-309  1.170830e-308  1.403279e-308  1.054542e-308   \n",
       "2      9.050506e-309  1.060557e-308  1.301338e-308  9.722602e-309   \n",
       "3      9.179729e-309  8.943314e-309  1.658564e-308  1.207071e-308   \n",
       "4       4.599872e-03   4.414482e-03   7.126344e-03   4.988977e-03   \n",
       "...              ...            ...            ...            ...   \n",
       "10565   2.731068e-03   3.316220e-03   4.449942e-03   3.208422e-03   \n",
       "10566  9.473785e-309  8.734067e-309  1.629178e-308  1.226073e-308   \n",
       "10567   3.828361e-03   4.303121e-03   6.239479e-03   4.374559e-03   \n",
       "10568  8.736814e-309  9.426290e-309  1.981696e-308   1.000000e+00   \n",
       "10569  8.736817e-309  9.426292e-309  1.981666e-308   1.000000e+00   \n",
       "\n",
       "                   8              9  ...             28             29  \\\n",
       "0       1.744773e-02   1.667150e-02  ...   3.247931e-02   3.346979e-02   \n",
       "1      1.204671e-308  1.112609e-308  ...  4.313584e-308  6.202588e-308   \n",
       "2      1.050516e-308  9.562994e-309  ...   1.000000e+00  1.784047e-307   \n",
       "3      1.303081e-308  1.146434e-308  ...  3.647994e-308  3.448045e-308   \n",
       "4       4.762620e-03   4.298298e-03  ...   2.609327e-02   2.253066e-02   \n",
       "...              ...            ...  ...            ...            ...   \n",
       "10565   3.422148e-03   3.131927e-03  ...   1.595591e-02   1.896204e-02   \n",
       "10566  1.282935e-308  1.121194e-308  ...  3.491312e-308  3.143857e-308   \n",
       "10567   4.461618e-03   4.068127e-03  ...   2.135389e-02   2.222515e-02   \n",
       "10568  1.734534e-308  1.672686e-308  ...  1.248824e-308  1.273933e-308   \n",
       "10569  1.734505e-308  1.672662e-308  ...  1.248816e-308  1.273925e-308   \n",
       "\n",
       "                  30             31             32             33  \\\n",
       "0       3.786850e-02   3.041266e-02   2.770584e-02   3.512701e-02   \n",
       "1      4.882654e-308  3.427802e-308  2.644261e-308  3.554797e-308   \n",
       "2      6.934975e-308  4.211338e-308  3.335190e-308  5.489848e-308   \n",
       "3      5.105556e-308  7.453425e-308  5.152811e-308  4.543721e-308   \n",
       "4       3.448307e-02   7.237842e-02   3.867242e-02   5.022091e-02   \n",
       "...              ...            ...            ...            ...   \n",
       "10565   2.093056e-02   1.568752e-02   1.085144e-02   1.616860e-02   \n",
       "10566  4.677446e-308  7.226353e-308  5.346830e-308  4.613434e-308   \n",
       "10567   2.576929e-02   2.726694e-02   1.766332e-02   2.540357e-02   \n",
       "10568  1.346062e-308  1.467211e-308  1.439511e-308  1.363509e-308   \n",
       "10569  1.346055e-308  1.467200e-308  1.439501e-308  1.363501e-308   \n",
       "\n",
       "                  34             35  dominant_topic  topic  \n",
       "0       3.233447e-02   2.910262e-02              20     -1  \n",
       "1      4.039425e-308  3.411673e-308              17      0  \n",
       "2      7.108979e-308  4.925955e-308              28     22  \n",
       "3      7.056816e-308  4.600916e-308              22      1  \n",
       "4       8.339184e-02   2.393919e-01              35     -1  \n",
       "...              ...            ...             ...    ...  \n",
       "10565   2.019150e-02   1.561444e-02              17      0  \n",
       "10566  6.917584e-308  4.632731e-308              22      1  \n",
       "10567   3.717115e-02   2.940629e-02              17      0  \n",
       "10568  1.409725e-308  1.461121e-308               7     34  \n",
       "10569  1.409716e-308  1.461111e-308               7     34  \n",
       "\n",
       "[10570 rows x 38 columns]"
      ]
     },
     "execution_count": 22,
     "metadata": {},
     "output_type": "execute_result"
    }
   ],
   "source": [
    "prob_df"
   ]
  },
  {
   "cell_type": "code",
   "execution_count": 23,
   "metadata": {},
   "outputs": [
    {
     "data": {
      "text/html": [
       "<div>\n",
       "<style scoped>\n",
       "    .dataframe tbody tr th:only-of-type {\n",
       "        vertical-align: middle;\n",
       "    }\n",
       "\n",
       "    .dataframe tbody tr th {\n",
       "        vertical-align: top;\n",
       "    }\n",
       "\n",
       "    .dataframe thead th {\n",
       "        text-align: right;\n",
       "    }\n",
       "</style>\n",
       "<table border=\"1\" class=\"dataframe\">\n",
       "  <thead>\n",
       "    <tr style=\"text-align: right;\">\n",
       "      <th></th>\n",
       "      <th>0</th>\n",
       "      <th>1</th>\n",
       "      <th>2</th>\n",
       "      <th>3</th>\n",
       "      <th>4</th>\n",
       "      <th>5</th>\n",
       "      <th>6</th>\n",
       "      <th>7</th>\n",
       "      <th>8</th>\n",
       "      <th>9</th>\n",
       "      <th>...</th>\n",
       "      <th>29</th>\n",
       "      <th>30</th>\n",
       "      <th>31</th>\n",
       "      <th>32</th>\n",
       "      <th>33</th>\n",
       "      <th>34</th>\n",
       "      <th>35</th>\n",
       "      <th>dominant_topic</th>\n",
       "      <th>topic</th>\n",
       "      <th>mapped_topic</th>\n",
       "    </tr>\n",
       "  </thead>\n",
       "  <tbody>\n",
       "    <tr>\n",
       "      <th>0</th>\n",
       "      <td>2.283849e-02</td>\n",
       "      <td>1.402046e-02</td>\n",
       "      <td>1.614818e-02</td>\n",
       "      <td>1.875945e-02</td>\n",
       "      <td>1.760760e-02</td>\n",
       "      <td>1.867192e-02</td>\n",
       "      <td>1.721324e-02</td>\n",
       "      <td>1.512755e-02</td>\n",
       "      <td>1.744773e-02</td>\n",
       "      <td>1.667150e-02</td>\n",
       "      <td>...</td>\n",
       "      <td>3.346979e-02</td>\n",
       "      <td>3.786850e-02</td>\n",
       "      <td>3.041266e-02</td>\n",
       "      <td>2.770584e-02</td>\n",
       "      <td>3.512701e-02</td>\n",
       "      <td>3.233447e-02</td>\n",
       "      <td>2.910262e-02</td>\n",
       "      <td>20</td>\n",
       "      <td>-1</td>\n",
       "      <td>18</td>\n",
       "    </tr>\n",
       "    <tr>\n",
       "      <th>1</th>\n",
       "      <td>8.748943e-309</td>\n",
       "      <td>7.163618e-309</td>\n",
       "      <td>1.270812e-308</td>\n",
       "      <td>9.398986e-309</td>\n",
       "      <td>8.246912e-309</td>\n",
       "      <td>1.170830e-308</td>\n",
       "      <td>1.403279e-308</td>\n",
       "      <td>1.054542e-308</td>\n",
       "      <td>1.204671e-308</td>\n",
       "      <td>1.112609e-308</td>\n",
       "      <td>...</td>\n",
       "      <td>6.202588e-308</td>\n",
       "      <td>4.882654e-308</td>\n",
       "      <td>3.427802e-308</td>\n",
       "      <td>2.644261e-308</td>\n",
       "      <td>3.554797e-308</td>\n",
       "      <td>4.039425e-308</td>\n",
       "      <td>3.411673e-308</td>\n",
       "      <td>17</td>\n",
       "      <td>0</td>\n",
       "      <td>0</td>\n",
       "    </tr>\n",
       "    <tr>\n",
       "      <th>2</th>\n",
       "      <td>8.199855e-309</td>\n",
       "      <td>6.995318e-309</td>\n",
       "      <td>1.003135e-308</td>\n",
       "      <td>1.160200e-308</td>\n",
       "      <td>9.050506e-309</td>\n",
       "      <td>1.060557e-308</td>\n",
       "      <td>1.301338e-308</td>\n",
       "      <td>9.722602e-309</td>\n",
       "      <td>1.050516e-308</td>\n",
       "      <td>9.562994e-309</td>\n",
       "      <td>...</td>\n",
       "      <td>1.784047e-307</td>\n",
       "      <td>6.934975e-308</td>\n",
       "      <td>4.211338e-308</td>\n",
       "      <td>3.335190e-308</td>\n",
       "      <td>5.489848e-308</td>\n",
       "      <td>7.108979e-308</td>\n",
       "      <td>4.925955e-308</td>\n",
       "      <td>28</td>\n",
       "      <td>22</td>\n",
       "      <td>22</td>\n",
       "    </tr>\n",
       "    <tr>\n",
       "      <th>3</th>\n",
       "      <td>7.645843e-309</td>\n",
       "      <td>8.658651e-309</td>\n",
       "      <td>1.007924e-308</td>\n",
       "      <td>9.931215e-309</td>\n",
       "      <td>9.179729e-309</td>\n",
       "      <td>8.943314e-309</td>\n",
       "      <td>1.658564e-308</td>\n",
       "      <td>1.207071e-308</td>\n",
       "      <td>1.303081e-308</td>\n",
       "      <td>1.146434e-308</td>\n",
       "      <td>...</td>\n",
       "      <td>3.448045e-308</td>\n",
       "      <td>5.105556e-308</td>\n",
       "      <td>7.453425e-308</td>\n",
       "      <td>5.152811e-308</td>\n",
       "      <td>4.543721e-308</td>\n",
       "      <td>7.056816e-308</td>\n",
       "      <td>4.600916e-308</td>\n",
       "      <td>22</td>\n",
       "      <td>1</td>\n",
       "      <td>1</td>\n",
       "    </tr>\n",
       "    <tr>\n",
       "      <th>4</th>\n",
       "      <td>3.422318e-03</td>\n",
       "      <td>3.313719e-03</td>\n",
       "      <td>4.413704e-03</td>\n",
       "      <td>4.308059e-03</td>\n",
       "      <td>4.599872e-03</td>\n",
       "      <td>4.414482e-03</td>\n",
       "      <td>7.126344e-03</td>\n",
       "      <td>4.988977e-03</td>\n",
       "      <td>4.762620e-03</td>\n",
       "      <td>4.298298e-03</td>\n",
       "      <td>...</td>\n",
       "      <td>2.253066e-02</td>\n",
       "      <td>3.448307e-02</td>\n",
       "      <td>7.237842e-02</td>\n",
       "      <td>3.867242e-02</td>\n",
       "      <td>5.022091e-02</td>\n",
       "      <td>8.339184e-02</td>\n",
       "      <td>2.393919e-01</td>\n",
       "      <td>35</td>\n",
       "      <td>-1</td>\n",
       "      <td>3</td>\n",
       "    </tr>\n",
       "    <tr>\n",
       "      <th>...</th>\n",
       "      <td>...</td>\n",
       "      <td>...</td>\n",
       "      <td>...</td>\n",
       "      <td>...</td>\n",
       "      <td>...</td>\n",
       "      <td>...</td>\n",
       "      <td>...</td>\n",
       "      <td>...</td>\n",
       "      <td>...</td>\n",
       "      <td>...</td>\n",
       "      <td>...</td>\n",
       "      <td>...</td>\n",
       "      <td>...</td>\n",
       "      <td>...</td>\n",
       "      <td>...</td>\n",
       "      <td>...</td>\n",
       "      <td>...</td>\n",
       "      <td>...</td>\n",
       "      <td>...</td>\n",
       "      <td>...</td>\n",
       "      <td>...</td>\n",
       "    </tr>\n",
       "    <tr>\n",
       "      <th>10565</th>\n",
       "      <td>2.542451e-03</td>\n",
       "      <td>2.202854e-03</td>\n",
       "      <td>3.455016e-03</td>\n",
       "      <td>2.854749e-03</td>\n",
       "      <td>2.731068e-03</td>\n",
       "      <td>3.316220e-03</td>\n",
       "      <td>4.449942e-03</td>\n",
       "      <td>3.208422e-03</td>\n",
       "      <td>3.422148e-03</td>\n",
       "      <td>3.131927e-03</td>\n",
       "      <td>...</td>\n",
       "      <td>1.896204e-02</td>\n",
       "      <td>2.093056e-02</td>\n",
       "      <td>1.568752e-02</td>\n",
       "      <td>1.085144e-02</td>\n",
       "      <td>1.616860e-02</td>\n",
       "      <td>2.019150e-02</td>\n",
       "      <td>1.561444e-02</td>\n",
       "      <td>17</td>\n",
       "      <td>0</td>\n",
       "      <td>0</td>\n",
       "    </tr>\n",
       "    <tr>\n",
       "      <th>10566</th>\n",
       "      <td>7.490500e-309</td>\n",
       "      <td>8.670655e-309</td>\n",
       "      <td>9.515465e-309</td>\n",
       "      <td>1.023595e-308</td>\n",
       "      <td>9.473785e-309</td>\n",
       "      <td>8.734067e-309</td>\n",
       "      <td>1.629178e-308</td>\n",
       "      <td>1.226073e-308</td>\n",
       "      <td>1.282935e-308</td>\n",
       "      <td>1.121194e-308</td>\n",
       "      <td>...</td>\n",
       "      <td>3.143857e-308</td>\n",
       "      <td>4.677446e-308</td>\n",
       "      <td>7.226353e-308</td>\n",
       "      <td>5.346830e-308</td>\n",
       "      <td>4.613434e-308</td>\n",
       "      <td>6.917584e-308</td>\n",
       "      <td>4.632731e-308</td>\n",
       "      <td>22</td>\n",
       "      <td>1</td>\n",
       "      <td>1</td>\n",
       "    </tr>\n",
       "    <tr>\n",
       "      <th>10567</th>\n",
       "      <td>3.285880e-03</td>\n",
       "      <td>2.961542e-03</td>\n",
       "      <td>4.451225e-03</td>\n",
       "      <td>3.801242e-03</td>\n",
       "      <td>3.828361e-03</td>\n",
       "      <td>4.303121e-03</td>\n",
       "      <td>6.239479e-03</td>\n",
       "      <td>4.374559e-03</td>\n",
       "      <td>4.461618e-03</td>\n",
       "      <td>4.068127e-03</td>\n",
       "      <td>...</td>\n",
       "      <td>2.222515e-02</td>\n",
       "      <td>2.576929e-02</td>\n",
       "      <td>2.726694e-02</td>\n",
       "      <td>1.766332e-02</td>\n",
       "      <td>2.540357e-02</td>\n",
       "      <td>3.717115e-02</td>\n",
       "      <td>2.940629e-02</td>\n",
       "      <td>17</td>\n",
       "      <td>0</td>\n",
       "      <td>0</td>\n",
       "    </tr>\n",
       "    <tr>\n",
       "      <th>10568</th>\n",
       "      <td>6.536818e-309</td>\n",
       "      <td>8.404991e-309</td>\n",
       "      <td>1.199146e-308</td>\n",
       "      <td>6.640056e-309</td>\n",
       "      <td>8.736814e-309</td>\n",
       "      <td>9.426290e-309</td>\n",
       "      <td>1.981696e-308</td>\n",
       "      <td>1.000000e+00</td>\n",
       "      <td>1.734534e-308</td>\n",
       "      <td>1.672686e-308</td>\n",
       "      <td>...</td>\n",
       "      <td>1.273933e-308</td>\n",
       "      <td>1.346062e-308</td>\n",
       "      <td>1.467211e-308</td>\n",
       "      <td>1.439511e-308</td>\n",
       "      <td>1.363509e-308</td>\n",
       "      <td>1.409725e-308</td>\n",
       "      <td>1.461121e-308</td>\n",
       "      <td>7</td>\n",
       "      <td>34</td>\n",
       "      <td>34</td>\n",
       "    </tr>\n",
       "    <tr>\n",
       "      <th>10569</th>\n",
       "      <td>6.536828e-309</td>\n",
       "      <td>8.404952e-309</td>\n",
       "      <td>1.199144e-308</td>\n",
       "      <td>6.640014e-309</td>\n",
       "      <td>8.736817e-309</td>\n",
       "      <td>9.426292e-309</td>\n",
       "      <td>1.981666e-308</td>\n",
       "      <td>1.000000e+00</td>\n",
       "      <td>1.734505e-308</td>\n",
       "      <td>1.672662e-308</td>\n",
       "      <td>...</td>\n",
       "      <td>1.273925e-308</td>\n",
       "      <td>1.346055e-308</td>\n",
       "      <td>1.467200e-308</td>\n",
       "      <td>1.439501e-308</td>\n",
       "      <td>1.363501e-308</td>\n",
       "      <td>1.409716e-308</td>\n",
       "      <td>1.461111e-308</td>\n",
       "      <td>7</td>\n",
       "      <td>34</td>\n",
       "      <td>34</td>\n",
       "    </tr>\n",
       "  </tbody>\n",
       "</table>\n",
       "<p>10570 rows × 39 columns</p>\n",
       "</div>"
      ],
      "text/plain": [
       "                   0              1              2              3  \\\n",
       "0       2.283849e-02   1.402046e-02   1.614818e-02   1.875945e-02   \n",
       "1      8.748943e-309  7.163618e-309  1.270812e-308  9.398986e-309   \n",
       "2      8.199855e-309  6.995318e-309  1.003135e-308  1.160200e-308   \n",
       "3      7.645843e-309  8.658651e-309  1.007924e-308  9.931215e-309   \n",
       "4       3.422318e-03   3.313719e-03   4.413704e-03   4.308059e-03   \n",
       "...              ...            ...            ...            ...   \n",
       "10565   2.542451e-03   2.202854e-03   3.455016e-03   2.854749e-03   \n",
       "10566  7.490500e-309  8.670655e-309  9.515465e-309  1.023595e-308   \n",
       "10567   3.285880e-03   2.961542e-03   4.451225e-03   3.801242e-03   \n",
       "10568  6.536818e-309  8.404991e-309  1.199146e-308  6.640056e-309   \n",
       "10569  6.536828e-309  8.404952e-309  1.199144e-308  6.640014e-309   \n",
       "\n",
       "                   4              5              6              7  \\\n",
       "0       1.760760e-02   1.867192e-02   1.721324e-02   1.512755e-02   \n",
       "1      8.246912e-309  1.170830e-308  1.403279e-308  1.054542e-308   \n",
       "2      9.050506e-309  1.060557e-308  1.301338e-308  9.722602e-309   \n",
       "3      9.179729e-309  8.943314e-309  1.658564e-308  1.207071e-308   \n",
       "4       4.599872e-03   4.414482e-03   7.126344e-03   4.988977e-03   \n",
       "...              ...            ...            ...            ...   \n",
       "10565   2.731068e-03   3.316220e-03   4.449942e-03   3.208422e-03   \n",
       "10566  9.473785e-309  8.734067e-309  1.629178e-308  1.226073e-308   \n",
       "10567   3.828361e-03   4.303121e-03   6.239479e-03   4.374559e-03   \n",
       "10568  8.736814e-309  9.426290e-309  1.981696e-308   1.000000e+00   \n",
       "10569  8.736817e-309  9.426292e-309  1.981666e-308   1.000000e+00   \n",
       "\n",
       "                   8              9  ...             29             30  \\\n",
       "0       1.744773e-02   1.667150e-02  ...   3.346979e-02   3.786850e-02   \n",
       "1      1.204671e-308  1.112609e-308  ...  6.202588e-308  4.882654e-308   \n",
       "2      1.050516e-308  9.562994e-309  ...  1.784047e-307  6.934975e-308   \n",
       "3      1.303081e-308  1.146434e-308  ...  3.448045e-308  5.105556e-308   \n",
       "4       4.762620e-03   4.298298e-03  ...   2.253066e-02   3.448307e-02   \n",
       "...              ...            ...  ...            ...            ...   \n",
       "10565   3.422148e-03   3.131927e-03  ...   1.896204e-02   2.093056e-02   \n",
       "10566  1.282935e-308  1.121194e-308  ...  3.143857e-308  4.677446e-308   \n",
       "10567   4.461618e-03   4.068127e-03  ...   2.222515e-02   2.576929e-02   \n",
       "10568  1.734534e-308  1.672686e-308  ...  1.273933e-308  1.346062e-308   \n",
       "10569  1.734505e-308  1.672662e-308  ...  1.273925e-308  1.346055e-308   \n",
       "\n",
       "                  31             32             33             34  \\\n",
       "0       3.041266e-02   2.770584e-02   3.512701e-02   3.233447e-02   \n",
       "1      3.427802e-308  2.644261e-308  3.554797e-308  4.039425e-308   \n",
       "2      4.211338e-308  3.335190e-308  5.489848e-308  7.108979e-308   \n",
       "3      7.453425e-308  5.152811e-308  4.543721e-308  7.056816e-308   \n",
       "4       7.237842e-02   3.867242e-02   5.022091e-02   8.339184e-02   \n",
       "...              ...            ...            ...            ...   \n",
       "10565   1.568752e-02   1.085144e-02   1.616860e-02   2.019150e-02   \n",
       "10566  7.226353e-308  5.346830e-308  4.613434e-308  6.917584e-308   \n",
       "10567   2.726694e-02   1.766332e-02   2.540357e-02   3.717115e-02   \n",
       "10568  1.467211e-308  1.439511e-308  1.363509e-308  1.409725e-308   \n",
       "10569  1.467200e-308  1.439501e-308  1.363501e-308  1.409716e-308   \n",
       "\n",
       "                  35  dominant_topic  topic  mapped_topic  \n",
       "0       2.910262e-02              20     -1            18  \n",
       "1      3.411673e-308              17      0             0  \n",
       "2      4.925955e-308              28     22            22  \n",
       "3      4.600916e-308              22      1             1  \n",
       "4       2.393919e-01              35     -1             3  \n",
       "...              ...             ...    ...           ...  \n",
       "10565   1.561444e-02              17      0             0  \n",
       "10566  4.632731e-308              22      1             1  \n",
       "10567   2.940629e-02              17      0             0  \n",
       "10568  1.461121e-308               7     34            34  \n",
       "10569  1.461111e-308               7     34            34  \n",
       "\n",
       "[10570 rows x 39 columns]"
      ]
     },
     "execution_count": 23,
     "metadata": {},
     "output_type": "execute_result"
    }
   ],
   "source": [
    "prob_df[\"topic\"] = (\n",
    "    pd.to_numeric(prob_df[\"topic\"], errors=\"coerce\").fillna(-1).astype(int)\n",
    ")\n",
    "prob_df[\"dominant_topic\"] = (\n",
    "    pd.to_numeric(prob_df[\"dominant_topic\"], errors=\"coerce\").fillna(-1).astype(int)\n",
    ")\n",
    "prob_df[\"mapped_topic\"] = prob_df[\"dominant_topic\"].map(topic_mapping)\n",
    "prob_df"
   ]
  },
  {
   "cell_type": "code",
   "execution_count": 24,
   "metadata": {},
   "outputs": [
    {
     "data": {
      "text/html": [
       "<div>\n",
       "<style scoped>\n",
       "    .dataframe tbody tr th:only-of-type {\n",
       "        vertical-align: middle;\n",
       "    }\n",
       "\n",
       "    .dataframe tbody tr th {\n",
       "        vertical-align: top;\n",
       "    }\n",
       "\n",
       "    .dataframe thead th {\n",
       "        text-align: right;\n",
       "    }\n",
       "</style>\n",
       "<table border=\"1\" class=\"dataframe\">\n",
       "  <thead>\n",
       "    <tr style=\"text-align: right;\">\n",
       "      <th></th>\n",
       "      <th>0</th>\n",
       "      <th>1</th>\n",
       "      <th>2</th>\n",
       "      <th>3</th>\n",
       "      <th>4</th>\n",
       "      <th>5</th>\n",
       "      <th>6</th>\n",
       "      <th>7</th>\n",
       "      <th>8</th>\n",
       "      <th>9</th>\n",
       "      <th>...</th>\n",
       "      <th>29</th>\n",
       "      <th>30</th>\n",
       "      <th>31</th>\n",
       "      <th>32</th>\n",
       "      <th>33</th>\n",
       "      <th>34</th>\n",
       "      <th>35</th>\n",
       "      <th>dominant_topic</th>\n",
       "      <th>topic</th>\n",
       "      <th>mapped_topic</th>\n",
       "    </tr>\n",
       "  </thead>\n",
       "  <tbody>\n",
       "    <tr>\n",
       "      <th>0</th>\n",
       "      <td>0.022838</td>\n",
       "      <td>0.014020</td>\n",
       "      <td>0.016148</td>\n",
       "      <td>0.018759</td>\n",
       "      <td>0.017608</td>\n",
       "      <td>0.018672</td>\n",
       "      <td>0.017213</td>\n",
       "      <td>0.015128</td>\n",
       "      <td>0.017448</td>\n",
       "      <td>0.016672</td>\n",
       "      <td>...</td>\n",
       "      <td>0.033470</td>\n",
       "      <td>0.037869</td>\n",
       "      <td>0.030413</td>\n",
       "      <td>0.027706</td>\n",
       "      <td>0.035127</td>\n",
       "      <td>0.032334</td>\n",
       "      <td>0.029103</td>\n",
       "      <td>20</td>\n",
       "      <td>-1</td>\n",
       "      <td>18</td>\n",
       "    </tr>\n",
       "    <tr>\n",
       "      <th>4</th>\n",
       "      <td>0.003422</td>\n",
       "      <td>0.003314</td>\n",
       "      <td>0.004414</td>\n",
       "      <td>0.004308</td>\n",
       "      <td>0.004600</td>\n",
       "      <td>0.004414</td>\n",
       "      <td>0.007126</td>\n",
       "      <td>0.004989</td>\n",
       "      <td>0.004763</td>\n",
       "      <td>0.004298</td>\n",
       "      <td>...</td>\n",
       "      <td>0.022531</td>\n",
       "      <td>0.034483</td>\n",
       "      <td>0.072378</td>\n",
       "      <td>0.038672</td>\n",
       "      <td>0.050221</td>\n",
       "      <td>0.083392</td>\n",
       "      <td>0.239392</td>\n",
       "      <td>35</td>\n",
       "      <td>-1</td>\n",
       "      <td>3</td>\n",
       "    </tr>\n",
       "    <tr>\n",
       "      <th>5</th>\n",
       "      <td>0.024796</td>\n",
       "      <td>0.013123</td>\n",
       "      <td>0.014485</td>\n",
       "      <td>0.019012</td>\n",
       "      <td>0.027332</td>\n",
       "      <td>0.021058</td>\n",
       "      <td>0.018124</td>\n",
       "      <td>0.016988</td>\n",
       "      <td>0.016886</td>\n",
       "      <td>0.016043</td>\n",
       "      <td>...</td>\n",
       "      <td>0.032181</td>\n",
       "      <td>0.038165</td>\n",
       "      <td>0.032000</td>\n",
       "      <td>0.029797</td>\n",
       "      <td>0.039832</td>\n",
       "      <td>0.033492</td>\n",
       "      <td>0.032856</td>\n",
       "      <td>33</td>\n",
       "      <td>-1</td>\n",
       "      <td>5</td>\n",
       "    </tr>\n",
       "    <tr>\n",
       "      <th>17</th>\n",
       "      <td>0.005330</td>\n",
       "      <td>0.004467</td>\n",
       "      <td>0.006211</td>\n",
       "      <td>0.008714</td>\n",
       "      <td>0.005811</td>\n",
       "      <td>0.006789</td>\n",
       "      <td>0.007804</td>\n",
       "      <td>0.005957</td>\n",
       "      <td>0.006527</td>\n",
       "      <td>0.005963</td>\n",
       "      <td>...</td>\n",
       "      <td>0.072064</td>\n",
       "      <td>0.037685</td>\n",
       "      <td>0.026627</td>\n",
       "      <td>0.023088</td>\n",
       "      <td>0.033007</td>\n",
       "      <td>0.037452</td>\n",
       "      <td>0.029865</td>\n",
       "      <td>28</td>\n",
       "      <td>-1</td>\n",
       "      <td>22</td>\n",
       "    </tr>\n",
       "    <tr>\n",
       "      <th>20</th>\n",
       "      <td>0.008339</td>\n",
       "      <td>0.015311</td>\n",
       "      <td>0.010395</td>\n",
       "      <td>0.012166</td>\n",
       "      <td>0.010808</td>\n",
       "      <td>0.008889</td>\n",
       "      <td>0.018943</td>\n",
       "      <td>0.017628</td>\n",
       "      <td>0.020252</td>\n",
       "      <td>0.016953</td>\n",
       "      <td>...</td>\n",
       "      <td>0.022871</td>\n",
       "      <td>0.027230</td>\n",
       "      <td>0.031325</td>\n",
       "      <td>0.030862</td>\n",
       "      <td>0.026678</td>\n",
       "      <td>0.029930</td>\n",
       "      <td>0.026501</td>\n",
       "      <td>13</td>\n",
       "      <td>-1</td>\n",
       "      <td>29</td>\n",
       "    </tr>\n",
       "    <tr>\n",
       "      <th>...</th>\n",
       "      <td>...</td>\n",
       "      <td>...</td>\n",
       "      <td>...</td>\n",
       "      <td>...</td>\n",
       "      <td>...</td>\n",
       "      <td>...</td>\n",
       "      <td>...</td>\n",
       "      <td>...</td>\n",
       "      <td>...</td>\n",
       "      <td>...</td>\n",
       "      <td>...</td>\n",
       "      <td>...</td>\n",
       "      <td>...</td>\n",
       "      <td>...</td>\n",
       "      <td>...</td>\n",
       "      <td>...</td>\n",
       "      <td>...</td>\n",
       "      <td>...</td>\n",
       "      <td>...</td>\n",
       "      <td>...</td>\n",
       "      <td>...</td>\n",
       "    </tr>\n",
       "    <tr>\n",
       "      <th>10519</th>\n",
       "      <td>0.012617</td>\n",
       "      <td>0.014497</td>\n",
       "      <td>0.031774</td>\n",
       "      <td>0.012749</td>\n",
       "      <td>0.012918</td>\n",
       "      <td>0.018672</td>\n",
       "      <td>0.032033</td>\n",
       "      <td>0.050113</td>\n",
       "      <td>0.051199</td>\n",
       "      <td>0.054597</td>\n",
       "      <td>...</td>\n",
       "      <td>0.027424</td>\n",
       "      <td>0.027138</td>\n",
       "      <td>0.027645</td>\n",
       "      <td>0.026062</td>\n",
       "      <td>0.025643</td>\n",
       "      <td>0.027189</td>\n",
       "      <td>0.026877</td>\n",
       "      <td>9</td>\n",
       "      <td>-1</td>\n",
       "      <td>25</td>\n",
       "    </tr>\n",
       "    <tr>\n",
       "      <th>10530</th>\n",
       "      <td>0.003652</td>\n",
       "      <td>0.003454</td>\n",
       "      <td>0.004779</td>\n",
       "      <td>0.004448</td>\n",
       "      <td>0.004296</td>\n",
       "      <td>0.004585</td>\n",
       "      <td>0.006985</td>\n",
       "      <td>0.004988</td>\n",
       "      <td>0.005191</td>\n",
       "      <td>0.004685</td>\n",
       "      <td>...</td>\n",
       "      <td>0.033515</td>\n",
       "      <td>0.052736</td>\n",
       "      <td>0.054455</td>\n",
       "      <td>0.030769</td>\n",
       "      <td>0.045086</td>\n",
       "      <td>0.081081</td>\n",
       "      <td>0.047416</td>\n",
       "      <td>17</td>\n",
       "      <td>-1</td>\n",
       "      <td>0</td>\n",
       "    </tr>\n",
       "    <tr>\n",
       "      <th>10544</th>\n",
       "      <td>0.008357</td>\n",
       "      <td>0.009268</td>\n",
       "      <td>0.011636</td>\n",
       "      <td>0.009516</td>\n",
       "      <td>0.008086</td>\n",
       "      <td>0.009443</td>\n",
       "      <td>0.015287</td>\n",
       "      <td>0.012893</td>\n",
       "      <td>0.017559</td>\n",
       "      <td>0.015386</td>\n",
       "      <td>...</td>\n",
       "      <td>0.026568</td>\n",
       "      <td>0.032234</td>\n",
       "      <td>0.029489</td>\n",
       "      <td>0.025033</td>\n",
       "      <td>0.026287</td>\n",
       "      <td>0.030109</td>\n",
       "      <td>0.025216</td>\n",
       "      <td>20</td>\n",
       "      <td>-1</td>\n",
       "      <td>18</td>\n",
       "    </tr>\n",
       "    <tr>\n",
       "      <th>10556</th>\n",
       "      <td>0.005682</td>\n",
       "      <td>0.006328</td>\n",
       "      <td>0.007689</td>\n",
       "      <td>0.009210</td>\n",
       "      <td>0.006754</td>\n",
       "      <td>0.007154</td>\n",
       "      <td>0.012706</td>\n",
       "      <td>0.010059</td>\n",
       "      <td>0.011012</td>\n",
       "      <td>0.009486</td>\n",
       "      <td>...</td>\n",
       "      <td>0.033324</td>\n",
       "      <td>0.032863</td>\n",
       "      <td>0.034922</td>\n",
       "      <td>0.031308</td>\n",
       "      <td>0.030655</td>\n",
       "      <td>0.039983</td>\n",
       "      <td>0.032594</td>\n",
       "      <td>25</td>\n",
       "      <td>-1</td>\n",
       "      <td>9</td>\n",
       "    </tr>\n",
       "    <tr>\n",
       "      <th>10559</th>\n",
       "      <td>0.017793</td>\n",
       "      <td>0.018701</td>\n",
       "      <td>0.023326</td>\n",
       "      <td>0.015061</td>\n",
       "      <td>0.013813</td>\n",
       "      <td>0.017227</td>\n",
       "      <td>0.022181</td>\n",
       "      <td>0.021429</td>\n",
       "      <td>0.030020</td>\n",
       "      <td>0.030151</td>\n",
       "      <td>...</td>\n",
       "      <td>0.029908</td>\n",
       "      <td>0.031357</td>\n",
       "      <td>0.029275</td>\n",
       "      <td>0.027217</td>\n",
       "      <td>0.028353</td>\n",
       "      <td>0.029163</td>\n",
       "      <td>0.027030</td>\n",
       "      <td>20</td>\n",
       "      <td>-1</td>\n",
       "      <td>18</td>\n",
       "    </tr>\n",
       "  </tbody>\n",
       "</table>\n",
       "<p>1998 rows × 39 columns</p>\n",
       "</div>"
      ],
      "text/plain": [
       "              0         1         2         3         4         5         6  \\\n",
       "0      0.022838  0.014020  0.016148  0.018759  0.017608  0.018672  0.017213   \n",
       "4      0.003422  0.003314  0.004414  0.004308  0.004600  0.004414  0.007126   \n",
       "5      0.024796  0.013123  0.014485  0.019012  0.027332  0.021058  0.018124   \n",
       "17     0.005330  0.004467  0.006211  0.008714  0.005811  0.006789  0.007804   \n",
       "20     0.008339  0.015311  0.010395  0.012166  0.010808  0.008889  0.018943   \n",
       "...         ...       ...       ...       ...       ...       ...       ...   \n",
       "10519  0.012617  0.014497  0.031774  0.012749  0.012918  0.018672  0.032033   \n",
       "10530  0.003652  0.003454  0.004779  0.004448  0.004296  0.004585  0.006985   \n",
       "10544  0.008357  0.009268  0.011636  0.009516  0.008086  0.009443  0.015287   \n",
       "10556  0.005682  0.006328  0.007689  0.009210  0.006754  0.007154  0.012706   \n",
       "10559  0.017793  0.018701  0.023326  0.015061  0.013813  0.017227  0.022181   \n",
       "\n",
       "              7         8         9  ...        29        30        31  \\\n",
       "0      0.015128  0.017448  0.016672  ...  0.033470  0.037869  0.030413   \n",
       "4      0.004989  0.004763  0.004298  ...  0.022531  0.034483  0.072378   \n",
       "5      0.016988  0.016886  0.016043  ...  0.032181  0.038165  0.032000   \n",
       "17     0.005957  0.006527  0.005963  ...  0.072064  0.037685  0.026627   \n",
       "20     0.017628  0.020252  0.016953  ...  0.022871  0.027230  0.031325   \n",
       "...         ...       ...       ...  ...       ...       ...       ...   \n",
       "10519  0.050113  0.051199  0.054597  ...  0.027424  0.027138  0.027645   \n",
       "10530  0.004988  0.005191  0.004685  ...  0.033515  0.052736  0.054455   \n",
       "10544  0.012893  0.017559  0.015386  ...  0.026568  0.032234  0.029489   \n",
       "10556  0.010059  0.011012  0.009486  ...  0.033324  0.032863  0.034922   \n",
       "10559  0.021429  0.030020  0.030151  ...  0.029908  0.031357  0.029275   \n",
       "\n",
       "             32        33        34        35  dominant_topic  topic  \\\n",
       "0      0.027706  0.035127  0.032334  0.029103              20     -1   \n",
       "4      0.038672  0.050221  0.083392  0.239392              35     -1   \n",
       "5      0.029797  0.039832  0.033492  0.032856              33     -1   \n",
       "17     0.023088  0.033007  0.037452  0.029865              28     -1   \n",
       "20     0.030862  0.026678  0.029930  0.026501              13     -1   \n",
       "...         ...       ...       ...       ...             ...    ...   \n",
       "10519  0.026062  0.025643  0.027189  0.026877               9     -1   \n",
       "10530  0.030769  0.045086  0.081081  0.047416              17     -1   \n",
       "10544  0.025033  0.026287  0.030109  0.025216              20     -1   \n",
       "10556  0.031308  0.030655  0.039983  0.032594              25     -1   \n",
       "10559  0.027217  0.028353  0.029163  0.027030              20     -1   \n",
       "\n",
       "       mapped_topic  \n",
       "0                18  \n",
       "4                 3  \n",
       "5                 5  \n",
       "17               22  \n",
       "20               29  \n",
       "...             ...  \n",
       "10519            25  \n",
       "10530             0  \n",
       "10544            18  \n",
       "10556             9  \n",
       "10559            18  \n",
       "\n",
       "[1998 rows x 39 columns]"
      ]
     },
     "execution_count": 24,
     "metadata": {},
     "output_type": "execute_result"
    }
   ],
   "source": [
    "prob_df[prob_df[\"topic\"] == -1]"
   ]
  },
  {
   "cell_type": "code",
   "execution_count": 25,
   "metadata": {},
   "outputs": [
    {
     "data": {
      "text/plain": [
       "8303"
      ]
     },
     "execution_count": 25,
     "metadata": {},
     "output_type": "execute_result"
    }
   ],
   "source": [
    "prob_df[\"matching\"] = prob_df[\"topic\"] == prob_df[\"mapped_topic\"]\n",
    "prob_df[\"matching\"].sum()"
   ]
  },
  {
   "cell_type": "code",
   "execution_count": 26,
   "metadata": {},
   "outputs": [
    {
     "data": {
      "text/plain": [
       "0.7210028382213812"
      ]
     },
     "execution_count": 26,
     "metadata": {},
     "output_type": "execute_result"
    }
   ],
   "source": [
    "7621 / prob_df.shape[0]"
   ]
  },
  {
   "cell_type": "code",
   "execution_count": 27,
   "metadata": {},
   "outputs": [
    {
     "data": {
      "text/plain": [
       "False"
      ]
     },
     "execution_count": 27,
     "metadata": {},
     "output_type": "execute_result"
    }
   ],
   "source": [
    "2818 + 7621 == prob_df.shape[0]"
   ]
  },
  {
   "cell_type": "code",
   "execution_count": null,
   "metadata": {},
   "outputs": [
    {
     "data": {
      "text/plain": [
       "0.9876064333017975"
      ]
     },
     "execution_count": 28,
     "metadata": {},
     "output_type": "execute_result"
    }
   ],
   "source": [
    "(2818 + 7621) / 10570"
   ]
  },
  {
   "cell_type": "code",
   "execution_count": 29,
   "metadata": {},
   "outputs": [
    {
     "data": {
      "text/plain": [
       "topic\n",
       "-1     1998\n",
       " 7       75\n",
       " 1       52\n",
       " 3       48\n",
       " 6       30\n",
       " 14      25\n",
       " 2       15\n",
       " 5       15\n",
       " 13       7\n",
       " 15       1\n",
       " 22       1\n",
       "Name: count, dtype: int64"
      ]
     },
     "execution_count": 29,
     "metadata": {},
     "output_type": "execute_result"
    }
   ],
   "source": [
    "prob_df[prob_df[\"matching\"] == False][\"topic\"].value_counts()"
   ]
  },
  {
   "cell_type": "code",
   "execution_count": 30,
   "metadata": {},
   "outputs": [
    {
     "data": {
      "text/html": [
       "<div>\n",
       "<style scoped>\n",
       "    .dataframe tbody tr th:only-of-type {\n",
       "        vertical-align: middle;\n",
       "    }\n",
       "\n",
       "    .dataframe tbody tr th {\n",
       "        vertical-align: top;\n",
       "    }\n",
       "\n",
       "    .dataframe thead th {\n",
       "        text-align: right;\n",
       "    }\n",
       "</style>\n",
       "<table border=\"1\" class=\"dataframe\">\n",
       "  <thead>\n",
       "    <tr style=\"text-align: right;\">\n",
       "      <th></th>\n",
       "      <th>0</th>\n",
       "      <th>1</th>\n",
       "      <th>2</th>\n",
       "      <th>3</th>\n",
       "      <th>4</th>\n",
       "      <th>5</th>\n",
       "      <th>6</th>\n",
       "      <th>7</th>\n",
       "      <th>8</th>\n",
       "      <th>9</th>\n",
       "      <th>...</th>\n",
       "      <th>30</th>\n",
       "      <th>31</th>\n",
       "      <th>32</th>\n",
       "      <th>33</th>\n",
       "      <th>34</th>\n",
       "      <th>35</th>\n",
       "      <th>dominant_topic</th>\n",
       "      <th>topic</th>\n",
       "      <th>mapped_topic</th>\n",
       "      <th>matching</th>\n",
       "    </tr>\n",
       "  </thead>\n",
       "  <tbody>\n",
       "    <tr>\n",
       "      <th>0</th>\n",
       "      <td>2.283849e-02</td>\n",
       "      <td>1.402046e-02</td>\n",
       "      <td>1.614818e-02</td>\n",
       "      <td>1.875945e-02</td>\n",
       "      <td>1.760760e-02</td>\n",
       "      <td>1.867192e-02</td>\n",
       "      <td>1.721324e-02</td>\n",
       "      <td>1.512755e-02</td>\n",
       "      <td>1.744773e-02</td>\n",
       "      <td>1.667150e-02</td>\n",
       "      <td>...</td>\n",
       "      <td>3.786850e-02</td>\n",
       "      <td>3.041266e-02</td>\n",
       "      <td>2.770584e-02</td>\n",
       "      <td>3.512701e-02</td>\n",
       "      <td>3.233447e-02</td>\n",
       "      <td>2.910262e-02</td>\n",
       "      <td>20</td>\n",
       "      <td>-1</td>\n",
       "      <td>18</td>\n",
       "      <td>False</td>\n",
       "    </tr>\n",
       "    <tr>\n",
       "      <th>1</th>\n",
       "      <td>8.748943e-309</td>\n",
       "      <td>7.163618e-309</td>\n",
       "      <td>1.270812e-308</td>\n",
       "      <td>9.398986e-309</td>\n",
       "      <td>8.246912e-309</td>\n",
       "      <td>1.170830e-308</td>\n",
       "      <td>1.403279e-308</td>\n",
       "      <td>1.054542e-308</td>\n",
       "      <td>1.204671e-308</td>\n",
       "      <td>1.112609e-308</td>\n",
       "      <td>...</td>\n",
       "      <td>4.882654e-308</td>\n",
       "      <td>3.427802e-308</td>\n",
       "      <td>2.644261e-308</td>\n",
       "      <td>3.554797e-308</td>\n",
       "      <td>4.039425e-308</td>\n",
       "      <td>3.411673e-308</td>\n",
       "      <td>17</td>\n",
       "      <td>0</td>\n",
       "      <td>0</td>\n",
       "      <td>True</td>\n",
       "    </tr>\n",
       "    <tr>\n",
       "      <th>2</th>\n",
       "      <td>8.199855e-309</td>\n",
       "      <td>6.995318e-309</td>\n",
       "      <td>1.003135e-308</td>\n",
       "      <td>1.160200e-308</td>\n",
       "      <td>9.050506e-309</td>\n",
       "      <td>1.060557e-308</td>\n",
       "      <td>1.301338e-308</td>\n",
       "      <td>9.722602e-309</td>\n",
       "      <td>1.050516e-308</td>\n",
       "      <td>9.562994e-309</td>\n",
       "      <td>...</td>\n",
       "      <td>6.934975e-308</td>\n",
       "      <td>4.211338e-308</td>\n",
       "      <td>3.335190e-308</td>\n",
       "      <td>5.489848e-308</td>\n",
       "      <td>7.108979e-308</td>\n",
       "      <td>4.925955e-308</td>\n",
       "      <td>28</td>\n",
       "      <td>22</td>\n",
       "      <td>22</td>\n",
       "      <td>True</td>\n",
       "    </tr>\n",
       "    <tr>\n",
       "      <th>3</th>\n",
       "      <td>7.645843e-309</td>\n",
       "      <td>8.658651e-309</td>\n",
       "      <td>1.007924e-308</td>\n",
       "      <td>9.931215e-309</td>\n",
       "      <td>9.179729e-309</td>\n",
       "      <td>8.943314e-309</td>\n",
       "      <td>1.658564e-308</td>\n",
       "      <td>1.207071e-308</td>\n",
       "      <td>1.303081e-308</td>\n",
       "      <td>1.146434e-308</td>\n",
       "      <td>...</td>\n",
       "      <td>5.105556e-308</td>\n",
       "      <td>7.453425e-308</td>\n",
       "      <td>5.152811e-308</td>\n",
       "      <td>4.543721e-308</td>\n",
       "      <td>7.056816e-308</td>\n",
       "      <td>4.600916e-308</td>\n",
       "      <td>22</td>\n",
       "      <td>1</td>\n",
       "      <td>1</td>\n",
       "      <td>True</td>\n",
       "    </tr>\n",
       "    <tr>\n",
       "      <th>4</th>\n",
       "      <td>3.422318e-03</td>\n",
       "      <td>3.313719e-03</td>\n",
       "      <td>4.413704e-03</td>\n",
       "      <td>4.308059e-03</td>\n",
       "      <td>4.599872e-03</td>\n",
       "      <td>4.414482e-03</td>\n",
       "      <td>7.126344e-03</td>\n",
       "      <td>4.988977e-03</td>\n",
       "      <td>4.762620e-03</td>\n",
       "      <td>4.298298e-03</td>\n",
       "      <td>...</td>\n",
       "      <td>3.448307e-02</td>\n",
       "      <td>7.237842e-02</td>\n",
       "      <td>3.867242e-02</td>\n",
       "      <td>5.022091e-02</td>\n",
       "      <td>8.339184e-02</td>\n",
       "      <td>2.393919e-01</td>\n",
       "      <td>35</td>\n",
       "      <td>-1</td>\n",
       "      <td>3</td>\n",
       "      <td>False</td>\n",
       "    </tr>\n",
       "    <tr>\n",
       "      <th>...</th>\n",
       "      <td>...</td>\n",
       "      <td>...</td>\n",
       "      <td>...</td>\n",
       "      <td>...</td>\n",
       "      <td>...</td>\n",
       "      <td>...</td>\n",
       "      <td>...</td>\n",
       "      <td>...</td>\n",
       "      <td>...</td>\n",
       "      <td>...</td>\n",
       "      <td>...</td>\n",
       "      <td>...</td>\n",
       "      <td>...</td>\n",
       "      <td>...</td>\n",
       "      <td>...</td>\n",
       "      <td>...</td>\n",
       "      <td>...</td>\n",
       "      <td>...</td>\n",
       "      <td>...</td>\n",
       "      <td>...</td>\n",
       "      <td>...</td>\n",
       "    </tr>\n",
       "    <tr>\n",
       "      <th>10565</th>\n",
       "      <td>2.542451e-03</td>\n",
       "      <td>2.202854e-03</td>\n",
       "      <td>3.455016e-03</td>\n",
       "      <td>2.854749e-03</td>\n",
       "      <td>2.731068e-03</td>\n",
       "      <td>3.316220e-03</td>\n",
       "      <td>4.449942e-03</td>\n",
       "      <td>3.208422e-03</td>\n",
       "      <td>3.422148e-03</td>\n",
       "      <td>3.131927e-03</td>\n",
       "      <td>...</td>\n",
       "      <td>2.093056e-02</td>\n",
       "      <td>1.568752e-02</td>\n",
       "      <td>1.085144e-02</td>\n",
       "      <td>1.616860e-02</td>\n",
       "      <td>2.019150e-02</td>\n",
       "      <td>1.561444e-02</td>\n",
       "      <td>17</td>\n",
       "      <td>0</td>\n",
       "      <td>0</td>\n",
       "      <td>True</td>\n",
       "    </tr>\n",
       "    <tr>\n",
       "      <th>10566</th>\n",
       "      <td>7.490500e-309</td>\n",
       "      <td>8.670655e-309</td>\n",
       "      <td>9.515465e-309</td>\n",
       "      <td>1.023595e-308</td>\n",
       "      <td>9.473785e-309</td>\n",
       "      <td>8.734067e-309</td>\n",
       "      <td>1.629178e-308</td>\n",
       "      <td>1.226073e-308</td>\n",
       "      <td>1.282935e-308</td>\n",
       "      <td>1.121194e-308</td>\n",
       "      <td>...</td>\n",
       "      <td>4.677446e-308</td>\n",
       "      <td>7.226353e-308</td>\n",
       "      <td>5.346830e-308</td>\n",
       "      <td>4.613434e-308</td>\n",
       "      <td>6.917584e-308</td>\n",
       "      <td>4.632731e-308</td>\n",
       "      <td>22</td>\n",
       "      <td>1</td>\n",
       "      <td>1</td>\n",
       "      <td>True</td>\n",
       "    </tr>\n",
       "    <tr>\n",
       "      <th>10567</th>\n",
       "      <td>3.285880e-03</td>\n",
       "      <td>2.961542e-03</td>\n",
       "      <td>4.451225e-03</td>\n",
       "      <td>3.801242e-03</td>\n",
       "      <td>3.828361e-03</td>\n",
       "      <td>4.303121e-03</td>\n",
       "      <td>6.239479e-03</td>\n",
       "      <td>4.374559e-03</td>\n",
       "      <td>4.461618e-03</td>\n",
       "      <td>4.068127e-03</td>\n",
       "      <td>...</td>\n",
       "      <td>2.576929e-02</td>\n",
       "      <td>2.726694e-02</td>\n",
       "      <td>1.766332e-02</td>\n",
       "      <td>2.540357e-02</td>\n",
       "      <td>3.717115e-02</td>\n",
       "      <td>2.940629e-02</td>\n",
       "      <td>17</td>\n",
       "      <td>0</td>\n",
       "      <td>0</td>\n",
       "      <td>True</td>\n",
       "    </tr>\n",
       "    <tr>\n",
       "      <th>10568</th>\n",
       "      <td>6.536818e-309</td>\n",
       "      <td>8.404991e-309</td>\n",
       "      <td>1.199146e-308</td>\n",
       "      <td>6.640056e-309</td>\n",
       "      <td>8.736814e-309</td>\n",
       "      <td>9.426290e-309</td>\n",
       "      <td>1.981696e-308</td>\n",
       "      <td>1.000000e+00</td>\n",
       "      <td>1.734534e-308</td>\n",
       "      <td>1.672686e-308</td>\n",
       "      <td>...</td>\n",
       "      <td>1.346062e-308</td>\n",
       "      <td>1.467211e-308</td>\n",
       "      <td>1.439511e-308</td>\n",
       "      <td>1.363509e-308</td>\n",
       "      <td>1.409725e-308</td>\n",
       "      <td>1.461121e-308</td>\n",
       "      <td>7</td>\n",
       "      <td>34</td>\n",
       "      <td>34</td>\n",
       "      <td>True</td>\n",
       "    </tr>\n",
       "    <tr>\n",
       "      <th>10569</th>\n",
       "      <td>6.536828e-309</td>\n",
       "      <td>8.404952e-309</td>\n",
       "      <td>1.199144e-308</td>\n",
       "      <td>6.640014e-309</td>\n",
       "      <td>8.736817e-309</td>\n",
       "      <td>9.426292e-309</td>\n",
       "      <td>1.981666e-308</td>\n",
       "      <td>1.000000e+00</td>\n",
       "      <td>1.734505e-308</td>\n",
       "      <td>1.672662e-308</td>\n",
       "      <td>...</td>\n",
       "      <td>1.346055e-308</td>\n",
       "      <td>1.467200e-308</td>\n",
       "      <td>1.439501e-308</td>\n",
       "      <td>1.363501e-308</td>\n",
       "      <td>1.409716e-308</td>\n",
       "      <td>1.461111e-308</td>\n",
       "      <td>7</td>\n",
       "      <td>34</td>\n",
       "      <td>34</td>\n",
       "      <td>True</td>\n",
       "    </tr>\n",
       "  </tbody>\n",
       "</table>\n",
       "<p>10570 rows × 40 columns</p>\n",
       "</div>"
      ],
      "text/plain": [
       "                   0              1              2              3  \\\n",
       "0       2.283849e-02   1.402046e-02   1.614818e-02   1.875945e-02   \n",
       "1      8.748943e-309  7.163618e-309  1.270812e-308  9.398986e-309   \n",
       "2      8.199855e-309  6.995318e-309  1.003135e-308  1.160200e-308   \n",
       "3      7.645843e-309  8.658651e-309  1.007924e-308  9.931215e-309   \n",
       "4       3.422318e-03   3.313719e-03   4.413704e-03   4.308059e-03   \n",
       "...              ...            ...            ...            ...   \n",
       "10565   2.542451e-03   2.202854e-03   3.455016e-03   2.854749e-03   \n",
       "10566  7.490500e-309  8.670655e-309  9.515465e-309  1.023595e-308   \n",
       "10567   3.285880e-03   2.961542e-03   4.451225e-03   3.801242e-03   \n",
       "10568  6.536818e-309  8.404991e-309  1.199146e-308  6.640056e-309   \n",
       "10569  6.536828e-309  8.404952e-309  1.199144e-308  6.640014e-309   \n",
       "\n",
       "                   4              5              6              7  \\\n",
       "0       1.760760e-02   1.867192e-02   1.721324e-02   1.512755e-02   \n",
       "1      8.246912e-309  1.170830e-308  1.403279e-308  1.054542e-308   \n",
       "2      9.050506e-309  1.060557e-308  1.301338e-308  9.722602e-309   \n",
       "3      9.179729e-309  8.943314e-309  1.658564e-308  1.207071e-308   \n",
       "4       4.599872e-03   4.414482e-03   7.126344e-03   4.988977e-03   \n",
       "...              ...            ...            ...            ...   \n",
       "10565   2.731068e-03   3.316220e-03   4.449942e-03   3.208422e-03   \n",
       "10566  9.473785e-309  8.734067e-309  1.629178e-308  1.226073e-308   \n",
       "10567   3.828361e-03   4.303121e-03   6.239479e-03   4.374559e-03   \n",
       "10568  8.736814e-309  9.426290e-309  1.981696e-308   1.000000e+00   \n",
       "10569  8.736817e-309  9.426292e-309  1.981666e-308   1.000000e+00   \n",
       "\n",
       "                   8              9  ...             30             31  \\\n",
       "0       1.744773e-02   1.667150e-02  ...   3.786850e-02   3.041266e-02   \n",
       "1      1.204671e-308  1.112609e-308  ...  4.882654e-308  3.427802e-308   \n",
       "2      1.050516e-308  9.562994e-309  ...  6.934975e-308  4.211338e-308   \n",
       "3      1.303081e-308  1.146434e-308  ...  5.105556e-308  7.453425e-308   \n",
       "4       4.762620e-03   4.298298e-03  ...   3.448307e-02   7.237842e-02   \n",
       "...              ...            ...  ...            ...            ...   \n",
       "10565   3.422148e-03   3.131927e-03  ...   2.093056e-02   1.568752e-02   \n",
       "10566  1.282935e-308  1.121194e-308  ...  4.677446e-308  7.226353e-308   \n",
       "10567   4.461618e-03   4.068127e-03  ...   2.576929e-02   2.726694e-02   \n",
       "10568  1.734534e-308  1.672686e-308  ...  1.346062e-308  1.467211e-308   \n",
       "10569  1.734505e-308  1.672662e-308  ...  1.346055e-308  1.467200e-308   \n",
       "\n",
       "                  32             33             34             35  \\\n",
       "0       2.770584e-02   3.512701e-02   3.233447e-02   2.910262e-02   \n",
       "1      2.644261e-308  3.554797e-308  4.039425e-308  3.411673e-308   \n",
       "2      3.335190e-308  5.489848e-308  7.108979e-308  4.925955e-308   \n",
       "3      5.152811e-308  4.543721e-308  7.056816e-308  4.600916e-308   \n",
       "4       3.867242e-02   5.022091e-02   8.339184e-02   2.393919e-01   \n",
       "...              ...            ...            ...            ...   \n",
       "10565   1.085144e-02   1.616860e-02   2.019150e-02   1.561444e-02   \n",
       "10566  5.346830e-308  4.613434e-308  6.917584e-308  4.632731e-308   \n",
       "10567   1.766332e-02   2.540357e-02   3.717115e-02   2.940629e-02   \n",
       "10568  1.439511e-308  1.363509e-308  1.409725e-308  1.461121e-308   \n",
       "10569  1.439501e-308  1.363501e-308  1.409716e-308  1.461111e-308   \n",
       "\n",
       "       dominant_topic  topic  mapped_topic  matching  \n",
       "0                  20     -1            18     False  \n",
       "1                  17      0             0      True  \n",
       "2                  28     22            22      True  \n",
       "3                  22      1             1      True  \n",
       "4                  35     -1             3     False  \n",
       "...               ...    ...           ...       ...  \n",
       "10565              17      0             0      True  \n",
       "10566              22      1             1      True  \n",
       "10567              17      0             0      True  \n",
       "10568               7     34            34      True  \n",
       "10569               7     34            34      True  \n",
       "\n",
       "[10570 rows x 40 columns]"
      ]
     },
     "execution_count": 30,
     "metadata": {},
     "output_type": "execute_result"
    }
   ],
   "source": [
    "prob_df"
   ]
  },
  {
   "cell_type": "code",
   "execution_count": 31,
   "metadata": {},
   "outputs": [
    {
     "data": {
      "text/plain": [
       "array([[-0.01426669,  0.00650841, -0.00652124, ...,  0.00878666,\n",
       "        -0.01212744, -0.00268435],\n",
       "       [-0.03763002,  0.0139226 , -0.00093042, ...,  0.00011606,\n",
       "        -0.00789844,  0.0040985 ],\n",
       "       [ 0.00096503,  0.01652302, -0.0122045 , ...,  0.02438289,\n",
       "        -0.00020958, -0.00586181],\n",
       "       ...,\n",
       "       [-0.02416724,  0.0092756 , -0.00371614, ...,  0.02301508,\n",
       "        -0.00786887, -0.02874393],\n",
       "       [-0.01662857,  0.00610313, -0.00064475, ..., -0.02064614,\n",
       "         0.01160482,  0.00202908],\n",
       "       [-0.05147851,  0.05172383, -0.00743512, ...,  0.00636242,\n",
       "        -0.03571234, -0.01637728]], dtype=float32)"
      ]
     },
     "execution_count": 31,
     "metadata": {},
     "output_type": "execute_result"
    }
   ],
   "source": [
    "topic_model.topic_embeddings_"
   ]
  },
  {
   "cell_type": "code",
   "execution_count": 34,
   "metadata": {},
   "outputs": [
    {
     "data": {
      "text/plain": [
       "(37, 768)"
      ]
     },
     "execution_count": 34,
     "metadata": {},
     "output_type": "execute_result"
    }
   ],
   "source": [
    "# Get topic embeddings (dimensions: n_topics x embedding_size)\n",
    "topic_embeddings = topic_model.topic_embeddings_\n",
    "topic_embeddings.shape"
   ]
  },
  {
   "cell_type": "code",
   "execution_count": 36,
   "metadata": {},
   "outputs": [
    {
     "data": {
      "text/plain": [
       "array([[0.9999999 , 0.90195173, 0.9488548 , ..., 0.79686886, 0.8413144 ,\n",
       "        0.81586134],\n",
       "       [0.90195173, 0.99999994, 0.8504966 , ..., 0.72553086, 0.70320505,\n",
       "        0.7474061 ],\n",
       "       [0.9488548 , 0.8504966 , 1.0000004 , ..., 0.7720057 , 0.7466838 ,\n",
       "        0.7435712 ],\n",
       "       ...,\n",
       "       [0.79686886, 0.72553086, 0.7720057 , ..., 1.0000001 , 0.6103736 ,\n",
       "        0.78904176],\n",
       "       [0.8413144 , 0.70320505, 0.7466838 , ..., 0.6103736 , 1.        ,\n",
       "        0.6540237 ],\n",
       "       [0.81586134, 0.7474061 , 0.7435712 , ..., 0.78904176, 0.6540237 ,\n",
       "        1.        ]], dtype=float32)"
      ]
     },
     "execution_count": 36,
     "metadata": {},
     "output_type": "execute_result"
    }
   ],
   "source": [
    "from sklearn.metrics.pairwise import cosine_similarity\n",
    "\n",
    "# Compute similarity matrix (n_topics x n_topics)\n",
    "similarity_matrix = cosine_similarity(topic_embeddings)\n",
    "similarity_matrix"
   ]
  },
  {
   "cell_type": "code",
   "execution_count": null,
   "metadata": {},
   "outputs": [],
   "source": [
    "from sklearn.cluster import AgglomerativeClustering\n",
    "\n",
    "n_target_clusters = 10\n",
    "distance_matrix = 1 - similarity_matrix  # Convert to distance\n",
    "agg_cluster = AgglomerativeClustering(\n",
    "    n_clusters=n_target_clusters,\n",
    "    metric=\"precomputed\",  # Critical fix\n",
    "    linkage=\"average\",\n",
    ")\n",
    "topic_groups = agg_cluster.fit_predict(distance_matrix)"
   ]
  },
  {
   "cell_type": "code",
   "execution_count": null,
   "metadata": {},
   "outputs": [],
   "source": [
    "topic_group_map = pd.DataFrame(\n",
    "    {\"Original_Topic\": range(len(topic_groups)), \"New_Group\": topic_groups}\n",
    ")"
   ]
  },
  {
   "cell_type": "code",
   "execution_count": 41,
   "metadata": {},
   "outputs": [
    {
     "data": {
      "text/html": [
       "<div>\n",
       "<style scoped>\n",
       "    .dataframe tbody tr th:only-of-type {\n",
       "        vertical-align: middle;\n",
       "    }\n",
       "\n",
       "    .dataframe tbody tr th {\n",
       "        vertical-align: top;\n",
       "    }\n",
       "\n",
       "    .dataframe thead th {\n",
       "        text-align: right;\n",
       "    }\n",
       "</style>\n",
       "<table border=\"1\" class=\"dataframe\">\n",
       "  <thead>\n",
       "    <tr style=\"text-align: right;\">\n",
       "      <th></th>\n",
       "      <th>Original_Topic</th>\n",
       "      <th>New_Group</th>\n",
       "    </tr>\n",
       "  </thead>\n",
       "  <tbody>\n",
       "    <tr>\n",
       "      <th>0</th>\n",
       "      <td>0</td>\n",
       "      <td>0</td>\n",
       "    </tr>\n",
       "    <tr>\n",
       "      <th>1</th>\n",
       "      <td>1</td>\n",
       "      <td>0</td>\n",
       "    </tr>\n",
       "    <tr>\n",
       "      <th>2</th>\n",
       "      <td>2</td>\n",
       "      <td>0</td>\n",
       "    </tr>\n",
       "    <tr>\n",
       "      <th>3</th>\n",
       "      <td>3</td>\n",
       "      <td>0</td>\n",
       "    </tr>\n",
       "    <tr>\n",
       "      <th>4</th>\n",
       "      <td>4</td>\n",
       "      <td>0</td>\n",
       "    </tr>\n",
       "    <tr>\n",
       "      <th>5</th>\n",
       "      <td>5</td>\n",
       "      <td>4</td>\n",
       "    </tr>\n",
       "    <tr>\n",
       "      <th>6</th>\n",
       "      <td>6</td>\n",
       "      <td>0</td>\n",
       "    </tr>\n",
       "    <tr>\n",
       "      <th>7</th>\n",
       "      <td>7</td>\n",
       "      <td>0</td>\n",
       "    </tr>\n",
       "    <tr>\n",
       "      <th>8</th>\n",
       "      <td>8</td>\n",
       "      <td>0</td>\n",
       "    </tr>\n",
       "    <tr>\n",
       "      <th>9</th>\n",
       "      <td>9</td>\n",
       "      <td>0</td>\n",
       "    </tr>\n",
       "    <tr>\n",
       "      <th>10</th>\n",
       "      <td>10</td>\n",
       "      <td>0</td>\n",
       "    </tr>\n",
       "    <tr>\n",
       "      <th>11</th>\n",
       "      <td>11</td>\n",
       "      <td>2</td>\n",
       "    </tr>\n",
       "    <tr>\n",
       "      <th>12</th>\n",
       "      <td>12</td>\n",
       "      <td>1</td>\n",
       "    </tr>\n",
       "    <tr>\n",
       "      <th>13</th>\n",
       "      <td>13</td>\n",
       "      <td>0</td>\n",
       "    </tr>\n",
       "    <tr>\n",
       "      <th>14</th>\n",
       "      <td>14</td>\n",
       "      <td>0</td>\n",
       "    </tr>\n",
       "    <tr>\n",
       "      <th>15</th>\n",
       "      <td>15</td>\n",
       "      <td>4</td>\n",
       "    </tr>\n",
       "    <tr>\n",
       "      <th>16</th>\n",
       "      <td>16</td>\n",
       "      <td>8</td>\n",
       "    </tr>\n",
       "    <tr>\n",
       "      <th>17</th>\n",
       "      <td>17</td>\n",
       "      <td>4</td>\n",
       "    </tr>\n",
       "    <tr>\n",
       "      <th>18</th>\n",
       "      <td>18</td>\n",
       "      <td>9</td>\n",
       "    </tr>\n",
       "    <tr>\n",
       "      <th>19</th>\n",
       "      <td>19</td>\n",
       "      <td>1</td>\n",
       "    </tr>\n",
       "    <tr>\n",
       "      <th>20</th>\n",
       "      <td>20</td>\n",
       "      <td>1</td>\n",
       "    </tr>\n",
       "    <tr>\n",
       "      <th>21</th>\n",
       "      <td>21</td>\n",
       "      <td>0</td>\n",
       "    </tr>\n",
       "    <tr>\n",
       "      <th>22</th>\n",
       "      <td>22</td>\n",
       "      <td>4</td>\n",
       "    </tr>\n",
       "    <tr>\n",
       "      <th>23</th>\n",
       "      <td>23</td>\n",
       "      <td>4</td>\n",
       "    </tr>\n",
       "    <tr>\n",
       "      <th>24</th>\n",
       "      <td>24</td>\n",
       "      <td>5</td>\n",
       "    </tr>\n",
       "    <tr>\n",
       "      <th>25</th>\n",
       "      <td>25</td>\n",
       "      <td>0</td>\n",
       "    </tr>\n",
       "    <tr>\n",
       "      <th>26</th>\n",
       "      <td>26</td>\n",
       "      <td>3</td>\n",
       "    </tr>\n",
       "    <tr>\n",
       "      <th>27</th>\n",
       "      <td>27</td>\n",
       "      <td>0</td>\n",
       "    </tr>\n",
       "    <tr>\n",
       "      <th>28</th>\n",
       "      <td>28</td>\n",
       "      <td>6</td>\n",
       "    </tr>\n",
       "    <tr>\n",
       "      <th>29</th>\n",
       "      <td>29</td>\n",
       "      <td>7</td>\n",
       "    </tr>\n",
       "    <tr>\n",
       "      <th>30</th>\n",
       "      <td>30</td>\n",
       "      <td>2</td>\n",
       "    </tr>\n",
       "    <tr>\n",
       "      <th>31</th>\n",
       "      <td>31</td>\n",
       "      <td>3</td>\n",
       "    </tr>\n",
       "    <tr>\n",
       "      <th>32</th>\n",
       "      <td>32</td>\n",
       "      <td>4</td>\n",
       "    </tr>\n",
       "    <tr>\n",
       "      <th>33</th>\n",
       "      <td>33</td>\n",
       "      <td>9</td>\n",
       "    </tr>\n",
       "    <tr>\n",
       "      <th>34</th>\n",
       "      <td>34</td>\n",
       "      <td>4</td>\n",
       "    </tr>\n",
       "    <tr>\n",
       "      <th>35</th>\n",
       "      <td>35</td>\n",
       "      <td>0</td>\n",
       "    </tr>\n",
       "    <tr>\n",
       "      <th>36</th>\n",
       "      <td>36</td>\n",
       "      <td>4</td>\n",
       "    </tr>\n",
       "  </tbody>\n",
       "</table>\n",
       "</div>"
      ],
      "text/plain": [
       "    Original_Topic  New_Group\n",
       "0                0          0\n",
       "1                1          0\n",
       "2                2          0\n",
       "3                3          0\n",
       "4                4          0\n",
       "5                5          4\n",
       "6                6          0\n",
       "7                7          0\n",
       "8                8          0\n",
       "9                9          0\n",
       "10              10          0\n",
       "11              11          2\n",
       "12              12          1\n",
       "13              13          0\n",
       "14              14          0\n",
       "15              15          4\n",
       "16              16          8\n",
       "17              17          4\n",
       "18              18          9\n",
       "19              19          1\n",
       "20              20          1\n",
       "21              21          0\n",
       "22              22          4\n",
       "23              23          4\n",
       "24              24          5\n",
       "25              25          0\n",
       "26              26          3\n",
       "27              27          0\n",
       "28              28          6\n",
       "29              29          7\n",
       "30              30          2\n",
       "31              31          3\n",
       "32              32          4\n",
       "33              33          9\n",
       "34              34          4\n",
       "35              35          0\n",
       "36              36          4"
      ]
     },
     "execution_count": 41,
     "metadata": {},
     "output_type": "execute_result"
    }
   ],
   "source": [
    "topic_group_map"
   ]
  },
  {
   "cell_type": "code",
   "execution_count": 39,
   "metadata": {},
   "outputs": [
    {
     "data": {
      "text/plain": [
       "array([0, 0, 0, 0, 0, 4, 0, 0, 0, 0, 0, 2, 1, 0, 0, 4, 8, 4, 9, 1, 1, 0,\n",
       "       4, 4, 5, 0, 3, 0, 6, 7, 2, 3, 4, 9, 4, 0, 4])"
      ]
     },
     "execution_count": 39,
     "metadata": {},
     "output_type": "execute_result"
    }
   ],
   "source": [
    "topic_groups"
   ]
  },
  {
   "cell_type": "code",
   "execution_count": 42,
   "metadata": {},
   "outputs": [],
   "source": [
    "prob_df[\"merged_group\"] = prob_df[\"mapped_topic\"].map(\n",
    "    topic_group_map.set_index(\"Original_Topic\")[\"New_Group\"]\n",
    ")"
   ]
  },
  {
   "cell_type": "code",
   "execution_count": 43,
   "metadata": {},
   "outputs": [
    {
     "data": {
      "text/html": [
       "<div>\n",
       "<style scoped>\n",
       "    .dataframe tbody tr th:only-of-type {\n",
       "        vertical-align: middle;\n",
       "    }\n",
       "\n",
       "    .dataframe tbody tr th {\n",
       "        vertical-align: top;\n",
       "    }\n",
       "\n",
       "    .dataframe thead th {\n",
       "        text-align: right;\n",
       "    }\n",
       "</style>\n",
       "<table border=\"1\" class=\"dataframe\">\n",
       "  <thead>\n",
       "    <tr style=\"text-align: right;\">\n",
       "      <th></th>\n",
       "      <th>0</th>\n",
       "      <th>1</th>\n",
       "      <th>2</th>\n",
       "      <th>3</th>\n",
       "      <th>4</th>\n",
       "      <th>5</th>\n",
       "      <th>6</th>\n",
       "      <th>7</th>\n",
       "      <th>8</th>\n",
       "      <th>9</th>\n",
       "      <th>...</th>\n",
       "      <th>31</th>\n",
       "      <th>32</th>\n",
       "      <th>33</th>\n",
       "      <th>34</th>\n",
       "      <th>35</th>\n",
       "      <th>dominant_topic</th>\n",
       "      <th>topic</th>\n",
       "      <th>mapped_topic</th>\n",
       "      <th>matching</th>\n",
       "      <th>merged_group</th>\n",
       "    </tr>\n",
       "  </thead>\n",
       "  <tbody>\n",
       "    <tr>\n",
       "      <th>0</th>\n",
       "      <td>2.283849e-02</td>\n",
       "      <td>1.402046e-02</td>\n",
       "      <td>1.614818e-02</td>\n",
       "      <td>1.875945e-02</td>\n",
       "      <td>1.760760e-02</td>\n",
       "      <td>1.867192e-02</td>\n",
       "      <td>1.721324e-02</td>\n",
       "      <td>1.512755e-02</td>\n",
       "      <td>1.744773e-02</td>\n",
       "      <td>1.667150e-02</td>\n",
       "      <td>...</td>\n",
       "      <td>3.041266e-02</td>\n",
       "      <td>2.770584e-02</td>\n",
       "      <td>3.512701e-02</td>\n",
       "      <td>3.233447e-02</td>\n",
       "      <td>2.910262e-02</td>\n",
       "      <td>20</td>\n",
       "      <td>-1</td>\n",
       "      <td>18</td>\n",
       "      <td>False</td>\n",
       "      <td>9</td>\n",
       "    </tr>\n",
       "    <tr>\n",
       "      <th>1</th>\n",
       "      <td>8.748943e-309</td>\n",
       "      <td>7.163618e-309</td>\n",
       "      <td>1.270812e-308</td>\n",
       "      <td>9.398986e-309</td>\n",
       "      <td>8.246912e-309</td>\n",
       "      <td>1.170830e-308</td>\n",
       "      <td>1.403279e-308</td>\n",
       "      <td>1.054542e-308</td>\n",
       "      <td>1.204671e-308</td>\n",
       "      <td>1.112609e-308</td>\n",
       "      <td>...</td>\n",
       "      <td>3.427802e-308</td>\n",
       "      <td>2.644261e-308</td>\n",
       "      <td>3.554797e-308</td>\n",
       "      <td>4.039425e-308</td>\n",
       "      <td>3.411673e-308</td>\n",
       "      <td>17</td>\n",
       "      <td>0</td>\n",
       "      <td>0</td>\n",
       "      <td>True</td>\n",
       "      <td>0</td>\n",
       "    </tr>\n",
       "    <tr>\n",
       "      <th>2</th>\n",
       "      <td>8.199855e-309</td>\n",
       "      <td>6.995318e-309</td>\n",
       "      <td>1.003135e-308</td>\n",
       "      <td>1.160200e-308</td>\n",
       "      <td>9.050506e-309</td>\n",
       "      <td>1.060557e-308</td>\n",
       "      <td>1.301338e-308</td>\n",
       "      <td>9.722602e-309</td>\n",
       "      <td>1.050516e-308</td>\n",
       "      <td>9.562994e-309</td>\n",
       "      <td>...</td>\n",
       "      <td>4.211338e-308</td>\n",
       "      <td>3.335190e-308</td>\n",
       "      <td>5.489848e-308</td>\n",
       "      <td>7.108979e-308</td>\n",
       "      <td>4.925955e-308</td>\n",
       "      <td>28</td>\n",
       "      <td>22</td>\n",
       "      <td>22</td>\n",
       "      <td>True</td>\n",
       "      <td>4</td>\n",
       "    </tr>\n",
       "    <tr>\n",
       "      <th>3</th>\n",
       "      <td>7.645843e-309</td>\n",
       "      <td>8.658651e-309</td>\n",
       "      <td>1.007924e-308</td>\n",
       "      <td>9.931215e-309</td>\n",
       "      <td>9.179729e-309</td>\n",
       "      <td>8.943314e-309</td>\n",
       "      <td>1.658564e-308</td>\n",
       "      <td>1.207071e-308</td>\n",
       "      <td>1.303081e-308</td>\n",
       "      <td>1.146434e-308</td>\n",
       "      <td>...</td>\n",
       "      <td>7.453425e-308</td>\n",
       "      <td>5.152811e-308</td>\n",
       "      <td>4.543721e-308</td>\n",
       "      <td>7.056816e-308</td>\n",
       "      <td>4.600916e-308</td>\n",
       "      <td>22</td>\n",
       "      <td>1</td>\n",
       "      <td>1</td>\n",
       "      <td>True</td>\n",
       "      <td>0</td>\n",
       "    </tr>\n",
       "    <tr>\n",
       "      <th>4</th>\n",
       "      <td>3.422318e-03</td>\n",
       "      <td>3.313719e-03</td>\n",
       "      <td>4.413704e-03</td>\n",
       "      <td>4.308059e-03</td>\n",
       "      <td>4.599872e-03</td>\n",
       "      <td>4.414482e-03</td>\n",
       "      <td>7.126344e-03</td>\n",
       "      <td>4.988977e-03</td>\n",
       "      <td>4.762620e-03</td>\n",
       "      <td>4.298298e-03</td>\n",
       "      <td>...</td>\n",
       "      <td>7.237842e-02</td>\n",
       "      <td>3.867242e-02</td>\n",
       "      <td>5.022091e-02</td>\n",
       "      <td>8.339184e-02</td>\n",
       "      <td>2.393919e-01</td>\n",
       "      <td>35</td>\n",
       "      <td>-1</td>\n",
       "      <td>3</td>\n",
       "      <td>False</td>\n",
       "      <td>0</td>\n",
       "    </tr>\n",
       "    <tr>\n",
       "      <th>...</th>\n",
       "      <td>...</td>\n",
       "      <td>...</td>\n",
       "      <td>...</td>\n",
       "      <td>...</td>\n",
       "      <td>...</td>\n",
       "      <td>...</td>\n",
       "      <td>...</td>\n",
       "      <td>...</td>\n",
       "      <td>...</td>\n",
       "      <td>...</td>\n",
       "      <td>...</td>\n",
       "      <td>...</td>\n",
       "      <td>...</td>\n",
       "      <td>...</td>\n",
       "      <td>...</td>\n",
       "      <td>...</td>\n",
       "      <td>...</td>\n",
       "      <td>...</td>\n",
       "      <td>...</td>\n",
       "      <td>...</td>\n",
       "      <td>...</td>\n",
       "    </tr>\n",
       "    <tr>\n",
       "      <th>10565</th>\n",
       "      <td>2.542451e-03</td>\n",
       "      <td>2.202854e-03</td>\n",
       "      <td>3.455016e-03</td>\n",
       "      <td>2.854749e-03</td>\n",
       "      <td>2.731068e-03</td>\n",
       "      <td>3.316220e-03</td>\n",
       "      <td>4.449942e-03</td>\n",
       "      <td>3.208422e-03</td>\n",
       "      <td>3.422148e-03</td>\n",
       "      <td>3.131927e-03</td>\n",
       "      <td>...</td>\n",
       "      <td>1.568752e-02</td>\n",
       "      <td>1.085144e-02</td>\n",
       "      <td>1.616860e-02</td>\n",
       "      <td>2.019150e-02</td>\n",
       "      <td>1.561444e-02</td>\n",
       "      <td>17</td>\n",
       "      <td>0</td>\n",
       "      <td>0</td>\n",
       "      <td>True</td>\n",
       "      <td>0</td>\n",
       "    </tr>\n",
       "    <tr>\n",
       "      <th>10566</th>\n",
       "      <td>7.490500e-309</td>\n",
       "      <td>8.670655e-309</td>\n",
       "      <td>9.515465e-309</td>\n",
       "      <td>1.023595e-308</td>\n",
       "      <td>9.473785e-309</td>\n",
       "      <td>8.734067e-309</td>\n",
       "      <td>1.629178e-308</td>\n",
       "      <td>1.226073e-308</td>\n",
       "      <td>1.282935e-308</td>\n",
       "      <td>1.121194e-308</td>\n",
       "      <td>...</td>\n",
       "      <td>7.226353e-308</td>\n",
       "      <td>5.346830e-308</td>\n",
       "      <td>4.613434e-308</td>\n",
       "      <td>6.917584e-308</td>\n",
       "      <td>4.632731e-308</td>\n",
       "      <td>22</td>\n",
       "      <td>1</td>\n",
       "      <td>1</td>\n",
       "      <td>True</td>\n",
       "      <td>0</td>\n",
       "    </tr>\n",
       "    <tr>\n",
       "      <th>10567</th>\n",
       "      <td>3.285880e-03</td>\n",
       "      <td>2.961542e-03</td>\n",
       "      <td>4.451225e-03</td>\n",
       "      <td>3.801242e-03</td>\n",
       "      <td>3.828361e-03</td>\n",
       "      <td>4.303121e-03</td>\n",
       "      <td>6.239479e-03</td>\n",
       "      <td>4.374559e-03</td>\n",
       "      <td>4.461618e-03</td>\n",
       "      <td>4.068127e-03</td>\n",
       "      <td>...</td>\n",
       "      <td>2.726694e-02</td>\n",
       "      <td>1.766332e-02</td>\n",
       "      <td>2.540357e-02</td>\n",
       "      <td>3.717115e-02</td>\n",
       "      <td>2.940629e-02</td>\n",
       "      <td>17</td>\n",
       "      <td>0</td>\n",
       "      <td>0</td>\n",
       "      <td>True</td>\n",
       "      <td>0</td>\n",
       "    </tr>\n",
       "    <tr>\n",
       "      <th>10568</th>\n",
       "      <td>6.536818e-309</td>\n",
       "      <td>8.404991e-309</td>\n",
       "      <td>1.199146e-308</td>\n",
       "      <td>6.640056e-309</td>\n",
       "      <td>8.736814e-309</td>\n",
       "      <td>9.426290e-309</td>\n",
       "      <td>1.981696e-308</td>\n",
       "      <td>1.000000e+00</td>\n",
       "      <td>1.734534e-308</td>\n",
       "      <td>1.672686e-308</td>\n",
       "      <td>...</td>\n",
       "      <td>1.467211e-308</td>\n",
       "      <td>1.439511e-308</td>\n",
       "      <td>1.363509e-308</td>\n",
       "      <td>1.409725e-308</td>\n",
       "      <td>1.461121e-308</td>\n",
       "      <td>7</td>\n",
       "      <td>34</td>\n",
       "      <td>34</td>\n",
       "      <td>True</td>\n",
       "      <td>4</td>\n",
       "    </tr>\n",
       "    <tr>\n",
       "      <th>10569</th>\n",
       "      <td>6.536828e-309</td>\n",
       "      <td>8.404952e-309</td>\n",
       "      <td>1.199144e-308</td>\n",
       "      <td>6.640014e-309</td>\n",
       "      <td>8.736817e-309</td>\n",
       "      <td>9.426292e-309</td>\n",
       "      <td>1.981666e-308</td>\n",
       "      <td>1.000000e+00</td>\n",
       "      <td>1.734505e-308</td>\n",
       "      <td>1.672662e-308</td>\n",
       "      <td>...</td>\n",
       "      <td>1.467200e-308</td>\n",
       "      <td>1.439501e-308</td>\n",
       "      <td>1.363501e-308</td>\n",
       "      <td>1.409716e-308</td>\n",
       "      <td>1.461111e-308</td>\n",
       "      <td>7</td>\n",
       "      <td>34</td>\n",
       "      <td>34</td>\n",
       "      <td>True</td>\n",
       "      <td>4</td>\n",
       "    </tr>\n",
       "  </tbody>\n",
       "</table>\n",
       "<p>10570 rows × 41 columns</p>\n",
       "</div>"
      ],
      "text/plain": [
       "                   0              1              2              3  \\\n",
       "0       2.283849e-02   1.402046e-02   1.614818e-02   1.875945e-02   \n",
       "1      8.748943e-309  7.163618e-309  1.270812e-308  9.398986e-309   \n",
       "2      8.199855e-309  6.995318e-309  1.003135e-308  1.160200e-308   \n",
       "3      7.645843e-309  8.658651e-309  1.007924e-308  9.931215e-309   \n",
       "4       3.422318e-03   3.313719e-03   4.413704e-03   4.308059e-03   \n",
       "...              ...            ...            ...            ...   \n",
       "10565   2.542451e-03   2.202854e-03   3.455016e-03   2.854749e-03   \n",
       "10566  7.490500e-309  8.670655e-309  9.515465e-309  1.023595e-308   \n",
       "10567   3.285880e-03   2.961542e-03   4.451225e-03   3.801242e-03   \n",
       "10568  6.536818e-309  8.404991e-309  1.199146e-308  6.640056e-309   \n",
       "10569  6.536828e-309  8.404952e-309  1.199144e-308  6.640014e-309   \n",
       "\n",
       "                   4              5              6              7  \\\n",
       "0       1.760760e-02   1.867192e-02   1.721324e-02   1.512755e-02   \n",
       "1      8.246912e-309  1.170830e-308  1.403279e-308  1.054542e-308   \n",
       "2      9.050506e-309  1.060557e-308  1.301338e-308  9.722602e-309   \n",
       "3      9.179729e-309  8.943314e-309  1.658564e-308  1.207071e-308   \n",
       "4       4.599872e-03   4.414482e-03   7.126344e-03   4.988977e-03   \n",
       "...              ...            ...            ...            ...   \n",
       "10565   2.731068e-03   3.316220e-03   4.449942e-03   3.208422e-03   \n",
       "10566  9.473785e-309  8.734067e-309  1.629178e-308  1.226073e-308   \n",
       "10567   3.828361e-03   4.303121e-03   6.239479e-03   4.374559e-03   \n",
       "10568  8.736814e-309  9.426290e-309  1.981696e-308   1.000000e+00   \n",
       "10569  8.736817e-309  9.426292e-309  1.981666e-308   1.000000e+00   \n",
       "\n",
       "                   8              9  ...             31             32  \\\n",
       "0       1.744773e-02   1.667150e-02  ...   3.041266e-02   2.770584e-02   \n",
       "1      1.204671e-308  1.112609e-308  ...  3.427802e-308  2.644261e-308   \n",
       "2      1.050516e-308  9.562994e-309  ...  4.211338e-308  3.335190e-308   \n",
       "3      1.303081e-308  1.146434e-308  ...  7.453425e-308  5.152811e-308   \n",
       "4       4.762620e-03   4.298298e-03  ...   7.237842e-02   3.867242e-02   \n",
       "...              ...            ...  ...            ...            ...   \n",
       "10565   3.422148e-03   3.131927e-03  ...   1.568752e-02   1.085144e-02   \n",
       "10566  1.282935e-308  1.121194e-308  ...  7.226353e-308  5.346830e-308   \n",
       "10567   4.461618e-03   4.068127e-03  ...   2.726694e-02   1.766332e-02   \n",
       "10568  1.734534e-308  1.672686e-308  ...  1.467211e-308  1.439511e-308   \n",
       "10569  1.734505e-308  1.672662e-308  ...  1.467200e-308  1.439501e-308   \n",
       "\n",
       "                  33             34             35  dominant_topic  topic  \\\n",
       "0       3.512701e-02   3.233447e-02   2.910262e-02              20     -1   \n",
       "1      3.554797e-308  4.039425e-308  3.411673e-308              17      0   \n",
       "2      5.489848e-308  7.108979e-308  4.925955e-308              28     22   \n",
       "3      4.543721e-308  7.056816e-308  4.600916e-308              22      1   \n",
       "4       5.022091e-02   8.339184e-02   2.393919e-01              35     -1   \n",
       "...              ...            ...            ...             ...    ...   \n",
       "10565   1.616860e-02   2.019150e-02   1.561444e-02              17      0   \n",
       "10566  4.613434e-308  6.917584e-308  4.632731e-308              22      1   \n",
       "10567   2.540357e-02   3.717115e-02   2.940629e-02              17      0   \n",
       "10568  1.363509e-308  1.409725e-308  1.461121e-308               7     34   \n",
       "10569  1.363501e-308  1.409716e-308  1.461111e-308               7     34   \n",
       "\n",
       "       mapped_topic  matching  merged_group  \n",
       "0                18     False             9  \n",
       "1                 0      True             0  \n",
       "2                22      True             4  \n",
       "3                 1      True             0  \n",
       "4                 3     False             0  \n",
       "...             ...       ...           ...  \n",
       "10565             0      True             0  \n",
       "10566             1      True             0  \n",
       "10567             0      True             0  \n",
       "10568            34      True             4  \n",
       "10569            34      True             4  \n",
       "\n",
       "[10570 rows x 41 columns]"
      ]
     },
     "execution_count": 43,
     "metadata": {},
     "output_type": "execute_result"
    }
   ],
   "source": [
    "prob_df"
   ]
  },
  {
   "cell_type": "code",
   "execution_count": 44,
   "metadata": {},
   "outputs": [],
   "source": [
    "# Step 3: Save topics back to dataframe\n",
    "gold_df_filtered = gold_df.loc[gold_df[\"News\"].notna()].copy()"
   ]
  },
  {
   "cell_type": "code",
   "execution_count": 45,
   "metadata": {},
   "outputs": [],
   "source": [
    "gold_df_filtered = pd.concat([gold_df_filtered, prob_df], axis=1)"
   ]
  },
  {
   "cell_type": "code",
   "execution_count": 46,
   "metadata": {},
   "outputs": [
    {
     "name": "stdout",
     "output_type": "stream",
     "text": [
      "   Topic  Count                                  Name  \\\n",
      "0     -1   1998    -1_cents_closes_gold climbs_climbs   \n",
      "1      0   1677                 0_high_month_week_low   \n",
      "2      1   1555           1_global_demand_cues_buying   \n",
      "3      2    545           2_demand_price_market_sales   \n",
      "4      3    506                 3_fed_rate_hike_rates   \n",
      "5      4    409  4_end_week gold_session_session gold   \n",
      "6      5    384    5_data gold_data_report_gold holds   \n",
      "7      6    360                6_china_ease_focus_dip   \n",
      "8      7    200   7_gold trades_today_rate_gold price   \n",
      "9      8    193     8_dollar gold_remain_steady_eases   \n",
      "\n",
      "                                      Representation  \\\n",
      "0  [cents, closes, gold climbs, climbs, day, gold...   \n",
      "1  [high, month, week, low, high gold, near, low ...   \n",
      "2  [global, demand, cues, buying, buy, demand gol...   \n",
      "3  [demand, price, market, sales, likely, rates, ...   \n",
      "4  [fed, rate, hike, rates, steady, gold ends, en...   \n",
      "5  [end, week gold, session, session gold, close,...   \n",
      "6  [data gold, data, report, gold holds, holds, g...   \n",
      "7  [china, ease, focus, dip, fed, data, steady, e...   \n",
      "8  [gold trades, today, rate, gold price, price, ...   \n",
      "9  [dollar gold, remain, steady, eases, stocks, s...   \n",
      "\n",
      "                                 Representative_Docs  \n",
      "0  [gold climbs or to settle at, gold climbs or t...  \n",
      "1  [gold ends at month low as fed comments fuel d...  \n",
      "2  [gold on global cues silver on sluggish demand...  \n",
      "3  [spot gold rates in mumbai delhi chennai marke...  \n",
      "4  [gold prices nudge ahead of fed meeting minute...  \n",
      "5  [gold futures close on session on week, gold f...  \n",
      "6  [gold holds after consumerinflation report, go...  \n",
      "7  [gold prices in asia after official china pmi ...  \n",
      "8  [gold rate today gold trades in morning deals ...  \n",
      "9  [gold holds steady amid softer dollar, gold pr...  \n"
     ]
    }
   ],
   "source": [
    "# Step 4: View top 10 topics\n",
    "print(topic_model.get_topic_info().head(10))"
   ]
  },
  {
   "cell_type": "code",
   "execution_count": 48,
   "metadata": {},
   "outputs": [
    {
     "name": "stdout",
     "output_type": "stream",
     "text": [
      "\n",
      "--- Sample Headlines from Topic 0 ---\n",
      "1             gold suffers third straight daily decline\n",
      "12       gold loses 1.3%, but logs monthly gain of 6.3%\n",
      "22      Gold prices finish at a more than one-week high\n",
      "32         gold futures at highest since early december\n",
      "34    Gold edges up ahead of G20 meeting; set to pos...\n",
      "Name: News, dtype: object\n"
     ]
    },
    {
     "data": {
      "application/vnd.plotly.v1+json": {
       "config": {
        "plotlyServerURL": "https://plot.ly"
       },
       "data": [
        {
         "customdata": [
          [
           0,
           "high | month | week | low | high gold",
           1677
          ],
          [
           1,
           "global | demand | cues | buying | buy",
           1555
          ],
          [
           2,
           "demand | price | market | sales | likely",
           545
          ],
          [
           3,
           "fed | rate | hike | rates | steady",
           506
          ],
          [
           4,
           "end | week gold | session | session gold | close",
           409
          ],
          [
           5,
           "data gold | data | report | gold holds | holds",
           384
          ],
          [
           6,
           "china | ease | focus | dip | fed",
           360
          ],
          [
           7,
           "gold trades | today | rate | gold price | price",
           200
          ],
          [
           8,
           "dollar gold | remain | steady | eases | stocks",
           193
          ],
          [
           9,
           "profit | q | c | vs | cut",
           192
          ],
          [
           10,
           "slips | declines | support | gm | key",
           161
          ],
          [
           11,
           "settle | gold slips | slips | slides | settlement",
           152
          ],
          [
           12,
           "talks | concerns | amid | dollar gold | investo",
           146
          ],
          [
           13,
           "shares | metals | prices gold | gold price | price",
           137
          ],
          [
           14,
           "cues gold | cues | global | open | weak",
           133
          ],
          [
           15,
           "losses | extend | extends | second | pare",
           129
          ],
          [
           16,
           "ounce gold | close | c | end | gold futures trade",
           121
          ],
          [
           17,
           "ounce gold | closes | turns | gold settles | settles",
           112
          ],
          [
           18,
           "settles | gold settles | gold ends | ends | cents",
           107
          ],
          [
           19,
           "gold settles | settles | settle | adds | rallies",
           106
          ],
          [
           20,
           "oil | oil gold | crude | gold oil | data",
           101
          ],
          [
           21,
           "gm | ease | silver futures | high gold | high",
           97
          ],
          [
           22,
           "edge | hold | ground | early | settlement",
           94
          ],
          [
           23,
           "spot gold | spot | new | cents | early",
           94
          ],
          [
           24,
           "comex | comex gold | settlement | turn | gold settles",
           88
          ],
          [
           25,
           "gold adds | vs | adds | low gold | low",
           81
          ],
          [
           26,
           "crude | copper | outlook | outlook gold | sell",
           77
          ],
          [
           27,
           "investo | takes | record | assets | pressure",
           76
          ],
          [
           28,
           "outlook gold | outlook | copper | weekly | c",
           75
          ],
          [
           29,
           "sell | buy | comex | comex gold | dips",
           71
          ],
          [
           30,
           "gold adds | adds | time | early | ",
           70
          ],
          [
           31,
           "decline | cues gold | global | cues | slide",
           69
          ],
          [
           32,
           "ounce gold | gold ends | ends | spot gold | spot",
           67
          ],
          [
           33,
           "pulls | bullish | cues | global | weak",
           64
          ],
          [
           34,
           "comex gold | comex | settle | ounce gold | rallies",
           63
          ],
          [
           35,
           "dollar gold | sharply | turn | oil | rally",
           60
          ]
         ],
         "hovertemplate": "<b>Topic %{customdata[0]}</b><br>%{customdata[1]}<br>Size: %{customdata[2]}",
         "legendgroup": "",
         "marker": {
          "color": "#B0BEC5",
          "line": {
           "color": "DarkSlateGrey",
           "width": 2
          },
          "size": {
           "bdata": "jQYTBiEC+gGZAYABaAHIAMEAwAChAJgAkgCJAIUAgQB5AHAAawBqAGUAYQBeAF4AWABRAE0ATABLAEcARgBFAEMAQAA/ADwA",
           "dtype": "i2"
          },
          "sizemode": "area",
          "sizeref": 1.048125,
          "symbol": "circle"
         },
         "mode": "markers",
         "name": "",
         "orientation": "v",
         "showlegend": false,
         "type": "scatter",
         "x": {
          "bdata": "Vk1swG5lu8Ddd8rAPAXTwMReacC4ltzAUqSpwMFd2cAIGtHAWEm+wARnpkAvIypB5gOzwIBFx8AkSn1ANy+LwENXQ8BDh01AMFclQQx+J0H91uTAwiJVwDpzVcCjS6nAbSVCQMylNEFg2enAqm6+wOgqNUAoi6ZAQ+M0QZCvgcAiT1hAgtdxQOViOUCK/HlA",
          "dtype": "f4"
         },
         "xaxis": "x",
         "y": {
          "bdata": "san8QLQPT0H0xVFBxZgVwakD/kCBBRjBe0c/QX/8R0HdMhTB+BRNQdda80DvHzDBijZEQTMLSkEDcj0/mELhQKdH80DMeNpBnO40wSTIMsEdLhjBuajqQI9L90B/MT1BFQ3ZQWog5EBPKRvBVplRQb1t10E9zfNA/yjkQE5H6ECI0dtB+zxrP9v010GnqUo/",
          "dtype": "f4"
         },
         "yaxis": "y"
        }
       ],
       "layout": {
        "annotations": [
         {
          "showarrow": false,
          "text": "D1",
          "x": -8.40395278930664,
          "y": 9.297207164764405,
          "yshift": 10
         },
         {
          "showarrow": false,
          "text": "D2",
          "x": 2.2986768007278444,
          "xshift": 10,
          "y": 31.59890670776367
         }
        ],
        "height": 650,
        "hoverlabel": {
         "bgcolor": "white",
         "font": {
          "family": "Rockwell",
          "size": 16
         }
        },
        "legend": {
         "itemsizing": "constant",
         "tracegroupgap": 0
        },
        "margin": {
         "t": 60
        },
        "shapes": [
         {
          "line": {
           "color": "#CFD8DC",
           "width": 2
          },
          "type": "line",
          "x0": 2.2986768007278444,
          "x1": 2.2986768007278444,
          "y0": -13.004492378234863,
          "y1": 31.59890670776367
         },
         {
          "line": {
           "color": "#9E9E9E",
           "width": 2
          },
          "type": "line",
          "x0": -8.40395278930664,
          "x1": 13.001306390762329,
          "y0": 9.297207164764405,
          "y1": 9.297207164764405
         }
        ],
        "sliders": [
         {
          "active": 0,
          "pad": {
           "t": 50
          },
          "steps": [
           {
            "args": [
             {
              "marker.color": [
               [
                "red",
                "#B0BEC5",
                "#B0BEC5",
                "#B0BEC5",
                "#B0BEC5",
                "#B0BEC5",
                "#B0BEC5",
                "#B0BEC5",
                "#B0BEC5",
                "#B0BEC5",
                "#B0BEC5",
                "#B0BEC5",
                "#B0BEC5",
                "#B0BEC5",
                "#B0BEC5",
                "#B0BEC5",
                "#B0BEC5",
                "#B0BEC5",
                "#B0BEC5",
                "#B0BEC5",
                "#B0BEC5",
                "#B0BEC5",
                "#B0BEC5",
                "#B0BEC5",
                "#B0BEC5",
                "#B0BEC5",
                "#B0BEC5",
                "#B0BEC5",
                "#B0BEC5",
                "#B0BEC5",
                "#B0BEC5",
                "#B0BEC5",
                "#B0BEC5",
                "#B0BEC5",
                "#B0BEC5",
                "#B0BEC5"
               ]
              ]
             }
            ],
            "label": "Topic 0",
            "method": "update"
           },
           {
            "args": [
             {
              "marker.color": [
               [
                "#B0BEC5",
                "red",
                "#B0BEC5",
                "#B0BEC5",
                "#B0BEC5",
                "#B0BEC5",
                "#B0BEC5",
                "#B0BEC5",
                "#B0BEC5",
                "#B0BEC5",
                "#B0BEC5",
                "#B0BEC5",
                "#B0BEC5",
                "#B0BEC5",
                "#B0BEC5",
                "#B0BEC5",
                "#B0BEC5",
                "#B0BEC5",
                "#B0BEC5",
                "#B0BEC5",
                "#B0BEC5",
                "#B0BEC5",
                "#B0BEC5",
                "#B0BEC5",
                "#B0BEC5",
                "#B0BEC5",
                "#B0BEC5",
                "#B0BEC5",
                "#B0BEC5",
                "#B0BEC5",
                "#B0BEC5",
                "#B0BEC5",
                "#B0BEC5",
                "#B0BEC5",
                "#B0BEC5",
                "#B0BEC5"
               ]
              ]
             }
            ],
            "label": "Topic 1",
            "method": "update"
           },
           {
            "args": [
             {
              "marker.color": [
               [
                "#B0BEC5",
                "#B0BEC5",
                "red",
                "#B0BEC5",
                "#B0BEC5",
                "#B0BEC5",
                "#B0BEC5",
                "#B0BEC5",
                "#B0BEC5",
                "#B0BEC5",
                "#B0BEC5",
                "#B0BEC5",
                "#B0BEC5",
                "#B0BEC5",
                "#B0BEC5",
                "#B0BEC5",
                "#B0BEC5",
                "#B0BEC5",
                "#B0BEC5",
                "#B0BEC5",
                "#B0BEC5",
                "#B0BEC5",
                "#B0BEC5",
                "#B0BEC5",
                "#B0BEC5",
                "#B0BEC5",
                "#B0BEC5",
                "#B0BEC5",
                "#B0BEC5",
                "#B0BEC5",
                "#B0BEC5",
                "#B0BEC5",
                "#B0BEC5",
                "#B0BEC5",
                "#B0BEC5",
                "#B0BEC5"
               ]
              ]
             }
            ],
            "label": "Topic 2",
            "method": "update"
           },
           {
            "args": [
             {
              "marker.color": [
               [
                "#B0BEC5",
                "#B0BEC5",
                "#B0BEC5",
                "red",
                "#B0BEC5",
                "#B0BEC5",
                "#B0BEC5",
                "#B0BEC5",
                "#B0BEC5",
                "#B0BEC5",
                "#B0BEC5",
                "#B0BEC5",
                "#B0BEC5",
                "#B0BEC5",
                "#B0BEC5",
                "#B0BEC5",
                "#B0BEC5",
                "#B0BEC5",
                "#B0BEC5",
                "#B0BEC5",
                "#B0BEC5",
                "#B0BEC5",
                "#B0BEC5",
                "#B0BEC5",
                "#B0BEC5",
                "#B0BEC5",
                "#B0BEC5",
                "#B0BEC5",
                "#B0BEC5",
                "#B0BEC5",
                "#B0BEC5",
                "#B0BEC5",
                "#B0BEC5",
                "#B0BEC5",
                "#B0BEC5",
                "#B0BEC5"
               ]
              ]
             }
            ],
            "label": "Topic 3",
            "method": "update"
           },
           {
            "args": [
             {
              "marker.color": [
               [
                "#B0BEC5",
                "#B0BEC5",
                "#B0BEC5",
                "#B0BEC5",
                "red",
                "#B0BEC5",
                "#B0BEC5",
                "#B0BEC5",
                "#B0BEC5",
                "#B0BEC5",
                "#B0BEC5",
                "#B0BEC5",
                "#B0BEC5",
                "#B0BEC5",
                "#B0BEC5",
                "#B0BEC5",
                "#B0BEC5",
                "#B0BEC5",
                "#B0BEC5",
                "#B0BEC5",
                "#B0BEC5",
                "#B0BEC5",
                "#B0BEC5",
                "#B0BEC5",
                "#B0BEC5",
                "#B0BEC5",
                "#B0BEC5",
                "#B0BEC5",
                "#B0BEC5",
                "#B0BEC5",
                "#B0BEC5",
                "#B0BEC5",
                "#B0BEC5",
                "#B0BEC5",
                "#B0BEC5",
                "#B0BEC5"
               ]
              ]
             }
            ],
            "label": "Topic 4",
            "method": "update"
           },
           {
            "args": [
             {
              "marker.color": [
               [
                "#B0BEC5",
                "#B0BEC5",
                "#B0BEC5",
                "#B0BEC5",
                "#B0BEC5",
                "red",
                "#B0BEC5",
                "#B0BEC5",
                "#B0BEC5",
                "#B0BEC5",
                "#B0BEC5",
                "#B0BEC5",
                "#B0BEC5",
                "#B0BEC5",
                "#B0BEC5",
                "#B0BEC5",
                "#B0BEC5",
                "#B0BEC5",
                "#B0BEC5",
                "#B0BEC5",
                "#B0BEC5",
                "#B0BEC5",
                "#B0BEC5",
                "#B0BEC5",
                "#B0BEC5",
                "#B0BEC5",
                "#B0BEC5",
                "#B0BEC5",
                "#B0BEC5",
                "#B0BEC5",
                "#B0BEC5",
                "#B0BEC5",
                "#B0BEC5",
                "#B0BEC5",
                "#B0BEC5",
                "#B0BEC5"
               ]
              ]
             }
            ],
            "label": "Topic 5",
            "method": "update"
           },
           {
            "args": [
             {
              "marker.color": [
               [
                "#B0BEC5",
                "#B0BEC5",
                "#B0BEC5",
                "#B0BEC5",
                "#B0BEC5",
                "#B0BEC5",
                "red",
                "#B0BEC5",
                "#B0BEC5",
                "#B0BEC5",
                "#B0BEC5",
                "#B0BEC5",
                "#B0BEC5",
                "#B0BEC5",
                "#B0BEC5",
                "#B0BEC5",
                "#B0BEC5",
                "#B0BEC5",
                "#B0BEC5",
                "#B0BEC5",
                "#B0BEC5",
                "#B0BEC5",
                "#B0BEC5",
                "#B0BEC5",
                "#B0BEC5",
                "#B0BEC5",
                "#B0BEC5",
                "#B0BEC5",
                "#B0BEC5",
                "#B0BEC5",
                "#B0BEC5",
                "#B0BEC5",
                "#B0BEC5",
                "#B0BEC5",
                "#B0BEC5",
                "#B0BEC5"
               ]
              ]
             }
            ],
            "label": "Topic 6",
            "method": "update"
           },
           {
            "args": [
             {
              "marker.color": [
               [
                "#B0BEC5",
                "#B0BEC5",
                "#B0BEC5",
                "#B0BEC5",
                "#B0BEC5",
                "#B0BEC5",
                "#B0BEC5",
                "red",
                "#B0BEC5",
                "#B0BEC5",
                "#B0BEC5",
                "#B0BEC5",
                "#B0BEC5",
                "#B0BEC5",
                "#B0BEC5",
                "#B0BEC5",
                "#B0BEC5",
                "#B0BEC5",
                "#B0BEC5",
                "#B0BEC5",
                "#B0BEC5",
                "#B0BEC5",
                "#B0BEC5",
                "#B0BEC5",
                "#B0BEC5",
                "#B0BEC5",
                "#B0BEC5",
                "#B0BEC5",
                "#B0BEC5",
                "#B0BEC5",
                "#B0BEC5",
                "#B0BEC5",
                "#B0BEC5",
                "#B0BEC5",
                "#B0BEC5",
                "#B0BEC5"
               ]
              ]
             }
            ],
            "label": "Topic 7",
            "method": "update"
           },
           {
            "args": [
             {
              "marker.color": [
               [
                "#B0BEC5",
                "#B0BEC5",
                "#B0BEC5",
                "#B0BEC5",
                "#B0BEC5",
                "#B0BEC5",
                "#B0BEC5",
                "#B0BEC5",
                "red",
                "#B0BEC5",
                "#B0BEC5",
                "#B0BEC5",
                "#B0BEC5",
                "#B0BEC5",
                "#B0BEC5",
                "#B0BEC5",
                "#B0BEC5",
                "#B0BEC5",
                "#B0BEC5",
                "#B0BEC5",
                "#B0BEC5",
                "#B0BEC5",
                "#B0BEC5",
                "#B0BEC5",
                "#B0BEC5",
                "#B0BEC5",
                "#B0BEC5",
                "#B0BEC5",
                "#B0BEC5",
                "#B0BEC5",
                "#B0BEC5",
                "#B0BEC5",
                "#B0BEC5",
                "#B0BEC5",
                "#B0BEC5",
                "#B0BEC5"
               ]
              ]
             }
            ],
            "label": "Topic 8",
            "method": "update"
           },
           {
            "args": [
             {
              "marker.color": [
               [
                "#B0BEC5",
                "#B0BEC5",
                "#B0BEC5",
                "#B0BEC5",
                "#B0BEC5",
                "#B0BEC5",
                "#B0BEC5",
                "#B0BEC5",
                "#B0BEC5",
                "red",
                "#B0BEC5",
                "#B0BEC5",
                "#B0BEC5",
                "#B0BEC5",
                "#B0BEC5",
                "#B0BEC5",
                "#B0BEC5",
                "#B0BEC5",
                "#B0BEC5",
                "#B0BEC5",
                "#B0BEC5",
                "#B0BEC5",
                "#B0BEC5",
                "#B0BEC5",
                "#B0BEC5",
                "#B0BEC5",
                "#B0BEC5",
                "#B0BEC5",
                "#B0BEC5",
                "#B0BEC5",
                "#B0BEC5",
                "#B0BEC5",
                "#B0BEC5",
                "#B0BEC5",
                "#B0BEC5",
                "#B0BEC5"
               ]
              ]
             }
            ],
            "label": "Topic 9",
            "method": "update"
           },
           {
            "args": [
             {
              "marker.color": [
               [
                "#B0BEC5",
                "#B0BEC5",
                "#B0BEC5",
                "#B0BEC5",
                "#B0BEC5",
                "#B0BEC5",
                "#B0BEC5",
                "#B0BEC5",
                "#B0BEC5",
                "#B0BEC5",
                "red",
                "#B0BEC5",
                "#B0BEC5",
                "#B0BEC5",
                "#B0BEC5",
                "#B0BEC5",
                "#B0BEC5",
                "#B0BEC5",
                "#B0BEC5",
                "#B0BEC5",
                "#B0BEC5",
                "#B0BEC5",
                "#B0BEC5",
                "#B0BEC5",
                "#B0BEC5",
                "#B0BEC5",
                "#B0BEC5",
                "#B0BEC5",
                "#B0BEC5",
                "#B0BEC5",
                "#B0BEC5",
                "#B0BEC5",
                "#B0BEC5",
                "#B0BEC5",
                "#B0BEC5",
                "#B0BEC5"
               ]
              ]
             }
            ],
            "label": "Topic 10",
            "method": "update"
           },
           {
            "args": [
             {
              "marker.color": [
               [
                "#B0BEC5",
                "#B0BEC5",
                "#B0BEC5",
                "#B0BEC5",
                "#B0BEC5",
                "#B0BEC5",
                "#B0BEC5",
                "#B0BEC5",
                "#B0BEC5",
                "#B0BEC5",
                "#B0BEC5",
                "red",
                "#B0BEC5",
                "#B0BEC5",
                "#B0BEC5",
                "#B0BEC5",
                "#B0BEC5",
                "#B0BEC5",
                "#B0BEC5",
                "#B0BEC5",
                "#B0BEC5",
                "#B0BEC5",
                "#B0BEC5",
                "#B0BEC5",
                "#B0BEC5",
                "#B0BEC5",
                "#B0BEC5",
                "#B0BEC5",
                "#B0BEC5",
                "#B0BEC5",
                "#B0BEC5",
                "#B0BEC5",
                "#B0BEC5",
                "#B0BEC5",
                "#B0BEC5",
                "#B0BEC5"
               ]
              ]
             }
            ],
            "label": "Topic 11",
            "method": "update"
           },
           {
            "args": [
             {
              "marker.color": [
               [
                "#B0BEC5",
                "#B0BEC5",
                "#B0BEC5",
                "#B0BEC5",
                "#B0BEC5",
                "#B0BEC5",
                "#B0BEC5",
                "#B0BEC5",
                "#B0BEC5",
                "#B0BEC5",
                "#B0BEC5",
                "#B0BEC5",
                "red",
                "#B0BEC5",
                "#B0BEC5",
                "#B0BEC5",
                "#B0BEC5",
                "#B0BEC5",
                "#B0BEC5",
                "#B0BEC5",
                "#B0BEC5",
                "#B0BEC5",
                "#B0BEC5",
                "#B0BEC5",
                "#B0BEC5",
                "#B0BEC5",
                "#B0BEC5",
                "#B0BEC5",
                "#B0BEC5",
                "#B0BEC5",
                "#B0BEC5",
                "#B0BEC5",
                "#B0BEC5",
                "#B0BEC5",
                "#B0BEC5",
                "#B0BEC5"
               ]
              ]
             }
            ],
            "label": "Topic 12",
            "method": "update"
           },
           {
            "args": [
             {
              "marker.color": [
               [
                "#B0BEC5",
                "#B0BEC5",
                "#B0BEC5",
                "#B0BEC5",
                "#B0BEC5",
                "#B0BEC5",
                "#B0BEC5",
                "#B0BEC5",
                "#B0BEC5",
                "#B0BEC5",
                "#B0BEC5",
                "#B0BEC5",
                "#B0BEC5",
                "red",
                "#B0BEC5",
                "#B0BEC5",
                "#B0BEC5",
                "#B0BEC5",
                "#B0BEC5",
                "#B0BEC5",
                "#B0BEC5",
                "#B0BEC5",
                "#B0BEC5",
                "#B0BEC5",
                "#B0BEC5",
                "#B0BEC5",
                "#B0BEC5",
                "#B0BEC5",
                "#B0BEC5",
                "#B0BEC5",
                "#B0BEC5",
                "#B0BEC5",
                "#B0BEC5",
                "#B0BEC5",
                "#B0BEC5",
                "#B0BEC5"
               ]
              ]
             }
            ],
            "label": "Topic 13",
            "method": "update"
           },
           {
            "args": [
             {
              "marker.color": [
               [
                "#B0BEC5",
                "#B0BEC5",
                "#B0BEC5",
                "#B0BEC5",
                "#B0BEC5",
                "#B0BEC5",
                "#B0BEC5",
                "#B0BEC5",
                "#B0BEC5",
                "#B0BEC5",
                "#B0BEC5",
                "#B0BEC5",
                "#B0BEC5",
                "#B0BEC5",
                "red",
                "#B0BEC5",
                "#B0BEC5",
                "#B0BEC5",
                "#B0BEC5",
                "#B0BEC5",
                "#B0BEC5",
                "#B0BEC5",
                "#B0BEC5",
                "#B0BEC5",
                "#B0BEC5",
                "#B0BEC5",
                "#B0BEC5",
                "#B0BEC5",
                "#B0BEC5",
                "#B0BEC5",
                "#B0BEC5",
                "#B0BEC5",
                "#B0BEC5",
                "#B0BEC5",
                "#B0BEC5",
                "#B0BEC5"
               ]
              ]
             }
            ],
            "label": "Topic 14",
            "method": "update"
           },
           {
            "args": [
             {
              "marker.color": [
               [
                "#B0BEC5",
                "#B0BEC5",
                "#B0BEC5",
                "#B0BEC5",
                "#B0BEC5",
                "#B0BEC5",
                "#B0BEC5",
                "#B0BEC5",
                "#B0BEC5",
                "#B0BEC5",
                "#B0BEC5",
                "#B0BEC5",
                "#B0BEC5",
                "#B0BEC5",
                "#B0BEC5",
                "red",
                "#B0BEC5",
                "#B0BEC5",
                "#B0BEC5",
                "#B0BEC5",
                "#B0BEC5",
                "#B0BEC5",
                "#B0BEC5",
                "#B0BEC5",
                "#B0BEC5",
                "#B0BEC5",
                "#B0BEC5",
                "#B0BEC5",
                "#B0BEC5",
                "#B0BEC5",
                "#B0BEC5",
                "#B0BEC5",
                "#B0BEC5",
                "#B0BEC5",
                "#B0BEC5",
                "#B0BEC5"
               ]
              ]
             }
            ],
            "label": "Topic 15",
            "method": "update"
           },
           {
            "args": [
             {
              "marker.color": [
               [
                "#B0BEC5",
                "#B0BEC5",
                "#B0BEC5",
                "#B0BEC5",
                "#B0BEC5",
                "#B0BEC5",
                "#B0BEC5",
                "#B0BEC5",
                "#B0BEC5",
                "#B0BEC5",
                "#B0BEC5",
                "#B0BEC5",
                "#B0BEC5",
                "#B0BEC5",
                "#B0BEC5",
                "#B0BEC5",
                "red",
                "#B0BEC5",
                "#B0BEC5",
                "#B0BEC5",
                "#B0BEC5",
                "#B0BEC5",
                "#B0BEC5",
                "#B0BEC5",
                "#B0BEC5",
                "#B0BEC5",
                "#B0BEC5",
                "#B0BEC5",
                "#B0BEC5",
                "#B0BEC5",
                "#B0BEC5",
                "#B0BEC5",
                "#B0BEC5",
                "#B0BEC5",
                "#B0BEC5",
                "#B0BEC5"
               ]
              ]
             }
            ],
            "label": "Topic 16",
            "method": "update"
           },
           {
            "args": [
             {
              "marker.color": [
               [
                "#B0BEC5",
                "#B0BEC5",
                "#B0BEC5",
                "#B0BEC5",
                "#B0BEC5",
                "#B0BEC5",
                "#B0BEC5",
                "#B0BEC5",
                "#B0BEC5",
                "#B0BEC5",
                "#B0BEC5",
                "#B0BEC5",
                "#B0BEC5",
                "#B0BEC5",
                "#B0BEC5",
                "#B0BEC5",
                "#B0BEC5",
                "red",
                "#B0BEC5",
                "#B0BEC5",
                "#B0BEC5",
                "#B0BEC5",
                "#B0BEC5",
                "#B0BEC5",
                "#B0BEC5",
                "#B0BEC5",
                "#B0BEC5",
                "#B0BEC5",
                "#B0BEC5",
                "#B0BEC5",
                "#B0BEC5",
                "#B0BEC5",
                "#B0BEC5",
                "#B0BEC5",
                "#B0BEC5",
                "#B0BEC5"
               ]
              ]
             }
            ],
            "label": "Topic 17",
            "method": "update"
           },
           {
            "args": [
             {
              "marker.color": [
               [
                "#B0BEC5",
                "#B0BEC5",
                "#B0BEC5",
                "#B0BEC5",
                "#B0BEC5",
                "#B0BEC5",
                "#B0BEC5",
                "#B0BEC5",
                "#B0BEC5",
                "#B0BEC5",
                "#B0BEC5",
                "#B0BEC5",
                "#B0BEC5",
                "#B0BEC5",
                "#B0BEC5",
                "#B0BEC5",
                "#B0BEC5",
                "#B0BEC5",
                "red",
                "#B0BEC5",
                "#B0BEC5",
                "#B0BEC5",
                "#B0BEC5",
                "#B0BEC5",
                "#B0BEC5",
                "#B0BEC5",
                "#B0BEC5",
                "#B0BEC5",
                "#B0BEC5",
                "#B0BEC5",
                "#B0BEC5",
                "#B0BEC5",
                "#B0BEC5",
                "#B0BEC5",
                "#B0BEC5",
                "#B0BEC5"
               ]
              ]
             }
            ],
            "label": "Topic 18",
            "method": "update"
           },
           {
            "args": [
             {
              "marker.color": [
               [
                "#B0BEC5",
                "#B0BEC5",
                "#B0BEC5",
                "#B0BEC5",
                "#B0BEC5",
                "#B0BEC5",
                "#B0BEC5",
                "#B0BEC5",
                "#B0BEC5",
                "#B0BEC5",
                "#B0BEC5",
                "#B0BEC5",
                "#B0BEC5",
                "#B0BEC5",
                "#B0BEC5",
                "#B0BEC5",
                "#B0BEC5",
                "#B0BEC5",
                "#B0BEC5",
                "red",
                "#B0BEC5",
                "#B0BEC5",
                "#B0BEC5",
                "#B0BEC5",
                "#B0BEC5",
                "#B0BEC5",
                "#B0BEC5",
                "#B0BEC5",
                "#B0BEC5",
                "#B0BEC5",
                "#B0BEC5",
                "#B0BEC5",
                "#B0BEC5",
                "#B0BEC5",
                "#B0BEC5",
                "#B0BEC5"
               ]
              ]
             }
            ],
            "label": "Topic 19",
            "method": "update"
           },
           {
            "args": [
             {
              "marker.color": [
               [
                "#B0BEC5",
                "#B0BEC5",
                "#B0BEC5",
                "#B0BEC5",
                "#B0BEC5",
                "#B0BEC5",
                "#B0BEC5",
                "#B0BEC5",
                "#B0BEC5",
                "#B0BEC5",
                "#B0BEC5",
                "#B0BEC5",
                "#B0BEC5",
                "#B0BEC5",
                "#B0BEC5",
                "#B0BEC5",
                "#B0BEC5",
                "#B0BEC5",
                "#B0BEC5",
                "#B0BEC5",
                "red",
                "#B0BEC5",
                "#B0BEC5",
                "#B0BEC5",
                "#B0BEC5",
                "#B0BEC5",
                "#B0BEC5",
                "#B0BEC5",
                "#B0BEC5",
                "#B0BEC5",
                "#B0BEC5",
                "#B0BEC5",
                "#B0BEC5",
                "#B0BEC5",
                "#B0BEC5",
                "#B0BEC5"
               ]
              ]
             }
            ],
            "label": "Topic 20",
            "method": "update"
           },
           {
            "args": [
             {
              "marker.color": [
               [
                "#B0BEC5",
                "#B0BEC5",
                "#B0BEC5",
                "#B0BEC5",
                "#B0BEC5",
                "#B0BEC5",
                "#B0BEC5",
                "#B0BEC5",
                "#B0BEC5",
                "#B0BEC5",
                "#B0BEC5",
                "#B0BEC5",
                "#B0BEC5",
                "#B0BEC5",
                "#B0BEC5",
                "#B0BEC5",
                "#B0BEC5",
                "#B0BEC5",
                "#B0BEC5",
                "#B0BEC5",
                "#B0BEC5",
                "red",
                "#B0BEC5",
                "#B0BEC5",
                "#B0BEC5",
                "#B0BEC5",
                "#B0BEC5",
                "#B0BEC5",
                "#B0BEC5",
                "#B0BEC5",
                "#B0BEC5",
                "#B0BEC5",
                "#B0BEC5",
                "#B0BEC5",
                "#B0BEC5",
                "#B0BEC5"
               ]
              ]
             }
            ],
            "label": "Topic 21",
            "method": "update"
           },
           {
            "args": [
             {
              "marker.color": [
               [
                "#B0BEC5",
                "#B0BEC5",
                "#B0BEC5",
                "#B0BEC5",
                "#B0BEC5",
                "#B0BEC5",
                "#B0BEC5",
                "#B0BEC5",
                "#B0BEC5",
                "#B0BEC5",
                "#B0BEC5",
                "#B0BEC5",
                "#B0BEC5",
                "#B0BEC5",
                "#B0BEC5",
                "#B0BEC5",
                "#B0BEC5",
                "#B0BEC5",
                "#B0BEC5",
                "#B0BEC5",
                "#B0BEC5",
                "#B0BEC5",
                "red",
                "#B0BEC5",
                "#B0BEC5",
                "#B0BEC5",
                "#B0BEC5",
                "#B0BEC5",
                "#B0BEC5",
                "#B0BEC5",
                "#B0BEC5",
                "#B0BEC5",
                "#B0BEC5",
                "#B0BEC5",
                "#B0BEC5",
                "#B0BEC5"
               ]
              ]
             }
            ],
            "label": "Topic 22",
            "method": "update"
           },
           {
            "args": [
             {
              "marker.color": [
               [
                "#B0BEC5",
                "#B0BEC5",
                "#B0BEC5",
                "#B0BEC5",
                "#B0BEC5",
                "#B0BEC5",
                "#B0BEC5",
                "#B0BEC5",
                "#B0BEC5",
                "#B0BEC5",
                "#B0BEC5",
                "#B0BEC5",
                "#B0BEC5",
                "#B0BEC5",
                "#B0BEC5",
                "#B0BEC5",
                "#B0BEC5",
                "#B0BEC5",
                "#B0BEC5",
                "#B0BEC5",
                "#B0BEC5",
                "#B0BEC5",
                "#B0BEC5",
                "red",
                "#B0BEC5",
                "#B0BEC5",
                "#B0BEC5",
                "#B0BEC5",
                "#B0BEC5",
                "#B0BEC5",
                "#B0BEC5",
                "#B0BEC5",
                "#B0BEC5",
                "#B0BEC5",
                "#B0BEC5",
                "#B0BEC5"
               ]
              ]
             }
            ],
            "label": "Topic 23",
            "method": "update"
           },
           {
            "args": [
             {
              "marker.color": [
               [
                "#B0BEC5",
                "#B0BEC5",
                "#B0BEC5",
                "#B0BEC5",
                "#B0BEC5",
                "#B0BEC5",
                "#B0BEC5",
                "#B0BEC5",
                "#B0BEC5",
                "#B0BEC5",
                "#B0BEC5",
                "#B0BEC5",
                "#B0BEC5",
                "#B0BEC5",
                "#B0BEC5",
                "#B0BEC5",
                "#B0BEC5",
                "#B0BEC5",
                "#B0BEC5",
                "#B0BEC5",
                "#B0BEC5",
                "#B0BEC5",
                "#B0BEC5",
                "#B0BEC5",
                "red",
                "#B0BEC5",
                "#B0BEC5",
                "#B0BEC5",
                "#B0BEC5",
                "#B0BEC5",
                "#B0BEC5",
                "#B0BEC5",
                "#B0BEC5",
                "#B0BEC5",
                "#B0BEC5",
                "#B0BEC5"
               ]
              ]
             }
            ],
            "label": "Topic 24",
            "method": "update"
           },
           {
            "args": [
             {
              "marker.color": [
               [
                "#B0BEC5",
                "#B0BEC5",
                "#B0BEC5",
                "#B0BEC5",
                "#B0BEC5",
                "#B0BEC5",
                "#B0BEC5",
                "#B0BEC5",
                "#B0BEC5",
                "#B0BEC5",
                "#B0BEC5",
                "#B0BEC5",
                "#B0BEC5",
                "#B0BEC5",
                "#B0BEC5",
                "#B0BEC5",
                "#B0BEC5",
                "#B0BEC5",
                "#B0BEC5",
                "#B0BEC5",
                "#B0BEC5",
                "#B0BEC5",
                "#B0BEC5",
                "#B0BEC5",
                "#B0BEC5",
                "red",
                "#B0BEC5",
                "#B0BEC5",
                "#B0BEC5",
                "#B0BEC5",
                "#B0BEC5",
                "#B0BEC5",
                "#B0BEC5",
                "#B0BEC5",
                "#B0BEC5",
                "#B0BEC5"
               ]
              ]
             }
            ],
            "label": "Topic 25",
            "method": "update"
           },
           {
            "args": [
             {
              "marker.color": [
               [
                "#B0BEC5",
                "#B0BEC5",
                "#B0BEC5",
                "#B0BEC5",
                "#B0BEC5",
                "#B0BEC5",
                "#B0BEC5",
                "#B0BEC5",
                "#B0BEC5",
                "#B0BEC5",
                "#B0BEC5",
                "#B0BEC5",
                "#B0BEC5",
                "#B0BEC5",
                "#B0BEC5",
                "#B0BEC5",
                "#B0BEC5",
                "#B0BEC5",
                "#B0BEC5",
                "#B0BEC5",
                "#B0BEC5",
                "#B0BEC5",
                "#B0BEC5",
                "#B0BEC5",
                "#B0BEC5",
                "#B0BEC5",
                "red",
                "#B0BEC5",
                "#B0BEC5",
                "#B0BEC5",
                "#B0BEC5",
                "#B0BEC5",
                "#B0BEC5",
                "#B0BEC5",
                "#B0BEC5",
                "#B0BEC5"
               ]
              ]
             }
            ],
            "label": "Topic 26",
            "method": "update"
           },
           {
            "args": [
             {
              "marker.color": [
               [
                "#B0BEC5",
                "#B0BEC5",
                "#B0BEC5",
                "#B0BEC5",
                "#B0BEC5",
                "#B0BEC5",
                "#B0BEC5",
                "#B0BEC5",
                "#B0BEC5",
                "#B0BEC5",
                "#B0BEC5",
                "#B0BEC5",
                "#B0BEC5",
                "#B0BEC5",
                "#B0BEC5",
                "#B0BEC5",
                "#B0BEC5",
                "#B0BEC5",
                "#B0BEC5",
                "#B0BEC5",
                "#B0BEC5",
                "#B0BEC5",
                "#B0BEC5",
                "#B0BEC5",
                "#B0BEC5",
                "#B0BEC5",
                "#B0BEC5",
                "red",
                "#B0BEC5",
                "#B0BEC5",
                "#B0BEC5",
                "#B0BEC5",
                "#B0BEC5",
                "#B0BEC5",
                "#B0BEC5",
                "#B0BEC5"
               ]
              ]
             }
            ],
            "label": "Topic 27",
            "method": "update"
           },
           {
            "args": [
             {
              "marker.color": [
               [
                "#B0BEC5",
                "#B0BEC5",
                "#B0BEC5",
                "#B0BEC5",
                "#B0BEC5",
                "#B0BEC5",
                "#B0BEC5",
                "#B0BEC5",
                "#B0BEC5",
                "#B0BEC5",
                "#B0BEC5",
                "#B0BEC5",
                "#B0BEC5",
                "#B0BEC5",
                "#B0BEC5",
                "#B0BEC5",
                "#B0BEC5",
                "#B0BEC5",
                "#B0BEC5",
                "#B0BEC5",
                "#B0BEC5",
                "#B0BEC5",
                "#B0BEC5",
                "#B0BEC5",
                "#B0BEC5",
                "#B0BEC5",
                "#B0BEC5",
                "#B0BEC5",
                "red",
                "#B0BEC5",
                "#B0BEC5",
                "#B0BEC5",
                "#B0BEC5",
                "#B0BEC5",
                "#B0BEC5",
                "#B0BEC5"
               ]
              ]
             }
            ],
            "label": "Topic 28",
            "method": "update"
           },
           {
            "args": [
             {
              "marker.color": [
               [
                "#B0BEC5",
                "#B0BEC5",
                "#B0BEC5",
                "#B0BEC5",
                "#B0BEC5",
                "#B0BEC5",
                "#B0BEC5",
                "#B0BEC5",
                "#B0BEC5",
                "#B0BEC5",
                "#B0BEC5",
                "#B0BEC5",
                "#B0BEC5",
                "#B0BEC5",
                "#B0BEC5",
                "#B0BEC5",
                "#B0BEC5",
                "#B0BEC5",
                "#B0BEC5",
                "#B0BEC5",
                "#B0BEC5",
                "#B0BEC5",
                "#B0BEC5",
                "#B0BEC5",
                "#B0BEC5",
                "#B0BEC5",
                "#B0BEC5",
                "#B0BEC5",
                "#B0BEC5",
                "red",
                "#B0BEC5",
                "#B0BEC5",
                "#B0BEC5",
                "#B0BEC5",
                "#B0BEC5",
                "#B0BEC5"
               ]
              ]
             }
            ],
            "label": "Topic 29",
            "method": "update"
           },
           {
            "args": [
             {
              "marker.color": [
               [
                "#B0BEC5",
                "#B0BEC5",
                "#B0BEC5",
                "#B0BEC5",
                "#B0BEC5",
                "#B0BEC5",
                "#B0BEC5",
                "#B0BEC5",
                "#B0BEC5",
                "#B0BEC5",
                "#B0BEC5",
                "#B0BEC5",
                "#B0BEC5",
                "#B0BEC5",
                "#B0BEC5",
                "#B0BEC5",
                "#B0BEC5",
                "#B0BEC5",
                "#B0BEC5",
                "#B0BEC5",
                "#B0BEC5",
                "#B0BEC5",
                "#B0BEC5",
                "#B0BEC5",
                "#B0BEC5",
                "#B0BEC5",
                "#B0BEC5",
                "#B0BEC5",
                "#B0BEC5",
                "#B0BEC5",
                "red",
                "#B0BEC5",
                "#B0BEC5",
                "#B0BEC5",
                "#B0BEC5",
                "#B0BEC5"
               ]
              ]
             }
            ],
            "label": "Topic 30",
            "method": "update"
           },
           {
            "args": [
             {
              "marker.color": [
               [
                "#B0BEC5",
                "#B0BEC5",
                "#B0BEC5",
                "#B0BEC5",
                "#B0BEC5",
                "#B0BEC5",
                "#B0BEC5",
                "#B0BEC5",
                "#B0BEC5",
                "#B0BEC5",
                "#B0BEC5",
                "#B0BEC5",
                "#B0BEC5",
                "#B0BEC5",
                "#B0BEC5",
                "#B0BEC5",
                "#B0BEC5",
                "#B0BEC5",
                "#B0BEC5",
                "#B0BEC5",
                "#B0BEC5",
                "#B0BEC5",
                "#B0BEC5",
                "#B0BEC5",
                "#B0BEC5",
                "#B0BEC5",
                "#B0BEC5",
                "#B0BEC5",
                "#B0BEC5",
                "#B0BEC5",
                "#B0BEC5",
                "red",
                "#B0BEC5",
                "#B0BEC5",
                "#B0BEC5",
                "#B0BEC5"
               ]
              ]
             }
            ],
            "label": "Topic 31",
            "method": "update"
           },
           {
            "args": [
             {
              "marker.color": [
               [
                "#B0BEC5",
                "#B0BEC5",
                "#B0BEC5",
                "#B0BEC5",
                "#B0BEC5",
                "#B0BEC5",
                "#B0BEC5",
                "#B0BEC5",
                "#B0BEC5",
                "#B0BEC5",
                "#B0BEC5",
                "#B0BEC5",
                "#B0BEC5",
                "#B0BEC5",
                "#B0BEC5",
                "#B0BEC5",
                "#B0BEC5",
                "#B0BEC5",
                "#B0BEC5",
                "#B0BEC5",
                "#B0BEC5",
                "#B0BEC5",
                "#B0BEC5",
                "#B0BEC5",
                "#B0BEC5",
                "#B0BEC5",
                "#B0BEC5",
                "#B0BEC5",
                "#B0BEC5",
                "#B0BEC5",
                "#B0BEC5",
                "#B0BEC5",
                "red",
                "#B0BEC5",
                "#B0BEC5",
                "#B0BEC5"
               ]
              ]
             }
            ],
            "label": "Topic 32",
            "method": "update"
           },
           {
            "args": [
             {
              "marker.color": [
               [
                "#B0BEC5",
                "#B0BEC5",
                "#B0BEC5",
                "#B0BEC5",
                "#B0BEC5",
                "#B0BEC5",
                "#B0BEC5",
                "#B0BEC5",
                "#B0BEC5",
                "#B0BEC5",
                "#B0BEC5",
                "#B0BEC5",
                "#B0BEC5",
                "#B0BEC5",
                "#B0BEC5",
                "#B0BEC5",
                "#B0BEC5",
                "#B0BEC5",
                "#B0BEC5",
                "#B0BEC5",
                "#B0BEC5",
                "#B0BEC5",
                "#B0BEC5",
                "#B0BEC5",
                "#B0BEC5",
                "#B0BEC5",
                "#B0BEC5",
                "#B0BEC5",
                "#B0BEC5",
                "#B0BEC5",
                "#B0BEC5",
                "#B0BEC5",
                "#B0BEC5",
                "red",
                "#B0BEC5",
                "#B0BEC5"
               ]
              ]
             }
            ],
            "label": "Topic 33",
            "method": "update"
           },
           {
            "args": [
             {
              "marker.color": [
               [
                "#B0BEC5",
                "#B0BEC5",
                "#B0BEC5",
                "#B0BEC5",
                "#B0BEC5",
                "#B0BEC5",
                "#B0BEC5",
                "#B0BEC5",
                "#B0BEC5",
                "#B0BEC5",
                "#B0BEC5",
                "#B0BEC5",
                "#B0BEC5",
                "#B0BEC5",
                "#B0BEC5",
                "#B0BEC5",
                "#B0BEC5",
                "#B0BEC5",
                "#B0BEC5",
                "#B0BEC5",
                "#B0BEC5",
                "#B0BEC5",
                "#B0BEC5",
                "#B0BEC5",
                "#B0BEC5",
                "#B0BEC5",
                "#B0BEC5",
                "#B0BEC5",
                "#B0BEC5",
                "#B0BEC5",
                "#B0BEC5",
                "#B0BEC5",
                "#B0BEC5",
                "#B0BEC5",
                "red",
                "#B0BEC5"
               ]
              ]
             }
            ],
            "label": "Topic 34",
            "method": "update"
           },
           {
            "args": [
             {
              "marker.color": [
               [
                "#B0BEC5",
                "#B0BEC5",
                "#B0BEC5",
                "#B0BEC5",
                "#B0BEC5",
                "#B0BEC5",
                "#B0BEC5",
                "#B0BEC5",
                "#B0BEC5",
                "#B0BEC5",
                "#B0BEC5",
                "#B0BEC5",
                "#B0BEC5",
                "#B0BEC5",
                "#B0BEC5",
                "#B0BEC5",
                "#B0BEC5",
                "#B0BEC5",
                "#B0BEC5",
                "#B0BEC5",
                "#B0BEC5",
                "#B0BEC5",
                "#B0BEC5",
                "#B0BEC5",
                "#B0BEC5",
                "#B0BEC5",
                "#B0BEC5",
                "#B0BEC5",
                "#B0BEC5",
                "#B0BEC5",
                "#B0BEC5",
                "#B0BEC5",
                "#B0BEC5",
                "#B0BEC5",
                "#B0BEC5",
                "red"
               ]
              ]
             }
            ],
            "label": "Topic 35",
            "method": "update"
           }
          ]
         }
        ],
        "template": {
         "data": {
          "bar": [
           {
            "error_x": {
             "color": "rgb(36,36,36)"
            },
            "error_y": {
             "color": "rgb(36,36,36)"
            },
            "marker": {
             "line": {
              "color": "white",
              "width": 0.5
             },
             "pattern": {
              "fillmode": "overlay",
              "size": 10,
              "solidity": 0.2
             }
            },
            "type": "bar"
           }
          ],
          "barpolar": [
           {
            "marker": {
             "line": {
              "color": "white",
              "width": 0.5
             },
             "pattern": {
              "fillmode": "overlay",
              "size": 10,
              "solidity": 0.2
             }
            },
            "type": "barpolar"
           }
          ],
          "carpet": [
           {
            "aaxis": {
             "endlinecolor": "rgb(36,36,36)",
             "gridcolor": "white",
             "linecolor": "white",
             "minorgridcolor": "white",
             "startlinecolor": "rgb(36,36,36)"
            },
            "baxis": {
             "endlinecolor": "rgb(36,36,36)",
             "gridcolor": "white",
             "linecolor": "white",
             "minorgridcolor": "white",
             "startlinecolor": "rgb(36,36,36)"
            },
            "type": "carpet"
           }
          ],
          "choropleth": [
           {
            "colorbar": {
             "outlinewidth": 1,
             "tickcolor": "rgb(36,36,36)",
             "ticks": "outside"
            },
            "type": "choropleth"
           }
          ],
          "contour": [
           {
            "colorbar": {
             "outlinewidth": 1,
             "tickcolor": "rgb(36,36,36)",
             "ticks": "outside"
            },
            "colorscale": [
             [
              0,
              "#440154"
             ],
             [
              0.1111111111111111,
              "#482878"
             ],
             [
              0.2222222222222222,
              "#3e4989"
             ],
             [
              0.3333333333333333,
              "#31688e"
             ],
             [
              0.4444444444444444,
              "#26828e"
             ],
             [
              0.5555555555555556,
              "#1f9e89"
             ],
             [
              0.6666666666666666,
              "#35b779"
             ],
             [
              0.7777777777777778,
              "#6ece58"
             ],
             [
              0.8888888888888888,
              "#b5de2b"
             ],
             [
              1,
              "#fde725"
             ]
            ],
            "type": "contour"
           }
          ],
          "contourcarpet": [
           {
            "colorbar": {
             "outlinewidth": 1,
             "tickcolor": "rgb(36,36,36)",
             "ticks": "outside"
            },
            "type": "contourcarpet"
           }
          ],
          "heatmap": [
           {
            "colorbar": {
             "outlinewidth": 1,
             "tickcolor": "rgb(36,36,36)",
             "ticks": "outside"
            },
            "colorscale": [
             [
              0,
              "#440154"
             ],
             [
              0.1111111111111111,
              "#482878"
             ],
             [
              0.2222222222222222,
              "#3e4989"
             ],
             [
              0.3333333333333333,
              "#31688e"
             ],
             [
              0.4444444444444444,
              "#26828e"
             ],
             [
              0.5555555555555556,
              "#1f9e89"
             ],
             [
              0.6666666666666666,
              "#35b779"
             ],
             [
              0.7777777777777778,
              "#6ece58"
             ],
             [
              0.8888888888888888,
              "#b5de2b"
             ],
             [
              1,
              "#fde725"
             ]
            ],
            "type": "heatmap"
           }
          ],
          "histogram": [
           {
            "marker": {
             "line": {
              "color": "white",
              "width": 0.6
             }
            },
            "type": "histogram"
           }
          ],
          "histogram2d": [
           {
            "colorbar": {
             "outlinewidth": 1,
             "tickcolor": "rgb(36,36,36)",
             "ticks": "outside"
            },
            "colorscale": [
             [
              0,
              "#440154"
             ],
             [
              0.1111111111111111,
              "#482878"
             ],
             [
              0.2222222222222222,
              "#3e4989"
             ],
             [
              0.3333333333333333,
              "#31688e"
             ],
             [
              0.4444444444444444,
              "#26828e"
             ],
             [
              0.5555555555555556,
              "#1f9e89"
             ],
             [
              0.6666666666666666,
              "#35b779"
             ],
             [
              0.7777777777777778,
              "#6ece58"
             ],
             [
              0.8888888888888888,
              "#b5de2b"
             ],
             [
              1,
              "#fde725"
             ]
            ],
            "type": "histogram2d"
           }
          ],
          "histogram2dcontour": [
           {
            "colorbar": {
             "outlinewidth": 1,
             "tickcolor": "rgb(36,36,36)",
             "ticks": "outside"
            },
            "colorscale": [
             [
              0,
              "#440154"
             ],
             [
              0.1111111111111111,
              "#482878"
             ],
             [
              0.2222222222222222,
              "#3e4989"
             ],
             [
              0.3333333333333333,
              "#31688e"
             ],
             [
              0.4444444444444444,
              "#26828e"
             ],
             [
              0.5555555555555556,
              "#1f9e89"
             ],
             [
              0.6666666666666666,
              "#35b779"
             ],
             [
              0.7777777777777778,
              "#6ece58"
             ],
             [
              0.8888888888888888,
              "#b5de2b"
             ],
             [
              1,
              "#fde725"
             ]
            ],
            "type": "histogram2dcontour"
           }
          ],
          "mesh3d": [
           {
            "colorbar": {
             "outlinewidth": 1,
             "tickcolor": "rgb(36,36,36)",
             "ticks": "outside"
            },
            "type": "mesh3d"
           }
          ],
          "parcoords": [
           {
            "line": {
             "colorbar": {
              "outlinewidth": 1,
              "tickcolor": "rgb(36,36,36)",
              "ticks": "outside"
             }
            },
            "type": "parcoords"
           }
          ],
          "pie": [
           {
            "automargin": true,
            "type": "pie"
           }
          ],
          "scatter": [
           {
            "fillpattern": {
             "fillmode": "overlay",
             "size": 10,
             "solidity": 0.2
            },
            "type": "scatter"
           }
          ],
          "scatter3d": [
           {
            "line": {
             "colorbar": {
              "outlinewidth": 1,
              "tickcolor": "rgb(36,36,36)",
              "ticks": "outside"
             }
            },
            "marker": {
             "colorbar": {
              "outlinewidth": 1,
              "tickcolor": "rgb(36,36,36)",
              "ticks": "outside"
             }
            },
            "type": "scatter3d"
           }
          ],
          "scattercarpet": [
           {
            "marker": {
             "colorbar": {
              "outlinewidth": 1,
              "tickcolor": "rgb(36,36,36)",
              "ticks": "outside"
             }
            },
            "type": "scattercarpet"
           }
          ],
          "scattergeo": [
           {
            "marker": {
             "colorbar": {
              "outlinewidth": 1,
              "tickcolor": "rgb(36,36,36)",
              "ticks": "outside"
             }
            },
            "type": "scattergeo"
           }
          ],
          "scattergl": [
           {
            "marker": {
             "colorbar": {
              "outlinewidth": 1,
              "tickcolor": "rgb(36,36,36)",
              "ticks": "outside"
             }
            },
            "type": "scattergl"
           }
          ],
          "scattermap": [
           {
            "marker": {
             "colorbar": {
              "outlinewidth": 1,
              "tickcolor": "rgb(36,36,36)",
              "ticks": "outside"
             }
            },
            "type": "scattermap"
           }
          ],
          "scattermapbox": [
           {
            "marker": {
             "colorbar": {
              "outlinewidth": 1,
              "tickcolor": "rgb(36,36,36)",
              "ticks": "outside"
             }
            },
            "type": "scattermapbox"
           }
          ],
          "scatterpolar": [
           {
            "marker": {
             "colorbar": {
              "outlinewidth": 1,
              "tickcolor": "rgb(36,36,36)",
              "ticks": "outside"
             }
            },
            "type": "scatterpolar"
           }
          ],
          "scatterpolargl": [
           {
            "marker": {
             "colorbar": {
              "outlinewidth": 1,
              "tickcolor": "rgb(36,36,36)",
              "ticks": "outside"
             }
            },
            "type": "scatterpolargl"
           }
          ],
          "scatterternary": [
           {
            "marker": {
             "colorbar": {
              "outlinewidth": 1,
              "tickcolor": "rgb(36,36,36)",
              "ticks": "outside"
             }
            },
            "type": "scatterternary"
           }
          ],
          "surface": [
           {
            "colorbar": {
             "outlinewidth": 1,
             "tickcolor": "rgb(36,36,36)",
             "ticks": "outside"
            },
            "colorscale": [
             [
              0,
              "#440154"
             ],
             [
              0.1111111111111111,
              "#482878"
             ],
             [
              0.2222222222222222,
              "#3e4989"
             ],
             [
              0.3333333333333333,
              "#31688e"
             ],
             [
              0.4444444444444444,
              "#26828e"
             ],
             [
              0.5555555555555556,
              "#1f9e89"
             ],
             [
              0.6666666666666666,
              "#35b779"
             ],
             [
              0.7777777777777778,
              "#6ece58"
             ],
             [
              0.8888888888888888,
              "#b5de2b"
             ],
             [
              1,
              "#fde725"
             ]
            ],
            "type": "surface"
           }
          ],
          "table": [
           {
            "cells": {
             "fill": {
              "color": "rgb(237,237,237)"
             },
             "line": {
              "color": "white"
             }
            },
            "header": {
             "fill": {
              "color": "rgb(217,217,217)"
             },
             "line": {
              "color": "white"
             }
            },
            "type": "table"
           }
          ]
         },
         "layout": {
          "annotationdefaults": {
           "arrowhead": 0,
           "arrowwidth": 1
          },
          "autotypenumbers": "strict",
          "coloraxis": {
           "colorbar": {
            "outlinewidth": 1,
            "tickcolor": "rgb(36,36,36)",
            "ticks": "outside"
           }
          },
          "colorscale": {
           "diverging": [
            [
             0,
             "rgb(103,0,31)"
            ],
            [
             0.1,
             "rgb(178,24,43)"
            ],
            [
             0.2,
             "rgb(214,96,77)"
            ],
            [
             0.3,
             "rgb(244,165,130)"
            ],
            [
             0.4,
             "rgb(253,219,199)"
            ],
            [
             0.5,
             "rgb(247,247,247)"
            ],
            [
             0.6,
             "rgb(209,229,240)"
            ],
            [
             0.7,
             "rgb(146,197,222)"
            ],
            [
             0.8,
             "rgb(67,147,195)"
            ],
            [
             0.9,
             "rgb(33,102,172)"
            ],
            [
             1,
             "rgb(5,48,97)"
            ]
           ],
           "sequential": [
            [
             0,
             "#440154"
            ],
            [
             0.1111111111111111,
             "#482878"
            ],
            [
             0.2222222222222222,
             "#3e4989"
            ],
            [
             0.3333333333333333,
             "#31688e"
            ],
            [
             0.4444444444444444,
             "#26828e"
            ],
            [
             0.5555555555555556,
             "#1f9e89"
            ],
            [
             0.6666666666666666,
             "#35b779"
            ],
            [
             0.7777777777777778,
             "#6ece58"
            ],
            [
             0.8888888888888888,
             "#b5de2b"
            ],
            [
             1,
             "#fde725"
            ]
           ],
           "sequentialminus": [
            [
             0,
             "#440154"
            ],
            [
             0.1111111111111111,
             "#482878"
            ],
            [
             0.2222222222222222,
             "#3e4989"
            ],
            [
             0.3333333333333333,
             "#31688e"
            ],
            [
             0.4444444444444444,
             "#26828e"
            ],
            [
             0.5555555555555556,
             "#1f9e89"
            ],
            [
             0.6666666666666666,
             "#35b779"
            ],
            [
             0.7777777777777778,
             "#6ece58"
            ],
            [
             0.8888888888888888,
             "#b5de2b"
            ],
            [
             1,
             "#fde725"
            ]
           ]
          },
          "colorway": [
           "#1F77B4",
           "#FF7F0E",
           "#2CA02C",
           "#D62728",
           "#9467BD",
           "#8C564B",
           "#E377C2",
           "#7F7F7F",
           "#BCBD22",
           "#17BECF"
          ],
          "font": {
           "color": "rgb(36,36,36)"
          },
          "geo": {
           "bgcolor": "white",
           "lakecolor": "white",
           "landcolor": "white",
           "showlakes": true,
           "showland": true,
           "subunitcolor": "white"
          },
          "hoverlabel": {
           "align": "left"
          },
          "hovermode": "closest",
          "mapbox": {
           "style": "light"
          },
          "paper_bgcolor": "white",
          "plot_bgcolor": "white",
          "polar": {
           "angularaxis": {
            "gridcolor": "rgb(232,232,232)",
            "linecolor": "rgb(36,36,36)",
            "showgrid": false,
            "showline": true,
            "ticks": "outside"
           },
           "bgcolor": "white",
           "radialaxis": {
            "gridcolor": "rgb(232,232,232)",
            "linecolor": "rgb(36,36,36)",
            "showgrid": false,
            "showline": true,
            "ticks": "outside"
           }
          },
          "scene": {
           "xaxis": {
            "backgroundcolor": "white",
            "gridcolor": "rgb(232,232,232)",
            "gridwidth": 2,
            "linecolor": "rgb(36,36,36)",
            "showbackground": true,
            "showgrid": false,
            "showline": true,
            "ticks": "outside",
            "zeroline": false,
            "zerolinecolor": "rgb(36,36,36)"
           },
           "yaxis": {
            "backgroundcolor": "white",
            "gridcolor": "rgb(232,232,232)",
            "gridwidth": 2,
            "linecolor": "rgb(36,36,36)",
            "showbackground": true,
            "showgrid": false,
            "showline": true,
            "ticks": "outside",
            "zeroline": false,
            "zerolinecolor": "rgb(36,36,36)"
           },
           "zaxis": {
            "backgroundcolor": "white",
            "gridcolor": "rgb(232,232,232)",
            "gridwidth": 2,
            "linecolor": "rgb(36,36,36)",
            "showbackground": true,
            "showgrid": false,
            "showline": true,
            "ticks": "outside",
            "zeroline": false,
            "zerolinecolor": "rgb(36,36,36)"
           }
          },
          "shapedefaults": {
           "fillcolor": "black",
           "line": {
            "width": 0
           },
           "opacity": 0.3
          },
          "ternary": {
           "aaxis": {
            "gridcolor": "rgb(232,232,232)",
            "linecolor": "rgb(36,36,36)",
            "showgrid": false,
            "showline": true,
            "ticks": "outside"
           },
           "baxis": {
            "gridcolor": "rgb(232,232,232)",
            "linecolor": "rgb(36,36,36)",
            "showgrid": false,
            "showline": true,
            "ticks": "outside"
           },
           "bgcolor": "white",
           "caxis": {
            "gridcolor": "rgb(232,232,232)",
            "linecolor": "rgb(36,36,36)",
            "showgrid": false,
            "showline": true,
            "ticks": "outside"
           }
          },
          "title": {
           "x": 0.05
          },
          "xaxis": {
           "automargin": true,
           "gridcolor": "rgb(232,232,232)",
           "linecolor": "rgb(36,36,36)",
           "showgrid": false,
           "showline": true,
           "ticks": "outside",
           "title": {
            "standoff": 15
           },
           "zeroline": false,
           "zerolinecolor": "rgb(36,36,36)"
          },
          "yaxis": {
           "automargin": true,
           "gridcolor": "rgb(232,232,232)",
           "linecolor": "rgb(36,36,36)",
           "showgrid": false,
           "showline": true,
           "ticks": "outside",
           "title": {
            "standoff": 15
           },
           "zeroline": false,
           "zerolinecolor": "rgb(36,36,36)"
          }
         }
        },
        "title": {
         "font": {
          "color": "Black",
          "size": 22
         },
         "text": "<b>Intertopic Distance Map</b>",
         "x": 0.5,
         "xanchor": "center",
         "y": 0.95,
         "yanchor": "top"
        },
        "width": 650,
        "xaxis": {
         "anchor": "y",
         "domain": [
          0,
          1
         ],
         "range": [
          -8.40395278930664,
          13.001306390762329
         ],
         "title": {
          "text": ""
         },
         "visible": false
        },
        "yaxis": {
         "anchor": "x",
         "domain": [
          0,
          1
         ],
         "range": [
          -13.004492378234863,
          31.59890670776367
         ],
         "title": {
          "text": ""
         },
         "visible": false
        }
       }
      }
     },
     "metadata": {},
     "output_type": "display_data"
    }
   ],
   "source": [
    "sample_topic = 0  # change this to see different clusters\n",
    "print(f\"\\n--- Sample Headlines from Topic {sample_topic} ---\")\n",
    "print(gold_df_filtered[gold_df_filtered[\"topic\"] == sample_topic][\"News\"].head(5))\n",
    "\n",
    "# Step 6: Visualize\n",
    "topic_model.visualize_topics().show()"
   ]
  },
  {
   "cell_type": "code",
   "execution_count": 49,
   "metadata": {},
   "outputs": [
    {
     "data": {
      "application/vnd.plotly.v1+json": {
       "config": {
        "plotlyServerURL": "https://plot.ly"
       },
       "data": [
        {
         "marker": {
          "color": "#D55E00"
         },
         "orientation": "h",
         "type": "bar",
         "x": [
          0.043324990339114966,
          0.048921798028377046,
          0.04915825581337539,
          0.04999718413126678,
          0.05642766720038818
         ],
         "xaxis": "x",
         "y": [
          "high gold  ",
          "low  ",
          "week  ",
          "month  ",
          "high  "
         ],
         "yaxis": "y"
        },
        {
         "marker": {
          "color": "#0072B2"
         },
         "orientation": "h",
         "type": "bar",
         "x": [
          0.037182596160132385,
          0.04421678040320408,
          0.05601703617070078,
          0.062059826292633756,
          0.06293415336002502
         ],
         "xaxis": "x2",
         "y": [
          "buy  ",
          "buying  ",
          "cues  ",
          "demand  ",
          "global  "
         ],
         "yaxis": "y2"
        },
        {
         "marker": {
          "color": "#CC79A7"
         },
         "orientation": "h",
         "type": "bar",
         "x": [
          0.053594964624866,
          0.05365509956380464,
          0.05861458226438099,
          0.05889038037273822,
          0.08491743336458717
         ],
         "xaxis": "x3",
         "y": [
          "likely  ",
          "sales  ",
          "market  ",
          "price  ",
          "demand  "
         ],
         "yaxis": "y3"
        },
        {
         "marker": {
          "color": "#E69F00"
         },
         "orientation": "h",
         "type": "bar",
         "x": [
          0.039854176278626134,
          0.04636503520345051,
          0.07565407306087901,
          0.08633726708760929,
          0.17073407342328534
         ],
         "xaxis": "x4",
         "y": [
          "steady  ",
          "rates  ",
          "hike  ",
          "rate  ",
          "fed  "
         ],
         "yaxis": "y4"
        },
        {
         "marker": {
          "color": "#56B4E9"
         },
         "orientation": "h",
         "type": "bar",
         "x": [
          0.09158667460156661,
          0.10276819354765576,
          0.10655946491239812,
          0.10675435374114858,
          0.11155170990859598
         ],
         "xaxis": "x5",
         "y": [
          "close  ",
          "session gold  ",
          "session  ",
          "week gold  ",
          "end  "
         ],
         "yaxis": "y5"
        },
        {
         "marker": {
          "color": "#009E73"
         },
         "orientation": "h",
         "type": "bar",
         "x": [
          0.0847270803275688,
          0.08874560583395372,
          0.1533171228056887,
          0.16878088823402937,
          0.17917645528927054
         ],
         "xaxis": "x6",
         "y": [
          "holds  ",
          "gold holds  ",
          "report  ",
          "data  ",
          "data gold  "
         ],
         "yaxis": "y6"
        },
        {
         "marker": {
          "color": "#F0E442"
         },
         "orientation": "h",
         "type": "bar",
         "x": [
          0.049830698650510506,
          0.058934897491471384,
          0.07589969596660057,
          0.08840234623720707,
          0.21784836331634316
         ],
         "xaxis": "x7",
         "y": [
          "fed  ",
          "dip  ",
          "focus  ",
          "ease  ",
          "china  "
         ],
         "yaxis": "y7"
        },
        {
         "marker": {
          "color": "#D55E00"
         },
         "orientation": "h",
         "type": "bar",
         "x": [
          0.09882407626052932,
          0.10768048676568315,
          0.18045423254354584,
          0.23158195558666114,
          0.27067775408261346
         ],
         "xaxis": "x8",
         "y": [
          "price  ",
          "gold price  ",
          "rate  ",
          "today  ",
          "gold trades  "
         ],
         "yaxis": "y8"
        },
        {
         "marker": {
          "color": "#0072B2"
         },
         "orientation": "h",
         "type": "bar",
         "x": [
          0.06096205760319079,
          0.06293926190752328,
          0.07395423184127815,
          0.07986818514430163,
          0.1656579835359126
         ],
         "xaxis": "x9",
         "y": [
          "stocks  ",
          "eases  ",
          "steady  ",
          "remain  ",
          "dollar gold  "
         ],
         "yaxis": "y9"
        },
        {
         "marker": {
          "color": "#CC79A7"
         },
         "orientation": "h",
         "type": "bar",
         "x": [
          0.11848959588596197,
          0.19228927569684065,
          0.1925669241834172,
          0.2629108738742912,
          0.29717433516784464
         ],
         "xaxis": "x10",
         "y": [
          "cut  ",
          "vs  ",
          "c  ",
          "q  ",
          "profit  "
         ],
         "yaxis": "y10"
        }
       ],
       "layout": {
        "annotations": [
         {
          "font": {
           "size": 16
          },
          "showarrow": false,
          "text": "Topic 0",
          "x": 0.0875,
          "xanchor": "center",
          "xref": "paper",
          "y": 1,
          "yanchor": "bottom",
          "yref": "paper"
         },
         {
          "font": {
           "size": 16
          },
          "showarrow": false,
          "text": "Topic 1",
          "x": 0.36250000000000004,
          "xanchor": "center",
          "xref": "paper",
          "y": 1,
          "yanchor": "bottom",
          "yref": "paper"
         },
         {
          "font": {
           "size": 16
          },
          "showarrow": false,
          "text": "Topic 2",
          "x": 0.6375000000000001,
          "xanchor": "center",
          "xref": "paper",
          "y": 1,
          "yanchor": "bottom",
          "yref": "paper"
         },
         {
          "font": {
           "size": 16
          },
          "showarrow": false,
          "text": "Topic 3",
          "x": 0.9125,
          "xanchor": "center",
          "xref": "paper",
          "y": 1,
          "yanchor": "bottom",
          "yref": "paper"
         },
         {
          "font": {
           "size": 16
          },
          "showarrow": false,
          "text": "Topic 4",
          "x": 0.0875,
          "xanchor": "center",
          "xref": "paper",
          "y": 0.6222222222222222,
          "yanchor": "bottom",
          "yref": "paper"
         },
         {
          "font": {
           "size": 16
          },
          "showarrow": false,
          "text": "Topic 5",
          "x": 0.36250000000000004,
          "xanchor": "center",
          "xref": "paper",
          "y": 0.6222222222222222,
          "yanchor": "bottom",
          "yref": "paper"
         },
         {
          "font": {
           "size": 16
          },
          "showarrow": false,
          "text": "Topic 6",
          "x": 0.6375000000000001,
          "xanchor": "center",
          "xref": "paper",
          "y": 0.6222222222222222,
          "yanchor": "bottom",
          "yref": "paper"
         },
         {
          "font": {
           "size": 16
          },
          "showarrow": false,
          "text": "Topic 7",
          "x": 0.9125,
          "xanchor": "center",
          "xref": "paper",
          "y": 0.6222222222222222,
          "yanchor": "bottom",
          "yref": "paper"
         },
         {
          "font": {
           "size": 16
          },
          "showarrow": false,
          "text": "Topic 8",
          "x": 0.0875,
          "xanchor": "center",
          "xref": "paper",
          "y": 0.24444444444444446,
          "yanchor": "bottom",
          "yref": "paper"
         },
         {
          "font": {
           "size": 16
          },
          "showarrow": false,
          "text": "Topic 9",
          "x": 0.36250000000000004,
          "xanchor": "center",
          "xref": "paper",
          "y": 0.24444444444444446,
          "yanchor": "bottom",
          "yref": "paper"
         }
        ],
        "height": 750,
        "hoverlabel": {
         "bgcolor": "white",
         "font": {
          "family": "Rockwell",
          "size": 16
         }
        },
        "showlegend": false,
        "template": {
         "data": {
          "bar": [
           {
            "error_x": {
             "color": "#2a3f5f"
            },
            "error_y": {
             "color": "#2a3f5f"
            },
            "marker": {
             "line": {
              "color": "white",
              "width": 0.5
             },
             "pattern": {
              "fillmode": "overlay",
              "size": 10,
              "solidity": 0.2
             }
            },
            "type": "bar"
           }
          ],
          "barpolar": [
           {
            "marker": {
             "line": {
              "color": "white",
              "width": 0.5
             },
             "pattern": {
              "fillmode": "overlay",
              "size": 10,
              "solidity": 0.2
             }
            },
            "type": "barpolar"
           }
          ],
          "carpet": [
           {
            "aaxis": {
             "endlinecolor": "#2a3f5f",
             "gridcolor": "#C8D4E3",
             "linecolor": "#C8D4E3",
             "minorgridcolor": "#C8D4E3",
             "startlinecolor": "#2a3f5f"
            },
            "baxis": {
             "endlinecolor": "#2a3f5f",
             "gridcolor": "#C8D4E3",
             "linecolor": "#C8D4E3",
             "minorgridcolor": "#C8D4E3",
             "startlinecolor": "#2a3f5f"
            },
            "type": "carpet"
           }
          ],
          "choropleth": [
           {
            "colorbar": {
             "outlinewidth": 0,
             "ticks": ""
            },
            "type": "choropleth"
           }
          ],
          "contour": [
           {
            "colorbar": {
             "outlinewidth": 0,
             "ticks": ""
            },
            "colorscale": [
             [
              0,
              "#0d0887"
             ],
             [
              0.1111111111111111,
              "#46039f"
             ],
             [
              0.2222222222222222,
              "#7201a8"
             ],
             [
              0.3333333333333333,
              "#9c179e"
             ],
             [
              0.4444444444444444,
              "#bd3786"
             ],
             [
              0.5555555555555556,
              "#d8576b"
             ],
             [
              0.6666666666666666,
              "#ed7953"
             ],
             [
              0.7777777777777778,
              "#fb9f3a"
             ],
             [
              0.8888888888888888,
              "#fdca26"
             ],
             [
              1,
              "#f0f921"
             ]
            ],
            "type": "contour"
           }
          ],
          "contourcarpet": [
           {
            "colorbar": {
             "outlinewidth": 0,
             "ticks": ""
            },
            "type": "contourcarpet"
           }
          ],
          "heatmap": [
           {
            "colorbar": {
             "outlinewidth": 0,
             "ticks": ""
            },
            "colorscale": [
             [
              0,
              "#0d0887"
             ],
             [
              0.1111111111111111,
              "#46039f"
             ],
             [
              0.2222222222222222,
              "#7201a8"
             ],
             [
              0.3333333333333333,
              "#9c179e"
             ],
             [
              0.4444444444444444,
              "#bd3786"
             ],
             [
              0.5555555555555556,
              "#d8576b"
             ],
             [
              0.6666666666666666,
              "#ed7953"
             ],
             [
              0.7777777777777778,
              "#fb9f3a"
             ],
             [
              0.8888888888888888,
              "#fdca26"
             ],
             [
              1,
              "#f0f921"
             ]
            ],
            "type": "heatmap"
           }
          ],
          "histogram": [
           {
            "marker": {
             "pattern": {
              "fillmode": "overlay",
              "size": 10,
              "solidity": 0.2
             }
            },
            "type": "histogram"
           }
          ],
          "histogram2d": [
           {
            "colorbar": {
             "outlinewidth": 0,
             "ticks": ""
            },
            "colorscale": [
             [
              0,
              "#0d0887"
             ],
             [
              0.1111111111111111,
              "#46039f"
             ],
             [
              0.2222222222222222,
              "#7201a8"
             ],
             [
              0.3333333333333333,
              "#9c179e"
             ],
             [
              0.4444444444444444,
              "#bd3786"
             ],
             [
              0.5555555555555556,
              "#d8576b"
             ],
             [
              0.6666666666666666,
              "#ed7953"
             ],
             [
              0.7777777777777778,
              "#fb9f3a"
             ],
             [
              0.8888888888888888,
              "#fdca26"
             ],
             [
              1,
              "#f0f921"
             ]
            ],
            "type": "histogram2d"
           }
          ],
          "histogram2dcontour": [
           {
            "colorbar": {
             "outlinewidth": 0,
             "ticks": ""
            },
            "colorscale": [
             [
              0,
              "#0d0887"
             ],
             [
              0.1111111111111111,
              "#46039f"
             ],
             [
              0.2222222222222222,
              "#7201a8"
             ],
             [
              0.3333333333333333,
              "#9c179e"
             ],
             [
              0.4444444444444444,
              "#bd3786"
             ],
             [
              0.5555555555555556,
              "#d8576b"
             ],
             [
              0.6666666666666666,
              "#ed7953"
             ],
             [
              0.7777777777777778,
              "#fb9f3a"
             ],
             [
              0.8888888888888888,
              "#fdca26"
             ],
             [
              1,
              "#f0f921"
             ]
            ],
            "type": "histogram2dcontour"
           }
          ],
          "mesh3d": [
           {
            "colorbar": {
             "outlinewidth": 0,
             "ticks": ""
            },
            "type": "mesh3d"
           }
          ],
          "parcoords": [
           {
            "line": {
             "colorbar": {
              "outlinewidth": 0,
              "ticks": ""
             }
            },
            "type": "parcoords"
           }
          ],
          "pie": [
           {
            "automargin": true,
            "type": "pie"
           }
          ],
          "scatter": [
           {
            "fillpattern": {
             "fillmode": "overlay",
             "size": 10,
             "solidity": 0.2
            },
            "type": "scatter"
           }
          ],
          "scatter3d": [
           {
            "line": {
             "colorbar": {
              "outlinewidth": 0,
              "ticks": ""
             }
            },
            "marker": {
             "colorbar": {
              "outlinewidth": 0,
              "ticks": ""
             }
            },
            "type": "scatter3d"
           }
          ],
          "scattercarpet": [
           {
            "marker": {
             "colorbar": {
              "outlinewidth": 0,
              "ticks": ""
             }
            },
            "type": "scattercarpet"
           }
          ],
          "scattergeo": [
           {
            "marker": {
             "colorbar": {
              "outlinewidth": 0,
              "ticks": ""
             }
            },
            "type": "scattergeo"
           }
          ],
          "scattergl": [
           {
            "marker": {
             "colorbar": {
              "outlinewidth": 0,
              "ticks": ""
             }
            },
            "type": "scattergl"
           }
          ],
          "scattermap": [
           {
            "marker": {
             "colorbar": {
              "outlinewidth": 0,
              "ticks": ""
             }
            },
            "type": "scattermap"
           }
          ],
          "scattermapbox": [
           {
            "marker": {
             "colorbar": {
              "outlinewidth": 0,
              "ticks": ""
             }
            },
            "type": "scattermapbox"
           }
          ],
          "scatterpolar": [
           {
            "marker": {
             "colorbar": {
              "outlinewidth": 0,
              "ticks": ""
             }
            },
            "type": "scatterpolar"
           }
          ],
          "scatterpolargl": [
           {
            "marker": {
             "colorbar": {
              "outlinewidth": 0,
              "ticks": ""
             }
            },
            "type": "scatterpolargl"
           }
          ],
          "scatterternary": [
           {
            "marker": {
             "colorbar": {
              "outlinewidth": 0,
              "ticks": ""
             }
            },
            "type": "scatterternary"
           }
          ],
          "surface": [
           {
            "colorbar": {
             "outlinewidth": 0,
             "ticks": ""
            },
            "colorscale": [
             [
              0,
              "#0d0887"
             ],
             [
              0.1111111111111111,
              "#46039f"
             ],
             [
              0.2222222222222222,
              "#7201a8"
             ],
             [
              0.3333333333333333,
              "#9c179e"
             ],
             [
              0.4444444444444444,
              "#bd3786"
             ],
             [
              0.5555555555555556,
              "#d8576b"
             ],
             [
              0.6666666666666666,
              "#ed7953"
             ],
             [
              0.7777777777777778,
              "#fb9f3a"
             ],
             [
              0.8888888888888888,
              "#fdca26"
             ],
             [
              1,
              "#f0f921"
             ]
            ],
            "type": "surface"
           }
          ],
          "table": [
           {
            "cells": {
             "fill": {
              "color": "#EBF0F8"
             },
             "line": {
              "color": "white"
             }
            },
            "header": {
             "fill": {
              "color": "#C8D4E3"
             },
             "line": {
              "color": "white"
             }
            },
            "type": "table"
           }
          ]
         },
         "layout": {
          "annotationdefaults": {
           "arrowcolor": "#2a3f5f",
           "arrowhead": 0,
           "arrowwidth": 1
          },
          "autotypenumbers": "strict",
          "coloraxis": {
           "colorbar": {
            "outlinewidth": 0,
            "ticks": ""
           }
          },
          "colorscale": {
           "diverging": [
            [
             0,
             "#8e0152"
            ],
            [
             0.1,
             "#c51b7d"
            ],
            [
             0.2,
             "#de77ae"
            ],
            [
             0.3,
             "#f1b6da"
            ],
            [
             0.4,
             "#fde0ef"
            ],
            [
             0.5,
             "#f7f7f7"
            ],
            [
             0.6,
             "#e6f5d0"
            ],
            [
             0.7,
             "#b8e186"
            ],
            [
             0.8,
             "#7fbc41"
            ],
            [
             0.9,
             "#4d9221"
            ],
            [
             1,
             "#276419"
            ]
           ],
           "sequential": [
            [
             0,
             "#0d0887"
            ],
            [
             0.1111111111111111,
             "#46039f"
            ],
            [
             0.2222222222222222,
             "#7201a8"
            ],
            [
             0.3333333333333333,
             "#9c179e"
            ],
            [
             0.4444444444444444,
             "#bd3786"
            ],
            [
             0.5555555555555556,
             "#d8576b"
            ],
            [
             0.6666666666666666,
             "#ed7953"
            ],
            [
             0.7777777777777778,
             "#fb9f3a"
            ],
            [
             0.8888888888888888,
             "#fdca26"
            ],
            [
             1,
             "#f0f921"
            ]
           ],
           "sequentialminus": [
            [
             0,
             "#0d0887"
            ],
            [
             0.1111111111111111,
             "#46039f"
            ],
            [
             0.2222222222222222,
             "#7201a8"
            ],
            [
             0.3333333333333333,
             "#9c179e"
            ],
            [
             0.4444444444444444,
             "#bd3786"
            ],
            [
             0.5555555555555556,
             "#d8576b"
            ],
            [
             0.6666666666666666,
             "#ed7953"
            ],
            [
             0.7777777777777778,
             "#fb9f3a"
            ],
            [
             0.8888888888888888,
             "#fdca26"
            ],
            [
             1,
             "#f0f921"
            ]
           ]
          },
          "colorway": [
           "#636efa",
           "#EF553B",
           "#00cc96",
           "#ab63fa",
           "#FFA15A",
           "#19d3f3",
           "#FF6692",
           "#B6E880",
           "#FF97FF",
           "#FECB52"
          ],
          "font": {
           "color": "#2a3f5f"
          },
          "geo": {
           "bgcolor": "white",
           "lakecolor": "white",
           "landcolor": "white",
           "showlakes": true,
           "showland": true,
           "subunitcolor": "#C8D4E3"
          },
          "hoverlabel": {
           "align": "left"
          },
          "hovermode": "closest",
          "mapbox": {
           "style": "light"
          },
          "paper_bgcolor": "white",
          "plot_bgcolor": "white",
          "polar": {
           "angularaxis": {
            "gridcolor": "#EBF0F8",
            "linecolor": "#EBF0F8",
            "ticks": ""
           },
           "bgcolor": "white",
           "radialaxis": {
            "gridcolor": "#EBF0F8",
            "linecolor": "#EBF0F8",
            "ticks": ""
           }
          },
          "scene": {
           "xaxis": {
            "backgroundcolor": "white",
            "gridcolor": "#DFE8F3",
            "gridwidth": 2,
            "linecolor": "#EBF0F8",
            "showbackground": true,
            "ticks": "",
            "zerolinecolor": "#EBF0F8"
           },
           "yaxis": {
            "backgroundcolor": "white",
            "gridcolor": "#DFE8F3",
            "gridwidth": 2,
            "linecolor": "#EBF0F8",
            "showbackground": true,
            "ticks": "",
            "zerolinecolor": "#EBF0F8"
           },
           "zaxis": {
            "backgroundcolor": "white",
            "gridcolor": "#DFE8F3",
            "gridwidth": 2,
            "linecolor": "#EBF0F8",
            "showbackground": true,
            "ticks": "",
            "zerolinecolor": "#EBF0F8"
           }
          },
          "shapedefaults": {
           "line": {
            "color": "#2a3f5f"
           }
          },
          "ternary": {
           "aaxis": {
            "gridcolor": "#DFE8F3",
            "linecolor": "#A2B1C6",
            "ticks": ""
           },
           "baxis": {
            "gridcolor": "#DFE8F3",
            "linecolor": "#A2B1C6",
            "ticks": ""
           },
           "bgcolor": "white",
           "caxis": {
            "gridcolor": "#DFE8F3",
            "linecolor": "#A2B1C6",
            "ticks": ""
           }
          },
          "title": {
           "x": 0.05
          },
          "xaxis": {
           "automargin": true,
           "gridcolor": "#EBF0F8",
           "linecolor": "#EBF0F8",
           "ticks": "",
           "title": {
            "standoff": 15
           },
           "zerolinecolor": "#EBF0F8",
           "zerolinewidth": 2
          },
          "yaxis": {
           "automargin": true,
           "gridcolor": "#EBF0F8",
           "linecolor": "#EBF0F8",
           "ticks": "",
           "title": {
            "standoff": 15
           },
           "zerolinecolor": "#EBF0F8",
           "zerolinewidth": 2
          }
         }
        },
        "title": {
         "font": {
          "color": "Black",
          "size": 22
         },
         "text": "Topic Word Scores",
         "x": 0.5,
         "xanchor": "center",
         "yanchor": "top"
        },
        "width": 1000,
        "xaxis": {
         "anchor": "y",
         "domain": [
          0,
          0.175
         ],
         "showgrid": true
        },
        "xaxis10": {
         "anchor": "y10",
         "domain": [
          0.275,
          0.45
         ],
         "showgrid": true
        },
        "xaxis11": {
         "anchor": "y11",
         "domain": [
          0.55,
          0.7250000000000001
         ],
         "showgrid": true
        },
        "xaxis12": {
         "anchor": "y12",
         "domain": [
          0.825,
          1
         ],
         "showgrid": true
        },
        "xaxis2": {
         "anchor": "y2",
         "domain": [
          0.275,
          0.45
         ],
         "showgrid": true
        },
        "xaxis3": {
         "anchor": "y3",
         "domain": [
          0.55,
          0.7250000000000001
         ],
         "showgrid": true
        },
        "xaxis4": {
         "anchor": "y4",
         "domain": [
          0.825,
          1
         ],
         "showgrid": true
        },
        "xaxis5": {
         "anchor": "y5",
         "domain": [
          0,
          0.175
         ],
         "showgrid": true
        },
        "xaxis6": {
         "anchor": "y6",
         "domain": [
          0.275,
          0.45
         ],
         "showgrid": true
        },
        "xaxis7": {
         "anchor": "y7",
         "domain": [
          0.55,
          0.7250000000000001
         ],
         "showgrid": true
        },
        "xaxis8": {
         "anchor": "y8",
         "domain": [
          0.825,
          1
         ],
         "showgrid": true
        },
        "xaxis9": {
         "anchor": "y9",
         "domain": [
          0,
          0.175
         ],
         "showgrid": true
        },
        "yaxis": {
         "anchor": "x",
         "domain": [
          0.7555555555555555,
          1
         ],
         "showgrid": true
        },
        "yaxis10": {
         "anchor": "x10",
         "domain": [
          0,
          0.24444444444444446
         ],
         "showgrid": true
        },
        "yaxis11": {
         "anchor": "x11",
         "domain": [
          0,
          0.24444444444444446
         ],
         "showgrid": true
        },
        "yaxis12": {
         "anchor": "x12",
         "domain": [
          0,
          0.24444444444444446
         ],
         "showgrid": true
        },
        "yaxis2": {
         "anchor": "x2",
         "domain": [
          0.7555555555555555,
          1
         ],
         "showgrid": true
        },
        "yaxis3": {
         "anchor": "x3",
         "domain": [
          0.7555555555555555,
          1
         ],
         "showgrid": true
        },
        "yaxis4": {
         "anchor": "x4",
         "domain": [
          0.7555555555555555,
          1
         ],
         "showgrid": true
        },
        "yaxis5": {
         "anchor": "x5",
         "domain": [
          0.37777777777777777,
          0.6222222222222222
         ],
         "showgrid": true
        },
        "yaxis6": {
         "anchor": "x6",
         "domain": [
          0.37777777777777777,
          0.6222222222222222
         ],
         "showgrid": true
        },
        "yaxis7": {
         "anchor": "x7",
         "domain": [
          0.37777777777777777,
          0.6222222222222222
         ],
         "showgrid": true
        },
        "yaxis8": {
         "anchor": "x8",
         "domain": [
          0.37777777777777777,
          0.6222222222222222
         ],
         "showgrid": true
        },
        "yaxis9": {
         "anchor": "x9",
         "domain": [
          0,
          0.24444444444444446
         ],
         "showgrid": true
        }
       }
      }
     },
     "metadata": {},
     "output_type": "display_data"
    }
   ],
   "source": [
    "topic_model.visualize_barchart(top_n_topics=10).show()"
   ]
  },
  {
   "cell_type": "code",
   "execution_count": 56,
   "metadata": {},
   "outputs": [
    {
     "data": {
      "application/vnd.plotly.v1+json": {
       "config": {
        "plotlyServerURL": "https://plot.ly"
       },
       "data": [
        {
         "hoverinfo": "text",
         "marker": {
          "color": "rgb(61,153,112)"
         },
         "mode": "lines",
         "type": "scatter",
         "x": {
          "bdata": "AAAAAAAAAAB4WPKrc+LoP3hY8qtz4ug/AAAAAAAAAAA=",
          "dtype": "f8"
         },
         "xaxis": "x",
         "y": {
          "bdata": "AAAAAAAAFMAAAAAAAAAUwAAAAAAAAC7AAAAAAAAALsA=",
          "dtype": "f8"
         },
         "yaxis": "y"
        },
        {
         "hoverinfo": "text",
         "marker": {
          "color": "rgb(255,65,54)"
         },
         "mode": "lines",
         "type": "scatter",
         "x": {
          "bdata": "AAAAAAAAAAAwpfhtEHjbPzCl+G0QeNs/AAAAAAAAAAA=",
          "dtype": "f8"
         },
         "xaxis": "x",
         "y": {
          "bdata": "AAAAAAAAOcAAAAAAAAA5wAAAAAAAgEHAAAAAAACAQcA=",
          "dtype": "f8"
         },
         "yaxis": "y"
        },
        {
         "hoverinfo": "text",
         "marker": {
          "color": "rgb(255,65,54)"
         },
         "mode": "lines",
         "type": "scatter",
         "x": {
          "bdata": "MKX4bRB42z/i8g+qMZrjP+LyD6oxmuM/AAAAAAAAAAA=",
          "dtype": "f8"
         },
         "xaxis": "x",
         "y": {
          "bdata": "AAAAAAAAPsAAAAAAAAA+wAAAAAAAgEbAAAAAAACARsA=",
          "dtype": "f8"
         },
         "yaxis": "y"
        },
        {
         "hoverinfo": "text",
         "marker": {
          "color": "rgb(0,116,217)"
         },
         "mode": "lines",
         "type": "scatter",
         "x": {
          "bdata": "eFjyq3Pi6D8AgLxaFpryPwCAvFoWmvI/4vIPqjGa4z8=",
          "dtype": "f8"
         },
         "xaxis": "x",
         "y": {
          "bdata": "AAAAAAAAJMAAAAAAAAAkwAAAAAAAwELAAAAAAADAQsA=",
          "dtype": "f8"
         },
         "yaxis": "y"
        },
        {
         "hoverinfo": "text",
         "marker": {
          "color": "rgb(35,205,205)"
         },
         "mode": "lines",
         "type": "scatter",
         "x": {
          "bdata": "AAAAAAAAAADKHdy4i83bP8od3LiLzds/AAAAAAAAAAA=",
          "dtype": "f8"
         },
         "xaxis": "x",
         "y": {
          "bdata": "AAAAAACAS8AAAAAAAIBLwAAAAAAAQFDAAAAAAABAUMA=",
          "dtype": "f8"
         },
         "yaxis": "y"
        },
        {
         "hoverinfo": "text",
         "marker": {
          "color": "rgb(133,20,75)"
         },
         "mode": "lines",
         "type": "scatter",
         "x": {
          "bdata": "AAAAAAAAAABQ7rearhbZP1Dut5quFtk/AAAAAAAAAAA=",
          "dtype": "f8"
         },
         "xaxis": "x",
         "y": {
          "bdata": "AAAAAADAV8AAAAAAAMBXwAAAAAAAQFrAAAAAAABAWsA=",
          "dtype": "f8"
         },
         "yaxis": "y"
        },
        {
         "hoverinfo": "text",
         "marker": {
          "color": "rgb(133,20,75)"
         },
         "mode": "lines",
         "type": "scatter",
         "x": {
          "bdata": "AAAAAAAAAACKdrdWvbLmP4p2t1a9suY/UO63mq4W2T8=",
          "dtype": "f8"
         },
         "xaxis": "x",
         "y": {
          "bdata": "AAAAAABAVcAAAAAAAEBVwAAAAAAAAFnAAAAAAAAAWcA=",
          "dtype": "f8"
         },
         "yaxis": "y"
        },
        {
         "hoverinfo": "text",
         "marker": {
          "color": "rgb(133,20,75)"
         },
         "mode": "lines",
         "type": "scatter",
         "x": {
          "bdata": "AAAAAAAAAADviw569vHqP++LDnr28eo/ina3Vr2y5j8=",
          "dtype": "f8"
         },
         "xaxis": "x",
         "y": {
          "bdata": "AAAAAADAUsAAAAAAAMBSwAAAAAAAIFfAAAAAAAAgV8A=",
          "dtype": "f8"
         },
         "yaxis": "y"
        },
        {
         "hoverinfo": "text",
         "marker": {
          "color": "rgb(255,220,0)"
         },
         "mode": "lines",
         "type": "scatter",
         "x": {
          "bdata": "AAAAAAAAAABGnpJITsfsP0aekkhOx+w/AAAAAAAAAAA=",
          "dtype": "f8"
         },
         "xaxis": "x",
         "y": {
          "bdata": "AAAAAADAXMAAAAAAAMBcwAAAAAAAQF/AAAAAAABAX8A=",
          "dtype": "f8"
         },
         "yaxis": "y"
        },
        {
         "hoverinfo": "text",
         "marker": {
          "color": "rgb(255,220,0)"
         },
         "mode": "lines",
         "type": "scatter",
         "x": {
          "bdata": "AAAAAAAAAAA1skn8djnsPzWySfx2Oew/AAAAAAAAAAA=",
          "dtype": "f8"
         },
         "xaxis": "x",
         "y": {
          "bdata": "AAAAAADgYMAAAAAAAOBgwAAAAAAAIGLAAAAAAAAgYsA=",
          "dtype": "f8"
         },
         "yaxis": "y"
        },
        {
         "hoverinfo": "text",
         "marker": {
          "color": "rgb(255,220,0)"
         },
         "mode": "lines",
         "type": "scatter",
         "x": {
          "bdata": "Rp6SSE7H7D/kKKfngrLvP+Qop+eCsu8/NbJJ/HY57D8=",
          "dtype": "f8"
         },
         "xaxis": "x",
         "y": {
          "bdata": "AAAAAAAAXsAAAAAAAABewAAAAAAAgGHAAAAAAACAYcA=",
          "dtype": "f8"
         },
         "yaxis": "y"
        },
        {
         "hoverinfo": "text",
         "marker": {
          "color": "rgb(0,116,217)"
         },
         "mode": "lines",
         "type": "scatter",
         "x": {
          "bdata": "74sOevbx6j//UqwjkWrxP/9SrCORavE/5Cin54Ky7z8=",
          "dtype": "f8"
         },
         "xaxis": "x",
         "y": {
          "bdata": "AAAAAADwVMAAAAAAAPBUwAAAAAAAQGDAAAAAAABAYMA=",
          "dtype": "f8"
         },
         "yaxis": "y"
        },
        {
         "hoverinfo": "text",
         "marker": {
          "color": "rgb(0,116,217)"
         },
         "mode": "lines",
         "type": "scatter",
         "x": {
          "bdata": "yh3cuIvN2z+v6YQI7Bn0P6/phAjsGfQ//1KsI5Fq8T8=",
          "dtype": "f8"
         },
         "xaxis": "x",
         "y": {
          "bdata": "AAAAAAAATsAAAAAAAABOwAAAAAAAuFrAAAAAAAC4WsA=",
          "dtype": "f8"
         },
         "yaxis": "y"
        },
        {
         "hoverinfo": "text",
         "marker": {
          "color": "rgb(40,35,35)"
         },
         "mode": "lines",
         "type": "scatter",
         "x": {
          "bdata": "AAAAAAAAAABR29EBCIXhP1Hb0QEIheE/AAAAAAAAAAA=",
          "dtype": "f8"
         },
         "xaxis": "x",
         "y": {
          "bdata": "AAAAAACgZMAAAAAAAKBkwAAAAAAA4GXAAAAAAADgZcA=",
          "dtype": "f8"
         },
         "yaxis": "y"
        },
        {
         "hoverinfo": "text",
         "marker": {
          "color": "rgb(40,35,35)"
         },
         "mode": "lines",
         "type": "scatter",
         "x": {
          "bdata": "AAAAAAAAAABlft4rXQrmP2V+3itdCuY/UdvRAQiF4T8=",
          "dtype": "f8"
         },
         "xaxis": "x",
         "y": {
          "bdata": "AAAAAABgY8AAAAAAAGBjwAAAAAAAQGXAAAAAAABAZcA=",
          "dtype": "f8"
         },
         "yaxis": "y"
        },
        {
         "hoverinfo": "text",
         "marker": {
          "color": "rgb(40,35,35)"
         },
         "mode": "lines",
         "type": "scatter",
         "x": {
          "bdata": "AAAAAAAAAACg0i4q7DjaP6DSLirsONo/AAAAAAAAAAA=",
          "dtype": "f8"
         },
         "xaxis": "x",
         "y": {
          "bdata": "AAAAAAAgZ8AAAAAAACBnwAAAAAAAYGjAAAAAAABgaMA=",
          "dtype": "f8"
         },
         "yaxis": "y"
        },
        {
         "hoverinfo": "text",
         "marker": {
          "color": "rgb(40,35,35)"
         },
         "mode": "lines",
         "type": "scatter",
         "x": {
          "bdata": "ZX7eK10K5j95dGSGAyDtP3l0ZIYDIO0/oNIuKuw42j8=",
          "dtype": "f8"
         },
         "xaxis": "x",
         "y": {
          "bdata": "AAAAAABQZMAAAAAAAFBkwAAAAAAAwGfAAAAAAADAZ8A=",
          "dtype": "f8"
         },
         "yaxis": "y"
        },
        {
         "hoverinfo": "text",
         "marker": {
          "color": "rgb(61,153,112)"
         },
         "mode": "lines",
         "type": "scatter",
         "x": {
          "bdata": "AAAAAAAAAADUdyOXzhvpP9R3I5fOG+k/AAAAAAAAAAA=",
          "dtype": "f8"
         },
         "xaxis": "x",
         "y": {
          "bdata": "AAAAAACgacAAAAAAAKBpwAAAAAAA4GrAAAAAAADgasA=",
          "dtype": "f8"
         },
         "yaxis": "y"
        },
        {
         "hoverinfo": "text",
         "marker": {
          "color": "rgb(61,153,112)"
         },
         "mode": "lines",
         "type": "scatter",
         "x": {
          "bdata": "1Hcjl84b6T+Zr6bxU83pP5mvpvFTzek/AAAAAAAAAAA=",
          "dtype": "f8"
         },
         "xaxis": "x",
         "y": {
          "bdata": "AAAAAABAasAAAAAAAEBqwAAAAAAAIGzAAAAAAAAgbMA=",
          "dtype": "f8"
         },
         "yaxis": "y"
        },
        {
         "hoverinfo": "text",
         "marker": {
          "color": "rgb(0,116,217)"
         },
         "mode": "lines",
         "type": "scatter",
         "x": {
          "bdata": "eXRkhgMg7T/W5vCvKm/yP9bm8K8qb/I/ma+m8VPN6T8=",
          "dtype": "f8"
         },
         "xaxis": "x",
         "y": {
          "bdata": "AAAAAAAIZsAAAAAAAAhmwAAAAAAAMGvAAAAAAAAwa8A=",
          "dtype": "f8"
         },
         "yaxis": "y"
        },
        {
         "hoverinfo": "text",
         "marker": {
          "color": "rgb(0,116,217)"
         },
         "mode": "lines",
         "type": "scatter",
         "x": {
          "bdata": "r+mECOwZ9D9u5dpiR8P0P27l2mJHw/Q/1ubwrypv8j8=",
          "dtype": "f8"
         },
         "xaxis": "x",
         "y": {
          "bdata": "AAAAAADcVMAAAAAAANxUwAAAAAAAnGjAAAAAAACcaMA=",
          "dtype": "f8"
         },
         "yaxis": "y"
        },
        {
         "hoverinfo": "text",
         "marker": {
          "color": "rgb(0,116,217)"
         },
         "mode": "lines",
         "type": "scatter",
         "x": {
          "bdata": "AIC8Whaa8j9Yq4MOaL32P1irgw5ovfY/buXaYkfD9D8=",
          "dtype": "f8"
         },
         "xaxis": "x",
         "y": {
          "bdata": "AAAAAADAN8AAAAAAAMA3wAAAAAAAhWHAAAAAAACFYcA=",
          "dtype": "f8"
         },
         "yaxis": "y"
        },
        {
         "hoverinfo": "text",
         "marker": {
          "color": "rgb(255,65,54)"
         },
         "mode": "lines",
         "type": "scatter",
         "x": {
          "bdata": "AAAAAAAAAACwTyV1v3u8P7BPJXW/e7w/AAAAAAAAAAA=",
          "dtype": "f8"
         },
         "xaxis": "x",
         "y": {
          "bdata": "AAAAAACgbsAAAAAAAKBuwAAAAAAA4G/AAAAAAADgb8A=",
          "dtype": "f8"
         },
         "yaxis": "y"
        },
        {
         "hoverinfo": "text",
         "marker": {
          "color": "rgb(255,65,54)"
         },
         "mode": "lines",
         "type": "scatter",
         "x": {
          "bdata": "AAAAAAAAAADBOfFVenzgP8E58VV6fOA/sE8ldb97vD8=",
          "dtype": "f8"
         },
         "xaxis": "x",
         "y": {
          "bdata": "AAAAAABgbcAAAAAAAGBtwAAAAAAAQG/AAAAAAABAb8A=",
          "dtype": "f8"
         },
         "yaxis": "y"
        },
        {
         "hoverinfo": "text",
         "marker": {
          "color": "rgb(35,205,205)"
         },
         "mode": "lines",
         "type": "scatter",
         "x": {
          "bdata": "AAAAAAAAAADMf6ne6r7DP8x/qd7qvsM/AAAAAAAAAAA=",
          "dtype": "f8"
         },
         "xaxis": "x",
         "y": {
          "bdata": "AAAAAAAwccAAAAAAADBxwAAAAAAA0HHAAAAAAADQccA=",
          "dtype": "f8"
         },
         "yaxis": "y"
        },
        {
         "hoverinfo": "text",
         "marker": {
          "color": "rgb(35,205,205)"
         },
         "mode": "lines",
         "type": "scatter",
         "x": {
          "bdata": "AAAAAAAAAACqG1kkTtTjP6obWSRO1OM/zH+p3uq+wz8=",
          "dtype": "f8"
         },
         "xaxis": "x",
         "y": {
          "bdata": "AAAAAACQcMAAAAAAAJBwwAAAAAAAgHHAAAAAAACAccA=",
          "dtype": "f8"
         },
         "yaxis": "y"
        },
        {
         "hoverinfo": "text",
         "marker": {
          "color": "rgb(61,153,112)"
         },
         "mode": "lines",
         "type": "scatter",
         "x": {
          "bdata": "AAAAAAAAAADiL24x3OrgP+IvbjHc6uA/AAAAAAAAAAA=",
          "dtype": "f8"
         },
         "xaxis": "x",
         "y": {
          "bdata": "AAAAAAAQc8AAAAAAABBzwAAAAAAAsHPAAAAAAACwc8A=",
          "dtype": "f8"
         },
         "yaxis": "y"
        },
        {
         "hoverinfo": "text",
         "marker": {
          "color": "rgb(61,153,112)"
         },
         "mode": "lines",
         "type": "scatter",
         "x": {
          "bdata": "AAAAAAAAAACkyqsVs4TvP6TKqxWzhO8/4i9uMdzq4D8=",
          "dtype": "f8"
         },
         "xaxis": "x",
         "y": {
          "bdata": "AAAAAABwcsAAAAAAAHBywAAAAAAAYHPAAAAAAABgc8A=",
          "dtype": "f8"
         },
         "yaxis": "y"
        },
        {
         "hoverinfo": "text",
         "marker": {
          "color": "rgb(255,65,54)"
         },
         "mode": "lines",
         "type": "scatter",
         "x": {
          "bdata": "AAAAAAAAAAAA3g93j5zSPwDeD3ePnNI/AAAAAAAAAAA=",
          "dtype": "f8"
         },
         "xaxis": "x",
         "y": {
          "bdata": "AAAAAABQdMAAAAAAAFB0wAAAAAAA8HTAAAAAAADwdMA=",
          "dtype": "f8"
         },
         "yaxis": "y"
        },
        {
         "hoverinfo": "text",
         "marker": {
          "color": "rgb(0,116,217)"
         },
         "mode": "lines",
         "type": "scatter",
         "x": {
          "bdata": "pMqrFbOE7z+KOIa214fyP4o4hrbXh/I/AN4Pd4+c0j8=",
          "dtype": "f8"
         },
         "xaxis": "x",
         "y": {
          "bdata": "AAAAAADocsAAAAAAAOhywAAAAAAAoHTAAAAAAACgdMA=",
          "dtype": "f8"
         },
         "yaxis": "y"
        },
        {
         "hoverinfo": "text",
         "marker": {
          "color": "rgb(35,205,205)"
         },
         "mode": "lines",
         "type": "scatter",
         "x": {
          "bdata": "AAAAAAAAAACYgPEuOlXZP5iA8S46Vdk/AAAAAAAAAAA=",
          "dtype": "f8"
         },
         "xaxis": "x",
         "y": {
          "bdata": "AAAAAACQdcAAAAAAAJB1wAAAAAAAMHbAAAAAAAAwdsA=",
          "dtype": "f8"
         },
         "yaxis": "y"
        },
        {
         "hoverinfo": "text",
         "marker": {
          "color": "rgb(0,116,217)"
         },
         "mode": "lines",
         "type": "scatter",
         "x": {
          "bdata": "ijiGtteH8j9hXzYUnqn1P2FfNhSeqfU/mIDxLjpV2T8=",
          "dtype": "f8"
         },
         "xaxis": "x",
         "y": {
          "bdata": "AAAAAADEc8AAAAAAAMRzwAAAAAAA4HXAAAAAAADgdcA=",
          "dtype": "f8"
         },
         "yaxis": "y"
        },
        {
         "hoverinfo": "text",
         "marker": {
          "color": "rgb(0,116,217)"
         },
         "mode": "lines",
         "type": "scatter",
         "x": {
          "bdata": "qhtZJE7U4z999E5OcJH2P330Tk5wkfY/YV82FJ6p9T8=",
          "dtype": "f8"
         },
         "xaxis": "x",
         "y": {
          "bdata": "AAAAAAAIccAAAAAAAAhxwAAAAAAA0nTAAAAAAADSdMA=",
          "dtype": "f8"
         },
         "yaxis": "y"
        },
        {
         "hoverinfo": "text",
         "marker": {
          "color": "rgb(0,116,217)"
         },
         "mode": "lines",
         "type": "scatter",
         "x": {
          "bdata": "wTnxVXp84D8SH/0oYY73PxIf/Shhjvc/ffROTnCR9j8=",
          "dtype": "f8"
         },
         "xaxis": "x",
         "y": {
          "bdata": "AAAAAABQbsAAAAAAAFBuwAAAAAAA7XLAAAAAAADtcsA=",
          "dtype": "f8"
         },
         "yaxis": "y"
        },
        {
         "hoverinfo": "text",
         "marker": {
          "color": "rgb(0,116,217)"
         },
         "mode": "lines",
         "type": "scatter",
         "x": {
          "bdata": "WKuDDmi99j9lUJkYW6X7P2VQmRhbpfs/Eh/9KGGO9z8=",
          "dtype": "f8"
         },
         "xaxis": "x",
         "y": {
          "bdata": "AAAAAAB9VMAAAAAAAH1UwAAAAACACnHAAAAAAIAKccA=",
          "dtype": "f8"
         },
         "yaxis": "y"
        }
       ],
       "layout": {
        "autosize": false,
        "height": 740,
        "hoverlabel": {
         "bgcolor": "white",
         "font": {
          "family": "Rockwell",
          "size": 16
         }
        },
        "hovermode": "closest",
        "plot_bgcolor": "#ECEFF1",
        "showlegend": false,
        "template": {
         "data": {
          "bar": [
           {
            "error_x": {
             "color": "#2a3f5f"
            },
            "error_y": {
             "color": "#2a3f5f"
            },
            "marker": {
             "line": {
              "color": "white",
              "width": 0.5
             },
             "pattern": {
              "fillmode": "overlay",
              "size": 10,
              "solidity": 0.2
             }
            },
            "type": "bar"
           }
          ],
          "barpolar": [
           {
            "marker": {
             "line": {
              "color": "white",
              "width": 0.5
             },
             "pattern": {
              "fillmode": "overlay",
              "size": 10,
              "solidity": 0.2
             }
            },
            "type": "barpolar"
           }
          ],
          "carpet": [
           {
            "aaxis": {
             "endlinecolor": "#2a3f5f",
             "gridcolor": "#C8D4E3",
             "linecolor": "#C8D4E3",
             "minorgridcolor": "#C8D4E3",
             "startlinecolor": "#2a3f5f"
            },
            "baxis": {
             "endlinecolor": "#2a3f5f",
             "gridcolor": "#C8D4E3",
             "linecolor": "#C8D4E3",
             "minorgridcolor": "#C8D4E3",
             "startlinecolor": "#2a3f5f"
            },
            "type": "carpet"
           }
          ],
          "choropleth": [
           {
            "colorbar": {
             "outlinewidth": 0,
             "ticks": ""
            },
            "type": "choropleth"
           }
          ],
          "contour": [
           {
            "colorbar": {
             "outlinewidth": 0,
             "ticks": ""
            },
            "colorscale": [
             [
              0,
              "#0d0887"
             ],
             [
              0.1111111111111111,
              "#46039f"
             ],
             [
              0.2222222222222222,
              "#7201a8"
             ],
             [
              0.3333333333333333,
              "#9c179e"
             ],
             [
              0.4444444444444444,
              "#bd3786"
             ],
             [
              0.5555555555555556,
              "#d8576b"
             ],
             [
              0.6666666666666666,
              "#ed7953"
             ],
             [
              0.7777777777777778,
              "#fb9f3a"
             ],
             [
              0.8888888888888888,
              "#fdca26"
             ],
             [
              1,
              "#f0f921"
             ]
            ],
            "type": "contour"
           }
          ],
          "contourcarpet": [
           {
            "colorbar": {
             "outlinewidth": 0,
             "ticks": ""
            },
            "type": "contourcarpet"
           }
          ],
          "heatmap": [
           {
            "colorbar": {
             "outlinewidth": 0,
             "ticks": ""
            },
            "colorscale": [
             [
              0,
              "#0d0887"
             ],
             [
              0.1111111111111111,
              "#46039f"
             ],
             [
              0.2222222222222222,
              "#7201a8"
             ],
             [
              0.3333333333333333,
              "#9c179e"
             ],
             [
              0.4444444444444444,
              "#bd3786"
             ],
             [
              0.5555555555555556,
              "#d8576b"
             ],
             [
              0.6666666666666666,
              "#ed7953"
             ],
             [
              0.7777777777777778,
              "#fb9f3a"
             ],
             [
              0.8888888888888888,
              "#fdca26"
             ],
             [
              1,
              "#f0f921"
             ]
            ],
            "type": "heatmap"
           }
          ],
          "histogram": [
           {
            "marker": {
             "pattern": {
              "fillmode": "overlay",
              "size": 10,
              "solidity": 0.2
             }
            },
            "type": "histogram"
           }
          ],
          "histogram2d": [
           {
            "colorbar": {
             "outlinewidth": 0,
             "ticks": ""
            },
            "colorscale": [
             [
              0,
              "#0d0887"
             ],
             [
              0.1111111111111111,
              "#46039f"
             ],
             [
              0.2222222222222222,
              "#7201a8"
             ],
             [
              0.3333333333333333,
              "#9c179e"
             ],
             [
              0.4444444444444444,
              "#bd3786"
             ],
             [
              0.5555555555555556,
              "#d8576b"
             ],
             [
              0.6666666666666666,
              "#ed7953"
             ],
             [
              0.7777777777777778,
              "#fb9f3a"
             ],
             [
              0.8888888888888888,
              "#fdca26"
             ],
             [
              1,
              "#f0f921"
             ]
            ],
            "type": "histogram2d"
           }
          ],
          "histogram2dcontour": [
           {
            "colorbar": {
             "outlinewidth": 0,
             "ticks": ""
            },
            "colorscale": [
             [
              0,
              "#0d0887"
             ],
             [
              0.1111111111111111,
              "#46039f"
             ],
             [
              0.2222222222222222,
              "#7201a8"
             ],
             [
              0.3333333333333333,
              "#9c179e"
             ],
             [
              0.4444444444444444,
              "#bd3786"
             ],
             [
              0.5555555555555556,
              "#d8576b"
             ],
             [
              0.6666666666666666,
              "#ed7953"
             ],
             [
              0.7777777777777778,
              "#fb9f3a"
             ],
             [
              0.8888888888888888,
              "#fdca26"
             ],
             [
              1,
              "#f0f921"
             ]
            ],
            "type": "histogram2dcontour"
           }
          ],
          "mesh3d": [
           {
            "colorbar": {
             "outlinewidth": 0,
             "ticks": ""
            },
            "type": "mesh3d"
           }
          ],
          "parcoords": [
           {
            "line": {
             "colorbar": {
              "outlinewidth": 0,
              "ticks": ""
             }
            },
            "type": "parcoords"
           }
          ],
          "pie": [
           {
            "automargin": true,
            "type": "pie"
           }
          ],
          "scatter": [
           {
            "fillpattern": {
             "fillmode": "overlay",
             "size": 10,
             "solidity": 0.2
            },
            "type": "scatter"
           }
          ],
          "scatter3d": [
           {
            "line": {
             "colorbar": {
              "outlinewidth": 0,
              "ticks": ""
             }
            },
            "marker": {
             "colorbar": {
              "outlinewidth": 0,
              "ticks": ""
             }
            },
            "type": "scatter3d"
           }
          ],
          "scattercarpet": [
           {
            "marker": {
             "colorbar": {
              "outlinewidth": 0,
              "ticks": ""
             }
            },
            "type": "scattercarpet"
           }
          ],
          "scattergeo": [
           {
            "marker": {
             "colorbar": {
              "outlinewidth": 0,
              "ticks": ""
             }
            },
            "type": "scattergeo"
           }
          ],
          "scattergl": [
           {
            "marker": {
             "colorbar": {
              "outlinewidth": 0,
              "ticks": ""
             }
            },
            "type": "scattergl"
           }
          ],
          "scattermap": [
           {
            "marker": {
             "colorbar": {
              "outlinewidth": 0,
              "ticks": ""
             }
            },
            "type": "scattermap"
           }
          ],
          "scattermapbox": [
           {
            "marker": {
             "colorbar": {
              "outlinewidth": 0,
              "ticks": ""
             }
            },
            "type": "scattermapbox"
           }
          ],
          "scatterpolar": [
           {
            "marker": {
             "colorbar": {
              "outlinewidth": 0,
              "ticks": ""
             }
            },
            "type": "scatterpolar"
           }
          ],
          "scatterpolargl": [
           {
            "marker": {
             "colorbar": {
              "outlinewidth": 0,
              "ticks": ""
             }
            },
            "type": "scatterpolargl"
           }
          ],
          "scatterternary": [
           {
            "marker": {
             "colorbar": {
              "outlinewidth": 0,
              "ticks": ""
             }
            },
            "type": "scatterternary"
           }
          ],
          "surface": [
           {
            "colorbar": {
             "outlinewidth": 0,
             "ticks": ""
            },
            "colorscale": [
             [
              0,
              "#0d0887"
             ],
             [
              0.1111111111111111,
              "#46039f"
             ],
             [
              0.2222222222222222,
              "#7201a8"
             ],
             [
              0.3333333333333333,
              "#9c179e"
             ],
             [
              0.4444444444444444,
              "#bd3786"
             ],
             [
              0.5555555555555556,
              "#d8576b"
             ],
             [
              0.6666666666666666,
              "#ed7953"
             ],
             [
              0.7777777777777778,
              "#fb9f3a"
             ],
             [
              0.8888888888888888,
              "#fdca26"
             ],
             [
              1,
              "#f0f921"
             ]
            ],
            "type": "surface"
           }
          ],
          "table": [
           {
            "cells": {
             "fill": {
              "color": "#EBF0F8"
             },
             "line": {
              "color": "white"
             }
            },
            "header": {
             "fill": {
              "color": "#C8D4E3"
             },
             "line": {
              "color": "white"
             }
            },
            "type": "table"
           }
          ]
         },
         "layout": {
          "annotationdefaults": {
           "arrowcolor": "#2a3f5f",
           "arrowhead": 0,
           "arrowwidth": 1
          },
          "autotypenumbers": "strict",
          "coloraxis": {
           "colorbar": {
            "outlinewidth": 0,
            "ticks": ""
           }
          },
          "colorscale": {
           "diverging": [
            [
             0,
             "#8e0152"
            ],
            [
             0.1,
             "#c51b7d"
            ],
            [
             0.2,
             "#de77ae"
            ],
            [
             0.3,
             "#f1b6da"
            ],
            [
             0.4,
             "#fde0ef"
            ],
            [
             0.5,
             "#f7f7f7"
            ],
            [
             0.6,
             "#e6f5d0"
            ],
            [
             0.7,
             "#b8e186"
            ],
            [
             0.8,
             "#7fbc41"
            ],
            [
             0.9,
             "#4d9221"
            ],
            [
             1,
             "#276419"
            ]
           ],
           "sequential": [
            [
             0,
             "#0d0887"
            ],
            [
             0.1111111111111111,
             "#46039f"
            ],
            [
             0.2222222222222222,
             "#7201a8"
            ],
            [
             0.3333333333333333,
             "#9c179e"
            ],
            [
             0.4444444444444444,
             "#bd3786"
            ],
            [
             0.5555555555555556,
             "#d8576b"
            ],
            [
             0.6666666666666666,
             "#ed7953"
            ],
            [
             0.7777777777777778,
             "#fb9f3a"
            ],
            [
             0.8888888888888888,
             "#fdca26"
            ],
            [
             1,
             "#f0f921"
            ]
           ],
           "sequentialminus": [
            [
             0,
             "#0d0887"
            ],
            [
             0.1111111111111111,
             "#46039f"
            ],
            [
             0.2222222222222222,
             "#7201a8"
            ],
            [
             0.3333333333333333,
             "#9c179e"
            ],
            [
             0.4444444444444444,
             "#bd3786"
            ],
            [
             0.5555555555555556,
             "#d8576b"
            ],
            [
             0.6666666666666666,
             "#ed7953"
            ],
            [
             0.7777777777777778,
             "#fb9f3a"
            ],
            [
             0.8888888888888888,
             "#fdca26"
            ],
            [
             1,
             "#f0f921"
            ]
           ]
          },
          "colorway": [
           "#636efa",
           "#EF553B",
           "#00cc96",
           "#ab63fa",
           "#FFA15A",
           "#19d3f3",
           "#FF6692",
           "#B6E880",
           "#FF97FF",
           "#FECB52"
          ],
          "font": {
           "color": "#2a3f5f"
          },
          "geo": {
           "bgcolor": "white",
           "lakecolor": "white",
           "landcolor": "white",
           "showlakes": true,
           "showland": true,
           "subunitcolor": "#C8D4E3"
          },
          "hoverlabel": {
           "align": "left"
          },
          "hovermode": "closest",
          "mapbox": {
           "style": "light"
          },
          "paper_bgcolor": "white",
          "plot_bgcolor": "white",
          "polar": {
           "angularaxis": {
            "gridcolor": "#EBF0F8",
            "linecolor": "#EBF0F8",
            "ticks": ""
           },
           "bgcolor": "white",
           "radialaxis": {
            "gridcolor": "#EBF0F8",
            "linecolor": "#EBF0F8",
            "ticks": ""
           }
          },
          "scene": {
           "xaxis": {
            "backgroundcolor": "white",
            "gridcolor": "#DFE8F3",
            "gridwidth": 2,
            "linecolor": "#EBF0F8",
            "showbackground": true,
            "ticks": "",
            "zerolinecolor": "#EBF0F8"
           },
           "yaxis": {
            "backgroundcolor": "white",
            "gridcolor": "#DFE8F3",
            "gridwidth": 2,
            "linecolor": "#EBF0F8",
            "showbackground": true,
            "ticks": "",
            "zerolinecolor": "#EBF0F8"
           },
           "zaxis": {
            "backgroundcolor": "white",
            "gridcolor": "#DFE8F3",
            "gridwidth": 2,
            "linecolor": "#EBF0F8",
            "showbackground": true,
            "ticks": "",
            "zerolinecolor": "#EBF0F8"
           }
          },
          "shapedefaults": {
           "line": {
            "color": "#2a3f5f"
           }
          },
          "ternary": {
           "aaxis": {
            "gridcolor": "#DFE8F3",
            "linecolor": "#A2B1C6",
            "ticks": ""
           },
           "baxis": {
            "gridcolor": "#DFE8F3",
            "linecolor": "#A2B1C6",
            "ticks": ""
           },
           "bgcolor": "white",
           "caxis": {
            "gridcolor": "#DFE8F3",
            "linecolor": "#A2B1C6",
            "ticks": ""
           }
          },
          "title": {
           "x": 0.05
          },
          "xaxis": {
           "automargin": true,
           "gridcolor": "#EBF0F8",
           "linecolor": "#EBF0F8",
           "ticks": "",
           "title": {
            "standoff": 15
           },
           "zerolinecolor": "#EBF0F8",
           "zerolinewidth": 2
          },
          "yaxis": {
           "automargin": true,
           "gridcolor": "#EBF0F8",
           "linecolor": "#EBF0F8",
           "ticks": "",
           "title": {
            "standoff": 15
           },
           "zerolinecolor": "#EBF0F8",
           "zerolinewidth": 2
          }
         }
        },
        "title": {
         "font": {
          "color": "Black",
          "size": 22
         },
         "text": "<b>Hierarchical Clustering</b>",
         "x": 0.5,
         "xanchor": "center",
         "yanchor": "top"
        },
        "width": 1000,
        "xaxis": {
         "mirror": "allticks",
         "rangemode": "tozero",
         "showgrid": false,
         "showline": true,
         "showticklabels": true,
         "ticks": "outside",
         "type": "linear",
         "zeroline": false
        },
        "yaxis": {
         "mirror": "allticks",
         "range": [
          -360,
          0
         ],
         "rangemode": "tozero",
         "showgrid": false,
         "showline": true,
         "showticklabels": true,
         "tickmode": "array",
         "ticks": "outside",
         "ticktext": [
          "10_slips_declines_support",
          "21_gm_ease_silver futures",
          "31_decline_cues gold_global",
          "14_cues gold_cues_global",
          "33_pulls_bullish_cues",
          "28_outlook gold_outlook_cop...",
          "26_crude_copper_outlook",
          "9_profit_q_c",
          "27_investo_takes_record",
          "2_demand_price_market",
          "1_global_demand_cues",
          "23_spot gold_spot_new",
          "7_gold trades_today_rate",
          "13_shares_metals_prices gold",
          "22_edge_hold_ground",
          "3_fed_rate_hike",
          "12_talks_concerns_amid",
          "6_china_ease_focus",
          "8_dollar gold_remain_steady",
          "35_dollar gold_sharply_turn",
          "20_oil_oil gold_crude",
          "5_data gold_data_report",
          "15_losses_extend_extends",
          "32_ounce gold_gold ends_ends",
          "16_ounce gold_close_c",
          "17_ounce gold_closes_turns",
          "29_sell_buy_comex",
          "24_comex_comex gold_settlem...",
          "34_comex gold_comex_settle",
          "11_settle_gold slips_slips",
          "4_end_week gold_session",
          "0_high_month_week",
          "18_settles_gold settles_gol...",
          "19_gold settles_settles_set...",
          "30_gold adds_adds_time",
          "25_gold adds_vs_adds"
         ],
         "tickvals": [
          -5,
          -15,
          -25,
          -35,
          -45,
          -55,
          -65,
          -75,
          -85,
          -95,
          -105,
          -115,
          -125,
          -135,
          -145,
          -155,
          -165,
          -175,
          -185,
          -195,
          -205,
          -215,
          -225,
          -235,
          -245,
          -255,
          -265,
          -275,
          -285,
          -295,
          -305,
          -315,
          -325,
          -335,
          -345,
          -355
         ],
         "type": "linear",
         "zeroline": false
        }
       }
      }
     },
     "metadata": {},
     "output_type": "display_data"
    }
   ],
   "source": [
    "topic_model.visualize_hierarchy().show()"
   ]
  },
  {
   "cell_type": "code",
   "execution_count": null,
   "metadata": {},
   "outputs": [
    {
     "data": {
      "image/png": "[encoded data removed]",
      "text/plain": [
       "<Figure size 1200x600 with 1 Axes>"
      ]
     },
     "metadata": {},
     "output_type": "display_data"
    }
   ],
   "source": [
    "from scipy.cluster.hierarchy import dendrogram, linkage\n",
    "import matplotlib.pyplot as plt\n",
    "\n",
    "Z = linkage(distance_matrix, \"average\")\n",
    "plt.figure(figsize=(12, 6))\n",
    "dendrogram(Z, labels=[f\"Topic {i}\" for i in range(len(topic_embeddings))])\n",
    "plt.xticks(rotation=90)\n",
    "plt.title(\"Hierarchical Clustering Dendrogram\")\n",
    "plt.show()"
   ]
  },
  {
   "cell_type": "code",
   "execution_count": 51,
   "metadata": {},
   "outputs": [
    {
     "data": {
      "application/vnd.plotly.v1+json": {
       "config": {
        "plotlyServerURL": "https://plot.ly"
       },
       "data": [
        {
         "coloraxis": "coloraxis",
         "hovertemplate": "x: %{x}<br>y: %{y}<br>Similarity Score: %{z}<extra></extra>",
         "name": "0",
         "type": "heatmap",
         "x": [
          "0_high_month_week",
          "1_global_demand_cues",
          "2_demand_price_market",
          "3_fed_rate_hike",
          "4_end_week gold_session",
          "5_data gold_data_report",
          "6_china_ease_focus",
          "7_gold trades_today_rate",
          "8_dollar gold_remain_steady",
          "9_profit_q_c",
          "10_slips_declines_support",
          "11_settle_gold slips_slips",
          "12_talks_concerns_amid",
          "13_shares_metals_prices gold",
          "14_cues gold_cues_global",
          "15_losses_extend_extends",
          "16_ounce gold_close_c",
          "17_ounce gold_closes_turns",
          "18_settles_gold settles_gol...",
          "19_gold settles_settles_set...",
          "20_oil_oil gold_crude",
          "21_gm_ease_silver futures",
          "22_edge_hold_ground",
          "23_spot gold_spot_new",
          "24_comex_comex gold_settlem...",
          "25_gold adds_vs_adds",
          "26_crude_copper_outlook",
          "27_investo_takes_record",
          "28_outlook gold_outlook_cop...",
          "29_sell_buy_comex",
          "30_gold adds_adds_time",
          "31_decline_cues gold_global",
          "32_ounce gold_gold ends_ends",
          "33_pulls_bullish_cues",
          "34_comex gold_comex_settle",
          "35_dollar gold_sharply_turn"
         ],
         "xaxis": "x",
         "y": [
          "0_high_month_week",
          "1_global_demand_cues",
          "2_demand_price_market",
          "3_fed_rate_hike",
          "4_end_week gold_session",
          "5_data gold_data_report",
          "6_china_ease_focus",
          "7_gold trades_today_rate",
          "8_dollar gold_remain_steady",
          "9_profit_q_c",
          "10_slips_declines_support",
          "11_settle_gold slips_slips",
          "12_talks_concerns_amid",
          "13_shares_metals_prices gold",
          "14_cues gold_cues_global",
          "15_losses_extend_extends",
          "16_ounce gold_close_c",
          "17_ounce gold_closes_turns",
          "18_settles_gold settles_gol...",
          "19_gold settles_settles_set...",
          "20_oil_oil gold_crude",
          "21_gm_ease_silver futures",
          "22_edge_hold_ground",
          "23_spot gold_spot_new",
          "24_comex_comex gold_settlem...",
          "25_gold adds_vs_adds",
          "26_crude_copper_outlook",
          "27_investo_takes_record",
          "28_outlook gold_outlook_cop...",
          "29_sell_buy_comex",
          "30_gold adds_adds_time",
          "31_decline_cues gold_global",
          "32_ounce gold_gold ends_ends",
          "33_pulls_bullish_cues",
          "34_comex gold_comex_settle",
          "35_dollar gold_sharply_turn"
         ],
         "yaxis": "y",
         "z": {
          "bdata": "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",
          "dtype": "f4",
          "shape": "36, 36"
         }
        }
       ],
       "layout": {
        "coloraxis": {
         "colorbar": {
          "title": {
           "text": "Similarity Score"
          }
         },
         "colorscale": [
          [
           0,
           "rgb(247,252,240)"
          ],
          [
           0.125,
           "rgb(224,243,219)"
          ],
          [
           0.25,
           "rgb(204,235,197)"
          ],
          [
           0.375,
           "rgb(168,221,181)"
          ],
          [
           0.5,
           "rgb(123,204,196)"
          ],
          [
           0.625,
           "rgb(78,179,211)"
          ],
          [
           0.75,
           "rgb(43,140,190)"
          ],
          [
           0.875,
           "rgb(8,104,172)"
          ],
          [
           1,
           "rgb(8,64,129)"
          ]
         ]
        },
        "height": 800,
        "hoverlabel": {
         "bgcolor": "white",
         "font": {
          "family": "Rockwell",
          "size": 16
         }
        },
        "legend": {
         "title": {
          "text": "Trend"
         }
        },
        "margin": {
         "t": 60
        },
        "showlegend": true,
        "template": {
         "data": {
          "bar": [
           {
            "error_x": {
             "color": "#2a3f5f"
            },
            "error_y": {
             "color": "#2a3f5f"
            },
            "marker": {
             "line": {
              "color": "#E5ECF6",
              "width": 0.5
             },
             "pattern": {
              "fillmode": "overlay",
              "size": 10,
              "solidity": 0.2
             }
            },
            "type": "bar"
           }
          ],
          "barpolar": [
           {
            "marker": {
             "line": {
              "color": "#E5ECF6",
              "width": 0.5
             },
             "pattern": {
              "fillmode": "overlay",
              "size": 10,
              "solidity": 0.2
             }
            },
            "type": "barpolar"
           }
          ],
          "carpet": [
           {
            "aaxis": {
             "endlinecolor": "#2a3f5f",
             "gridcolor": "white",
             "linecolor": "white",
             "minorgridcolor": "white",
             "startlinecolor": "#2a3f5f"
            },
            "baxis": {
             "endlinecolor": "#2a3f5f",
             "gridcolor": "white",
             "linecolor": "white",
             "minorgridcolor": "white",
             "startlinecolor": "#2a3f5f"
            },
            "type": "carpet"
           }
          ],
          "choropleth": [
           {
            "colorbar": {
             "outlinewidth": 0,
             "ticks": ""
            },
            "type": "choropleth"
           }
          ],
          "contour": [
           {
            "colorbar": {
             "outlinewidth": 0,
             "ticks": ""
            },
            "colorscale": [
             [
              0,
              "#0d0887"
             ],
             [
              0.1111111111111111,
              "#46039f"
             ],
             [
              0.2222222222222222,
              "#7201a8"
             ],
             [
              0.3333333333333333,
              "#9c179e"
             ],
             [
              0.4444444444444444,
              "#bd3786"
             ],
             [
              0.5555555555555556,
              "#d8576b"
             ],
             [
              0.6666666666666666,
              "#ed7953"
             ],
             [
              0.7777777777777778,
              "#fb9f3a"
             ],
             [
              0.8888888888888888,
              "#fdca26"
             ],
             [
              1,
              "#f0f921"
             ]
            ],
            "type": "contour"
           }
          ],
          "contourcarpet": [
           {
            "colorbar": {
             "outlinewidth": 0,
             "ticks": ""
            },
            "type": "contourcarpet"
           }
          ],
          "heatmap": [
           {
            "colorbar": {
             "outlinewidth": 0,
             "ticks": ""
            },
            "colorscale": [
             [
              0,
              "#0d0887"
             ],
             [
              0.1111111111111111,
              "#46039f"
             ],
             [
              0.2222222222222222,
              "#7201a8"
             ],
             [
              0.3333333333333333,
              "#9c179e"
             ],
             [
              0.4444444444444444,
              "#bd3786"
             ],
             [
              0.5555555555555556,
              "#d8576b"
             ],
             [
              0.6666666666666666,
              "#ed7953"
             ],
             [
              0.7777777777777778,
              "#fb9f3a"
             ],
             [
              0.8888888888888888,
              "#fdca26"
             ],
             [
              1,
              "#f0f921"
             ]
            ],
            "type": "heatmap"
           }
          ],
          "histogram": [
           {
            "marker": {
             "pattern": {
              "fillmode": "overlay",
              "size": 10,
              "solidity": 0.2
             }
            },
            "type": "histogram"
           }
          ],
          "histogram2d": [
           {
            "colorbar": {
             "outlinewidth": 0,
             "ticks": ""
            },
            "colorscale": [
             [
              0,
              "#0d0887"
             ],
             [
              0.1111111111111111,
              "#46039f"
             ],
             [
              0.2222222222222222,
              "#7201a8"
             ],
             [
              0.3333333333333333,
              "#9c179e"
             ],
             [
              0.4444444444444444,
              "#bd3786"
             ],
             [
              0.5555555555555556,
              "#d8576b"
             ],
             [
              0.6666666666666666,
              "#ed7953"
             ],
             [
              0.7777777777777778,
              "#fb9f3a"
             ],
             [
              0.8888888888888888,
              "#fdca26"
             ],
             [
              1,
              "#f0f921"
             ]
            ],
            "type": "histogram2d"
           }
          ],
          "histogram2dcontour": [
           {
            "colorbar": {
             "outlinewidth": 0,
             "ticks": ""
            },
            "colorscale": [
             [
              0,
              "#0d0887"
             ],
             [
              0.1111111111111111,
              "#46039f"
             ],
             [
              0.2222222222222222,
              "#7201a8"
             ],
             [
              0.3333333333333333,
              "#9c179e"
             ],
             [
              0.4444444444444444,
              "#bd3786"
             ],
             [
              0.5555555555555556,
              "#d8576b"
             ],
             [
              0.6666666666666666,
              "#ed7953"
             ],
             [
              0.7777777777777778,
              "#fb9f3a"
             ],
             [
              0.8888888888888888,
              "#fdca26"
             ],
             [
              1,
              "#f0f921"
             ]
            ],
            "type": "histogram2dcontour"
           }
          ],
          "mesh3d": [
           {
            "colorbar": {
             "outlinewidth": 0,
             "ticks": ""
            },
            "type": "mesh3d"
           }
          ],
          "parcoords": [
           {
            "line": {
             "colorbar": {
              "outlinewidth": 0,
              "ticks": ""
             }
            },
            "type": "parcoords"
           }
          ],
          "pie": [
           {
            "automargin": true,
            "type": "pie"
           }
          ],
          "scatter": [
           {
            "fillpattern": {
             "fillmode": "overlay",
             "size": 10,
             "solidity": 0.2
            },
            "type": "scatter"
           }
          ],
          "scatter3d": [
           {
            "line": {
             "colorbar": {
              "outlinewidth": 0,
              "ticks": ""
             }
            },
            "marker": {
             "colorbar": {
              "outlinewidth": 0,
              "ticks": ""
             }
            },
            "type": "scatter3d"
           }
          ],
          "scattercarpet": [
           {
            "marker": {
             "colorbar": {
              "outlinewidth": 0,
              "ticks": ""
             }
            },
            "type": "scattercarpet"
           }
          ],
          "scattergeo": [
           {
            "marker": {
             "colorbar": {
              "outlinewidth": 0,
              "ticks": ""
             }
            },
            "type": "scattergeo"
           }
          ],
          "scattergl": [
           {
            "marker": {
             "colorbar": {
              "outlinewidth": 0,
              "ticks": ""
             }
            },
            "type": "scattergl"
           }
          ],
          "scattermap": [
           {
            "marker": {
             "colorbar": {
              "outlinewidth": 0,
              "ticks": ""
             }
            },
            "type": "scattermap"
           }
          ],
          "scattermapbox": [
           {
            "marker": {
             "colorbar": {
              "outlinewidth": 0,
              "ticks": ""
             }
            },
            "type": "scattermapbox"
           }
          ],
          "scatterpolar": [
           {
            "marker": {
             "colorbar": {
              "outlinewidth": 0,
              "ticks": ""
             }
            },
            "type": "scatterpolar"
           }
          ],
          "scatterpolargl": [
           {
            "marker": {
             "colorbar": {
              "outlinewidth": 0,
              "ticks": ""
             }
            },
            "type": "scatterpolargl"
           }
          ],
          "scatterternary": [
           {
            "marker": {
             "colorbar": {
              "outlinewidth": 0,
              "ticks": ""
             }
            },
            "type": "scatterternary"
           }
          ],
          "surface": [
           {
            "colorbar": {
             "outlinewidth": 0,
             "ticks": ""
            },
            "colorscale": [
             [
              0,
              "#0d0887"
             ],
             [
              0.1111111111111111,
              "#46039f"
             ],
             [
              0.2222222222222222,
              "#7201a8"
             ],
             [
              0.3333333333333333,
              "#9c179e"
             ],
             [
              0.4444444444444444,
              "#bd3786"
             ],
             [
              0.5555555555555556,
              "#d8576b"
             ],
             [
              0.6666666666666666,
              "#ed7953"
             ],
             [
              0.7777777777777778,
              "#fb9f3a"
             ],
             [
              0.8888888888888888,
              "#fdca26"
             ],
             [
              1,
              "#f0f921"
             ]
            ],
            "type": "surface"
           }
          ],
          "table": [
           {
            "cells": {
             "fill": {
              "color": "#EBF0F8"
             },
             "line": {
              "color": "white"
             }
            },
            "header": {
             "fill": {
              "color": "#C8D4E3"
             },
             "line": {
              "color": "white"
             }
            },
            "type": "table"
           }
          ]
         },
         "layout": {
          "annotationdefaults": {
           "arrowcolor": "#2a3f5f",
           "arrowhead": 0,
           "arrowwidth": 1
          },
          "autotypenumbers": "strict",
          "coloraxis": {
           "colorbar": {
            "outlinewidth": 0,
            "ticks": ""
           }
          },
          "colorscale": {
           "diverging": [
            [
             0,
             "#8e0152"
            ],
            [
             0.1,
             "#c51b7d"
            ],
            [
             0.2,
             "#de77ae"
            ],
            [
             0.3,
             "#f1b6da"
            ],
            [
             0.4,
             "#fde0ef"
            ],
            [
             0.5,
             "#f7f7f7"
            ],
            [
             0.6,
             "#e6f5d0"
            ],
            [
             0.7,
             "#b8e186"
            ],
            [
             0.8,
             "#7fbc41"
            ],
            [
             0.9,
             "#4d9221"
            ],
            [
             1,
             "#276419"
            ]
           ],
           "sequential": [
            [
             0,
             "#0d0887"
            ],
            [
             0.1111111111111111,
             "#46039f"
            ],
            [
             0.2222222222222222,
             "#7201a8"
            ],
            [
             0.3333333333333333,
             "#9c179e"
            ],
            [
             0.4444444444444444,
             "#bd3786"
            ],
            [
             0.5555555555555556,
             "#d8576b"
            ],
            [
             0.6666666666666666,
             "#ed7953"
            ],
            [
             0.7777777777777778,
             "#fb9f3a"
            ],
            [
             0.8888888888888888,
             "#fdca26"
            ],
            [
             1,
             "#f0f921"
            ]
           ],
           "sequentialminus": [
            [
             0,
             "#0d0887"
            ],
            [
             0.1111111111111111,
             "#46039f"
            ],
            [
             0.2222222222222222,
             "#7201a8"
            ],
            [
             0.3333333333333333,
             "#9c179e"
            ],
            [
             0.4444444444444444,
             "#bd3786"
            ],
            [
             0.5555555555555556,
             "#d8576b"
            ],
            [
             0.6666666666666666,
             "#ed7953"
            ],
            [
             0.7777777777777778,
             "#fb9f3a"
            ],
            [
             0.8888888888888888,
             "#fdca26"
            ],
            [
             1,
             "#f0f921"
            ]
           ]
          },
          "colorway": [
           "#636efa",
           "#EF553B",
           "#00cc96",
           "#ab63fa",
           "#FFA15A",
           "#19d3f3",
           "#FF6692",
           "#B6E880",
           "#FF97FF",
           "#FECB52"
          ],
          "font": {
           "color": "#2a3f5f"
          },
          "geo": {
           "bgcolor": "white",
           "lakecolor": "white",
           "landcolor": "#E5ECF6",
           "showlakes": true,
           "showland": true,
           "subunitcolor": "white"
          },
          "hoverlabel": {
           "align": "left"
          },
          "hovermode": "closest",
          "mapbox": {
           "style": "light"
          },
          "paper_bgcolor": "white",
          "plot_bgcolor": "#E5ECF6",
          "polar": {
           "angularaxis": {
            "gridcolor": "white",
            "linecolor": "white",
            "ticks": ""
           },
           "bgcolor": "#E5ECF6",
           "radialaxis": {
            "gridcolor": "white",
            "linecolor": "white",
            "ticks": ""
           }
          },
          "scene": {
           "xaxis": {
            "backgroundcolor": "#E5ECF6",
            "gridcolor": "white",
            "gridwidth": 2,
            "linecolor": "white",
            "showbackground": true,
            "ticks": "",
            "zerolinecolor": "white"
           },
           "yaxis": {
            "backgroundcolor": "#E5ECF6",
            "gridcolor": "white",
            "gridwidth": 2,
            "linecolor": "white",
            "showbackground": true,
            "ticks": "",
            "zerolinecolor": "white"
           },
           "zaxis": {
            "backgroundcolor": "#E5ECF6",
            "gridcolor": "white",
            "gridwidth": 2,
            "linecolor": "white",
            "showbackground": true,
            "ticks": "",
            "zerolinecolor": "white"
           }
          },
          "shapedefaults": {
           "line": {
            "color": "#2a3f5f"
           }
          },
          "ternary": {
           "aaxis": {
            "gridcolor": "white",
            "linecolor": "white",
            "ticks": ""
           },
           "baxis": {
            "gridcolor": "white",
            "linecolor": "white",
            "ticks": ""
           },
           "bgcolor": "#E5ECF6",
           "caxis": {
            "gridcolor": "white",
            "linecolor": "white",
            "ticks": ""
           }
          },
          "title": {
           "x": 0.05
          },
          "xaxis": {
           "automargin": true,
           "gridcolor": "white",
           "linecolor": "white",
           "ticks": "",
           "title": {
            "standoff": 15
           },
           "zerolinecolor": "white",
           "zerolinewidth": 2
          },
          "yaxis": {
           "automargin": true,
           "gridcolor": "white",
           "linecolor": "white",
           "ticks": "",
           "title": {
            "standoff": 15
           },
           "zerolinecolor": "white",
           "zerolinewidth": 2
          }
         }
        },
        "title": {
         "font": {
          "color": "Black",
          "size": 22
         },
         "text": "<b>Similarity Matrix</b>",
         "x": 0.55,
         "xanchor": "center",
         "y": 0.95,
         "yanchor": "top"
        },
        "width": 800,
        "xaxis": {
         "anchor": "y",
         "constrain": "domain",
         "domain": [
          0,
          1
         ],
         "scaleanchor": "y"
        },
        "yaxis": {
         "anchor": "x",
         "autorange": "reversed",
         "constrain": "domain",
         "domain": [
          0,
          1
         ]
        }
       }
      }
     },
     "metadata": {},
     "output_type": "display_data"
    }
   ],
   "source": [
    "topic_model.visualize_heatmap()"
   ]
  },
  {
   "cell_type": "code",
   "execution_count": 57,
   "metadata": {},
   "outputs": [
    {
     "data": {
      "text/html": [
       "<div>\n",
       "<style scoped>\n",
       "    .dataframe tbody tr th:only-of-type {\n",
       "        vertical-align: middle;\n",
       "    }\n",
       "\n",
       "    .dataframe tbody tr th {\n",
       "        vertical-align: top;\n",
       "    }\n",
       "\n",
       "    .dataframe thead th {\n",
       "        text-align: right;\n",
       "    }\n",
       "</style>\n",
       "<table border=\"1\" class=\"dataframe\">\n",
       "  <thead>\n",
       "    <tr style=\"text-align: right;\">\n",
       "      <th></th>\n",
       "      <th>Dates</th>\n",
       "      <th>URL</th>\n",
       "      <th>News</th>\n",
       "      <th>Price Direction Up</th>\n",
       "      <th>Price Direction Constant</th>\n",
       "      <th>Price Direction Down</th>\n",
       "      <th>Asset Comparision</th>\n",
       "      <th>Past Information</th>\n",
       "      <th>Future Information</th>\n",
       "      <th>Price Sentiment</th>\n",
       "      <th>...</th>\n",
       "      <th>31</th>\n",
       "      <th>32</th>\n",
       "      <th>33</th>\n",
       "      <th>34</th>\n",
       "      <th>35</th>\n",
       "      <th>dominant_topic</th>\n",
       "      <th>topic</th>\n",
       "      <th>mapped_topic</th>\n",
       "      <th>matching</th>\n",
       "      <th>merged_group</th>\n",
       "    </tr>\n",
       "  </thead>\n",
       "  <tbody>\n",
       "    <tr>\n",
       "      <th>0</th>\n",
       "      <td>28-01-2016</td>\n",
       "      <td>http://www.marketwatch.com/story/april-gold-do...</td>\n",
       "      <td>april gold down 20 cents to settle at $1,116.1...</td>\n",
       "      <td>0</td>\n",
       "      <td>0</td>\n",
       "      <td>1</td>\n",
       "      <td>0</td>\n",
       "      <td>1</td>\n",
       "      <td>0</td>\n",
       "      <td>negative</td>\n",
       "      <td>...</td>\n",
       "      <td>3.041266e-02</td>\n",
       "      <td>2.770584e-02</td>\n",
       "      <td>3.512701e-02</td>\n",
       "      <td>3.233447e-02</td>\n",
       "      <td>2.910262e-02</td>\n",
       "      <td>20</td>\n",
       "      <td>-1</td>\n",
       "      <td>18</td>\n",
       "      <td>False</td>\n",
       "      <td>9</td>\n",
       "    </tr>\n",
       "    <tr>\n",
       "      <th>1</th>\n",
       "      <td>13-09-2017</td>\n",
       "      <td>http://www.marketwatch.com/story/gold-prices-s...</td>\n",
       "      <td>gold suffers third straight daily decline</td>\n",
       "      <td>0</td>\n",
       "      <td>0</td>\n",
       "      <td>1</td>\n",
       "      <td>0</td>\n",
       "      <td>1</td>\n",
       "      <td>0</td>\n",
       "      <td>negative</td>\n",
       "      <td>...</td>\n",
       "      <td>3.427802e-308</td>\n",
       "      <td>2.644261e-308</td>\n",
       "      <td>3.554797e-308</td>\n",
       "      <td>4.039425e-308</td>\n",
       "      <td>3.411673e-308</td>\n",
       "      <td>17</td>\n",
       "      <td>0</td>\n",
       "      <td>0</td>\n",
       "      <td>True</td>\n",
       "      <td>0</td>\n",
       "    </tr>\n",
       "    <tr>\n",
       "      <th>2</th>\n",
       "      <td>26-07-2016</td>\n",
       "      <td>http://www.marketwatch.com/story/gold-futures-...</td>\n",
       "      <td>Gold futures edge up after two-session decline</td>\n",
       "      <td>1</td>\n",
       "      <td>0</td>\n",
       "      <td>0</td>\n",
       "      <td>0</td>\n",
       "      <td>1</td>\n",
       "      <td>0</td>\n",
       "      <td>positive</td>\n",
       "      <td>...</td>\n",
       "      <td>4.211338e-308</td>\n",
       "      <td>3.335190e-308</td>\n",
       "      <td>5.489848e-308</td>\n",
       "      <td>7.108979e-308</td>\n",
       "      <td>4.925955e-308</td>\n",
       "      <td>28</td>\n",
       "      <td>22</td>\n",
       "      <td>22</td>\n",
       "      <td>True</td>\n",
       "      <td>4</td>\n",
       "    </tr>\n",
       "    <tr>\n",
       "      <th>3</th>\n",
       "      <td>28-02-2018</td>\n",
       "      <td>https://www.metalsdaily.com/link/277199/dent-r...</td>\n",
       "      <td>dent research : is gold's day in the sun comin...</td>\n",
       "      <td>0</td>\n",
       "      <td>0</td>\n",
       "      <td>0</td>\n",
       "      <td>0</td>\n",
       "      <td>0</td>\n",
       "      <td>1</td>\n",
       "      <td>none</td>\n",
       "      <td>...</td>\n",
       "      <td>7.453425e-308</td>\n",
       "      <td>5.152811e-308</td>\n",
       "      <td>4.543721e-308</td>\n",
       "      <td>7.056816e-308</td>\n",
       "      <td>4.600916e-308</td>\n",
       "      <td>22</td>\n",
       "      <td>1</td>\n",
       "      <td>1</td>\n",
       "      <td>True</td>\n",
       "      <td>0</td>\n",
       "    </tr>\n",
       "    <tr>\n",
       "      <th>4</th>\n",
       "      <td>06-09-2017</td>\n",
       "      <td>http://www.marketwatch.com/story/gold-steadies...</td>\n",
       "      <td>Gold snaps three-day rally as Trump, lawmakers...</td>\n",
       "      <td>0</td>\n",
       "      <td>0</td>\n",
       "      <td>1</td>\n",
       "      <td>0</td>\n",
       "      <td>1</td>\n",
       "      <td>0</td>\n",
       "      <td>negative</td>\n",
       "      <td>...</td>\n",
       "      <td>7.237842e-02</td>\n",
       "      <td>3.867242e-02</td>\n",
       "      <td>5.022091e-02</td>\n",
       "      <td>8.339184e-02</td>\n",
       "      <td>2.393919e-01</td>\n",
       "      <td>35</td>\n",
       "      <td>-1</td>\n",
       "      <td>3</td>\n",
       "      <td>False</td>\n",
       "      <td>0</td>\n",
       "    </tr>\n",
       "    <tr>\n",
       "      <th>...</th>\n",
       "      <td>...</td>\n",
       "      <td>...</td>\n",
       "      <td>...</td>\n",
       "      <td>...</td>\n",
       "      <td>...</td>\n",
       "      <td>...</td>\n",
       "      <td>...</td>\n",
       "      <td>...</td>\n",
       "      <td>...</td>\n",
       "      <td>...</td>\n",
       "      <td>...</td>\n",
       "      <td>...</td>\n",
       "      <td>...</td>\n",
       "      <td>...</td>\n",
       "      <td>...</td>\n",
       "      <td>...</td>\n",
       "      <td>...</td>\n",
       "      <td>...</td>\n",
       "      <td>...</td>\n",
       "      <td>...</td>\n",
       "      <td>...</td>\n",
       "    </tr>\n",
       "    <tr>\n",
       "      <th>10565</th>\n",
       "      <td>07-01-2013</td>\n",
       "      <td>https://www.moneycontrol.com/news/business/mar...</td>\n",
       "      <td>gold seen falling from 3-week high this week</td>\n",
       "      <td>0</td>\n",
       "      <td>0</td>\n",
       "      <td>1</td>\n",
       "      <td>0</td>\n",
       "      <td>1</td>\n",
       "      <td>0</td>\n",
       "      <td>negative</td>\n",
       "      <td>...</td>\n",
       "      <td>1.568752e-02</td>\n",
       "      <td>1.085144e-02</td>\n",
       "      <td>1.616860e-02</td>\n",
       "      <td>2.019150e-02</td>\n",
       "      <td>1.561444e-02</td>\n",
       "      <td>17</td>\n",
       "      <td>0</td>\n",
       "      <td>0</td>\n",
       "      <td>True</td>\n",
       "      <td>0</td>\n",
       "    </tr>\n",
       "    <tr>\n",
       "      <th>10566</th>\n",
       "      <td>27-09-2018</td>\n",
       "      <td>https://www.metalsdaily.com/link/284468/domini...</td>\n",
       "      <td>dominic frisby : now looks like a good time to...</td>\n",
       "      <td>1</td>\n",
       "      <td>0</td>\n",
       "      <td>0</td>\n",
       "      <td>0</td>\n",
       "      <td>0</td>\n",
       "      <td>1</td>\n",
       "      <td>positive</td>\n",
       "      <td>...</td>\n",
       "      <td>7.226353e-308</td>\n",
       "      <td>5.346830e-308</td>\n",
       "      <td>4.613434e-308</td>\n",
       "      <td>6.917584e-308</td>\n",
       "      <td>4.632731e-308</td>\n",
       "      <td>22</td>\n",
       "      <td>1</td>\n",
       "      <td>1</td>\n",
       "      <td>True</td>\n",
       "      <td>0</td>\n",
       "    </tr>\n",
       "    <tr>\n",
       "      <th>10567</th>\n",
       "      <td>03-03-2017</td>\n",
       "      <td>https://www.thehindubusinessline.com/markets/g...</td>\n",
       "      <td>Gold heading for worst week since November on ...</td>\n",
       "      <td>0</td>\n",
       "      <td>0</td>\n",
       "      <td>1</td>\n",
       "      <td>0</td>\n",
       "      <td>1</td>\n",
       "      <td>0</td>\n",
       "      <td>negative</td>\n",
       "      <td>...</td>\n",
       "      <td>2.726694e-02</td>\n",
       "      <td>1.766332e-02</td>\n",
       "      <td>2.540357e-02</td>\n",
       "      <td>3.717115e-02</td>\n",
       "      <td>2.940629e-02</td>\n",
       "      <td>17</td>\n",
       "      <td>0</td>\n",
       "      <td>0</td>\n",
       "      <td>True</td>\n",
       "      <td>0</td>\n",
       "    </tr>\n",
       "    <tr>\n",
       "      <th>10568</th>\n",
       "      <td>11-06-2008</td>\n",
       "      <td>http://www.marketwatch.com/story/august-gold-u...</td>\n",
       "      <td>august gold up $7.60 at $878.80 an ounce on nymex</td>\n",
       "      <td>1</td>\n",
       "      <td>0</td>\n",
       "      <td>0</td>\n",
       "      <td>0</td>\n",
       "      <td>1</td>\n",
       "      <td>0</td>\n",
       "      <td>positive</td>\n",
       "      <td>...</td>\n",
       "      <td>1.467211e-308</td>\n",
       "      <td>1.439511e-308</td>\n",
       "      <td>1.363509e-308</td>\n",
       "      <td>1.409725e-308</td>\n",
       "      <td>1.461121e-308</td>\n",
       "      <td>7</td>\n",
       "      <td>34</td>\n",
       "      <td>34</td>\n",
       "      <td>True</td>\n",
       "      <td>4</td>\n",
       "    </tr>\n",
       "    <tr>\n",
       "      <th>10569</th>\n",
       "      <td>01-10-2007</td>\n",
       "      <td>http://www.marketwatch.com/story/december-gold...</td>\n",
       "      <td>december gold down $1 at $749 an ounce on nymex</td>\n",
       "      <td>0</td>\n",
       "      <td>0</td>\n",
       "      <td>1</td>\n",
       "      <td>0</td>\n",
       "      <td>1</td>\n",
       "      <td>0</td>\n",
       "      <td>negative</td>\n",
       "      <td>...</td>\n",
       "      <td>1.467200e-308</td>\n",
       "      <td>1.439501e-308</td>\n",
       "      <td>1.363501e-308</td>\n",
       "      <td>1.409716e-308</td>\n",
       "      <td>1.461111e-308</td>\n",
       "      <td>7</td>\n",
       "      <td>34</td>\n",
       "      <td>34</td>\n",
       "      <td>True</td>\n",
       "      <td>4</td>\n",
       "    </tr>\n",
       "  </tbody>\n",
       "</table>\n",
       "<p>10570 rows × 51 columns</p>\n",
       "</div>"
      ],
      "text/plain": [
       "            Dates                                                URL  \\\n",
       "0      28-01-2016  http://www.marketwatch.com/story/april-gold-do...   \n",
       "1      13-09-2017  http://www.marketwatch.com/story/gold-prices-s...   \n",
       "2      26-07-2016  http://www.marketwatch.com/story/gold-futures-...   \n",
       "3      28-02-2018  https://www.metalsdaily.com/link/277199/dent-r...   \n",
       "4      06-09-2017  http://www.marketwatch.com/story/gold-steadies...   \n",
       "...           ...                                                ...   \n",
       "10565  07-01-2013  https://www.moneycontrol.com/news/business/mar...   \n",
       "10566  27-09-2018  https://www.metalsdaily.com/link/284468/domini...   \n",
       "10567  03-03-2017  https://www.thehindubusinessline.com/markets/g...   \n",
       "10568  11-06-2008  http://www.marketwatch.com/story/august-gold-u...   \n",
       "10569  01-10-2007  http://www.marketwatch.com/story/december-gold...   \n",
       "\n",
       "                                                    News  Price Direction Up  \\\n",
       "0      april gold down 20 cents to settle at $1,116.1...                   0   \n",
       "1              gold suffers third straight daily decline                   0   \n",
       "2         Gold futures edge up after two-session decline                   1   \n",
       "3      dent research : is gold's day in the sun comin...                   0   \n",
       "4      Gold snaps three-day rally as Trump, lawmakers...                   0   \n",
       "...                                                  ...                 ...   \n",
       "10565       gold seen falling from 3-week high this week                   0   \n",
       "10566  dominic frisby : now looks like a good time to...                   1   \n",
       "10567  Gold heading for worst week since November on ...                   0   \n",
       "10568  august gold up $7.60 at $878.80 an ounce on nymex                   1   \n",
       "10569    december gold down $1 at $749 an ounce on nymex                   0   \n",
       "\n",
       "       Price Direction Constant  Price Direction Down  Asset Comparision  \\\n",
       "0                             0                     1                  0   \n",
       "1                             0                     1                  0   \n",
       "2                             0                     0                  0   \n",
       "3                             0                     0                  0   \n",
       "4                             0                     1                  0   \n",
       "...                         ...                   ...                ...   \n",
       "10565                         0                     1                  0   \n",
       "10566                         0                     0                  0   \n",
       "10567                         0                     1                  0   \n",
       "10568                         0                     0                  0   \n",
       "10569                         0                     1                  0   \n",
       "\n",
       "       Past Information  Future Information Price Sentiment  ...  \\\n",
       "0                     1                   0        negative  ...   \n",
       "1                     1                   0        negative  ...   \n",
       "2                     1                   0        positive  ...   \n",
       "3                     0                   1            none  ...   \n",
       "4                     1                   0        negative  ...   \n",
       "...                 ...                 ...             ...  ...   \n",
       "10565                 1                   0        negative  ...   \n",
       "10566                 0                   1        positive  ...   \n",
       "10567                 1                   0        negative  ...   \n",
       "10568                 1                   0        positive  ...   \n",
       "10569                 1                   0        negative  ...   \n",
       "\n",
       "                  31             32             33             34  \\\n",
       "0       3.041266e-02   2.770584e-02   3.512701e-02   3.233447e-02   \n",
       "1      3.427802e-308  2.644261e-308  3.554797e-308  4.039425e-308   \n",
       "2      4.211338e-308  3.335190e-308  5.489848e-308  7.108979e-308   \n",
       "3      7.453425e-308  5.152811e-308  4.543721e-308  7.056816e-308   \n",
       "4       7.237842e-02   3.867242e-02   5.022091e-02   8.339184e-02   \n",
       "...              ...            ...            ...            ...   \n",
       "10565   1.568752e-02   1.085144e-02   1.616860e-02   2.019150e-02   \n",
       "10566  7.226353e-308  5.346830e-308  4.613434e-308  6.917584e-308   \n",
       "10567   2.726694e-02   1.766332e-02   2.540357e-02   3.717115e-02   \n",
       "10568  1.467211e-308  1.439511e-308  1.363509e-308  1.409725e-308   \n",
       "10569  1.467200e-308  1.439501e-308  1.363501e-308  1.409716e-308   \n",
       "\n",
       "                  35  dominant_topic  topic  mapped_topic  matching  \\\n",
       "0       2.910262e-02              20     -1            18     False   \n",
       "1      3.411673e-308              17      0             0      True   \n",
       "2      4.925955e-308              28     22            22      True   \n",
       "3      4.600916e-308              22      1             1      True   \n",
       "4       2.393919e-01              35     -1             3     False   \n",
       "...              ...             ...    ...           ...       ...   \n",
       "10565   1.561444e-02              17      0             0      True   \n",
       "10566  4.632731e-308              22      1             1      True   \n",
       "10567   2.940629e-02              17      0             0      True   \n",
       "10568  1.461121e-308               7     34            34      True   \n",
       "10569  1.461111e-308               7     34            34      True   \n",
       "\n",
       "       merged_group  \n",
       "0                 9  \n",
       "1                 0  \n",
       "2                 4  \n",
       "3                 0  \n",
       "4                 0  \n",
       "...             ...  \n",
       "10565             0  \n",
       "10566             0  \n",
       "10567             0  \n",
       "10568             4  \n",
       "10569             4  \n",
       "\n",
       "[10570 rows x 51 columns]"
      ]
     },
     "execution_count": 57,
     "metadata": {},
     "output_type": "execute_result"
    }
   ],
   "source": [
    "gold_df_filtered"
   ]
  },
  {
   "cell_type": "code",
   "execution_count": null,
   "metadata": {},
   "outputs": [
    {
     "data": {
      "text/plain": [
       "merged_group\n",
       "0    7290\n",
       "4    1237\n",
       "1     520\n",
       "9     430\n",
       "3     263\n",
       "2     250\n",
       "7     218\n",
       "5     138\n",
       "8     121\n",
       "6     103\n",
       "Name: count, dtype: int64"
      ]
     },
     "execution_count": 59,
     "metadata": {},
     "output_type": "execute_result"
    }
   ],
   "source": [
    "gold_df_filtered[\"merged_group\"].value_counts()"
   ]
  },
  {
   "cell_type": "code",
   "execution_count": null,
   "metadata": {},
   "outputs": [
    {
     "data": {
      "text/plain": [
       "0      april gold down 20 cents to settle at $1,116.1...\n",
       "9      april gold holds slight gain, up $2.50, or 0.2...\n",
       "31        august gold ends up $1.60, or 0.2%, at $936.20\n",
       "36                     gold little changed; copper sinks\n",
       "39         feb. gold down $1.20 to close at $1,596.70/oz\n",
       "61                    gold lost 1% to $1,121.80 an ounce\n",
       "72                  gold finishes higher at $1,103.70/oz\n",
       "130    Feb. gold settles at $1,184.90/oz, up $11.50, ...\n",
       "150                         gold ends lower at rs 13,130\n",
       "180    gold ends lower, still flirting with $1,200 level\n",
       "238    june gold last at $1,203.90/oz on comex, down ...\n",
       "273           august gold falls 0.4% to $951.30 an ounce\n",
       "288    Dec. gold gains 20 cents to settle at $1,267.7...\n",
       "298    Dec. gold declines by $16.80, or 1.3%, to sett...\n",
       "301      Gold futures down at Rs 27,477 on profit-taking\n",
       "362            dec gold climbs $2.80 to $433.30/oz in ny\n",
       "395    aug. gold up $58 at $1,622.20 after $1,623.20 ...\n",
       "439    june gold down $3.20, or 0.2%, to end at $1,30...\n",
       "459    august gold closes at $655.40/oz, down $3.80 i...\n",
       "464    dec. gold up $12.50, or 2.1%, to close at $619...\n",
       "538                 gold ends lower; silver, copper gain\n",
       "646    April gold settles little changed, down 40 cen...\n",
       "648                Gold futures open higher at Rs 29,440\n",
       "662                   gold tops $414 on low rate signals\n",
       "711    CORRECTION: December gold settles down $13.30,...\n",
       "728    gold ends slightly lower as the metal marks 10...\n",
       "786    dec. gold closes at $736.30/oz, down $17.80, o...\n",
       "811    gold futures trade marginally lower on subdued...\n",
       "853    April gold loses $1.40, or 0.1%, to finish at ...\n",
       "870    December gold finishes up $2.10, or 0.2%, at $...\n",
       "Name: News, dtype: object"
      ]
     },
     "execution_count": 63,
     "metadata": {},
     "output_type": "execute_result"
    }
   ],
   "source": [
    "gold_df_filtered[gold_df_filtered[\"merged_group\"] == 9][\"News\"][:30]"
   ]
  },
  {
   "cell_type": "markdown",
   "metadata": {},
   "source": [
    "## testing"
   ]
  },
  {
   "cell_type": "code",
   "execution_count": null,
   "metadata": {},
   "outputs": [
    {
     "data": {
      "text/plain": [
       "'gold perc as silver'"
      ]
     },
     "execution_count": 65,
     "metadata": {},
     "output_type": "execute_result"
    }
   ],
   "source": [
    "new_sentence = \"Gold falls down 2 perc as silver rises\"\n",
    "\n",
    "# Clean the sentence (same as training)\n",
    "cleaned_sentence = re.sub(months, \"\", new_sentence.lower())\n",
    "cleaned_sentence = re.sub(directions, \"\", cleaned_sentence)\n",
    "cleaned_sentence = re.sub(numbers, \"\", cleaned_sentence)\n",
    "cleaned_sentence = re.sub(symbols, \"\", cleaned_sentence)\n",
    "cleaned_sentence = re.sub(r\"[^\\w\\s]\", \"\", cleaned_sentence)\n",
    "cleaned_sentence = re.sub(r\"\\s+\", \" \", cleaned_sentence).strip()\n",
    "\n",
    "cleaned_sentence"
   ]
  },
  {
   "cell_type": "code",
   "execution_count": 66,
   "metadata": {},
   "outputs": [
    {
     "name": "stderr",
     "output_type": "stream",
     "text": [
      "Batches: 100%|██████████| 1/1 [00:00<00:00,  4.15it/s]\n",
      "2025-04-12 14:27:25,464 - BERTopic - Dimensionality - Reducing dimensionality of input embeddings.\n",
      "2025-04-12 14:27:28,563 - BERTopic - Dimensionality - Completed ✓\n",
      "2025-04-12 14:27:28,564 - BERTopic - Clustering - Approximating new points with `hdbscan_model`\n",
      "2025-04-12 14:27:28,564 - BERTopic - Cluster - Completed ✓\n"
     ]
    }
   ],
   "source": [
    "topic, prob = topic_model.transform([cleaned_sentence])"
   ]
  },
  {
   "cell_type": "code",
   "execution_count": null,
   "metadata": {},
   "outputs": [
    {
     "data": {
      "text/plain": [
       "1"
      ]
     },
     "execution_count": 68,
     "metadata": {},
     "output_type": "execute_result"
    }
   ],
   "source": [
    "dominant_topic = topic[0]\n",
    "dominant_topic"
   ]
  },
  {
   "cell_type": "code",
   "execution_count": 70,
   "metadata": {},
   "outputs": [
    {
     "data": {
      "text/plain": [
       "array([0.80142565])"
      ]
     },
     "execution_count": 70,
     "metadata": {},
     "output_type": "execute_result"
    }
   ],
   "source": [
    "prob"
   ]
  },
  {
   "cell_type": "code",
   "execution_count": null,
   "metadata": {},
   "outputs": [],
   "source": [
    "merged_group = topic_group_map[topic_group_map[\"Original_Topic\"] == dominant_topic][\n",
    "    \"New_Group\"\n",
    "].values[0]"
   ]
  },
  {
   "cell_type": "code",
   "execution_count": 72,
   "metadata": {},
   "outputs": [
    {
     "data": {
      "text/plain": [
       "0"
      ]
     },
     "execution_count": 72,
     "metadata": {},
     "output_type": "execute_result"
    }
   ],
   "source": [
    "merged_group"
   ]
  },
  {
   "cell_type": "code",
   "execution_count": null,
   "metadata": {},
   "outputs": [],
   "source": [
    "from sklearn.metrics.pairwise import cosine_similarity\n",
    "import numpy as np\n",
    "import itertools"
   ]
  },
  {
   "cell_type": "code",
   "execution_count": null,
   "metadata": {},
   "outputs": [],
   "source": [
    "# # Step 1: Get topic embeddings and IDs\n",
    "# topic_ids = topic_model.get_topic_info().Topic.tolist()\n",
    "# # Filter out -1 (outliers)\n",
    "# topic_ids = [t for t in topic_ids if t != -1]"
   ]
  },
  {
   "cell_type": "code",
   "execution_count": null,
   "metadata": {},
   "outputs": [],
   "source": [
    "# embeddings = topic_model.topic_embeddings_\n",
    "# # Only keep embeddings for the selected topic IDs\n",
    "# topic_idx_map = {i: topic_ids.index(i) for i in topic_ids}\n",
    "# filtered_embeddings = np.array([embeddings[i] for i in topic_ids])"
   ]
  },
  {
   "cell_type": "code",
   "execution_count": null,
   "metadata": {},
   "outputs": [],
   "source": [
    "# Step 2: Compute cosine similarity matrix\n",
    "# cosine_sim = cosine_similarity(filtered_embeddings)\n",
    "\n",
    "# # Step 3: Find topic pairs with high similarity (excluding diagonal)\n",
    "# threshold = 0.85\n",
    "# highly_similar_pairs = []\n",
    "# for i, j in itertools.combinations(range(len(topic_ids)), 2):\n",
    "#     if cosine_sim[i, j] >= threshold:\n",
    "#         highly_similar_pairs.append((topic_ids[i], topic_ids[j]))"
   ]
  },
  {
   "cell_type": "code",
   "execution_count": null,
   "metadata": {},
   "outputs": [],
   "source": [
    "# unique_topics = gold_df_filtered.Topic.unique()"
   ]
  },
  {
   "cell_type": "code",
   "execution_count": null,
   "metadata": {},
   "outputs": [],
   "source": [
    "# # Step 1: Build Union-Find to track connected components\n",
    "# class UnionFind:\n",
    "#     def __init__(self):\n",
    "#         self.parent = {}\n",
    "\n",
    "#     def find(self, x):\n",
    "#         if x != self.parent.setdefault(x, x):\n",
    "#             self.parent[x] = self.find(self.parent[x])\n",
    "#         return self.parent[x]\n",
    "\n",
    "#     def union(self, x, y):\n",
    "#         self.parent[self.find(y)] = self.find(x)\n",
    "\n",
    "\n",
    "# uf = UnionFind()\n",
    "# for a, b in highly_similar_pairs:\n",
    "#     uf.union(min(a, b), max(a, b))  # Always union to the smaller ID\n",
    "\n",
    "# # Step 2: Build final topic mapping to lowest ID in each group\n",
    "# # Also apply to all unique topics (including those not in pairs)\n",
    "# final_mapping = {}\n",
    "# for topic in unique_topics:\n",
    "#     if topic == -1:\n",
    "#         final_mapping[topic] = -1\n",
    "#     else:\n",
    "#         final_mapping[topic] = uf.find(topic)\n",
    "\n",
    "# # Step 3: Apply the mapping to the dataframe\n",
    "# gold_df_filtered[\"Merged_Topic\"] = gold_df_filtered[\"Topic\"].map(final_mapping)"
   ]
  },
  {
   "cell_type": "code",
   "execution_count": null,
   "metadata": {},
   "outputs": [],
   "source": [
    "# # remove the noise data\n",
    "# noise_data = gold_df_filtered[gold_df_filtered.Merged_Topic == -1]\n",
    "\n",
    "# gold_df_filtered = gold_df_filtered[gold_df_filtered.Merged_Topic != -1]"
   ]
  },
  {
   "cell_type": "code",
   "execution_count": null,
   "metadata": {},
   "outputs": [],
   "source": [
    "# noise_data.shape"
   ]
  },
  {
   "cell_type": "code",
   "execution_count": null,
   "metadata": {},
   "outputs": [],
   "source": [
    "# gold_df_filtered.shape"
   ]
  },
  {
   "cell_type": "code",
   "execution_count": null,
   "metadata": {},
   "outputs": [],
   "source": [
    "# len(gold_df_filtered[\"Merged_Topic\"].unique())"
   ]
  },
  {
   "cell_type": "code",
   "execution_count": null,
   "metadata": {},
   "outputs": [],
   "source": [
    "# gold_df_filtered[\"Merged_Topic\"].value_counts()"
   ]
  },
  {
   "cell_type": "code",
   "execution_count": null,
   "metadata": {},
   "outputs": [],
   "source": [
    "# gold_df_filtered[gold_df_filtered.Merged_Topic == 39][\"News\"]\n",
    "# seems to be downward price movement"
   ]
  },
  {
   "cell_type": "code",
   "execution_count": null,
   "metadata": {},
   "outputs": [],
   "source": [
    "# gold_df_filtered[gold_df_filtered.Merged_Topic == 38][\"News\"]\n",
    "# macroeconomic events"
   ]
  },
  {
   "cell_type": "code",
   "execution_count": null,
   "metadata": {},
   "outputs": [],
   "source": [
    "# gold_df_filtered[gold_df_filtered.Merged_Topic == 13][\"News\"].head(10)\n",
    "# bullish movement"
   ]
  },
  {
   "cell_type": "code",
   "execution_count": null,
   "metadata": {},
   "outputs": [],
   "source": [
    "# gold_df_filtered[gold_df_filtered.Merged_Topic == 28][\"News\"].head(10)\n",
    "# broader market conditions"
   ]
  }
 ],
 "metadata": {
  "kernelspec": {
   "display_name": "base",
   "language": "python",
   "name": "python3"
  },
  "language_info": {
   "codemirror_mode": {
    "name": "ipython",
    "version": 3
   },
   "file_extension": ".py",
   "mimetype": "text/x-python",
   "name": "python",
   "nbconvert_exporter": "python",
   "pygments_lexer": "ipython3",
   "version": "3.12.8"
  }
 },
 "nbformat": 4,
 "nbformat_minor": 2
}
