{
 "cells": [
  {
   "cell_type": "code",
   "execution_count": 33,
   "metadata": {},
   "outputs": [],
   "source": [
    "import pandas as pd\n",
    "from bertopic import BERTopic\n",
    "from sklearn.feature_extraction.text import CountVectorizer\n",
    "from bertopic.backend import BaseEmbedder\n",
    "from sentence_transformers import SentenceTransformer\n",
    "\n",
    "from umap import UMAP\n",
    "from hdbscan import HDBSCAN\n",
    "from keybert import KeyBERT\n",
    "\n",
    "\n",
    "# Step 1: Load data\n",
    "gold_df = pd.read_csv(\"gold-dataset-sinha-khandait.csv\")\n",
    "headlines = gold_df[\"News\"].dropna().astype(str).tolist()"
   ]
  },
  {
   "cell_type": "code",
   "execution_count": 34,
   "metadata": {},
   "outputs": [
    {
     "data": {
      "text/plain": [
       "['april gold down 20 cents to settle at $1,116.10/oz',\n",
       " 'gold suffers third straight daily decline',\n",
       " 'Gold futures edge up after two-session decline',\n",
       " \"dent research : is gold's day in the sun coming soon?\",\n",
       " 'Gold snaps three-day rally as Trump, lawmakers reach debt-ceiling deal',\n",
       " 'Dec. gold climbs $9.40, or 0.7%, to settle at $1,356.90/oz',\n",
       " 'gold falls by rs 25 on sluggish demand, global cues',\n",
       " 'Gold futures fall for the session, but gain for the week',\n",
       " 'Gold struggles; silver slides, base metals falter',\n",
       " 'april gold holds slight gain, up $2.50, or 0.2%, at $1320.20/oz.',\n",
       " 'feb. gold ends up $9.60, or 1.1%, at $901.60 an ounce',\n",
       " 'gold trades in red in early trade; eyes near-term range at rs 28,300-28,600',\n",
       " 'gold loses 1.3%, but logs monthly gain of 6.3%',\n",
       " \"gold recovery? here's one way to play it\",\n",
       " 'gold prices rebound rs 350 on global cues, weak rupee',\n",
       " 'can investment in gold, sensex & ppfs give the same returns?',\n",
       " 'gold rush spooks economy as trade deficit surges to $17.8 bn',\n",
       " 'Gold futures down at Rs 30,244 ',\n",
       " 'state street : gold likely to climb back to $1,350 an ounce by the end of 2018',\n",
       " 'gold prices slip lower as dollar remains supported',\n",
       " 'gold to trade in 28670-29160 range: achiievers equities',\n",
       " 'Gold holds firm near $1,200 on dovish Fed',\n",
       " 'Gold prices finish at a more than one-week high',\n",
       " 'india : is gold a good investment in a volatile market?',\n",
       " 'gold futures down over $20/oz ahead of settlement',\n",
       " 'Gold holds modest gains, up $3.10, or 0.3%, at $1,191.50/oz. after data',\n",
       " 'april gold up $1.40 to end the day at $554.40/oz in ny',\n",
       " 'Gold, Silver may trade lower today: Angel Commodities',\n",
       " 'KAZ Minerals lifts copper, gold guidance',\n",
       " 'Gold little-changed after data',\n",
       " 'germany : why gold market in germany is thriving',\n",
       " 'august gold ends up $1.60, or 0.2%, at $936.20',\n",
       " 'gold futures at highest since early december',\n",
       " 'gold futures close narrowly lower',\n",
       " 'Gold edges up ahead of G20 meeting; set to post second weekly gain',\n",
       " 'feb gold falls 10c to $452.20/oz in morning ny trade',\n",
       " 'gold little changed; copper sinks',\n",
       " 'gold swings between gains and drops on stronger dollar',\n",
       " 'charts : gold gld etf update - breakdown ?',\n",
       " 'feb. gold down $1.20 to close at $1,596.70/oz',\n",
       " 'philly gold and silver index falls 0.5% to end at 93.53',\n",
       " 'Dec. gold settles at $1,269.90/oz, up $7, or 0.6%',\n",
       " 'Gold Prices Hold onto Gains Ahead of FOMC Statement',\n",
       " 'December gold trades 0.8% higher at $1,289/oz.',\n",
       " 'gold bulls push for the exits on strong dollar and lack of fear',\n",
       " 'gold ends 0.5% higher, at $1,159.60 an ounce',\n",
       " 'gold futures soar above $1,200, amid escalating conflict in yemen',\n",
       " 'gold settles at its highest level in a week',\n",
       " 'gold prices rise for a third day, buoyed by geopolitical worries',\n",
       " 'Gold holds near 3-1/2 week low as investors opt for riskier assets',\n",
       " 'gold ends higher, logs biggest weekly gain since 2016',\n",
       " 'August gold rises 0.2% at $1,257.50/oz.',\n",
       " 'gold futures at seven-week low',\n",
       " 'gold edges down as dollar gains on fed rate hike view',\n",
       " 'van eck : tighter global monetary policy to support gold market',\n",
       " 'Gold rebounds to Rs 31,860 on firm global cues',\n",
       " 'december gold gains $4.10, or 0.3%, to $1,345.30/oz.',\n",
       " 'gold prices settle at lowest level in more than a week',\n",
       " 'dec. gold down 30 cents at $1,310/oz on globex',\n",
       " 'Dec. gold settles at $1,323.70/oz, down $1.90, or 0.1%',\n",
       " 'Gold jumps 0.3% from settlement price after Fed minutes to $1,237.40 an ounce',\n",
       " 'gold lost 1% to $1,121.80 an ounce',\n",
       " 'gold futures fall for a third straight session',\n",
       " 'gold has best monthly performance since nov. 2009',\n",
       " 'gold prices settle at lowest level in nearly 8 weeks',\n",
       " 'gold futures climb back above $1,200/oz on comex',\n",
       " 'metals shares turn higher; gold futures still lower',\n",
       " 'gold declines first time in seven days after greek elections',\n",
       " 'gold gains on weaker dollar; markets brace for ecb decision',\n",
       " 'gold holds modest loss after ppi report',\n",
       " 'February gold contract notches highest settlement in over a week',\n",
       " 'August gold climbs by $10.60, or 0.9%, to settle at $1,260/oz',\n",
       " 'gold finishes higher at $1,103.70/oz',\n",
       " \"debt : global debt surges - gold and silver investors' patience will soon pay off\",\n",
       " 'gold futures open higher, as dollar drops',\n",
       " 'gold futures close with a more than $7 loss',\n",
       " 'gold surrenders 11-month highs on stronger dollar, upbeat economic data',\n",
       " 'gold edges up in electronic trade post-fed minutes',\n",
       " \"when will gold's 'summer doldrums' end? history says pretty soon\",\n",
       " 'Gold ends lower as rise in government bond yields dulls investment interest',\n",
       " 'gold jewellery exports fall 70% in july',\n",
       " 'silver, gold near lifetime highs, dollar loses ground',\n",
       " 'african barrick gold production declines',\n",
       " 'Gold futures down at Rs 30,568 on weak global cues',\n",
       " 'metals shares fall, but gold futures edge up',\n",
       " 'august gold ends up $16.20 at $931.30 an ounce on nymex',\n",
       " 'gold futures fall under $400, first time since dec. 2',\n",
       " 'ghana makes government certificate mandatory for exporting dore gold',\n",
       " 'gold holds modest loss after ism services data',\n",
       " 'gold notches two-week high on expectations fed will lift rates slowly',\n",
       " 'gold prices gain in major metros in india',\n",
       " 'gold futures mark first gain in four sessions',\n",
       " 'gold sets fresh multi-decade high of $815.2/ounce, up $4.4',\n",
       " 'Support for MCX Gold Feb at Rs 28800: Kotak Commodity',\n",
       " \"microsoft ceo sees 'gold rush' in the cloud\",\n",
       " 'gold ends at lowest level in over 2 weeks as dollar strengthens',\n",
       " 'gold, silver bounce on global cues, jewellers buying',\n",
       " 'gold scores gain for second session in a row',\n",
       " 'Jewellers want gold import duty cut to 2%',\n",
       " 'gold heads for worst week in 2 months on syria, fed',\n",
       " 'gold hits new high of rs 24,350; silver sheds rs 3,100',\n",
       " 'dec gold falls $4.10 to $462.80/oz in morning ny trade',\n",
       " 'Gold at 10-month low, down 5 weeks in a row',\n",
       " 'abc refinery gains shanghai gold exchange accreditation',\n",
       " 'Spot Gold rates move up today',\n",
       " 'gold jumps above $1,150 as u.s. dollar collapses to 3-month low',\n",
       " 'Gold futures end higher after back-to-back drop',\n",
       " 'natixis : look for gold to rally in september as usd weakens',\n",
       " 'silver steals the shine as gold loses lustre',\n",
       " 'kinross gold agrees $500 million credit facility',\n",
       " 'Dec. gold settles at $1,293.80/oz, up $8.80, or 0.7%',\n",
       " 'gold ends at two-week low as dollar continues to strengthen',\n",
       " 'gold futures fall 0.24% on global cues',\n",
       " 'Gold prices to trade lower today: Angel Commodities',\n",
       " 'gold rates: mcx goldguinea july contract declines',\n",
       " 'india : jewellers & bullion traders spar over gold import duty',\n",
       " 'gold prices may slip to rs 28745-27850: mangal keshav',\n",
       " 'gold issues, futures prices inch up',\n",
       " 'August gold settles at $1,245.50/oz, up $3.50, or 0.3%',\n",
       " 'Gold Prices Remain Lower on Stronger U.S. Dollar',\n",
       " 'gold prices pull back from 4-month highs',\n",
       " 'feb. gold down $3.70, or 0.3%, at $1,234.90/oz',\n",
       " 'December gold gains $8.50, or 0.6%, at $1,368.50/oz.',\n",
       " 'gold futures climb above $700 an ounce in morning dealings',\n",
       " 'gold etfs record rs 900 cr outflow in 2015; aum down 20%',\n",
       " 'gold may touch rs 35500/10gms in few days: kishore narne',\n",
       " 'how trumpenomics torpedoed gold prices',\n",
       " 'august gold off 0.5% at $1,253.90/oz.',\n",
       " 'August gold down $10, or 0.8%, to settle at $1,246.40/oz',\n",
       " 'April gold down $1.60, or 0.1%, at $1,254.10/oz after highs above $1,258',\n",
       " 'Feb. gold settles at $1,184.90/oz, up $11.50, or about 1%',\n",
       " 'gold, oil hold to gains after ism data',\n",
       " 'price-fixing of gold, oil to become a crime in u.k.',\n",
       " 'gold holds steady as dollar firms',\n",
       " 'gold gains on dollar weakness',\n",
       " 'gold rate today: gold, silver down in morning trade',\n",
       " 'Modern medicine strikes gold',\n",
       " 'gold prices gain along with stock futures',\n",
       " 'metals issues climb; gold steadies',\n",
       " 'gold falls for ninth day as dollar rises vs. euro',\n",
       " 'gold futures finish at a 1-week high ahead of fed decision',\n",
       " 'fred hickey - buy gold',\n",
       " 'December gold up 0.3% at $1,343.30/oz.',\n",
       " \"Here's what's driving bitcoin buyers' rush to 'millennial gold'\",\n",
       " \"More steps' to curb gold imports, if needed\",\n",
       " 'Dec. gold settles at $1,294.40/oz, up $7.10, or 0.6%',\n",
       " 'gold shares buoy bay street',\n",
       " 'gold ends higher; silver down 2% after steep loss',\n",
       " 'Gold futures log highest settlement since mid-November',\n",
       " 'gold closes above rs 18,000-level on strong global cues',\n",
       " 'gold ends lower at rs 13,130',\n",
       " 'Gold glitters ahead of Dhanteras, Diwali',\n",
       " 'Gold holds above $1,200/oz on weaker dollar before Fed minutes',\n",
       " 'gold, silver encounter profit-selling, global cues',\n",
       " 'Gold surges most in four weeks on Dagong US downgrade',\n",
       " 'Gold / Silver / Copper futures - weekly outlook: August 4 - 8',\n",
       " 'April gold settles at $1,230.20/bbl, up $3.10, or 0.3%',\n",
       " 'Gold prices gain in Asia as China CPI up less than expected',\n",
       " 'gold futures end slightly higher, but tally a third straight weekly loss',\n",
       " \"have a question about gold? ask the author of 'precious metals investing for dummies' now\",\n",
       " 'sharps pixley: chinese gold demand slipping - but still up y-o-y',\n",
       " 'Expect Gold to trade sideways: Sushil Finance',\n",
       " 'today gold price: track today gold rate latest trends and news',\n",
       " 'Dhanteras: This season, it is lightweight gold, silver',\n",
       " \"hiding behind gold's flashy moves, oil's the true performer\",\n",
       " 'gold, oil trade lower as jobs data weigh',\n",
       " 'sge : daily shanghai gold benchmark price',\n",
       " 'gold futures rise, as dollar edges lower',\n",
       " 'Gold suffers from biggest single-day dollar and percentage loss since Jan. 25',\n",
       " 'expect downward move in gold: astromoneyguru',\n",
       " 'rjo futures : gold versus silver: q2 to benefit the white metals',\n",
       " 'Gold prices end the month with a loss of about 1.1%',\n",
       " 'april gold settles at $1,222.60/oz on comex, up $12.50, or 1%',\n",
       " 'june gold down $11.7, or 1%, after sentiment data',\n",
       " \"hong kong : world's top jeweler reveals growing appetite for gold in china\",\n",
       " 'low inflation phase not for realty, gold; hence investors rushing to equity: ashwini agarwal, ashmore investment',\n",
       " 'Gold slips as dollar steadies on positive US data',\n",
       " 'gold prices jump in early asia as fed hold steady citing global weakness',\n",
       " 'intraday strategy for gold, nickel, lead: angel broking',\n",
       " 'Gold futures settle at lowest level since early February',\n",
       " 'gold ends lower, still flirting with $1,200 level',\n",
       " \"gold may be flying, but this gold stock's a turkey\",\n",
       " 'gold, silver start week on firm note, rise on global cues',\n",
       " 'Gold, silver gain on more bets the Fed will take it slow on raising rates',\n",
       " 'Gold industry sees prices rising to $1,532/oz over 12 months',\n",
       " 'gold rises as dollar weakens anew; silver ends near $16',\n",
       " 'Gold Prices Edge Higher With All Eyes on U.S. Tariffs',\n",
       " 'december gold up $5.90 to $822.70 an ounce on globex',\n",
       " 'Gold at 3-week high as dollar struggles amid US rate outlook',\n",
       " 'june gold up 0.2% at $1,319.90/oz.',\n",
       " 'sell mcx gold dec around rs 31500; target rs 31170: geojit',\n",
       " 'MCX GOLD February contract moves up',\n",
       " 'august gold trades at $1,300.10/oz, down $8.90, or 0.7%',\n",
       " 'Gold futures up 0.36% on positive global cues',\n",
       " 'Gold futures dip to Rs 29,012 on weak global cues',\n",
       " 'MCX GOLDPETAL Nov contract up marginally',\n",
       " 'gold holds steady amid softer dollar',\n",
       " 'Assets under Gold ETFs up nearly three fold',\n",
       " \"Gold marks new session lows as U.S. dollar index trades near day's highs\",\n",
       " 'gold rises to 1-week high as dollar holds steady',\n",
       " 'gold adds to gains after weak china data',\n",
       " 'gold prices fall for the session to post a modest loss for the week',\n",
       " 'commodity watch: gold, silver rise; sugar slides in futures trade',\n",
       " 'Look to buy gold on dips to $1,240',\n",
       " \"goldman's prior end-2013 gold call was $1,435/oz\",\n",
       " 'Gold futures pare gains, but still finish at a 6-week high',\n",
       " 'gold survives goldman sachs',\n",
       " 'gold futures up $12.20 at $954.70 an ounce',\n",
       " 'reserve bank of india adds 2.5 tonnes of gold to forex reserves in q4',\n",
       " 'Gold futures rise to Rs 29,416',\n",
       " 'cboe gold index closes at 84.2, up 4%',\n",
       " 'Dec. gold settles at $1,296.70/oz, up $5.10, or 0.4%',\n",
       " \"moody's revises pilgrim's pride outlook on gold kist bid\",\n",
       " 'june gold futures fall $11.60, or 0.9%, to settle at $1,277.50 an ounce',\n",
       " 'gold prices soar but buyers bet on akshaya tritiya',\n",
       " 'Gold future extend losses after jobs report',\n",
       " 'Dec. gold drops $33.40, or 2.6%, to $1,233/oz',\n",
       " 'hedge funds kept betting against gold even as prices began rally',\n",
       " 'dec. gold reverses losses, gaining 0.6% to $734.70 an ounce',\n",
       " 'gold futures mark their highest settlement since feb. 11',\n",
       " 'current gold rate: check out current gold price',\n",
       " \"2018 gold price 'could hit $1450'\",\n",
       " 'gold rallies to finish near $1,200 as trump fuels market uncertainty',\n",
       " 'gold tops $1,790 to end at over six-week high',\n",
       " 'gold futures rebound on firm global cues',\n",
       " 'gold prices on track to settle lower for the session',\n",
       " 'Fading aura: Gold set for further correction',\n",
       " 'gold prices rebound in asia ahead of china q3 gdp',\n",
       " 'gold, oil hold on to gains post bernanke',\n",
       " 'mcx goldguinea november contract rises',\n",
       " 'Gold futures mark lowest settlement since early June',\n",
       " 'Gold prices trading higher in Chennai, Ahmedabad market',\n",
       " 'gold futures remain lower after durable goods',\n",
       " 'gold kist started at hold at stifel nicolaus',\n",
       " \"gold's 47-year bull market\",\n",
       " 'dubai loses glitter as vat tax crimps demand in city of gold',\n",
       " 'sanguine about gold',\n",
       " \"gold ends narrowly higher as 'many uncertainties' plague the market\",\n",
       " 'june gold last at $1,203.90/oz on comex, down 20 cents',\n",
       " 'June gold down 1.5% at $1,230.40/oz.',\n",
       " 'gold scores third straight win; edges up more after fed decision',\n",
       " 'Gold settles lower as investors look to Jackson Hole',\n",
       " 'gold rises rs 67 in futures trade on global cues',\n",
       " 'gold falls as jobs data clip economic worries',\n",
       " 'festive demand lifts up gold & silver prices',\n",
       " 'gold futures up $8.50 at $1,005.20 an ounce',\n",
       " 'Gold hits 4-week high as central bank meetings, Brexit vote shake stocks',\n",
       " 'gold closes a tad lower at $1,325.10/oz',\n",
       " 'lower oil prices and weaker gold demand positive for current account deficit',\n",
       " 'karvy advises to sell gold, silver',\n",
       " 'oil, gold push higher after german court ruling',\n",
       " 'Gold falls on upbeat U.S. housing, inflation data',\n",
       " 'inflation : long-term evidence: gold and inflation',\n",
       " \"akshay tritiya gold sales to beat last year's record\",\n",
       " 'gold prices edge higher on weaker dollar, trade tensions',\n",
       " 'Gold stands tall as China fears fuel safe-haven draw',\n",
       " 'gold futures turn lower ahead of comex close',\n",
       " \"Gold's 2016 peak now looks easy to reach after the metal's big breakout\",\n",
       " 'Gold settles higher, but seesaws after Fed statement',\n",
       " \"india's 2015-16 gold imports drop 16%: report\",\n",
       " 'dec gold down 1.4% at $407.10',\n",
       " 'Feb. gold settles at $1,204.90/oz, up $3.40, or 0.3%',\n",
       " \"here's why gold might die out as an investment\",\n",
       " 'gold futures rally, as other commodities also rise',\n",
       " 'gold futures mark highest settlement in a month',\n",
       " 'gold advances, oil posts losses after u.s. outlook',\n",
       " 'gold futures gain nearly 3% for the month',\n",
       " 'apollo gold cut to underperform by bmo nesbitt',\n",
       " 'mining : top gold miners production cost still provides floor in the market price',\n",
       " 'gold to trade in 28372-28686 range: achiievers equities',\n",
       " 'gold rebounds to hit four-month high; silver spurts',\n",
       " 'Gold holds slight gain after data',\n",
       " 'gold etfs higher in early trade',\n",
       " 'august gold falls 0.4% to $951.30 an ounce',\n",
       " 'february gold up 0.3% at 1,274.80 an ounce',\n",
       " 'gold edges up on softer dollar, palladium at 16-year peak',\n",
       " 'MCX GOLD Dec contract trading lower',\n",
       " 'dec gold climbs $4.60 to $467.90/oz, a 9-mo high',\n",
       " 'gold stays close to 6-week low as investors await fed outcome',\n",
       " 'gold rises on ukraine unease, though u.s. data cap gains',\n",
       " 'gold futures down 0.43% on weak global cues',\n",
       " 'Gold surges by Rs 290 on global cues; reclaims Rs 26,000-level',\n",
       " 'gold ends lower as bearish sentiment takes hold',\n",
       " 'gold falls 1.5% on day, down 0.4% on week',\n",
       " 'gold futures climb, but end the week down 2.5%',\n",
       " 'Gold edges up after 2-day decline, China concerns support',\n",
       " 'Gold struggles on firmer dollar, Fed rate hike fears',\n",
       " 'june gold up $10.40 at $875.50 an ounce on nymex',\n",
       " 'Dec. gold gains 20 cents to settle at $1,267.70/oz for the session',\n",
       " 'seasonal demand pushes up gold by rs 375; silver by rs 400',\n",
       " 'Gold edges lower as dollar holds steady',\n",
       " 'Gold prices turn higher ahead of Comex settlement',\n",
       " 'Gold, silver edge higher ahead of U.S. jobless claims, housing data',\n",
       " 'gold futures add $19.80 to $1,733.20',\n",
       " \"the curious case of this year's high gold imports\",\n",
       " 'gold logs modest losses for the day and week',\n",
       " 'Gold rises on safe-haven buying',\n",
       " \"gold options 'fear' traders turn to gold miners\",\n",
       " 'Dec. gold declines by $16.80, or 1.3%, to settle at $1,286.20/oz',\n",
       " 'gold slips $2.10 to settle at $1,183.50/oz',\n",
       " 'June gold trades $6.80, or 0.6%, higher at $1,234.50/oz.',\n",
       " 'Gold futures down at Rs 27,477 on profit-taking',\n",
       " 'get gold at a discount now',\n",
       " 'gold futures dull, hold above $440',\n",
       " 'Dec. gold gains $3.70, or 0.3%, to settle at $1,294.70/oz',\n",
       " 'Gold prices push higher amid Hong Kong unrest',\n",
       " 'gold closes 0.2% down at $1,268.70/oz',\n",
       " 'Gold pares losses by the finish, gains 1.2% for the week',\n",
       " 'gold rate today: gold, silver trade higher in morning deals',\n",
       " \"anz cuts '12 gold outlook, cites dollar headwinds\",\n",
       " 'gold closes lower, palladium rises',\n",
       " \"gold kist rejects pilgrim's pride offer as inadequate\",\n",
       " 'waiting for gold to bottom? Watch this group of bulls',\n",
       " 'Gold, silver skid on profit-taking, global cues',\n",
       " 'gold futures settle at lowest level since jan. 2',\n",
       " 'crude oil higher, gold futures lower after data',\n",
       " 'Gold futures mark highest finish in about 5 months',\n",
       " 'Gold prices end with a slight loss as U.S. equities, dollar gain ground',\n",
       " 'iamgold deal for gold field non-sadc assets',\n",
       " \"india : rising gold prices keep india's jewellery buyers at bay\",\n",
       " 'Gold futures trim gain after jobless claims, PPI data',\n",
       " 'MCX GOLD Dec contract trading higher',\n",
       " 'gold prices climb over $8 an ounce in afternoon trading',\n",
       " 'Gold futures extends losses',\n",
       " 'graham birch : this gold guy managed $40 billion at blackrock - but quit to run a farm instead',\n",
       " 'Gold prices rise on softer dollar, Italy budget woes',\n",
       " 'gold futures climb $9, edge back up toward $1,800',\n",
       " 'gold demand in india rose by 66% to 963 tonnes in 2010: wgc',\n",
       " 'MCX GOLDGUINEA Nov contract down marginally',\n",
       " 'mining indexes slump on gold slide',\n",
       " 'Gold ends near 3-week high as dollar sinks',\n",
       " 'gold and silver edge lower while stocks tumble',\n",
       " 'gold prices rip higher following rpts former trump nat. sec. advisor cooperating with special prosecutor',\n",
       " 'Dec. gold trades at $1,255.40/oz, up from $1,253.80 settlement',\n",
       " 'gold futures give up europe-deal gains',\n",
       " 'Going for gold: Olympic triumphs literally losing value at Rio Games',\n",
       " 'why investors are quietly turning bearish on gold prices',\n",
       " 'Gold futures log highest finish since Oct. 3',\n",
       " 'Gold holds early gains after PPI report',\n",
       " 'rbi followed due process in notifying 80:20 gold scheme, says former deputy guv hr khan',\n",
       " 'Gold, silver rebound on aggressive buying',\n",
       " 'dec. gold loses $10.30, or 0.9%, to settle at $1,172.80/oz on comex',\n",
       " 'This-and not North Korea-is why scared investors are buying gold',\n",
       " \"gold prices rise for second day on jewellers' buying\",\n",
       " 'feb gold down $7.70 at $430.70/oz in ny',\n",
       " 'Gold nudges up as Asian shares edge lower',\n",
       " 'gold futures fall, tracking tumble in oil prices',\n",
       " 'gold prices dull on dollar strength',\n",
       " \"gold falls 2% on central banks' action, euro hopes\",\n",
       " 'gold sparkles again',\n",
       " 'gold scores biggest weekly gain since january',\n",
       " 'government fixes rate at rs 2987/gm for sovereign gold bond',\n",
       " 'gold prices to trade volatile: angel commodities',\n",
       " 'when will gold finally return to a bull market?',\n",
       " 'Gold appetite hit a 5-year high in November as prices tumbled',\n",
       " 'june gold down 0.2%, or $1.40, at $688.50/oz in ny',\n",
       " 'April gold climbs $3.40, or 0.3%, to settle at $1,239.50/oz',\n",
       " 'gold steady on easing dollar; fed minutes in focus',\n",
       " 'More upside seen in gold prices; buy futures above Rs 30,450 for target Rs 30,600',\n",
       " 'gold slumps over 1% in wake of fed meeting',\n",
       " 'singapore firm to mint islamic cryptocurrency backed by gold',\n",
       " 'gold inches down, ends week with 3.4% loss',\n",
       " 'dec gold climbs $2.80 to $433.30/oz in ny',\n",
       " 'Gold prices settle lower after two-session gain',\n",
       " 'Gold prices sink nearly 8% in November for worst monthly loss in 2016',\n",
       " 'Gain seen in gold prices in Mumbai, Delhi market',\n",
       " 'the spx/gold ratio',\n",
       " 'Gold prices end the session lower, but tally a gain for the first half of the year',\n",
       " 'Dec. gold gains $8.20, or 0.6%, to settle at $1,330.40/oz',\n",
       " 'oil trades below $73, gold reverses after bernanke',\n",
       " 'Gold prices log lowest settlement since early August',\n",
       " 'buy gold on dips; may test rs 33250: nirmal bang',\n",
       " 'Gold extends its streak of gains to four sessions by a hair',\n",
       " 'gold, silver and oil markets hope for better year',\n",
       " 'gold gains as dollar rally takes a breather',\n",
       " 'Gold prices up in Asia as Fed holds steady, eyes on Eurogroup ahead',\n",
       " 'spot gold quoted at $404.10 in asia',\n",
       " 'gold rises to rs 22,570, silver to rs 54,700 on global cues',\n",
       " 'gold slightly lower as investors await fed',\n",
       " 'gold trades higher as dollar eases',\n",
       " 'gold climbs to 9.5 month high as north korea tensions escalate',\n",
       " 'commodities - gold prices bounce back on softer dollar ahead of fed',\n",
       " 'gold ends higher, posts best settlement price since july',\n",
       " 'Gold prices to trade higher today: Angel Commodities',\n",
       " 'Gold futures up at Rs 30,226/10 gm',\n",
       " 'correct: gold futures settle at lowest level in more than 4 weeks',\n",
       " 'gold to hover around rs 16,000 this week',\n",
       " 'gold futures up over $3 an ounce in afternoon dealings',\n",
       " 'gold prices down 9 sessions, lose 2% for the week',\n",
       " 'feb. gold rises $3.40 to $1,087.90/oz on globex',\n",
       " 'gold settles back under $1,300 an ounce',\n",
       " 'philly gold and silver index falls 2.7% to end at 91.76',\n",
       " 'Gold extends gains as Fed minutes reveal weak pricing concerns',\n",
       " 'oil turns lower, gold holds gain after jobs',\n",
       " 'Dec. gold at $1,190.30/oz in electronic trading, up from $1,189.30 settlement',\n",
       " 'aug. gold up $58 at $1,622.20 after $1,623.20 high',\n",
       " 'Dec. gold gains $3, or 0.2%, to $1,314.40/oz',\n",
       " 'gold, silver rise on wedding season demand',\n",
       " 'dec gold closes at $420.80/oz, down $7.40',\n",
       " 'philadelphia gold/silver index ends at 99.96, up 0.5% on day',\n",
       " 'Dec. gold settles at $1,317.80/oz, up $7.60, or 0.6%',\n",
       " 'gold ends floor trade up $9.8 at $1191.7 an ounce',\n",
       " 'gold plunges rs 350 on weak global cues, low local demand',\n",
       " \"gold futures trade near session's low of $1,701.20\",\n",
       " 'love for yellow metal? we need of spot gold exchanges in the country',\n",
       " 'charts : gold: bearish bias while price contained below $1215',\n",
       " 'Gold holds lower after jobless-claims report, other data',\n",
       " 'gold futures rise above $900 as dollar falls',\n",
       " '5 signs before gold takes off',\n",
       " 'Gold plunges to Rs 28,780; silver slumps below Rs 37,000-mark',\n",
       " \"gold stays lower after fed's beige book\",\n",
       " 'Gold futures score two-week highs even as dollar extends climb',\n",
       " 'gold prices edge closer to $450',\n",
       " 'Commodity outlook: Oil prices likely to trend lower; key support for gold around Rs 31,300, silver at Rs 40,600',\n",
       " 'mcx goldpetal oct contract up marginally',\n",
       " 'gold prices move slightly higher as u.s. stocks trade broadly lower',\n",
       " 'gold etf rises to all-time high',\n",
       " 'fed minutes weigh on stocks, gold while boosting treasurys, dollar',\n",
       " 'gold prices may fall as fed commentary boosts the us dollar',\n",
       " 'Gold goes up Rs 86 on positive global cues',\n",
       " 'Gold pulls back as private-sector hiring data up prospects for higher interest rates',\n",
       " 'Gold holds onto gains from Iraq concerns, Fed language',\n",
       " 'dec gold closes at $473.20, highest since late 1987',\n",
       " 'Gold prices soften on lacklustre demand, global cues',\n",
       " 'us mint : sales of us mint american eagle gold, silver coins fall in march',\n",
       " 'gold rebounds from jobs-inspired slide',\n",
       " \"gold's recent slump bewilders investors\",\n",
       " 'Dec. gold loses $4.90, or 0.4%, to settle at $1,303.30/oz',\n",
       " 'gold prices look to fate of us tax cuts for direction, yellen to speak',\n",
       " 'canadian stocks eke out gains as gold miners rebound',\n",
       " 'gold rate per gram: check out current gold price per gram',\n",
       " \"Gold prices under pressure; here's what investors should do\",\n",
       " 'gold prices fall on firmer dollar',\n",
       " 'india gold demand improves slightly after prices drop',\n",
       " 'gold settles higher amid broad commodity rally',\n",
       " 'silver, gold rally to highest level since 2014',\n",
       " 'gold pushes above $1,300 as dollar eases ahead of ecb policy update',\n",
       " 'gold wipes off losses, trading marginally higher in early trade',\n",
       " 'is gold about to make a run to new highs?',\n",
       " 'june gold down $3.20, or 0.2%, to end at $1,305.90/oz',\n",
       " 'april gold falls 20 cents to $1,123.80/oz on globe',\n",
       " 'gold settles lower, extends loss after fed beige book',\n",
       " 'Gold import may cross 1,000-tonne mark this year: Analysts',\n",
       " 'gold futures log highest settlement since mid-july on comex',\n",
       " 'gold climbs to one-week high',\n",
       " 'August gold edges slightly higher at $1,271.50/oz, up 0.1%',\n",
       " 'Commodities@Moneycontrol: Gold prices near highest since August 2016',\n",
       " 'gold shines, silver fades',\n",
       " 'gold futures end lower, as u.s. dollar rises vs. rivals',\n",
       " 'gold rate today: gold trades lower in morning deals; silver up',\n",
       " 'Gold, silver spurt on festive offtake, global cues',\n",
       " 'gold prices gain in asia as support continues despite fed hike views',\n",
       " 'gold, oil hold on to losses after consumer data',\n",
       " 'December gold rises 1% at $1,265.10',\n",
       " 'Dec. gold gains $1.30, or 0.1%, for the session to finish at $1,325.90/oz',\n",
       " 'gold climbs as europe woes spur demand',\n",
       " 'changes in duties on gold, silver to be announced today',\n",
       " 'gold gains on investment buying',\n",
       " 'gold: where to draw the line in the sand after jobs data',\n",
       " 'august gold closes at $655.40/oz, down $3.80 in ny',\n",
       " 'December gold down $4.90, or 0.4%, at $1,306.50/oz.',\n",
       " 'Gold futures suffer first loss in 3 sessions, but keep grip on $1,300',\n",
       " 'Gold ends at 3-month high as dollar wobbles',\n",
       " 'Third tranche of gold bond scheme coming soon: Shaktikanta Das',\n",
       " 'dec. gold up $12.50, or 2.1%, to close at $619.30/oz',\n",
       " 'Dec. gold climbs $4, or 0.3%, to settle at $1,282.90/oz',\n",
       " 'australian shares edge up, boosted by gold miners',\n",
       " \"the shining truth: gold price isn't made in india\",\n",
       " \"gold glitters, but there're few takers\",\n",
       " 'gold may slip to rs 26500: nirmal bang',\n",
       " 'Gold slips to Rs 30,560 on muted demand, weak global cues ',\n",
       " 'gold futures up $3.40 at $653 an ounce',\n",
       " 'Gold Prices Push Lower on Dollar Strength',\n",
       " 'gold futures drop $16 to settle at $1,713.80',\n",
       " 'feb. gold gains $16, or 1.4%, to settle at a $1,181.30/oz',\n",
       " 'Gold holds losses on rate hike views, trade worries',\n",
       " 'April gold settles at $1,249.70/oz, up $3.20, or 0.3%',\n",
       " 'gold futures down $10.70 at $1,590.40 an ounce',\n",
       " 'Silver drops to Rs 41,400 per kg; gold steady at Rs 30,850',\n",
       " 'dollar plunge propels gold stocks',\n",
       " 'charts : gold enters decisive zone amid growing geopolitics while on downward trend',\n",
       " 'short gold, silver on rally, says karvy commodities broking',\n",
       " 'Gold holds on to overnight gains as stocks, dollar retreat',\n",
       " 'dec gold closes near a two-week high, up $5.20 at $467.50/oz',\n",
       " '4 reasons gold is poised for a comeback',\n",
       " 'govt raises import tariff value of gold, silver',\n",
       " 'gold, silver settle at multi-week lows',\n",
       " 'gold prices hover at 2-week lows on dollar strength',\n",
       " 'gold closes at 7-week low as dollar continues higher',\n",
       " 'gold notches back-to-back gain amid pullback in dollar, bond yields',\n",
       " 'Gold settles lower after posting gains over the last two sessions',\n",
       " 'gold ends 1.4% higher on china exports, weak dollar',\n",
       " 'Gold futures end with a gain of 0.7% for the week',\n",
       " '3 trades: avoid bonds, sell gold, buy blue chips',\n",
       " 'Gold futures hold steady, eyes on U.S. data',\n",
       " 'government hikes import duty on gold; etfs to park some holdings with banks',\n",
       " 'gold inches higher on data, stimulus hopes',\n",
       " 'Gold jumps to Rs 30,450; silver recaptures Rs 41K-mark',\n",
       " 'gold climbs on global cues; silver tops rs 46,000 mark',\n",
       " 'gold futures extend losses to a second session',\n",
       " 'gold prices gain slightly in asia as markets await demand cues',\n",
       " \"Gold's glitter remains, despite the price rise\",\n",
       " 'london clearing : five banks open up trillion dollar gold club',\n",
       " 'gold futures turn higher, up 0.2%',\n",
       " 'Gold prices hold steady as investors wait for Fed minutes',\n",
       " \"in the seconds before jobs report, e-mini futures jumped, gold futures oscillated 'wildly': nanex\",\n",
       " 'gold eyes biggest weekly gain in months on cyprus woes',\n",
       " 'gold rate today: track gold price in india',\n",
       " \"This gold play's breakout looks enticing as Trump swats at the dollar\",\n",
       " 'india gold seen falling further',\n",
       " 'gold futures erase most losses to trade down $2.60',\n",
       " 'gold looks strong at current levels: karvy',\n",
       " 'Gold prices mark fifth decline in six sessions',\n",
       " 'gold prices end lower after failed run at $1,300',\n",
       " 'Gold, silver dip further on weak global cues',\n",
       " 'gold prices gain in asia as trump travel policy noted',\n",
       " 'aug. gold gains $18.20, or 1.3%, to $1,410/oz',\n",
       " 'June gold futures up $6.20, or 0.5%, to $1,234.90 an ounce',\n",
       " 'gold futures up $12.20 at $1,212.40 an ounce',\n",
       " 'Gold: Customs duty hike a revenue measure',\n",
       " \"gold closes slightly lower as dollar's jump outweighs turkey contagion fear\",\n",
       " 'Gold settles down $1.30, or 0.1%, at $1,176.50 an ounce',\n",
       " 'commonweath bank cuts fy13 gold price view by 3%',\n",
       " 'Gold prices to trade sideways today: Angel Commodities',\n",
       " \"state street : fed rate hikes next year won't be enough to unsettle gold prices\",\n",
       " 'Gold may consolidate, move higher',\n",
       " 'gold, copper rise after strong chinese data',\n",
       " 'gold, silver down in early trade',\n",
       " 'Gold prices gain in Asia as investors eye last-minute Greece debt talks',\n",
       " 'October trade deficit widens to $ 17.13 billion despite decline in gold imports',\n",
       " 'gold scores gain to start week ahead of fed rate decision',\n",
       " 'Gold Fields swings to profit, lifts dividend',\n",
       " 'gold imports likely to fall on lower inflation: rajan',\n",
       " 'gold futures up $11.40 at $1,198.70 an ounce',\n",
       " \"Gold taps intraday highs as U.S. Dollar Index drops to day's lows\",\n",
       " 'gold prices dip in asia with focus on upcoming u.s. jobs data',\n",
       " 'dec gold closes at $399.40/oz, down $3.10 for the day',\n",
       " 'randgold gold output up 24% on year',\n",
       " 'gold ends lower; silver, copper gain',\n",
       " 'gold futures settle below $1,200 for the second time in a week',\n",
       " 'Gold prices end streak of losses, finish higher for the session',\n",
       " \"today's commodity basket: gold, zinc, silver, copper\",\n",
       " \"silver's discount to gold is the biggest since the 1990s\",\n",
       " 'Gold futures down at Rs 30,383 per 10 gm',\n",
       " 'Gold sinks after payrolls report shows a strong July gain',\n",
       " 'commodities - gold prices regain ground on north korean threats',\n",
       " 'eldorado gold downgraded to neutral from outperform at credit suisse',\n",
       " 'gold prices edge down as dollar steadies',\n",
       " 'spot gold quoted at $421.30, down 40c from new york',\n",
       " 'gold down on dollar firmness, oil range-bound, copper steady',\n",
       " 'Gold settles at 2-month high amid geopolitical tensions',\n",
       " 'gold buying gains pace as prices move south',\n",
       " 'nymex gold ends with a $2 loss',\n",
       " 'gold climbs, but remains below $1,730/oz',\n",
       " 'Antofagasta gold, copper production rises',\n",
       " 'gold pinned at 2018 lows, draws scant trade-linked haven demand',\n",
       " 'feb gold up 60c at $423.60/oz in ny',\n",
       " 'canadian markets close down; gold stocks hold slight gain',\n",
       " 'gold declines first time in three days before eu summit',\n",
       " 'december gold down $4.50 at $734.40 an ounce on nymex',\n",
       " \"gold contrarians say it's time to start buying\",\n",
       " 'Commodities - Gold Prices Hold Steady Ahead of U.S. Inflation Data',\n",
       " 'gold price chart: find all the latest gold rate chart and news',\n",
       " 'Gold drops $14.70, or 1.1%, to $1,301.70 an ounce',\n",
       " 'us stocks pushing modestly higher amid treasury, gold buying',\n",
       " 'august gold down 0.2% at $1,221.10/oz.',\n",
       " 'gold prices steady in early asia ahead of light data day in the region',\n",
       " 'Silver slumps by Rs 655/kg on heavy selling; gold eases',\n",
       " 'gold futures up 0.6% on day, climbs 4.2% on week',\n",
       " 'geojit comtrade`s 6 trading strategies on gold',\n",
       " 'gold futures retreat; market awaits spain bailout',\n",
       " 'gold futures give back more than half of the gains seen a day earlier',\n",
       " 'gold adds to slight decline after economic reports',\n",
       " 'Gold settles lower, builds on a weekly loss',\n",
       " 'gold down $1 at $587 in the early going',\n",
       " 'us scrap gold prices continue to decline in line with comex gold',\n",
       " 'Gold prices gain in Asia as geopolitical events point to volatility',\n",
       " 'Gold prices get post-settlement boost after Fed minutes',\n",
       " 'Gold edges lower as dollar gain on Fed interest rate expectations',\n",
       " 'oil drops 1.3% after housing data, gold holds',\n",
       " \"gold at $1,670.50, near day's intraday record\",\n",
       " 'gold slips below rs 30,000 on weak global cues, muted demand',\n",
       " 'india : gst, other such policies to boost gold demand, says world gold council',\n",
       " 'gold holds above $1,300 but firm dollar weighs',\n",
       " 'august gold gains $11.70, or 0.9%, to $1,253.40/oz',\n",
       " 'Gold futures decline 0.97% on global cues',\n",
       " 'gold breaks 3-day rise, down rs 100 on global cues, low demand',\n",
       " 'aug. gold closes $down $87.80 at $1,286.20 per oz.',\n",
       " 'Gold settles at a more than two-week high',\n",
       " 'Gold / Silver / Copper futures - weekly outlook: December 8 - 12',\n",
       " 'feb. gold ends up $1.40 at $881.70 an ounce on nymex',\n",
       " 'Gold falls as new trade tariffs, rate-hike view buoy dollar',\n",
       " 'gold regains ground on softer dollar',\n",
       " 'Gold inches up as stocks fall on Deutsche Bank worries',\n",
       " 'Gold, silver decline as investors await U.S. GDP data, FOMC decision',\n",
       " 'gold up by rs 420, silver by rs 1,100 on wedding season demand',\n",
       " 'charts : a hangman and a hammer are identified in gold and the dollar index',\n",
       " 'gold falls as dollar strengthens, etf holdings decline',\n",
       " 'gold inches down amid fed inflation concerns',\n",
       " 'Gold futures tip lower as the U.S. dollar strengthens',\n",
       " 'gold closes lower monday',\n",
       " 'Gold slides 1.5%, falls below $1,300 an ounce for first time in September',\n",
       " \"Is India's gold rush coming to an end?\",\n",
       " 'gold trades flat in morning deals; silver down',\n",
       " 'aug. gold down 20 cents to settle at $1,096.20/oz on comex',\n",
       " 'dec. gold drops $7, or 1.1%, to $632/oz in afternoon trade',\n",
       " 'feb gold falls $2.60 to end the day at $453.20 in ny',\n",
       " 'gold prices hit $338, issues shoot up',\n",
       " 'Gold futures extend losses in electronic trading after FOMC minutes',\n",
       " 'gold climbs rs 400, silver zooms rs 2,400 on global cues',\n",
       " 'Gold, silver plunges on global meltdown',\n",
       " 'indian gold refining units are now focusing on scrap jewellery',\n",
       " 'gold falls as dollar gains but finds some support tied to eurozone concerns',\n",
       " 'Gold Prices Fall In Asia After Official China PMI Dampens Sentiment',\n",
       " 'Gold prices remain supported on weaker dollar',\n",
       " 'Gold loses Rs 255, silver Rs 1,100 on weak Asian cues',\n",
       " 'gold futures drift lower; u.s. markets closed for thanksgiving',\n",
       " 'gold glitters with second biggest gain in 2011; up by rs 1025',\n",
       " 'Gold futures rise to Rs 29,000 per 10 gm',\n",
       " 'august gold up $5.60 at $660/oz in electronic trading',\n",
       " 'dec. gold ends up 1.8% at $1187 an ounce',\n",
       " 'oil up at nearly $85; gold declines 1.1%',\n",
       " 'fresnillo lifts gold forecast; warns on loss',\n",
       " 'gold moves back up after string of losses',\n",
       " 'spot gold quoted at $394.80, up 0.05% from ny',\n",
       " 'gold slips below $1,070 after fed lifts interest rates',\n",
       " 'MCX GOLD April contract gains 1%',\n",
       " 'gold futures at highest close since april 12',\n",
       " 'is an inverted yield curve bullish for the gold price?',\n",
       " 'gold futures rise rs 34 on global cues',\n",
       " 'gold retreats as stocks extend gains',\n",
       " 'gold prices trade in range, but us rate hike view weighs',\n",
       " 'August gold falls $8.10, or 0.6%, to settle at $1,271.40/oz',\n",
       " 'gold prices rise, but end lower for the week',\n",
       " 'gold shares climb as prices fall',\n",
       " 'gold sparkles on diwali demand, tops rs 31,000',\n",
       " 'Gold futures trade flat to lower less than a half hour before settlement',\n",
       " 'Gold, silver prices slip on Fed outlook',\n",
       " 'gold settles lower as sell-off gathers momentum',\n",
       " 'Gold rush keep jewellers buzzing past midnight',\n",
       " 'gold futures fall 1% after two-session climb',\n",
       " 'Dec. gold down $6.80, or 0.5%, to settle at $1,343.20/oz',\n",
       " 'amex gold bugs index ends at a record 393.28, up 4.6%',\n",
       " 'Gold rate',\n",
       " 'buy gold on dips around rs 31370: nirmal bang',\n",
       " 'Gold Rate Today: Gold, silver rise on higher demand',\n",
       " 'April gold settles little changed, down 40 cents at $1,225.40/oz',\n",
       " 'chinese gold panda coins now trading on the shanghai gold ...',\n",
       " 'Gold futures open higher at Rs 29,440',\n",
       " 'dec. gold ends down 30 cents at $787 an ounce on nymex',\n",
       " 'Dec. gold settles at $1,211.20/oz, up $1.40, or 0.1%',\n",
       " 'study predicts gold could plunge to $350 an ounce',\n",
       " 'can gold regain its glitter?',\n",
       " 'June gold falls 30 cents to trade at $1,226.60/oz',\n",
       " \"India's gold demand went up by 9% to 727 tonne in 2017\",\n",
       " 'August gold off $4.40, or 0.4%, at $1,264.50/oz.',\n",
       " 'charts : gold testing crucial level',\n",
       " 'gold prices down in asia with central bank moves in focus',\n",
       " 'an open letter to investors who are bullish on gold',\n",
       " 'Expect Gold to trade negative: Sushil Finance',\n",
       " 'comex gold down 3.5% on week, loses 3.9% on month',\n",
       " 'Gold ends at 3-week low as U.S. stock indexes tap record highs',\n",
       " 'gold tops $414 on low rate signals',\n",
       " 'gold retreats from one-year high as dollar gains ground',\n",
       " 'silver rises on global cues, gold steady',\n",
       " 'april gold up $1.60 at $985.80 an ounce on nymex',\n",
       " 'gold falls to rs 29,240; silver adds rs 800',\n",
       " 'gold prices gain in asia with chinese new year trade in focus',\n",
       " 'Gold prices tally highest finish in over two weeks',\n",
       " 'spot gold quoted at $597.90 in asia trade',\n",
       " 'gold, silver turn weak on global cues, slack demand',\n",
       " 'gold at highest in nearly seven months after fed',\n",
       " 'gold erases gains, turning lower as the dollar gains',\n",
       " 'Gold edges up as investors eye Greek debt crisis',\n",
       " 'gold rate today: gold, silver trade mix in morning deals',\n",
       " 'Gold futures down at Rs 29,335',\n",
       " 'Gold prices steady to higher in Asia, ECB, U.S. jobs in focus',\n",
       " 'crude eases back before european outcome, gold up',\n",
       " 'gold down for first time in seven sessions',\n",
       " 'dec. gold settles at $1,131.50/oz on comex, up $6.70, or 0.6%',\n",
       " 'Gold extends weakness on global cues, low demand',\n",
       " 'dec. gold falls $1.90 to $594/oz in morning trading',\n",
       " 'Gold closes slightly higher in choppy trade, after China devalues yuan',\n",
       " 'dec gold closes at 1-mo high of $412.60, up $3.60',\n",
       " 'august gold up $2.60 at $668.50 an ounce on nymex',\n",
       " 'world gold council announces new managing director in india',\n",
       " 'chinese physical gold investment demand surges while americans pile into stock and crypto bubbles',\n",
       " 'gold bounces off record to end 0.6% lower',\n",
       " 'invest in gold for target of rs 32000: astromoneyguru',\n",
       " 'reuters : analysts slash gold price forecasts after second quarter plunge',\n",
       " 'gold futures fall as economic data lifts dollar',\n",
       " 'gold gains for fourth straight session as dollar falls',\n",
       " 'gold prices remain supported in risk-off trade',\n",
       " 'wgc : global september quarter gold demand steady on etf outflow',\n",
       " 'Gold ends lower after vote soothes French euro exit fears',\n",
       " 'turkey detains 17 people in investigation related to gold trader zarrab: agency',\n",
       " 'Gold prices mark highest Comex finish since Sept. 22',\n",
       " 'Gold futures settle higher for a second straight session',\n",
       " 'incrementum : in gold we trust 2017',\n",
       " 'april gold climbs $1.90 to $688.60/oz after $691.80 high',\n",
       " 'Gold soars Rs 325 on wedding season demand, global cues',\n",
       " 'gold futures rally after u.s. employment report',\n",
       " 'Gold prices ease in Asia with support seen from India holiday demand',\n",
       " 'Gold hits Rs 31,000-mark on festive buying',\n",
       " 'commodity bets: expert views on crude, gold, copper, lead',\n",
       " \"meet d-street's whizkid investor who stays anonymous, but strikes gold in stocks\",\n",
       " 'Gold futures up $10 from the settlement as investors parse Fed statement',\n",
       " 'Barrick Gold started at buy with $29 stock price target at Citigroup',\n",
       " 'gold extends rally; up by rs 50, silver recovers by rs 200',\n",
       " 'Gold futures shift lower ahead of settlement as dollar climbs',\n",
       " 'gold advances on firm overseas trend',\n",
       " 'CORRECTION: December gold settles down $13.30, or 1%, at $1,274.20/oz.',\n",
       " 'Gold edges up to Rs 31,270; silver drops by Rs 300 per kg',\n",
       " 'gold slides for third day on stockists selling, global cues',\n",
       " 'December gold up 0.4% at $1,288.50/oz.',\n",
       " 'spot gold quoted at $552.50 in asia trade',\n",
       " 'Gold futures finish at a 2-month high',\n",
       " 'dec gold climbs $7.40, or 1.5%, to trade at $502/oz',\n",
       " 'gold price forever $1200',\n",
       " 'april gold falls $3.60 to $1,139.70/oz on globex',\n",
       " 'WGC partners with India Post, Reliance Money to offer 7% discount on gold coin',\n",
       " \"dollar aided by gold's fall, service data\",\n",
       " \"for gold, it's goldilocks inflation \",\n",
       " 'Gold falls as rate hike views steady dollar',\n",
       " 'Gold miner stocks soar in wake of Trump victory',\n",
       " 'gold prices dull on newmont news',\n",
       " 'feb gold trades modestly higher in late morning dealings',\n",
       " \"gold coins bearing sachin's face, signature launched\",\n",
       " 'gold ends slightly lower as the metal marks 10 years since first topping $1,000',\n",
       " 'Gold ends lower, then gains in electronic trade after FOMC minutes',\n",
       " 'gold sticks near 12-week high as fed eyes global economy',\n",
       " 'June gold down $5.80, or 0.5%, to $1,255.60/oz',\n",
       " 'dec. gold drops $7.30 to a near 4-wk low of $618/oz',\n",
       " 'gold tops rs 29,000 mark on risk-off sentiment',\n",
       " \"ig : gold beats the 'fad' of cryptocurrencies\",\n",
       " 'dec gold climbs $1 to $448.90/oz in morning ny trade',\n",
       " 'gold futures close lower for the session and week',\n",
       " '1150am update:barrick gold gets bigger',\n",
       " 'Gold ends lower after 3-week climb as traders look to coming jobs report',\n",
       " 'copper falls as economic worries return; gold dips',\n",
       " 'fundamental view on copper, crude oil, gold, silver: iifl',\n",
       " 'current gold price: track current gold rate trends and news',\n",
       " 'vietnam may end gold-import ban; spot prices climb',\n",
       " 'Gold futures log lowest finish since June',\n",
       " 'Gold futures end under $1,200, but still mark 7-week high',\n",
       " \"2018 winter olympics: snowboarder chloe kim gets 'hangry,' grabs gold\",\n",
       " 'dec. gold up $7.20 at $1,392.20/oz on globex',\n",
       " \"Gold turns down a few cents as U.S. dollar index trades near day's high\",\n",
       " 'Gold, Silver may trade with negative bias:Angel Commodities',\n",
       " 'cboe gold index closes at 141.18 points, down 0.4%',\n",
       " 'Dec. gold settles at $1,294/oz, up $3.90, or 0.3%, for the session',\n",
       " 'Gold futures may go up',\n",
       " 'Gold ends at 1-week low as Fed talk rattles market',\n",
       " 'Gold prices dip in Asia on Fed views, ahead of China HSBC flash PMI',\n",
       " \"fed's bullard - oil, gold spike not inflationary\",\n",
       " 'Gold ends lower, extends losing streak to 8 sessions',\n",
       " \"gold surges on 'akshaya tritiya', silver gains\",\n",
       " 'Gold futures turn higher after sharp losses earlier in the session',\n",
       " 'Sell MCX Gold, Crude December futures on rallies: Reliance Commodities',\n",
       " 'gold kist announces $200 mln note offiering',\n",
       " 'gold closes higher on thoughts of inflation ahead',\n",
       " 'Gold futures gain roughly 1.9% for the week',\n",
       " 'Gold ends higher as fall in U.S. manufacturing activity weakens buck',\n",
       " 'gold futures recoup most of what they lost on friday',\n",
       " 'Gold slips as markets calm, but hovers near 10-week high',\n",
       " 'charts : gold investors are fast asleep',\n",
       " 'Gold rises for second day to Rs 33,125 ',\n",
       " 'gold settles lower for fourth session in five',\n",
       " 'india gold hits 3-week low; physical demand slack',\n",
       " 'april gold down $6.30, or 0.5%, at $1,372.70/oz',\n",
       " 'gold firms after three days of losses as stocks drop',\n",
       " 'gold falls as dollar strengthens on retail sales',\n",
       " 'Gold futures may correct lower',\n",
       " \"Gold falls on dollar's strength; set for first weekly gain in four\",\n",
       " 'gold, silver decline on lower off-take',\n",
       " 'Gold rises on Fed caution; palladium hits 16-year peak',\n",
       " 'for first time since 2011, gold prices below rs 28,000',\n",
       " 'Gold edges lower ahead of Fed rate decision',\n",
       " 'gold marks highest closing level in 5 weeks',\n",
       " 'Gold surges to 1-month high; silver eases',\n",
       " \"societe generale 'cautiously bullish' on gold prices\",\n",
       " 'gold slips, ends near lowest levels of the year',\n",
       " 'gold opens to set new peak at rs 16,100 on firm global cues',\n",
       " 'gold rate today: check out price trends and market outlook',\n",
       " 'December gold up $2.10, or 0.2%, at $1,279.80 an ounce',\n",
       " \"Dec. gold trades at $1,328.70/oz vs. the day's settlement at $1,331.40\",\n",
       " 'dec. gold closes at $736.30/oz, down $17.80, or 2.4%',\n",
       " 'gold ends lower, extends losing streak to 3 days',\n",
       " 'Gold futures fall marginally on weak global cues',\n",
       " 'gold higher with eyes on dollar, iraq',\n",
       " 'Gold sinks to a 7-week low',\n",
       " 'Gold Fields revenue per ounce rises 20%',\n",
       " 'india : gold imports may drop to 650 tonnes this fiscal',\n",
       " 'Gold to test resistance, slip',\n",
       " 'buy gold, pressure on rupee to continue: emkay commodities',\n",
       " 'December gold flat at $1,316.70/oz.',\n",
       " 'gold futures trade at a four-session low',\n",
       " 'singapore smx to launch new gold, silver contracts',\n",
       " 'tackling current account deficit: fm p chidambaram likely to place more curbs on gold imports',\n",
       " 'April gold off $2.20, or 0.2%, at $1,245/oz.',\n",
       " 'Gold edges higher as dollar slips on mixed U.S. data',\n",
       " 'gold pares gain after libyan ceasefire',\n",
       " 'Gold settles slightly lower as U.S. stock market hovers near records',\n",
       " 'Dec. gold settles at $1,251.90/oz, down $1.10, or 0.1%, for the session',\n",
       " 'gold futures up 1.8% on day, gains 1.9% on week',\n",
       " 'august gold gains $9.50, or 0.7%, to $1,368/oz',\n",
       " 'Jewellers to stop selling gold bars, coins to bring down CAD',\n",
       " 'Satyug Gold to expand network',\n",
       " 'august gold off 0.2% at $1,224.40/oz.',\n",
       " 'Gold rises to record as slowing growth spurs investor demand',\n",
       " 'gold, silver close at new 18-year highs; copper falls',\n",
       " 'gold futures trade marginally lower on subdued demand',\n",
       " 'gains for gold futures fade as prices settle',\n",
       " 'Govt imposes curbs on gold import by 4, 5 star export houses',\n",
       " 'gold hits over 6-month high as investors flock to safety',\n",
       " 'Gold prices to trade lower: Angel Commodities',\n",
       " 'Dec. gold rises $4.50, or 0.3%, at $1,354.40/oz.',\n",
       " 'gold shares up amid blue chips dive',\n",
       " 'spot gold down $1.40 to $947.70/troy ounce',\n",
       " 'sharps pixley: will gold recover its glister?',\n",
       " 'gold drops $14.80, or 1.2%, to settle at $1,207.70/oz',\n",
       " 'august gold drops to $645.50, its lowest level since jan. 17',\n",
       " 'Gold futures move up to Rs 28,632 per 10 grams',\n",
       " 'gold rates slip in major cites india',\n",
       " 'Gold post first monthly decline since May, down 3.4% over August',\n",
       " 'buy gold around rs 30740; sl below rs 30615: nirmal bang',\n",
       " 'gold rate today: gold down in morning trade, silver up',\n",
       " 'gold hits five-month highs as eu plan questioned',\n",
       " 'Feb. gold settles at $1,190.80/oz, down $3, or 0.3%',\n",
       " 'april gold down $3.90 to $984.60 an ounce on nymex',\n",
       " 'Gold unlikely to breach Rs 32k-mark this month: Experts',\n",
       " 'Gold futures to test resistance',\n",
       " 'august gold falls $2.30 to $672.80/oz in early ny trading',\n",
       " 'Gold clings to gains, but caution prevails ahead of Fed',\n",
       " 'Gold futures dip below 27K level',\n",
       " 'cboe gold index up 2.9% to end at 92.91, up 4.2% on wk',\n",
       " 'gold turns higher, up $14.20 at $1,739.10',\n",
       " 'forget gold this year! demand for yellow metal may return only in 2018',\n",
       " 'asian gold prices dip props up demand, indians await lower prices',\n",
       " 'metals issues lower; gold prices climb',\n",
       " 'gold futures extend loss after jobs data',\n",
       " 'Gold logs a gain for the session, erases its loss for the week',\n",
       " 'gold demand improves on price drop, duty fears',\n",
       " 'Gold settles higher, but logs 7th weekly loss',\n",
       " 'gold prices steady near 1-month high on political, economic uncertainty',\n",
       " 'Gold holds gains after jobless -claims report',\n",
       " 'Buy gold if it dips to $1,245-48/oz',\n",
       " 'spot gold quoted at $471.40 in asia trade',\n",
       " 'gold closes higher on dollar weakness, trade tensions',\n",
       " 'gold turns lower, trades below $1,298 an anounce',\n",
       " 'June gold gains $5.30, or 0.4%, to settle at $1,289.10/oz',\n",
       " 'Gold prices mark lowest finish in nearly 8 weeks',\n",
       " 'gold futures fall eight sessions in a row',\n",
       " 'April gold loses $1.40, or 0.1%, to finish at $1,191.10/oz',\n",
       " \"russia gold firm petropavlovsk '11 net jumps\",\n",
       " 'slim gains for nymex gold futures',\n",
       " 'june gold soars after jobs report, up $21.80, or 1.7%, to $1,294/oz.',\n",
       " 'Gold futures edge down for the day to finish 1.4% lower for the week',\n",
       " 'gold rises 2% to trade at $1,826.30 an ounce',\n",
       " 'Buy MCX Gold at Rs 28,600; Target Rs 28,900: IIFL',\n",
       " 'goldman sachs cuts gold outlook, sees growing risk',\n",
       " 'oil, gold rise as markets rebound',\n",
       " 'gold futures suffer a loss of roughly 0.6% for the week',\n",
       " 'rbc : gold likely to witness a steady rise in 2018',\n",
       " 'Gold gains on European bank fears, Fed expectations',\n",
       " 'india likely to import 30 tonnes of gold in april',\n",
       " 'gold imports to dictate size of current account deficit in h2 of fy2017: icra',\n",
       " 'gold ends 0.3% lower at $1,663.10 an ounce',\n",
       " 'comex gold logs third gain in four sessions',\n",
       " 'Gold Prices Remain on the Downside after Mixed U.S. Data',\n",
       " 'December gold finishes up $2.10, or 0.2%, at $1,359.60/oz.',\n",
       " 'gold futures edge up, as dollar falls, oil surges',\n",
       " 'Gold inches up in thin trade, eyes 2nd straight weekly drop',\n",
       " 'Gold pares loss after jobs report, off $2.60, or 0.3%, $1,215.30/oz.',\n",
       " 'gold futures up $1.30 at $555.90 an ounce',\n",
       " 'gold futures score sixth-straight winning session',\n",
       " 'february gold ends down $6.10 at $820.50 an ounce on nymex',\n",
       " 'gold, base metals futures rally on crude rise',\n",
       " 'gold inches higher with yellen testimony, ukraine violence in focus',\n",
       " 'gold inches higher on hopes of easing',\n",
       " 'crude oil, gold stay lower after trade data',\n",
       " 'gold futures log third straight day of gains',\n",
       " 'cboe gold index closes at 131.17, down 0.6%',\n",
       " \"Gold, silver zoom on investors' buying\",\n",
       " 'Gold futures down 0.14% on weak global cues',\n",
       " 'gold falls on strong dollar, higher us yields',\n",
       " 'agnico-eagle to develop finland gold project for $135 mln',\n",
       " 'june gold closes at $1,455.60/oz, up $2, or 0.1%',\n",
       " 'Gold holds modest losses after economic reports',\n",
       " 'Gold prices trading lower',\n",
       " 'December gold falls $11.30, or 0.9%, to $1,354.20/oz',\n",
       " 'Gold ends little-changed as Dow aims at 20,000',\n",
       " 'Gold marks first gain in 5 sessions as Dow sinks below 20,000',\n",
       " 'Waning demand, stronger dollar take glitter off gold',\n",
       " 'Gold gains in Asia as Fed holds steady as expected, notes prices data',\n",
       " 'gold may find long term support at &#36;1250-1270: eastspring',\n",
       " 'gold down more than $100 as settlement approaches',\n",
       " 'feb gold falls $1.10 to $439.20/oz in morning ny trade',\n",
       " 'marshall & ilsley pays $2.78-cash, $15.72 stk for gold banc',\n",
       " 'Gold prices ease in Asia on profit taking, Iraq, China data eyed',\n",
       " 'Sell gold if it rallies to $1,230-35/oz',\n",
       " \"Oil prices drop toward session lows, but gold trades near the day's highs\",\n",
       " \"Gold under pressure as Fed's Yellen backs gradual rate hikes\",\n",
       " 'Gold slips as Fed official gives upbeat take on U.S. economy',\n",
       " 'Gold gains in Asia on heightened risk sentiment',\n",
       " 'Gold holds modest losses after consumer-confidence report',\n",
       " 'gold futures fall from settlement level after fomc minutes',\n",
       " 'canadian shares bounce back with oil, gold gains',\n",
       " 'comex gold falls $23, or 1.4% in morning trade',\n",
       " 'gold futures at fresh two-week high',\n",
       " \"gold-related companies' shares crash, muthoot down 13%\",\n",
       " 'Gold stuck near 4-week low on US rate hike view',\n",
       " 'april gold falls $2.30 to $546.60/oz after $543.50 low',\n",
       " 'india : mmtc plans a full-fledged portal for transaction of gold and silver',\n",
       " 'Dec. gold falls $2.70, or 0.2%, to $1,314.40/oz',\n",
       " 'gold futures fall, hold recent trading range',\n",
       " 'gold surges as investors rush to safety',\n",
       " 'Why gold prices spiked after the Fed decision',\n",
       " 'gold futures down 10 cents at $1187.60/oz',\n",
       " 'gold futures close higher for an eighth session',\n",
       " 'gold closes down 0.2% at $1,251.10 an ounce',\n",
       " \"gold may regain ground in 2017 but 'bumpy road' ahead: poll\",\n",
       " 'Gold rises on Fed rate outlook',\n",
       " 'Gold ends marginally lower but books solid July performance',\n",
       " 'Gold Prices Continue to Drop on Stronger Dollar',\n",
       " 'gold ends lower, logs third-straight session loss',\n",
       " 'Gold prices mark fourth straight session climb',\n",
       " 'gold slips on stronger dollar; geopolitical risks support',\n",
       " \"bitcoin : has gold lost its shine amid bitcoin's rise? analyst takes a closer look\",\n",
       " 'gold rises by rs 150 on firm demand, silver loses rs 400',\n",
       " 'dec gold ends at $412.80, down $2.70 for the ny session',\n",
       " 'Gold futures remain near 3-week highs in risk-off trade',\n",
       " 'Gold gains as risk aversion weighs on dollar',\n",
       " 'Gold futures rise marginally to Rs 28,311; silver up at Rs 42,667 per kg',\n",
       " 'Dec. gold declines by $8.90, or 0.7%, to settle at $1,269.20/oz',\n",
       " 'Gold prices retreat from a 3-week high',\n",
       " 'Gold prices up in Asia after Fed chief views, Japan, China shut',\n",
       " 'silver dips further on global fall, gold eases',\n",
       " 'gold pulls back from 5-month top, investors await fed outlook ',\n",
       " 'oil, gold fall on report gadhafi mulls peace plan',\n",
       " 'gold rises to 1-month high on weaker us dollar',\n",
       " 'dec. gold last up $3.90 at $1,344.20/oz',\n",
       " 'frank holmes : best month for gold price in 2 years',\n",
       " 'gold extends losses, sheds rs 100 on muted demand',\n",
       " 'Gold steadies, on track for second week of gains',\n",
       " \"oil lower, gold higher after japan's quake reports\",\n",
       " 'gold fields ltd. down 6.7% at $18.28',\n",
       " 'feb. gold gains 2.5% for the week',\n",
       " 'spot gold up $6 at $620.90 an ounce',\n",
       " 'gold prices rebound as stocks slip',\n",
       " 'december gold falls $1.60, or 0.1%, to close at $1,076.30/oz.',\n",
       " 'gold stages comeback with aid of weak dollar',\n",
       " 'gold holds near 3-1/2 month high as growth worries persist',\n",
       " 'Gold prices settle sharply higher ahead of FOMC minutes',\n",
       " 'gold rate: check out the latest gold price, trends and market outlook',\n",
       " 'gold falls towards 1-month low ahead of fed meeting',\n",
       " 'april gold settles at $1,326.40/oz, up $10.70, or 0.8%',\n",
       " 'Gold prices zoom to 1-month high of Rs 30,950',\n",
       " 'gold extends loss to a third session as dollar strengthens to 1 ï¿½-year high',\n",
       " 'Dec. gold loses $8.90, or 0.7%, to settle at $1,325.60/oz',\n",
       " 'Spot Gold rates slip in Jaipur, Ahmd, Chennai market',\n",
       " 'Soft US data supports gold, but weekly dip on the cards',\n",
       " 'gold rangebound as markets await fed minutes',\n",
       " 'Gold rises with focus on Ukraine, copper hits 12-week high',\n",
       " 'goldguinea prices rise 11% in october series so far',\n",
       " 'spot gold quoted at $569.10 in asia trade',\n",
       " 'gold futures up on firm asian cues',\n",
       " 'mcx gold may slip to rs 29150-27850: mangal keshav',\n",
       " 'gold prices gain in asia as fed views on economy seen more upbeat',\n",
       " 'feb gold trades at two-week high of $428.50/oz',\n",
       " 'Gold rebounds on strong retail buying',\n",
       " 'Commodities outlook: Gold, base metals pare gains; crude oil sees a fresh spike',\n",
       " 'Gold futures fall to Rs 27,740 per 10 gram',\n",
       " 'gold ends at a 2-month low, down $13 an ounce',\n",
       " 'Gold spurts further on dollar weakness',\n",
       " 'gold, silver slip in dull trade',\n",
       " 'gold turns lower, fresh record slips for now',\n",
       " 'gold futures up $2.30 at $590 an ounce',\n",
       " 'Gold adds slightly to early gains after PPI report',\n",
       " 'gold futures mark highest close since april 12',\n",
       " 'gold extends losses to third session',\n",
       " 'Gold futures rises to Rs 27,253 on global cues',\n",
       " 'Sell gold if it rises to $1,297-1,300/oz',\n",
       " 'gold slips after an earlier a high of $1,832.90',\n",
       " 'Gold Fields downgraded to underperform from sector perform at RBC Capital',\n",
       " 'gold futures gain roughly 1% for the week',\n",
       " 'Gold prices settle higher as U.S. dollar drops, equities weaken',\n",
       " 'Gold edges up as dollar retreats from 16-month high',\n",
       " 'gold futures fall $6.90 after stronger jobs report',\n",
       " 'gold drops on fed stance, dollar strength',\n",
       " 'aug gold closes at $427.40/oz, up $2.60',\n",
       " \"gold's close below $1,600 is first since september\",\n",
       " 'barrick gold q2 earns decline, but match expectations',\n",
       " 'gold demand in asia picks up due to lower prices',\n",
       " 'gold continues rebound from three-year low',\n",
       " 'Gold futures fall to Rs 31,144 per 10 gm',\n",
       " 'Gold Prices Turn Lower as U.S. Dollar Strengthens',\n",
       " 'gold reacts downwards, silver recovers',\n",
       " 'gold rules flat, silver surges by rs 300 on firm global cues',\n",
       " 'Gold edges higher amid Brexit turmoil',\n",
       " ...]"
      ]
     },
     "execution_count": 34,
     "metadata": {},
     "output_type": "execute_result"
    }
   ],
   "source": [
    "headlines"
   ]
  },
  {
   "cell_type": "code",
   "execution_count": null,
   "metadata": {},
   "outputs": [],
   "source": [
    "import re\n",
    "import numpy as np\n",
    "\n",
    "headlines_lower = [h.lower() for h in headlines]\n",
    "\n",
    "months = r\"\\b(january|february|march|april|may|june|july|august|september|october|november|december|jan|feb|mar|apr|jun|jul|aug|sep|oct|nov|dec)\\b\"\n",
    "directions = r\"\\b(up|down|higher|lower|rise|rises|fall|falls|gain|gains|loses|loss|rebound|slip|climb|surge|drop|drops|edged|edges|recover|recovery|recovers|flat)\\b\"\n",
    "numbers = r\"[\\d\\.,]+[%$]?|\\d{1,3}(,\\d{3})*(\\.\\d+)?|\\d+\"\n",
    "symbols = r\"\\/oz|rs|bn|usd|\\$|%|oz\"\n",
    "\n",
    "cleaned_headlines = []\n",
    "for h in headlines_lower:\n",
    "    h_clean = re.sub(months, \"\", h, flags=re.IGNORECASE)\n",
    "    h_clean = re.sub(directions, \"\", h_clean, flags=re.IGNORECASE)\n",
    "    h_clean = re.sub(numbers, \"\", h_clean)\n",
    "    h_clean = re.sub(symbols, \"\", h_clean, flags=re.IGNORECASE)\n",
    "    h_clean = re.sub(r\"[^\\w\\s]\", \"\", h_clean)  # remove punctuation\n",
    "    h_clean = re.sub(r\"\\s+\", \" \", h_clean).strip()  # clean up spaces\n",
    "    cleaned_headlines.append(h_clean.lower())"
   ]
  },
  {
   "cell_type": "code",
   "execution_count": 36,
   "metadata": {},
   "outputs": [],
   "source": [
    "vectorizer = CountVectorizer(\n",
    "    stop_words=\"english\",\n",
    "    ngram_range=(1, 3),  # uptil trigrams\n",
    "    min_df=10,  # ignore words in less than 10 headlines (0.1%)\n",
    "    max_df=0.5,  # ignore words in more than 50% headlines\n",
    "    max_features=5_000,\n",
    "    token_pattern=r\"(?u)\\b[\\w\\-]+\\b\",  # Keep hyphenated phrases (e.g., \"AI-driven\")\n",
    ")"
   ]
  },
  {
   "cell_type": "code",
   "execution_count": 37,
   "metadata": {},
   "outputs": [],
   "source": [
    "hdbscan_model = HDBSCAN(\n",
    "    min_cluster_size=60,  # Test values between 30-100\n",
    "    min_samples=10,  # Avoids micro-clusters (10-30% of min_cluster_size)\n",
    "    cluster_selection_epsilon=0.1,  # Merges nearby clusters\n",
    ")\n",
    "\n",
    "topic_model = BERTopic(\n",
    "    embedding_model=\"all-mpnet-base-v2\",\n",
    "    hdbscan_model=hdbscan_model,\n",
    "    vectorizer_model=vectorizer,\n",
    "    verbose=True,\n",
    ")"
   ]
  },
  {
   "cell_type": "code",
   "execution_count": 38,
   "metadata": {},
   "outputs": [
    {
     "name": "stderr",
     "output_type": "stream",
     "text": [
      "2025-04-10 21:29:36,712 - BERTopic - Embedding - Transforming documents to embeddings.\n",
      "Batches: 100%|██████████| 331/331 [00:16<00:00, 20.33it/s]\n",
      "2025-04-10 21:29:57,772 - BERTopic - Embedding - Completed ✓\n",
      "2025-04-10 21:29:57,772 - BERTopic - Dimensionality - Fitting the dimensionality reduction algorithm\n",
      "2025-04-10 21:30:00,135 - BERTopic - Dimensionality - Completed ✓\n",
      "2025-04-10 21:30:00,136 - BERTopic - Cluster - Start clustering the reduced embeddings\n",
      "2025-04-10 21:30:00,318 - BERTopic - Cluster - Completed ✓\n",
      "2025-04-10 21:30:00,320 - BERTopic - Representation - Fine-tuning topics using representation models.\n",
      "2025-04-10 21:30:00,483 - BERTopic - Representation - Completed ✓\n"
     ]
    }
   ],
   "source": [
    "topics, probs = topic_model.fit_transform(cleaned_headlines)"
   ]
  },
  {
   "cell_type": "code",
   "execution_count": 44,
   "metadata": {},
   "outputs": [
    {
     "data": {
      "text/plain": [
       "['gold cents to settle at',\n",
       " 'gold suffe third straight daily decline',\n",
       " 'gold futures edge after twosession decline',\n",
       " 'dent research is golds day in the sun coming soon',\n",
       " 'gold snaps threeday rally as trump lawmake reach debtceiling deal',\n",
       " 'gold climbs or to settle at',\n",
       " 'gold by on sluggish demand global cues',\n",
       " 'gold futures for the session but for the week',\n",
       " 'gold struggles silver slides base metals falter',\n",
       " 'gold holds slight or at',\n",
       " 'gold ends or at an ounce',\n",
       " 'gold trades in red in early trade eyes nearterm range at',\n",
       " 'gold but logs monthly of',\n",
       " 'gold heres one way to play it',\n",
       " 'gold prices on global cues weak rupee',\n",
       " 'can investment in gold sensex ppfs give the same returns',\n",
       " 'gold rush spooks economy as trade deficit surges to',\n",
       " 'gold futures at',\n",
       " 'state street gold likely to back to an ounce by the end of',\n",
       " 'gold prices as dollar remains supported',\n",
       " 'gold to trade in range achiieve equities',\n",
       " 'gold holds firm near on dovish fed',\n",
       " 'gold prices finish at a more than oneweek high',\n",
       " 'india is gold a good investment in a volatile market',\n",
       " 'gold futures over ahead of settlement',\n",
       " 'gold holds modest or at after data',\n",
       " 'gold to end the day at in ny',\n",
       " 'gold silver trade today angel commodities',\n",
       " 'kaz minerals lifts copper gold guidance',\n",
       " 'gold littlechanged after data',\n",
       " 'germany why gold market in germany is thriving',\n",
       " 'gold ends or at',\n",
       " 'gold futures at highest since early',\n",
       " 'gold futures close narrowly',\n",
       " 'gold ahead of g meeting set to post second weekly',\n",
       " 'gold c to in morning ny trade',\n",
       " 'gold little changed copper sinks',\n",
       " 'gold swings between and on stronger dollar',\n",
       " 'charts gold gld etf update breakdown',\n",
       " 'gold to close at',\n",
       " 'philly gold and silver index to end at',\n",
       " 'gold settles at or',\n",
       " 'gold prices hold onto ahead of fomc statement',\n",
       " 'gold trades at',\n",
       " 'gold bulls push for the exits on strong dollar and lack of fear',\n",
       " 'gold ends at an ounce',\n",
       " 'gold futures soar above amid escalating conflict in yemen',\n",
       " 'gold settles at its highest level in a week',\n",
       " 'gold prices for a third day buoyed by geopolitical worries',\n",
       " 'gold holds near week low as investo opt for riskier assets',\n",
       " 'gold ends logs biggest weekly since',\n",
       " 'gold at',\n",
       " 'gold futures at sevenweek low',\n",
       " 'gold as dollar on fed rate hike view',\n",
       " 'van eck tighter global monetary policy to support gold market',\n",
       " 'gold rebounds to on firm global cues',\n",
       " 'gold or to',\n",
       " 'gold prices settle at lowest level in more than a week',\n",
       " 'gold cents at on globex',\n",
       " 'gold settles at or',\n",
       " 'gold jumps from settlement price after fed minutes to an ounce',\n",
       " 'gold lost to an ounce',\n",
       " 'gold futures for a third straight session',\n",
       " 'gold has best monthly performance since',\n",
       " 'gold prices settle at lowest level in nearly weeks',\n",
       " 'gold futures back above on comex',\n",
       " 'metals shares turn gold futures still',\n",
       " 'gold declines fit time in seven days after greek elections',\n",
       " 'gold on weaker dollar markets brace for ecb decision',\n",
       " 'gold holds modest after ppi report',\n",
       " 'gold contract notches highest settlement in over a week',\n",
       " 'gold climbs by or to settle at',\n",
       " 'gold finishes at',\n",
       " 'debt global debt surges gold and silver investo patience will soon pay off',\n",
       " 'gold futures open as dollar',\n",
       " 'gold futures close with a more than',\n",
       " 'gold surrende month highs on stronger dollar upbeat economic data',\n",
       " 'gold in electronic trade postfed minutes',\n",
       " 'when will golds summer doldrums end history says pretty soon',\n",
       " 'gold ends as in government bond yields dulls investment interest',\n",
       " 'gold jewellery exports in',\n",
       " 'silver gold near lifetime highs dollar ground',\n",
       " 'african barrick gold production declines',\n",
       " 'gold futures at on weak global cues',\n",
       " 'metals shares but gold futures edge',\n",
       " 'gold ends at an ounce on nymex',\n",
       " 'gold futures under fit time since',\n",
       " 'ghana makes government certificate mandatory for exporting dore gold',\n",
       " 'gold holds modest after ism services data',\n",
       " 'gold notches twoweek high on expectations fed will lift rates slowly',\n",
       " 'gold prices in major metros in india',\n",
       " 'gold futures mark fit in four sessions',\n",
       " 'gold sets fresh multidecade high of ounce',\n",
       " 'support for mcx gold at kotak commodity',\n",
       " 'microsoft ceo sees gold rush in the cloud',\n",
       " 'gold ends at lowest level in over weeks as dollar strengthens',\n",
       " 'gold silver bounce on global cues jewelle buying',\n",
       " 'gold scores for second session in a row',\n",
       " 'jewelle want gold import duty cut to',\n",
       " 'gold heads for wot week in months on syria fed',\n",
       " 'gold hits new high of silver sheds',\n",
       " 'gold to in morning ny trade',\n",
       " 'gold at month low weeks in a row',\n",
       " 'abc refinery shanghai gold exchange accreditation',\n",
       " 'spot gold rates move today',\n",
       " 'gold jumps above as us dollar collapses to month low',\n",
       " 'gold futures end after backtoback',\n",
       " 'natixis look for gold to rally in as weakens',\n",
       " 'silver steals the shine as gold lustre',\n",
       " 'kinross gold agrees million credit facility',\n",
       " 'gold settles at or',\n",
       " 'gold ends at twoweek low as dollar continues to strengthen',\n",
       " 'gold futures on global cues',\n",
       " 'gold prices to trade today angel commodities',\n",
       " 'gold rates mcx goldguinea contract declines',\n",
       " 'india jewelle bullion trade spar over gold import duty',\n",
       " 'gold prices to mangal keshav',\n",
       " 'gold issues futures prices inch',\n",
       " 'gold settles at or',\n",
       " 'gold prices remain on stronger us dollar',\n",
       " 'gold prices pull back from month highs',\n",
       " 'gold or at',\n",
       " 'gold or at',\n",
       " 'gold futures above an ounce in morning dealings',\n",
       " 'gold etfs record cr outflow in aum',\n",
       " 'gold touch gms in few days kishore narne',\n",
       " 'how trumpenomics torpedoed gold prices',\n",
       " 'gold off at',\n",
       " 'gold or to settle at',\n",
       " 'gold or at after highs above',\n",
       " 'gold settles at or about',\n",
       " 'gold oil hold to after ism data',\n",
       " 'pricefixing of gold oil to become a crime in uk',\n",
       " 'gold holds steady as dollar firms',\n",
       " 'gold on dollar weakness',\n",
       " 'gold rate today gold silver in morning trade',\n",
       " 'modern medicine strikes gold',\n",
       " 'gold prices along with stock futures',\n",
       " 'metals issues gold steadies',\n",
       " 'gold for ninth day as dollar vs euro',\n",
       " 'gold futures finish at a week high ahead of fed decision',\n",
       " 'fred hickey buy gold',\n",
       " 'gold at',\n",
       " 'heres whats driving bitcoin buye rush to millennial gold',\n",
       " 'more steps to curb gold imports if needed',\n",
       " 'gold settles at or',\n",
       " 'gold shares buoy bay street',\n",
       " 'gold ends silver after steep',\n",
       " 'gold futures log highest settlement since mid',\n",
       " 'gold closes above level on strong global cues',\n",
       " 'gold ends at',\n",
       " 'gold glitte ahead of dhanteras diwali',\n",
       " 'gold holds above on weaker dollar before fed minutes',\n",
       " 'gold silver encounter profitselling global cues',\n",
       " 'gold surges most in four weeks on dagong us downgrade',\n",
       " 'gold silver copper futures weekly outlook',\n",
       " 'gold settles at bbl or',\n",
       " 'gold prices in asia as china cpi less than expected',\n",
       " 'gold futures end slightly but tally a third straight weekly',\n",
       " 'have a question about gold ask the author of precious metals investing for dummies now',\n",
       " 'sharps pixley chinese gold demand slipping but still yoy',\n",
       " 'expect gold to trade sideways sushil finance',\n",
       " 'today gold price track today gold rate latest trends and news',\n",
       " 'dhanteras this season it is lightweight gold silver',\n",
       " 'hiding behind golds flashy moves oils the true performer',\n",
       " 'gold oil trade as jobs data weigh',\n",
       " 'sge daily shanghai gold benchmark price',\n",
       " 'gold futures as dollar',\n",
       " 'gold suffe from biggest singleday dollar and percentage since',\n",
       " 'expect downward move in gold astromoneyguru',\n",
       " 'rjo futures gold veus silver q to benefit the white metals',\n",
       " 'gold prices end the month with a of about',\n",
       " 'gold settles at on comex or',\n",
       " 'gold or after sentiment data',\n",
       " 'hong kong worlds top jeweler reveals growing appetite for gold in china',\n",
       " 'low inflation phase not for realty gold hence investo rushing to equity ashwini agarwal ashmore investment',\n",
       " 'gold slips as dollar steadies on positive us data',\n",
       " 'gold prices jump in early asia as fed hold steady citing global weakness',\n",
       " 'intraday strategy for gold nickel lead angel broking',\n",
       " 'gold futures settle at lowest level since early',\n",
       " 'gold ends still flirting with level',\n",
       " 'gold be flying but this gold stocks a turkey',\n",
       " 'gold silver start week on firm note on global cues',\n",
       " 'gold silver on more bets the fed will take it slow on raising rates',\n",
       " 'gold industry sees prices rising to over months',\n",
       " 'gold as dollar weakens anew silver ends near',\n",
       " 'gold prices edge with all eyes on us tariffs',\n",
       " 'gold to an ounce on globex',\n",
       " 'gold at week high as dollar struggles amid us rate outlook',\n",
       " 'gold at',\n",
       " 'sell mcx gold around target geojit',\n",
       " 'mcx gold contract moves',\n",
       " 'gold trades at or',\n",
       " 'gold futures on positive global cues',\n",
       " 'gold futures dip to on weak global cues',\n",
       " 'mcx goldpetal contract marginally',\n",
       " 'gold holds steady amid softer dollar',\n",
       " 'assets under gold etfs nearly three fold',\n",
       " 'gold marks new session lows as us dollar index trades near days highs',\n",
       " 'gold to week high as dollar holds steady',\n",
       " 'gold adds to after weak china data',\n",
       " 'gold prices for the session to post a modest for the week',\n",
       " 'commodity watch gold silver sugar slides in futures trade',\n",
       " 'look to buy gold on dips to',\n",
       " 'goldmans prior end gold call was',\n",
       " 'gold futures pare but still finish at a week high',\n",
       " 'gold survives goldman sachs',\n",
       " 'gold futures at an ounce',\n",
       " 'reserve bank of india adds tonnes of gold to forex reserves in q',\n",
       " 'gold futures to',\n",
       " 'cboe gold index closes at',\n",
       " 'gold settles at or',\n",
       " 'moodys revises pilgrims pride outlook on gold kist bid',\n",
       " 'gold futures or to settle at an ounce',\n",
       " 'gold prices soar but buye bet on akshaya tritiya',\n",
       " 'gold future extend losses after jobs report',\n",
       " 'gold or to',\n",
       " 'hedge funds kept betting against gold even as prices began rally',\n",
       " 'gold revees losses gaining to an ounce',\n",
       " 'gold futures mark their highest settlement since',\n",
       " 'current gold rate check out current gold price',\n",
       " 'gold price could hit',\n",
       " 'gold rallies to finish near as trump fuels market uncertainty',\n",
       " 'gold tops to end at over sixweek high',\n",
       " 'gold futures on firm global cues',\n",
       " 'gold prices on track to settle for the session',\n",
       " 'fading aura gold set for further correction',\n",
       " 'gold prices in asia ahead of china q gdp',\n",
       " 'gold oil hold on to post bernanke',\n",
       " 'mcx goldguinea contract',\n",
       " 'gold futures mark lowest settlement since early',\n",
       " 'gold prices trading in chennai ahmedabad market',\n",
       " 'gold futures remain after durable goods',\n",
       " 'gold kist started at hold at stifel nicolaus',\n",
       " 'golds year bull market',\n",
       " 'dubai glitter as vat tax crimps demand in city of gold',\n",
       " 'sanguine about gold',\n",
       " 'gold ends narrowly as many uncertainties plague the market',\n",
       " 'gold last at on comex cents',\n",
       " 'gold at',\n",
       " 'gold scores third straight win more after fed decision',\n",
       " 'gold settles as investo look to jackson hole',\n",
       " 'gold in futures trade on global cues',\n",
       " 'gold as jobs data clip economic worries',\n",
       " 'festive demand lifts gold silver prices',\n",
       " 'gold futures at an ounce',\n",
       " 'gold hits week high as central bank meetings brexit vote shake stocks',\n",
       " 'gold closes a tad at',\n",
       " 'oil prices and weaker gold demand positive for current account deficit',\n",
       " 'karvy advises to sell gold silver',\n",
       " 'oil gold push after german court ruling',\n",
       " 'gold on upbeat us housing inflation data',\n",
       " 'inflation longterm evidence gold and inflation',\n",
       " 'akshay tritiya gold sales to beat last years record',\n",
       " 'gold prices edge on weaker dollar trade tensions',\n",
       " 'gold stands tall as china fea fuel safehaven draw',\n",
       " 'gold futures turn ahead of comex close',\n",
       " 'golds peak now looks easy to reach after the metals big breakout',\n",
       " 'gold settles but seesaws after fed statement',\n",
       " 'indias gold imports report',\n",
       " 'gold at',\n",
       " 'gold settles at or',\n",
       " 'heres why gold might die out as an investment',\n",
       " 'gold futures rally as other commodities also',\n",
       " 'gold futures mark highest settlement in a month',\n",
       " 'gold advances oil posts losses after us outlook',\n",
       " 'gold futures nearly for the month',\n",
       " 'apollo gold cut to underperform by bmo nesbitt',\n",
       " 'mining top gold mine production cost still provides floor in the market price',\n",
       " 'gold to trade in range achiieve equities',\n",
       " 'gold rebounds to hit fourmonth high silver spurts',\n",
       " 'gold holds slight after data',\n",
       " 'gold etfs in early trade',\n",
       " 'gold to an ounce',\n",
       " 'gold at an ounce',\n",
       " 'gold on softer dollar palladium at year peak',\n",
       " 'mcx gold contract trading',\n",
       " 'gold climbs to a mo high',\n",
       " 'gold stays close to week low as investo await fed outcome',\n",
       " 'gold on ukraine unease though us data cap',\n",
       " 'gold futures on weak global cues',\n",
       " 'gold surges by on global cues reclaims level',\n",
       " 'gold ends as bearish sentiment takes hold',\n",
       " 'gold on day on week',\n",
       " 'gold futures but end the week',\n",
       " 'gold after day decline china concerns support',\n",
       " 'gold struggles on firmer dollar fed rate hike fea',\n",
       " 'gold at an ounce on nymex',\n",
       " 'gold cents to settle at for the session',\n",
       " 'seasonal demand pushes gold by silver by',\n",
       " 'gold as dollar holds steady',\n",
       " 'gold prices turn ahead of comex settlement',\n",
       " 'gold silver edge ahead of us jobless claims housing data',\n",
       " 'gold futures add to',\n",
       " 'the curious case of this years high gold imports',\n",
       " 'gold logs modest losses for the day and week',\n",
       " 'gold on safehaven buying',\n",
       " 'gold options fear trade turn to gold mine',\n",
       " 'gold declines by or to settle at',\n",
       " 'gold slips to settle at',\n",
       " 'gold trades or at',\n",
       " 'gold futures at on profittaking',\n",
       " 'get gold at a discount now',\n",
       " 'gold futures dull hold above',\n",
       " 'gold or to settle at',\n",
       " 'gold prices push amid hong kong unrest',\n",
       " 'gold closes at',\n",
       " 'gold pares losses by the finish for the week',\n",
       " 'gold rate today gold silver trade in morning deals',\n",
       " 'anz cuts gold outlook cites dollar headwinds',\n",
       " 'gold closes palladium',\n",
       " 'gold kist rejects pilgrims pride offer as inadequate',\n",
       " 'waiting for gold to bottom watch this group of bulls',\n",
       " 'gold silver skid on profittaking global cues',\n",
       " 'gold futures settle at lowest level since',\n",
       " 'crude oil gold futures after data',\n",
       " 'gold futures mark highest finish in about months',\n",
       " 'gold prices end with a slight as us equities dollar ground',\n",
       " 'iamgold deal for gold field nonsadc assets',\n",
       " 'india rising gold prices keep indias jewellery buye at bay',\n",
       " 'gold futures trim after jobless claims ppi data',\n",
       " 'mcx gold contract trading',\n",
       " 'gold prices over an ounce in afternoon trading',\n",
       " 'gold futures extends losses',\n",
       " 'graham birch this gold guy managed billion at blackrock but quit to run a farm instead',\n",
       " 'gold prices on softer dollar italy budget woes',\n",
       " 'gold futures edge back toward',\n",
       " 'gold demand in india rose by to tonnes in wgc',\n",
       " 'mcx goldguinea contract marginally',\n",
       " 'mining indexes slump on gold slide',\n",
       " 'gold ends near week high as dollar sinks',\n",
       " 'gold and silver edge while stocks tumble',\n",
       " 'gold prices rip following rpts former trump nat sec advisor cooperating with special prosecutor',\n",
       " 'gold trades at from settlement',\n",
       " 'gold futures give europedeal',\n",
       " 'going for gold olympic triumphs literally losing value at rio games',\n",
       " 'why investo are quietly turning bearish on gold prices',\n",
       " 'gold futures log highest finish since',\n",
       " 'gold holds early after ppi report',\n",
       " 'rbi followed due process in notifying gold scheme says former deputy guv hr khan',\n",
       " 'gold silver on aggressive buying',\n",
       " 'gold or to settle at on comex',\n",
       " 'thisand not north koreais why scared investo are buying gold',\n",
       " 'gold prices for second day on jewelle buying',\n",
       " 'gold at in ny',\n",
       " 'gold nudges as asian shares edge',\n",
       " 'gold futures tracking tumble in oil prices',\n",
       " 'gold prices dull on dollar strength',\n",
       " 'gold on central banks action euro hopes',\n",
       " 'gold sparkles again',\n",
       " 'gold scores biggest weekly since',\n",
       " 'government fixes rate at gm for sovereign gold bond',\n",
       " 'gold prices to trade volatile angel commodities',\n",
       " 'when will gold finally return to a bull market',\n",
       " 'gold appetite hit a year high in as prices tumbled',\n",
       " 'gold or at in ny',\n",
       " 'gold climbs or to settle at',\n",
       " 'gold steady on easing dollar fed minutes in focus',\n",
       " 'more upside seen in gold prices buy futures above for target',\n",
       " 'gold slumps over in wake of fed meeting',\n",
       " 'singapore firm to mint islamic cryptocurrency backed by gold',\n",
       " 'gold inches ends week with',\n",
       " 'gold climbs to in ny',\n",
       " 'gold prices settle after twosession',\n",
       " 'gold prices sink nearly in for wot monthly in',\n",
       " 'seen in gold prices in mumbai delhi market',\n",
       " 'the spxgold ratio',\n",
       " 'gold prices end the session but tally a for the fit half of the year',\n",
       " 'gold or to settle at',\n",
       " 'oil trades below gold revees after bernanke',\n",
       " 'gold prices log lowest settlement since early',\n",
       " 'buy gold on dips test nirmal bang',\n",
       " 'gold extends its streak of to four sessions by a hair',\n",
       " 'gold silver and oil markets hope for better year',\n",
       " 'gold as dollar rally takes a breather',\n",
       " 'gold prices in asia as fed holds steady eyes on eurogroup ahead',\n",
       " 'spot gold quoted at in asia',\n",
       " 'gold to silver to on global cues',\n",
       " 'gold slightly as investo await fed',\n",
       " 'gold trades as dollar eases',\n",
       " 'gold climbs to month high as north korea tensions escalate',\n",
       " 'commodities gold prices bounce back on softer dollar ahead of fed',\n",
       " 'gold ends posts best settlement price since',\n",
       " 'gold prices to trade today angel commodities',\n",
       " 'gold futures at gm',\n",
       " 'correct gold futures settle at lowest level in more than weeks',\n",
       " 'gold to hover around this week',\n",
       " 'gold futures over an ounce in afternoon dealings',\n",
       " 'gold prices sessions lose for the week',\n",
       " 'gold to on globex',\n",
       " 'gold settles back under an ounce',\n",
       " 'philly gold and silver index to end at',\n",
       " 'gold extends as fed minutes reveal weak pricing concerns',\n",
       " 'oil turns gold holds after jobs',\n",
       " 'gold at in electronic trading from settlement',\n",
       " 'gold at after high',\n",
       " 'gold or to',\n",
       " 'gold silver on wedding season demand',\n",
       " 'gold closes at',\n",
       " 'philadelphia goldsilver index ends at on day',\n",
       " 'gold settles at or',\n",
       " 'gold ends floor trade at an ounce',\n",
       " 'gold plunges on weak global cues low local demand',\n",
       " 'gold futures trade near sessions low of',\n",
       " 'love for yellow metal we need of spot gold exchanges in the country',\n",
       " 'charts gold bearish bias while price contained below',\n",
       " 'gold holds after joblessclaims report other data',\n",
       " 'gold futures above as dollar',\n",
       " 'signs before gold takes off',\n",
       " 'gold plunges to silver slumps below mark',\n",
       " 'gold stays after feds beige book',\n",
       " 'gold futures score twoweek highs even as dollar extends',\n",
       " 'gold prices edge closer to',\n",
       " 'commodity outlook oil prices likely to trend key support for gold around silver at',\n",
       " 'mcx goldpetal contract marginally',\n",
       " 'gold prices move slightly as us stocks trade broadly',\n",
       " 'gold etf to alltime high',\n",
       " 'fed minutes weigh on stocks gold while boosting treasurys dollar',\n",
       " 'gold prices as fed commentary boosts the us dollar',\n",
       " 'gold goes on positive global cues',\n",
       " 'gold pulls back as privatesector hiring data prospects for interest rates',\n",
       " 'gold holds onto from iraq concerns fed language',\n",
       " 'gold closes at highest since late',\n",
       " 'gold prices soften on lacklustre demand global cues',\n",
       " 'us mint sales of us mint american eagle gold silver coins in',\n",
       " 'gold rebounds from jobsinspired slide',\n",
       " 'golds recent slump bewilde investo',\n",
       " 'gold or to settle at',\n",
       " 'gold prices look to fate of us tax cuts for direction yellen to speak',\n",
       " 'canadian stocks eke out as gold mine',\n",
       " 'gold rate per gram check out current gold price per gram',\n",
       " 'gold prices under pressure heres what investo should do',\n",
       " 'gold prices on firmer dollar',\n",
       " 'india gold demand improves slightly after prices',\n",
       " 'gold settles amid broad commodity rally',\n",
       " 'silver gold rally to highest level since',\n",
       " 'gold pushes above as dollar eases ahead of ecb policy update',\n",
       " 'gold wipes off losses trading marginally in early trade',\n",
       " 'is gold about to make a run to new highs',\n",
       " 'gold or to end at',\n",
       " 'gold cents to on globe',\n",
       " 'gold settles extends after fed beige book',\n",
       " 'gold import cross tonne mark this year analysts',\n",
       " 'gold futures log highest settlement since mid on comex',\n",
       " 'gold climbs to oneweek high',\n",
       " 'gold slightly at',\n",
       " 'commoditiesmoneycontrol gold prices near highest since',\n",
       " 'gold shines silver fades',\n",
       " 'gold futures end as us dollar vs rivals',\n",
       " 'gold rate today gold trades in morning deals silver',\n",
       " 'gold silver spurt on festive offtake global cues',\n",
       " 'gold prices in asia as support continues despite fed hike views',\n",
       " 'gold oil hold on to losses after consumer data',\n",
       " 'gold at',\n",
       " 'gold or for the session to finish at',\n",
       " 'gold climbs as europe woes spur demand',\n",
       " 'changes in duties on gold silver to be announced today',\n",
       " 'gold on investment buying',\n",
       " 'gold where to draw the line in the sand after jobs data',\n",
       " 'gold closes at in ny',\n",
       " 'gold or at',\n",
       " 'gold futures suffer fit in sessions but keep grip on',\n",
       " 'gold ends at month high as dollar wobbles',\n",
       " 'third tranche of gold bond scheme coming soon shaktikanta das',\n",
       " 'gold or to close at',\n",
       " 'gold climbs or to settle at',\n",
       " 'australian shares edge boosted by gold mine',\n",
       " 'the shining truth gold price isnt made in india',\n",
       " 'gold glitte but therere few take',\n",
       " 'gold to nirmal bang',\n",
       " 'gold slips to on muted demand weak global cues',\n",
       " 'gold futures at an ounce',\n",
       " 'gold prices push on dollar strength',\n",
       " 'gold futures to settle at',\n",
       " 'gold or to settle at a',\n",
       " 'gold holds losses on rate hike views trade worries',\n",
       " 'gold settles at or',\n",
       " 'gold futures at an ounce',\n",
       " 'silver to per kg gold steady at',\n",
       " 'dollar plunge propels gold stocks',\n",
       " 'charts gold ente decisive zone amid growing geopolitics while on downward trend',\n",
       " 'short gold silver on rally says karvy commodities broking',\n",
       " 'gold holds on to overnight as stocks dollar retreat',\n",
       " 'gold closes near a twoweek high at',\n",
       " 'reasons gold is poised for a comeback',\n",
       " 'govt raises import tariff value of gold silver',\n",
       " 'gold silver settle at multiweek lows',\n",
       " 'gold prices hover at week lows on dollar strength',\n",
       " 'gold closes at week low as dollar continues',\n",
       " 'gold notches backtoback amid pullback in dollar bond yields',\n",
       " 'gold settles after posting over the last two sessions',\n",
       " 'gold ends on china exports weak dollar',\n",
       " 'gold futures end with a of for the week',\n",
       " 'trades avoid bonds sell gold buy blue chips',\n",
       " 'gold futures hold steady eyes on us data',\n",
       " 'government hikes import duty on gold etfs to park some holdings with banks',\n",
       " 'gold inches on data stimulus hopes',\n",
       " 'gold jumps to silver recaptures kmark',\n",
       " 'gold climbs on global cues silver tops mark',\n",
       " 'gold futures extend losses to a second session',\n",
       " 'gold prices slightly in asia as markets await demand cues',\n",
       " 'golds glitter remains despite the price',\n",
       " 'london clearing five banks open trillion dollar gold club',\n",
       " 'gold futures turn',\n",
       " 'gold prices hold steady as investo wait for fed minutes',\n",
       " 'in the seconds before jobs report emini futures jumped gold futures oscillated wildly nanex',\n",
       " 'gold eyes biggest weekly in months on cyprus woes',\n",
       " 'gold rate today track gold price in india',\n",
       " 'this gold plays breakout looks enticing as trump swats at the dollar',\n",
       " 'india gold seen falling further',\n",
       " 'gold futures erase most losses to trade',\n",
       " 'gold looks strong at current levels karvy',\n",
       " 'gold prices mark fifth decline in six sessions',\n",
       " 'gold prices end after failed run at',\n",
       " 'gold silver dip further on weak global cues',\n",
       " 'gold prices in asia as trump travel policy noted',\n",
       " 'gold or to',\n",
       " 'gold futures or to an ounce',\n",
       " 'gold futures at an ounce',\n",
       " 'gold customs duty hike a revenue measure',\n",
       " 'gold closes slightly as dollars jump outweighs turkey contagion fear',\n",
       " 'gold settles or at an ounce',\n",
       " 'commonweath bank cuts fy gold price view by',\n",
       " 'gold prices to trade sideways today angel commodities',\n",
       " 'state street fed rate hikes next year wont be enough to unsettle gold prices',\n",
       " 'gold consolidate move',\n",
       " 'gold copper after strong chinese data',\n",
       " 'gold silver in early trade',\n",
       " 'gold prices in asia as investo eye lastminute greece debt talks',\n",
       " 'trade deficit widens to billion despite decline in gold imports',\n",
       " 'gold scores to start week ahead of fed rate decision',\n",
       " 'gold fields swings to profit lifts dividend',\n",
       " 'gold imports likely to on inflation rajan',\n",
       " 'gold futures at an ounce',\n",
       " 'gold taps intraday highs as us dollar index to days lows',\n",
       " 'gold prices dip in asia with focus on upcoming us jobs data',\n",
       " 'gold closes at for the day',\n",
       " 'randgold gold output on year',\n",
       " 'gold ends silver copper',\n",
       " 'gold futures settle below for the second time in a week',\n",
       " 'gold prices end streak of losses finish for the session',\n",
       " 'todays commodity basket gold zinc silver copper',\n",
       " 'silvers discount to gold is the biggest since the s',\n",
       " 'gold futures at per gm',\n",
       " 'gold sinks after payrolls report shows a strong',\n",
       " 'commodities gold prices regain ground on north korean threats',\n",
       " 'eldorado gold downgraded to neutral from outperform at credit suisse',\n",
       " 'gold prices edge as dollar steadies',\n",
       " 'spot gold quoted at c from new york',\n",
       " 'gold on dollar firmness oil rangebound copper steady',\n",
       " 'gold settles at month high amid geopolitical tensions',\n",
       " 'gold buying pace as prices move south',\n",
       " 'nymex gold ends with a',\n",
       " 'gold climbs but remains below',\n",
       " 'antofagasta gold copper production',\n",
       " 'gold pinned at lows draws scant tradelinked haven demand',\n",
       " 'gold c at in ny',\n",
       " 'canadian markets close gold stocks hold slight',\n",
       " 'gold declines fit time in three days before eu summit',\n",
       " 'gold at an ounce on nymex',\n",
       " 'gold contrarians say its time to start buying',\n",
       " 'commodities gold prices hold steady ahead of us inflation data',\n",
       " 'gold price chart find all the latest gold rate chart and news',\n",
       " 'gold or to an ounce',\n",
       " 'us stocks pushing modestly amid treasury gold buying',\n",
       " 'gold at',\n",
       " 'gold prices steady in early asia ahead of light data day in the region',\n",
       " 'silver slumps by kg on heavy selling gold eases',\n",
       " 'gold futures on day climbs on week',\n",
       " 'geojit comtrades trading strategies on gold',\n",
       " 'gold futures retreat market awaits spain bailout',\n",
       " 'gold futures give back more than half of the seen a day earlier',\n",
       " 'gold adds to slight decline after economic reports',\n",
       " 'gold settles builds on a weekly',\n",
       " 'gold at in the early going',\n",
       " 'us scrap gold prices continue to decline in line with comex gold',\n",
       " 'gold prices in asia as geopolitical events point to volatility',\n",
       " 'gold prices get postsettlement boost after fed minutes',\n",
       " 'gold as dollar on fed interest rate expectations',\n",
       " 'oil after housing data gold holds',\n",
       " 'gold at near days intraday record',\n",
       " 'gold slips below on weak global cues muted demand',\n",
       " 'india gst other such policies to boost gold demand says world gold council',\n",
       " 'gold holds above but firm dollar weighs',\n",
       " 'gold or to',\n",
       " 'gold futures decline on global cues',\n",
       " 'gold breaks day on global cues low demand',\n",
       " 'gold closes at per',\n",
       " 'gold settles at a more than twoweek high',\n",
       " 'gold silver copper futures weekly outlook',\n",
       " 'gold ends at an ounce on nymex',\n",
       " 'gold as new trade tariffs ratehike view buoy dollar',\n",
       " 'gold regains ground on softer dollar',\n",
       " 'gold inches as stocks on deutsche bank worries',\n",
       " 'gold silver decline as investo await us gdp data fomc decision',\n",
       " 'gold by silver by on wedding season demand',\n",
       " 'charts a hangman and a hammer are identified in gold and the dollar index',\n",
       " 'gold as dollar strengthens etf holdings decline',\n",
       " 'gold inches amid fed inflation concerns',\n",
       " 'gold futures tip as the us dollar strengthens',\n",
       " 'gold closes monday',\n",
       " 'gold slides below an ounce for fit time in',\n",
       " 'is indias gold rush coming to an end',\n",
       " 'gold trades in morning deals silver',\n",
       " 'gold cents to settle at on comex',\n",
       " 'gold or to in afternoon trade',\n",
       " 'gold to end the day at in ny',\n",
       " 'gold prices hit issues shoot',\n",
       " 'gold futures extend losses in electronic trading after fomc minutes',\n",
       " 'gold climbs silver zooms on global cues',\n",
       " 'gold silver plunges on global meltdown',\n",
       " 'indian gold refining units are now focusing on scrap jewellery',\n",
       " 'gold as dollar but finds some support tied to eurone concerns',\n",
       " 'gold prices in asia after official china pmi dampens sentiment',\n",
       " 'gold prices remain supported on weaker dollar',\n",
       " 'gold silver on weak asian cues',\n",
       " 'gold futures drift us markets closed for thanksgiving',\n",
       " 'gold glitte with second biggest in by',\n",
       " 'gold futures to per gm',\n",
       " 'gold at in electronic trading',\n",
       " 'gold ends at an ounce',\n",
       " 'oil at nearly gold declines',\n",
       " 'fresnillo lifts gold forecast warns on',\n",
       " 'gold moves back after string of losses',\n",
       " 'spot gold quoted at from ny',\n",
       " 'gold slips below after fed lifts interest rates',\n",
       " 'mcx gold contract',\n",
       " 'gold futures at highest close since',\n",
       " 'is an inverted yield curve bullish for the gold price',\n",
       " 'gold futures on global cues',\n",
       " 'gold retreats as stocks extend',\n",
       " 'gold prices trade in range but us rate hike view weighs',\n",
       " 'gold or to settle at',\n",
       " 'gold prices but end for the week',\n",
       " 'gold shares as prices',\n",
       " 'gold sparkles on diwali demand tops',\n",
       " 'gold futures trade to less than a half hour before settlement',\n",
       " 'gold silver prices on fed outlook',\n",
       " 'gold settles as selloff gathe momentum',\n",
       " 'gold rush keep jewelle buzzing past midnight',\n",
       " 'gold futures after twosession',\n",
       " 'gold or to settle at',\n",
       " 'amex gold bugs index ends at a record',\n",
       " 'gold rate',\n",
       " 'buy gold on dips around nirmal bang',\n",
       " 'gold rate today gold silver on demand',\n",
       " 'gold settles little changed cents at',\n",
       " 'chinese gold panda coins now trading on the shanghai gold',\n",
       " 'gold futures open at',\n",
       " 'gold ends cents at an ounce on nymex',\n",
       " 'gold settles at or',\n",
       " 'study predicts gold could plunge to an ounce',\n",
       " 'can gold regain its glitter',\n",
       " 'gold cents to trade at',\n",
       " 'indias gold demand went by to tonne in',\n",
       " 'gold off or at',\n",
       " 'charts gold testing crucial level',\n",
       " 'gold prices in asia with central bank moves in focus',\n",
       " 'an open letter to investo who are bullish on gold',\n",
       " 'expect gold to trade negative sushil finance',\n",
       " 'comex gold on week on month',\n",
       " 'gold ends at week low as us stock indexes tap record highs',\n",
       " 'gold tops on low rate signals',\n",
       " 'gold retreats from oneyear high as dollar ground',\n",
       " 'silver on global cues gold steady',\n",
       " 'gold at an ounce on nymex',\n",
       " 'gold to silver adds',\n",
       " 'gold prices in asia with chinese new year trade in focus',\n",
       " 'gold prices tally highest finish in over two weeks',\n",
       " 'spot gold quoted at in asia trade',\n",
       " 'gold silver turn weak on global cues slack demand',\n",
       " 'gold at highest in nearly seven months after fed',\n",
       " 'gold erases turning as the dollar',\n",
       " 'gold as investo eye greek debt crisis',\n",
       " 'gold rate today gold silver trade mix in morning deals',\n",
       " 'gold futures at',\n",
       " 'gold prices steady to in asia ecb us jobs in focus',\n",
       " 'crude eases back before european outcome gold',\n",
       " 'gold for fit time in seven sessions',\n",
       " 'gold settles at on comex or',\n",
       " 'gold extends weakness on global cues low demand',\n",
       " 'gold to in morning trading',\n",
       " 'gold closes slightly in choppy trade after china devalues yuan',\n",
       " 'gold closes at mo high of',\n",
       " 'gold at an ounce on nymex',\n",
       " 'world gold council announces new managing director in india',\n",
       " 'chinese physical gold investment demand surges while americans pile into stock and crypto bubbles',\n",
       " 'gold bounces off record to end',\n",
       " 'invest in gold for target of astromoneyguru',\n",
       " 'reute analysts slash gold price forecasts after second quarter plunge',\n",
       " 'gold futures as economic data lifts dollar',\n",
       " 'gold for fourth straight session as dollar',\n",
       " 'gold prices remain supported in riskoff trade',\n",
       " 'wgc global quarter gold demand steady on etf outflow',\n",
       " 'gold ends after vote soothes french euro exit fea',\n",
       " 'turkey detains people in investigation related to gold trader zarrab agency',\n",
       " 'gold prices mark highest comex finish since sept',\n",
       " 'gold futures settle for a second straight session',\n",
       " 'incrementum in gold we trust',\n",
       " 'gold climbs to after high',\n",
       " 'gold soa on wedding season demand global cues',\n",
       " 'gold futures rally after us employment report',\n",
       " 'gold prices ease in asia with support seen from india holiday demand',\n",
       " 'gold hits mark on festive buying',\n",
       " 'commodity bets expert views on crude gold copper lead',\n",
       " 'meet dstreets whizkid investor who stays anonymous but strikes gold in stocks',\n",
       " 'gold futures from the settlement as investo pae fed statement',\n",
       " 'barrick gold started at buy with stock price target at citigroup',\n",
       " 'gold extends rally by silver by',\n",
       " 'gold futures shift ahead of settlement as dollar climbs',\n",
       " 'gold advances on firm oveeas trend',\n",
       " 'correction gold settles or at',\n",
       " 'gold to silver by per kg',\n",
       " 'gold slides for third day on stockists selling global cues',\n",
       " 'gold at',\n",
       " 'spot gold quoted at in asia trade',\n",
       " 'gold futures finish at a month high',\n",
       " 'gold climbs or to trade at',\n",
       " 'gold price forever',\n",
       " 'gold to on globex',\n",
       " 'wgc partne with india post reliance money to offer discount on gold coin',\n",
       " 'dollar aided by golds service data',\n",
       " 'for gold its goldilocks inflation',\n",
       " 'gold as rate hike views steady dollar',\n",
       " 'gold miner stocks soar in wake of trump victory',\n",
       " 'gold prices dull on newmont news',\n",
       " 'gold trades modestly in late morning dealings',\n",
       " 'gold coins bearing sachins face signature launched',\n",
       " 'gold ends slightly as the metal marks yea since fit topping',\n",
       " 'gold ends then in electronic trade after fomc minutes',\n",
       " 'gold sticks near week high as fed eyes global economy',\n",
       " 'gold or to',\n",
       " 'gold to a near wk low of',\n",
       " 'gold tops mark on riskoff sentiment',\n",
       " 'ig gold beats the fad of cryptocurrencies',\n",
       " 'gold climbs to in morning ny trade',\n",
       " 'gold futures close for the session and week',\n",
       " 'am updatebarrick gold gets bigger',\n",
       " 'gold ends after week as trade look to coming jobs report',\n",
       " 'copper as economic worries return gold dips',\n",
       " 'fundamental view on copper crude oil gold silver iifl',\n",
       " 'current gold price track current gold rate trends and news',\n",
       " 'vietnam end goldimport ban spot prices',\n",
       " 'gold futures log lowest finish since',\n",
       " 'gold futures end under but still mark week high',\n",
       " 'winter olympics snowboarder chloe kim gets hangry grabs gold',\n",
       " 'gold at on globex',\n",
       " 'gold turns a few cents as us dollar index trades near days high',\n",
       " 'gold silver trade with negative biasangel commodities',\n",
       " 'cboe gold index closes at points',\n",
       " 'gold settles at or for the session',\n",
       " 'gold futures go',\n",
       " 'gold ends at week low as fed talk rattles market',\n",
       " 'gold prices dip in asia on fed views ahead of china hsbc flash pmi',\n",
       " 'feds bullard oil gold spike not inflationary',\n",
       " 'gold ends extends losing streak to sessions',\n",
       " 'gold surges on akshaya tritiya silver',\n",
       " 'gold futures turn after sharp losses earlier in the session',\n",
       " 'sell mcx gold crude futures on rallies reliance commodities',\n",
       " 'gold kist announces mln note offiering',\n",
       " 'gold closes on thoughts of inflation ahead',\n",
       " 'gold futures roughly for the week',\n",
       " 'gold ends as in us manufacturing activity weakens buck',\n",
       " 'gold futures recoup most of what they lost on friday',\n",
       " 'gold slips as markets calm but hove near week high',\n",
       " 'charts gold investo are fast asleep',\n",
       " 'gold for second day to',\n",
       " 'gold settles for fourth session in five',\n",
       " 'india gold hits week low physical demand slack',\n",
       " 'gold or at',\n",
       " 'gold firms after three days of losses as stocks',\n",
       " 'gold as dollar strengthens on retail sales',\n",
       " 'gold futures correct',\n",
       " 'gold on dollars strength set for fit weekly in four',\n",
       " 'gold silver decline on offtake',\n",
       " 'gold on fed caution palladium hits year peak',\n",
       " 'for fit time since gold prices below',\n",
       " 'gold ahead of fed rate decision',\n",
       " 'gold marks highest closing level in weeks',\n",
       " 'gold surges to month high silver eases',\n",
       " 'societe generale cautiously bullish on gold prices',\n",
       " 'gold slips ends near lowest levels of the year',\n",
       " 'gold opens to set new peak at on firm global cues',\n",
       " 'gold rate today check out price trends and market outlook',\n",
       " 'gold or at an ounce',\n",
       " 'gold trades at vs the days settlement at',\n",
       " 'gold closes at or',\n",
       " 'gold ends extends losing streak to days',\n",
       " 'gold futures marginally on weak global cues',\n",
       " 'gold with eyes on dollar iraq',\n",
       " 'gold sinks to a week low',\n",
       " 'gold fields revenue per ounce',\n",
       " 'india gold imports to tonnes this fiscal',\n",
       " 'gold to test resistance',\n",
       " 'buy gold pressure on rupee to continue emkay commodities',\n",
       " 'gold at',\n",
       " 'gold futures trade at a foursession low',\n",
       " 'singapore smx to launch new gold silver contracts',\n",
       " 'tackling current account deficit fm p chidambaram likely to place more curbs on gold imports',\n",
       " 'gold off or at',\n",
       " 'gold as dollar slips on mixed us data',\n",
       " 'gold pares after libyan ceasefire',\n",
       " 'gold settles slightly as us stock market hove near records',\n",
       " 'gold settles at or for the session',\n",
       " 'gold futures on day on week',\n",
       " 'gold or to',\n",
       " 'jewelle to stop selling gold ba coins to bring cad',\n",
       " 'satyug gold to expand network',\n",
       " 'gold off at',\n",
       " 'gold to record as slowing growth spu investor demand',\n",
       " 'gold silver close at new year highs copper',\n",
       " 'gold futures trade marginally on subdued demand',\n",
       " 'for gold futures fade as prices settle',\n",
       " 'govt imposes curbs on gold import by star export houses',\n",
       " 'gold hits over month high as investo flock to safety',\n",
       " 'gold prices to trade angel commodities',\n",
       " 'gold or at',\n",
       " 'gold shares amid blue chips dive',\n",
       " 'spot gold to troy ounce',\n",
       " 'sharps pixley will gold its glister',\n",
       " 'gold or to settle at',\n",
       " 'gold to its lowest level since',\n",
       " 'gold futures move to per grams',\n",
       " 'gold rates in major cites india',\n",
       " 'gold post fit monthly decline since over',\n",
       " 'buy gold around sl below nirmal bang',\n",
       " 'gold rate today gold in morning trade silver',\n",
       " 'gold hits fivemonth highs as eu plan questioned',\n",
       " 'gold settles at or',\n",
       " 'gold to an ounce on nymex',\n",
       " 'gold unlikely to breach kmark this month experts',\n",
       " 'gold futures to test resistance',\n",
       " 'gold to in early ny trading',\n",
       " 'gold clings to but caution prevails ahead of fed',\n",
       " 'gold futures dip below k level',\n",
       " 'cboe gold index to end at on wk',\n",
       " 'gold turns at',\n",
       " 'forget gold this year demand for yellow metal return only in',\n",
       " 'asian gold prices dip props demand indians await prices',\n",
       " 'metals issues gold prices',\n",
       " 'gold futures extend after jobs data',\n",
       " 'gold logs a for the session erases its for the week',\n",
       " 'gold demand improves on price duty fea',\n",
       " 'gold settles but logs th weekly',\n",
       " 'gold prices steady near month high on political economic uncertainty',\n",
       " 'gold holds after jobless claims report',\n",
       " 'buy gold if it dips to',\n",
       " 'spot gold quoted at in asia trade',\n",
       " 'gold closes on dollar weakness trade tensions',\n",
       " 'gold turns trades below an anounce',\n",
       " 'gold or to settle at',\n",
       " 'gold prices mark lowest finish in nearly weeks',\n",
       " 'gold futures eight sessions in a row',\n",
       " 'gold or to finish at',\n",
       " 'russia gold firm petropavlovsk net jumps',\n",
       " 'slim for nymex gold futures',\n",
       " 'gold soa after jobs report or to',\n",
       " 'gold futures edge for the day to finish for the week',\n",
       " 'gold to trade at an ounce',\n",
       " 'buy mcx gold at target iifl',\n",
       " 'goldman sachs cuts gold outlook sees growing risk',\n",
       " 'oil gold as markets',\n",
       " 'gold futures suffer a of roughly for the week',\n",
       " 'rbc gold likely to witness a steady in',\n",
       " 'gold on european bank fea fed expectations',\n",
       " 'india likely to import tonnes of gold in',\n",
       " 'gold imports to dictate size of current account deficit in h of fy icra',\n",
       " 'gold ends at an ounce',\n",
       " 'comex gold logs third in four sessions',\n",
       " 'gold prices remain on the downside after mixed us data',\n",
       " 'gold finishes or at',\n",
       " 'gold futures edge as dollar oil surges',\n",
       " 'gold inches in thin trade eyes nd straight weekly',\n",
       " 'gold pares after jobs report off or',\n",
       " 'gold futures at an ounce',\n",
       " 'gold futures score sixthstraight winning session',\n",
       " 'gold ends at an ounce on nymex',\n",
       " 'gold base metals futures rally on crude',\n",
       " 'gold inches with yellen testimony ukraine violence in focus',\n",
       " 'gold inches on hopes of easing',\n",
       " 'crude oil gold stay after trade data',\n",
       " 'gold futures log third straight day of',\n",
       " 'cboe gold index closes at',\n",
       " 'gold silver zoom on investo buying',\n",
       " 'gold futures on weak global cues',\n",
       " 'gold on strong dollar us yields',\n",
       " 'agnicoeagle to develop finland gold project for mln',\n",
       " 'gold closes at or',\n",
       " 'gold holds modest losses after economic reports',\n",
       " 'gold prices trading',\n",
       " 'gold or to',\n",
       " 'gold ends littlechanged as dow aims at',\n",
       " 'gold marks fit in sessions as dow sinks below',\n",
       " 'waning demand stronger dollar take glitter off gold',\n",
       " 'gold in asia as fed holds steady as expected notes prices data',\n",
       " 'gold find long term support at eastspring',\n",
       " 'gold more than as settlement approaches',\n",
       " 'gold to in morning ny trade',\n",
       " 'mahall ilsley pays cash stk for gold banc',\n",
       " 'gold prices ease in asia on profit taking iraq china data eyed',\n",
       " 'sell gold if it rallies to',\n",
       " 'oil prices toward session lows but gold trades near the days highs',\n",
       " 'gold under pressure as feds yellen backs gradual rate hikes',\n",
       " 'gold slips as fed official gives upbeat take on us economy',\n",
       " 'gold in asia on heightened risk sentiment',\n",
       " 'gold holds modest losses after consumerconfidence report',\n",
       " 'gold futures from settlement level after fomc minutes',\n",
       " 'canadian shares bounce back with oil gold',\n",
       " 'comex gold or in morning trade',\n",
       " 'gold futures at fresh twoweek high',\n",
       " 'goldrelated companies shares crash muthoot',\n",
       " 'gold stuck near week low on us rate hike view',\n",
       " 'gold to after low',\n",
       " 'india mmtc plans a fullfledged portal for transaction of gold and silver',\n",
       " 'gold or to',\n",
       " 'gold futures hold recent trading range',\n",
       " 'gold surges as investo rush to safety',\n",
       " 'why gold prices spiked after the fed decision',\n",
       " 'gold futures cents at',\n",
       " 'gold futures close for an eighth session',\n",
       " 'gold closes at an ounce',\n",
       " 'gold regain ground in but bumpy road ahead poll',\n",
       " 'gold on fed rate outlook',\n",
       " 'gold ends marginally but books solid performance',\n",
       " 'gold prices continue to on stronger dollar',\n",
       " 'gold ends logs thirdstraight session',\n",
       " 'gold prices mark fourth straight session',\n",
       " 'gold slips on stronger dollar geopolitical risks support',\n",
       " 'bitcoin has gold lost its shine amid bitcoins analyst takes a closer look',\n",
       " 'gold by on firm demand silver',\n",
       " 'gold ends at for the ny session',\n",
       " 'gold futures remain near week highs in riskoff trade',\n",
       " 'gold as risk aveion weighs on dollar',\n",
       " 'gold futures marginally to silver at per kg',\n",
       " 'gold declines by or to settle at',\n",
       " 'gold prices retreat from a week high',\n",
       " 'gold prices in asia after fed chief views japan china shut',\n",
       " 'silver dips further on global gold eases',\n",
       " 'gold pulls back from month top investo await fed outlook',\n",
       " 'oil gold on report gadhafi mulls peace plan',\n",
       " 'gold to month high on weaker us dollar',\n",
       " 'gold last at',\n",
       " 'frank holmes best month for gold price in yea',\n",
       " 'gold extends losses sheds on muted demand',\n",
       " 'gold steadies on track for second week of',\n",
       " 'oil gold after japans quake reports',\n",
       " 'gold fields ltd at',\n",
       " 'gold for the week',\n",
       " 'spot gold at an ounce',\n",
       " 'gold prices as stocks',\n",
       " 'gold or to close at',\n",
       " 'gold stages comeback with aid of weak dollar',\n",
       " 'gold holds near month high as growth worries peist',\n",
       " 'gold prices settle sharply ahead of fomc minutes',\n",
       " 'gold rate check out the latest gold price trends and market outlook',\n",
       " 'gold towards month low ahead of fed meeting',\n",
       " 'gold settles at or',\n",
       " 'gold prices zoom to month high of',\n",
       " 'gold extends to a third session as dollar strengthens to ï½year high',\n",
       " 'gold or to settle at',\n",
       " 'spot gold rates in jaipur ahmd chennai market',\n",
       " 'soft us data supports gold but weekly dip on the cards',\n",
       " 'gold rangebound as markets await fed minutes',\n",
       " 'gold with focus on ukraine copper hits week high',\n",
       " 'goldguinea prices in series so far',\n",
       " 'spot gold quoted at in asia trade',\n",
       " 'gold futures on firm asian cues',\n",
       " 'mcx gold to mangal keshav',\n",
       " 'gold prices in asia as fed views on economy seen more upbeat',\n",
       " 'gold trades at twoweek high of',\n",
       " 'gold rebounds on strong retail buying',\n",
       " 'commodities outlook gold base metals pare crude oil sees a fresh spike',\n",
       " 'gold futures to per gram',\n",
       " 'gold ends at a month low an ounce',\n",
       " 'gold spurts further on dollar weakness',\n",
       " 'gold silver in dull trade',\n",
       " 'gold turns fresh record slips for now',\n",
       " 'gold futures at an ounce',\n",
       " 'gold adds slightly to early after ppi report',\n",
       " 'gold futures mark highest close since',\n",
       " 'gold extends losses to third session',\n",
       " 'gold futures to on global cues',\n",
       " 'sell gold if it to',\n",
       " 'gold slips after an earlier a high of',\n",
       " 'gold fields downgraded to underperform from sector perform at rbc capital',\n",
       " 'gold futures roughly for the week',\n",
       " 'gold prices settle as us dollar equities weaken',\n",
       " 'gold as dollar retreats from month high',\n",
       " 'gold futures after stronger jobs report',\n",
       " 'gold on fed stance dollar strength',\n",
       " 'gold closes at',\n",
       " 'golds close below is fit since',\n",
       " 'barrick gold q earns decline but match expectations',\n",
       " 'gold demand in asia picks due to prices',\n",
       " 'gold continues from threeyear low',\n",
       " 'gold futures to per gm',\n",
       " 'gold prices turn as us dollar strengthens',\n",
       " 'gold reacts downwards silver',\n",
       " 'gold rules silver surges by on firm global cues',\n",
       " 'gold amid brexit turmoil',\n",
       " ...]"
      ]
     },
     "execution_count": 44,
     "metadata": {},
     "output_type": "execute_result"
    }
   ],
   "source": [
    "cleaned_headlines"
   ]
  },
  {
   "cell_type": "code",
   "execution_count": 7,
   "metadata": {},
   "outputs": [],
   "source": [
    "# Step 3: Save topics back to dataframe\n",
    "gold_df_filtered = gold_df.loc[gold_df[\"News\"].notna()].copy()\n",
    "gold_df_filtered[\"Topic\"] = topics"
   ]
  },
  {
   "cell_type": "code",
   "execution_count": 8,
   "metadata": {},
   "outputs": [
    {
     "name": "stdout",
     "output_type": "stream",
     "text": [
      "   Topic  Count                                   Name  \\\n",
      "0     -1   2656               -1_ounce_fit_cents_today   \n",
      "1      0   1758       0_global_demand_global cues_cues   \n",
      "2      1    710                  1_low_month_week_hits   \n",
      "3      2    639           2_china_ease_support_investo   \n",
      "4      3    482                3_fed_minutes_rate_hike   \n",
      "5      4    220  4_week gold_session_session gold_week   \n",
      "6      5    216       5_highest_high gold_record_level   \n",
      "7      6    213                6_demand_rates_market_q   \n",
      "8      7    192     7_dollar gold_steady_remain_weaker   \n",
      "9      8    189           8_hike_cut_likely_price gold   \n",
      "\n",
      "                                      Representation  \\\n",
      "0  [ounce, fit, cents, today, day, session, weekl...   \n",
      "1  [global, demand, global cues, cues, buy, deman...   \n",
      "2  [low, month, week, hits, week high, lows, high...   \n",
      "3  [china, ease, support, investo, demand, slight...   \n",
      "4  [fed, minutes, rate, hike, rates, steady, gold...   \n",
      "5  [week gold, session, session gold, week, end, ...   \n",
      "6  [highest, high gold, record, level, finish, cl...   \n",
      "7  [demand, rates, market, q, seen, spot, price, ...   \n",
      "8  [dollar gold, steady, remain, weaker, stocks, ...   \n",
      "9  [hike, cut, likely, price gold, sharply, gold ...   \n",
      "\n",
      "                                 Representative_Docs  \n",
      "0  [gold settles for fit in four sessions, gold s...  \n",
      "1  [gold surges on sustained demand global cues, ...  \n",
      "2  [gold tumbles to month low at, gold steadies a...  \n",
      "3  [hong kong worlds top jeweler reveals growing ...  \n",
      "4  [gold silver ahead of us fed outcome, gold fed...  \n",
      "5  [gold futures end for a fourth straight sessio...  \n",
      "6  [gold futures close at highest level since, go...  \n",
      "7  [spot gold rates trading in chennai jaipur mar...  \n",
      "8  [gold prices remain supported on weaker dollar...  \n",
      "9  [gold import duty hike not to impact rupee muc...  \n"
     ]
    }
   ],
   "source": [
    "# Step 4: View top 10 topics\n",
    "print(topic_model.get_topic_info().head(10))"
   ]
  },
  {
   "cell_type": "code",
   "execution_count": 9,
   "metadata": {},
   "outputs": [
    {
     "name": "stdout",
     "output_type": "stream",
     "text": [
      "\n",
      "--- Sample Headlines from Topic 0 ---\n",
      "3     dent research : is gold's day in the sun comin...\n",
      "6     gold falls by rs 25 on sluggish demand, global...\n",
      "8     Gold struggles; silver slides, base metals falter\n",
      "9     april gold holds slight gain, up $2.50, or 0.2...\n",
      "15    can investment in gold, sensex & ppfs give the...\n",
      "Name: News, dtype: object\n"
     ]
    },
    {
     "data": {
      "application/vnd.plotly.v1+json": {
       "config": {
        "plotlyServerURL": "https://plot.ly"
       },
       "data": [
        {
         "customdata": [
          [
           0,
           "global | demand | global cues | cues | buy",
           1758
          ],
          [
           1,
           "low | month | week | hits | week high",
           710
          ],
          [
           2,
           "china | ease | support | investo | demand",
           639
          ],
          [
           3,
           "fed | minutes | rate | hike | rates",
           482
          ],
          [
           4,
           "week gold | session | session gold | week | end",
           220
          ],
          [
           5,
           "highest | high gold | record | level | finish",
           216
          ],
          [
           6,
           "demand | rates | market | q | seen",
           213
          ],
          [
           7,
           "dollar gold | steady | remain | weaker | stocks",
           192
          ],
          [
           8,
           "hike | cut | likely | price gold | sharply",
           189
          ],
          [
           9,
           "q | vs | cut | price | sees",
           186
          ],
          [
           10,
           "support | buy | key | gm | revees",
           176
          ],
          [
           11,
           "week gold | day | ends | gold ends | session",
           173
          ],
          [
           12,
           "settle gold | settle | ounce gold | ounce | correct gold",
           162
          ],
          [
           13,
           "ounce gold | ounce | gold ends | ends | settle",
           146
          ],
          [
           14,
           "data gold | gold holds | data | holds | report gold",
           145
          ],
          [
           15,
           "close | close gold | end | settle | nearly",
           125
          ],
          [
           16,
           "spot | gold climbs | climbs | settle | new",
           123
          ],
          [
           17,
           "weak | futures trade | global cues gold | global cues | cues gold",
           117
          ],
          [
           18,
           "highest | logs | weeks | finish | weekly",
           110
          ],
          [
           19,
           "gold settles | settles | settle gold | correct gold | settle",
           105
          ],
          [
           20,
           "jobs | report | jobs report | report gold | data",
           102
          ],
          [
           21,
           "comex | settlement | gold settles | settles | close gold",
           101
          ],
          [
           22,
           "gold closes | closes | close gold | close | day gold",
           100
          ],
          [
           23,
           "oil | oil gold | gold oil | crude | data",
           96
          ],
          [
           24,
           "ounce gold | ounce | gold turns | turns | revees",
           95
          ],
          [
           25,
           "ends gold | settles | gold ends | ends | gold settles",
           92
          ],
          [
           26,
           "losses | gold extends | extends | extend | modest",
           91
          ],
          [
           27,
           "rally | dollar gold | sharply | rally gold | vs",
           89
          ],
          [
           28,
           "gm | ease |  |  | ",
           84
          ],
          [
           29,
           "cents | settlement | gold trades | vs | trading gold",
           84
          ],
          [
           30,
           "shares | prices gold | metals | stocks | price",
           83
          ],
          [
           31,
           "edge | trading gold | hold | trade gold | late",
           80
          ],
          [
           32,
           "gold slightly | slightly | vs |  | ",
           79
          ],
          [
           33,
           "trading gold | trade gold | cents | late | gold posts",
           78
          ],
          [
           34,
           "decline | global cues gold | cues gold | global cues | global",
           74
          ],
          [
           35,
           "time |  |  |  | ",
           71
          ],
          [
           36,
           "gold trades | trade gold | early | key | trading gold",
           70
          ],
          [
           37,
           "index | closes | end | close | ends",
           68
          ],
          [
           38,
           "cues gold | global cues gold | cues | global cues | global",
           66
          ],
          [
           39,
           "index | closes | gold closes | ounce | ounce gold",
           63
          ],
          [
           40,
           "pulls | global cues | cues | weak | global",
           61
          ]
         ],
         "hovertemplate": "<b>Topic %{customdata[0]}</b><br>%{customdata[1]}<br>Size: %{customdata[2]}",
         "legendgroup": "",
         "marker": {
          "color": "#B0BEC5",
          "line": {
           "color": "DarkSlateGrey",
           "width": 2
          },
          "size": {
           "bdata": "3gbGAn8C4gHcANgA1QDAAL0AugCwAK0AogCSAJEAfQB7AHUAbgBpAGYAZQBkAGAAXwBcAFsAWQBUAFQAUwBQAE8ATgBKAEcARgBEAEIAPwA9AA==",
           "dtype": "i2"
          },
          "sizemode": "area",
          "sizeref": 1.09875,
          "symbol": "circle"
         },
         "mode": "markers",
         "name": "",
         "orientation": "v",
         "showlegend": false,
         "type": "scatter",
         "x": {
          "bdata": "4z5fQMxZaUHpR2BAgXsHwWwsKMEot2hBA9VTQOE8CcHppldAJuN0QK+nL8FLi29BJ+EswKBaFsApu5pBlOMrwdgqlUAq2ELBfwJuQfJgP8B6V51BaSsxwWkLNMCuCZtBY+4LwKLBOsBCcplBHBNHwTIzTsEl04ZAvQ1rQCr+MsF4vfVAw5OVQLeWRMETg/VAufmOQMcnhUCOb0bBZvMqwG18RsE=",
          "dtype": "f4"
         },
         "xaxis": "x",
         "y": {
          "bdata": "yMmiQCMbU0CFQ6JAjYk1QRj5IsAXjFBAiw2LQQhAN0Hxi4pBOfKXQNR8T8An3GtABdt7Pxed1r8QDkZB3DArwIdKCMBb3FLAgLZlQApKoj+g1UBBCjA+wMY0y7+pcEVBL37GvyFumT+hnkhBAfM1wEbXOsCWvNq/ROGcQAiqJcAvU0pBZdcIwO/aL8BI70lBa8r3v/Nq1L/dtlfA54zhvzXmQsA=",
          "dtype": "f4"
         },
         "yaxis": "y"
        }
       ],
       "layout": {
        "annotations": [
         {
          "showarrow": false,
          "text": "D1",
          "x": -14.820623683929444,
          "y": 8.056369096040726,
          "yshift": 10
         },
         {
          "showarrow": false,
          "text": "D2",
          "x": 3.89862322807312,
          "xshift": 10,
          "y": 19.988854694366456
         }
        ],
        "height": 650,
        "hoverlabel": {
         "bgcolor": "white",
         "font": {
          "family": "Rockwell",
          "size": 16
         }
        },
        "legend": {
         "itemsizing": "constant",
         "tracegroupgap": 0
        },
        "margin": {
         "t": 60
        },
        "shapes": [
         {
          "line": {
           "color": "#CFD8DC",
           "width": 2
          },
          "type": "line",
          "x0": 3.89862322807312,
          "x1": 3.89862322807312,
          "y0": -3.8761165022850035,
          "y1": 19.988854694366456
         },
         {
          "line": {
           "color": "#9E9E9E",
           "width": 2
          },
          "type": "line",
          "x0": -14.820623683929444,
          "x1": 22.617870140075684,
          "y0": 8.056369096040726,
          "y1": 8.056369096040726
         }
        ],
        "sliders": [
         {
          "active": 0,
          "pad": {
           "t": 50
          },
          "steps": [
           {
            "args": [
             {
              "marker.color": [
               [
                "red",
                "#B0BEC5",
                "#B0BEC5",
                "#B0BEC5",
                "#B0BEC5",
                "#B0BEC5",
                "#B0BEC5",
                "#B0BEC5",
                "#B0BEC5",
                "#B0BEC5",
                "#B0BEC5",
                "#B0BEC5",
                "#B0BEC5",
                "#B0BEC5",
                "#B0BEC5",
                "#B0BEC5",
                "#B0BEC5",
                "#B0BEC5",
                "#B0BEC5",
                "#B0BEC5",
                "#B0BEC5",
                "#B0BEC5",
                "#B0BEC5",
                "#B0BEC5",
                "#B0BEC5",
                "#B0BEC5",
                "#B0BEC5",
                "#B0BEC5",
                "#B0BEC5",
                "#B0BEC5",
                "#B0BEC5",
                "#B0BEC5",
                "#B0BEC5",
                "#B0BEC5",
                "#B0BEC5",
                "#B0BEC5",
                "#B0BEC5",
                "#B0BEC5",
                "#B0BEC5",
                "#B0BEC5",
                "#B0BEC5"
               ]
              ]
             }
            ],
            "label": "Topic 0",
            "method": "update"
           },
           {
            "args": [
             {
              "marker.color": [
               [
                "#B0BEC5",
                "red",
                "#B0BEC5",
                "#B0BEC5",
                "#B0BEC5",
                "#B0BEC5",
                "#B0BEC5",
                "#B0BEC5",
                "#B0BEC5",
                "#B0BEC5",
                "#B0BEC5",
                "#B0BEC5",
                "#B0BEC5",
                "#B0BEC5",
                "#B0BEC5",
                "#B0BEC5",
                "#B0BEC5",
                "#B0BEC5",
                "#B0BEC5",
                "#B0BEC5",
                "#B0BEC5",
                "#B0BEC5",
                "#B0BEC5",
                "#B0BEC5",
                "#B0BEC5",
                "#B0BEC5",
                "#B0BEC5",
                "#B0BEC5",
                "#B0BEC5",
                "#B0BEC5",
                "#B0BEC5",
                "#B0BEC5",
                "#B0BEC5",
                "#B0BEC5",
                "#B0BEC5",
                "#B0BEC5",
                "#B0BEC5",
                "#B0BEC5",
                "#B0BEC5",
                "#B0BEC5",
                "#B0BEC5"
               ]
              ]
             }
            ],
            "label": "Topic 1",
            "method": "update"
           },
           {
            "args": [
             {
              "marker.color": [
               [
                "#B0BEC5",
                "#B0BEC5",
                "red",
                "#B0BEC5",
                "#B0BEC5",
                "#B0BEC5",
                "#B0BEC5",
                "#B0BEC5",
                "#B0BEC5",
                "#B0BEC5",
                "#B0BEC5",
                "#B0BEC5",
                "#B0BEC5",
                "#B0BEC5",
                "#B0BEC5",
                "#B0BEC5",
                "#B0BEC5",
                "#B0BEC5",
                "#B0BEC5",
                "#B0BEC5",
                "#B0BEC5",
                "#B0BEC5",
                "#B0BEC5",
                "#B0BEC5",
                "#B0BEC5",
                "#B0BEC5",
                "#B0BEC5",
                "#B0BEC5",
                "#B0BEC5",
                "#B0BEC5",
                "#B0BEC5",
                "#B0BEC5",
                "#B0BEC5",
                "#B0BEC5",
                "#B0BEC5",
                "#B0BEC5",
                "#B0BEC5",
                "#B0BEC5",
                "#B0BEC5",
                "#B0BEC5",
                "#B0BEC5"
               ]
              ]
             }
            ],
            "label": "Topic 2",
            "method": "update"
           },
           {
            "args": [
             {
              "marker.color": [
               [
                "#B0BEC5",
                "#B0BEC5",
                "#B0BEC5",
                "red",
                "#B0BEC5",
                "#B0BEC5",
                "#B0BEC5",
                "#B0BEC5",
                "#B0BEC5",
                "#B0BEC5",
                "#B0BEC5",
                "#B0BEC5",
                "#B0BEC5",
                "#B0BEC5",
                "#B0BEC5",
                "#B0BEC5",
                "#B0BEC5",
                "#B0BEC5",
                "#B0BEC5",
                "#B0BEC5",
                "#B0BEC5",
                "#B0BEC5",
                "#B0BEC5",
                "#B0BEC5",
                "#B0BEC5",
                "#B0BEC5",
                "#B0BEC5",
                "#B0BEC5",
                "#B0BEC5",
                "#B0BEC5",
                "#B0BEC5",
                "#B0BEC5",
                "#B0BEC5",
                "#B0BEC5",
                "#B0BEC5",
                "#B0BEC5",
                "#B0BEC5",
                "#B0BEC5",
                "#B0BEC5",
                "#B0BEC5",
                "#B0BEC5"
               ]
              ]
             }
            ],
            "label": "Topic 3",
            "method": "update"
           },
           {
            "args": [
             {
              "marker.color": [
               [
                "#B0BEC5",
                "#B0BEC5",
                "#B0BEC5",
                "#B0BEC5",
                "red",
                "#B0BEC5",
                "#B0BEC5",
                "#B0BEC5",
                "#B0BEC5",
                "#B0BEC5",
                "#B0BEC5",
                "#B0BEC5",
                "#B0BEC5",
                "#B0BEC5",
                "#B0BEC5",
                "#B0BEC5",
                "#B0BEC5",
                "#B0BEC5",
                "#B0BEC5",
                "#B0BEC5",
                "#B0BEC5",
                "#B0BEC5",
                "#B0BEC5",
                "#B0BEC5",
                "#B0BEC5",
                "#B0BEC5",
                "#B0BEC5",
                "#B0BEC5",
                "#B0BEC5",
                "#B0BEC5",
                "#B0BEC5",
                "#B0BEC5",
                "#B0BEC5",
                "#B0BEC5",
                "#B0BEC5",
                "#B0BEC5",
                "#B0BEC5",
                "#B0BEC5",
                "#B0BEC5",
                "#B0BEC5",
                "#B0BEC5"
               ]
              ]
             }
            ],
            "label": "Topic 4",
            "method": "update"
           },
           {
            "args": [
             {
              "marker.color": [
               [
                "#B0BEC5",
                "#B0BEC5",
                "#B0BEC5",
                "#B0BEC5",
                "#B0BEC5",
                "red",
                "#B0BEC5",
                "#B0BEC5",
                "#B0BEC5",
                "#B0BEC5",
                "#B0BEC5",
                "#B0BEC5",
                "#B0BEC5",
                "#B0BEC5",
                "#B0BEC5",
                "#B0BEC5",
                "#B0BEC5",
                "#B0BEC5",
                "#B0BEC5",
                "#B0BEC5",
                "#B0BEC5",
                "#B0BEC5",
                "#B0BEC5",
                "#B0BEC5",
                "#B0BEC5",
                "#B0BEC5",
                "#B0BEC5",
                "#B0BEC5",
                "#B0BEC5",
                "#B0BEC5",
                "#B0BEC5",
                "#B0BEC5",
                "#B0BEC5",
                "#B0BEC5",
                "#B0BEC5",
                "#B0BEC5",
                "#B0BEC5",
                "#B0BEC5",
                "#B0BEC5",
                "#B0BEC5",
                "#B0BEC5"
               ]
              ]
             }
            ],
            "label": "Topic 5",
            "method": "update"
           },
           {
            "args": [
             {
              "marker.color": [
               [
                "#B0BEC5",
                "#B0BEC5",
                "#B0BEC5",
                "#B0BEC5",
                "#B0BEC5",
                "#B0BEC5",
                "red",
                "#B0BEC5",
                "#B0BEC5",
                "#B0BEC5",
                "#B0BEC5",
                "#B0BEC5",
                "#B0BEC5",
                "#B0BEC5",
                "#B0BEC5",
                "#B0BEC5",
                "#B0BEC5",
                "#B0BEC5",
                "#B0BEC5",
                "#B0BEC5",
                "#B0BEC5",
                "#B0BEC5",
                "#B0BEC5",
                "#B0BEC5",
                "#B0BEC5",
                "#B0BEC5",
                "#B0BEC5",
                "#B0BEC5",
                "#B0BEC5",
                "#B0BEC5",
                "#B0BEC5",
                "#B0BEC5",
                "#B0BEC5",
                "#B0BEC5",
                "#B0BEC5",
                "#B0BEC5",
                "#B0BEC5",
                "#B0BEC5",
                "#B0BEC5",
                "#B0BEC5",
                "#B0BEC5"
               ]
              ]
             }
            ],
            "label": "Topic 6",
            "method": "update"
           },
           {
            "args": [
             {
              "marker.color": [
               [
                "#B0BEC5",
                "#B0BEC5",
                "#B0BEC5",
                "#B0BEC5",
                "#B0BEC5",
                "#B0BEC5",
                "#B0BEC5",
                "red",
                "#B0BEC5",
                "#B0BEC5",
                "#B0BEC5",
                "#B0BEC5",
                "#B0BEC5",
                "#B0BEC5",
                "#B0BEC5",
                "#B0BEC5",
                "#B0BEC5",
                "#B0BEC5",
                "#B0BEC5",
                "#B0BEC5",
                "#B0BEC5",
                "#B0BEC5",
                "#B0BEC5",
                "#B0BEC5",
                "#B0BEC5",
                "#B0BEC5",
                "#B0BEC5",
                "#B0BEC5",
                "#B0BEC5",
                "#B0BEC5",
                "#B0BEC5",
                "#B0BEC5",
                "#B0BEC5",
                "#B0BEC5",
                "#B0BEC5",
                "#B0BEC5",
                "#B0BEC5",
                "#B0BEC5",
                "#B0BEC5",
                "#B0BEC5",
                "#B0BEC5"
               ]
              ]
             }
            ],
            "label": "Topic 7",
            "method": "update"
           },
           {
            "args": [
             {
              "marker.color": [
               [
                "#B0BEC5",
                "#B0BEC5",
                "#B0BEC5",
                "#B0BEC5",
                "#B0BEC5",
                "#B0BEC5",
                "#B0BEC5",
                "#B0BEC5",
                "red",
                "#B0BEC5",
                "#B0BEC5",
                "#B0BEC5",
                "#B0BEC5",
                "#B0BEC5",
                "#B0BEC5",
                "#B0BEC5",
                "#B0BEC5",
                "#B0BEC5",
                "#B0BEC5",
                "#B0BEC5",
                "#B0BEC5",
                "#B0BEC5",
                "#B0BEC5",
                "#B0BEC5",
                "#B0BEC5",
                "#B0BEC5",
                "#B0BEC5",
                "#B0BEC5",
                "#B0BEC5",
                "#B0BEC5",
                "#B0BEC5",
                "#B0BEC5",
                "#B0BEC5",
                "#B0BEC5",
                "#B0BEC5",
                "#B0BEC5",
                "#B0BEC5",
                "#B0BEC5",
                "#B0BEC5",
                "#B0BEC5",
                "#B0BEC5"
               ]
              ]
             }
            ],
            "label": "Topic 8",
            "method": "update"
           },
           {
            "args": [
             {
              "marker.color": [
               [
                "#B0BEC5",
                "#B0BEC5",
                "#B0BEC5",
                "#B0BEC5",
                "#B0BEC5",
                "#B0BEC5",
                "#B0BEC5",
                "#B0BEC5",
                "#B0BEC5",
                "red",
                "#B0BEC5",
                "#B0BEC5",
                "#B0BEC5",
                "#B0BEC5",
                "#B0BEC5",
                "#B0BEC5",
                "#B0BEC5",
                "#B0BEC5",
                "#B0BEC5",
                "#B0BEC5",
                "#B0BEC5",
                "#B0BEC5",
                "#B0BEC5",
                "#B0BEC5",
                "#B0BEC5",
                "#B0BEC5",
                "#B0BEC5",
                "#B0BEC5",
                "#B0BEC5",
                "#B0BEC5",
                "#B0BEC5",
                "#B0BEC5",
                "#B0BEC5",
                "#B0BEC5",
                "#B0BEC5",
                "#B0BEC5",
                "#B0BEC5",
                "#B0BEC5",
                "#B0BEC5",
                "#B0BEC5",
                "#B0BEC5"
               ]
              ]
             }
            ],
            "label": "Topic 9",
            "method": "update"
           },
           {
            "args": [
             {
              "marker.color": [
               [
                "#B0BEC5",
                "#B0BEC5",
                "#B0BEC5",
                "#B0BEC5",
                "#B0BEC5",
                "#B0BEC5",
                "#B0BEC5",
                "#B0BEC5",
                "#B0BEC5",
                "#B0BEC5",
                "red",
                "#B0BEC5",
                "#B0BEC5",
                "#B0BEC5",
                "#B0BEC5",
                "#B0BEC5",
                "#B0BEC5",
                "#B0BEC5",
                "#B0BEC5",
                "#B0BEC5",
                "#B0BEC5",
                "#B0BEC5",
                "#B0BEC5",
                "#B0BEC5",
                "#B0BEC5",
                "#B0BEC5",
                "#B0BEC5",
                "#B0BEC5",
                "#B0BEC5",
                "#B0BEC5",
                "#B0BEC5",
                "#B0BEC5",
                "#B0BEC5",
                "#B0BEC5",
                "#B0BEC5",
                "#B0BEC5",
                "#B0BEC5",
                "#B0BEC5",
                "#B0BEC5",
                "#B0BEC5",
                "#B0BEC5"
               ]
              ]
             }
            ],
            "label": "Topic 10",
            "method": "update"
           },
           {
            "args": [
             {
              "marker.color": [
               [
                "#B0BEC5",
                "#B0BEC5",
                "#B0BEC5",
                "#B0BEC5",
                "#B0BEC5",
                "#B0BEC5",
                "#B0BEC5",
                "#B0BEC5",
                "#B0BEC5",
                "#B0BEC5",
                "#B0BEC5",
                "red",
                "#B0BEC5",
                "#B0BEC5",
                "#B0BEC5",
                "#B0BEC5",
                "#B0BEC5",
                "#B0BEC5",
                "#B0BEC5",
                "#B0BEC5",
                "#B0BEC5",
                "#B0BEC5",
                "#B0BEC5",
                "#B0BEC5",
                "#B0BEC5",
                "#B0BEC5",
                "#B0BEC5",
                "#B0BEC5",
                "#B0BEC5",
                "#B0BEC5",
                "#B0BEC5",
                "#B0BEC5",
                "#B0BEC5",
                "#B0BEC5",
                "#B0BEC5",
                "#B0BEC5",
                "#B0BEC5",
                "#B0BEC5",
                "#B0BEC5",
                "#B0BEC5",
                "#B0BEC5"
               ]
              ]
             }
            ],
            "label": "Topic 11",
            "method": "update"
           },
           {
            "args": [
             {
              "marker.color": [
               [
                "#B0BEC5",
                "#B0BEC5",
                "#B0BEC5",
                "#B0BEC5",
                "#B0BEC5",
                "#B0BEC5",
                "#B0BEC5",
                "#B0BEC5",
                "#B0BEC5",
                "#B0BEC5",
                "#B0BEC5",
                "#B0BEC5",
                "red",
                "#B0BEC5",
                "#B0BEC5",
                "#B0BEC5",
                "#B0BEC5",
                "#B0BEC5",
                "#B0BEC5",
                "#B0BEC5",
                "#B0BEC5",
                "#B0BEC5",
                "#B0BEC5",
                "#B0BEC5",
                "#B0BEC5",
                "#B0BEC5",
                "#B0BEC5",
                "#B0BEC5",
                "#B0BEC5",
                "#B0BEC5",
                "#B0BEC5",
                "#B0BEC5",
                "#B0BEC5",
                "#B0BEC5",
                "#B0BEC5",
                "#B0BEC5",
                "#B0BEC5",
                "#B0BEC5",
                "#B0BEC5",
                "#B0BEC5",
                "#B0BEC5"
               ]
              ]
             }
            ],
            "label": "Topic 12",
            "method": "update"
           },
           {
            "args": [
             {
              "marker.color": [
               [
                "#B0BEC5",
                "#B0BEC5",
                "#B0BEC5",
                "#B0BEC5",
                "#B0BEC5",
                "#B0BEC5",
                "#B0BEC5",
                "#B0BEC5",
                "#B0BEC5",
                "#B0BEC5",
                "#B0BEC5",
                "#B0BEC5",
                "#B0BEC5",
                "red",
                "#B0BEC5",
                "#B0BEC5",
                "#B0BEC5",
                "#B0BEC5",
                "#B0BEC5",
                "#B0BEC5",
                "#B0BEC5",
                "#B0BEC5",
                "#B0BEC5",
                "#B0BEC5",
                "#B0BEC5",
                "#B0BEC5",
                "#B0BEC5",
                "#B0BEC5",
                "#B0BEC5",
                "#B0BEC5",
                "#B0BEC5",
                "#B0BEC5",
                "#B0BEC5",
                "#B0BEC5",
                "#B0BEC5",
                "#B0BEC5",
                "#B0BEC5",
                "#B0BEC5",
                "#B0BEC5",
                "#B0BEC5",
                "#B0BEC5"
               ]
              ]
             }
            ],
            "label": "Topic 13",
            "method": "update"
           },
           {
            "args": [
             {
              "marker.color": [
               [
                "#B0BEC5",
                "#B0BEC5",
                "#B0BEC5",
                "#B0BEC5",
                "#B0BEC5",
                "#B0BEC5",
                "#B0BEC5",
                "#B0BEC5",
                "#B0BEC5",
                "#B0BEC5",
                "#B0BEC5",
                "#B0BEC5",
                "#B0BEC5",
                "#B0BEC5",
                "red",
                "#B0BEC5",
                "#B0BEC5",
                "#B0BEC5",
                "#B0BEC5",
                "#B0BEC5",
                "#B0BEC5",
                "#B0BEC5",
                "#B0BEC5",
                "#B0BEC5",
                "#B0BEC5",
                "#B0BEC5",
                "#B0BEC5",
                "#B0BEC5",
                "#B0BEC5",
                "#B0BEC5",
                "#B0BEC5",
                "#B0BEC5",
                "#B0BEC5",
                "#B0BEC5",
                "#B0BEC5",
                "#B0BEC5",
                "#B0BEC5",
                "#B0BEC5",
                "#B0BEC5",
                "#B0BEC5",
                "#B0BEC5"
               ]
              ]
             }
            ],
            "label": "Topic 14",
            "method": "update"
           },
           {
            "args": [
             {
              "marker.color": [
               [
                "#B0BEC5",
                "#B0BEC5",
                "#B0BEC5",
                "#B0BEC5",
                "#B0BEC5",
                "#B0BEC5",
                "#B0BEC5",
                "#B0BEC5",
                "#B0BEC5",
                "#B0BEC5",
                "#B0BEC5",
                "#B0BEC5",
                "#B0BEC5",
                "#B0BEC5",
                "#B0BEC5",
                "red",
                "#B0BEC5",
                "#B0BEC5",
                "#B0BEC5",
                "#B0BEC5",
                "#B0BEC5",
                "#B0BEC5",
                "#B0BEC5",
                "#B0BEC5",
                "#B0BEC5",
                "#B0BEC5",
                "#B0BEC5",
                "#B0BEC5",
                "#B0BEC5",
                "#B0BEC5",
                "#B0BEC5",
                "#B0BEC5",
                "#B0BEC5",
                "#B0BEC5",
                "#B0BEC5",
                "#B0BEC5",
                "#B0BEC5",
                "#B0BEC5",
                "#B0BEC5",
                "#B0BEC5",
                "#B0BEC5"
               ]
              ]
             }
            ],
            "label": "Topic 15",
            "method": "update"
           },
           {
            "args": [
             {
              "marker.color": [
               [
                "#B0BEC5",
                "#B0BEC5",
                "#B0BEC5",
                "#B0BEC5",
                "#B0BEC5",
                "#B0BEC5",
                "#B0BEC5",
                "#B0BEC5",
                "#B0BEC5",
                "#B0BEC5",
                "#B0BEC5",
                "#B0BEC5",
                "#B0BEC5",
                "#B0BEC5",
                "#B0BEC5",
                "#B0BEC5",
                "red",
                "#B0BEC5",
                "#B0BEC5",
                "#B0BEC5",
                "#B0BEC5",
                "#B0BEC5",
                "#B0BEC5",
                "#B0BEC5",
                "#B0BEC5",
                "#B0BEC5",
                "#B0BEC5",
                "#B0BEC5",
                "#B0BEC5",
                "#B0BEC5",
                "#B0BEC5",
                "#B0BEC5",
                "#B0BEC5",
                "#B0BEC5",
                "#B0BEC5",
                "#B0BEC5",
                "#B0BEC5",
                "#B0BEC5",
                "#B0BEC5",
                "#B0BEC5",
                "#B0BEC5"
               ]
              ]
             }
            ],
            "label": "Topic 16",
            "method": "update"
           },
           {
            "args": [
             {
              "marker.color": [
               [
                "#B0BEC5",
                "#B0BEC5",
                "#B0BEC5",
                "#B0BEC5",
                "#B0BEC5",
                "#B0BEC5",
                "#B0BEC5",
                "#B0BEC5",
                "#B0BEC5",
                "#B0BEC5",
                "#B0BEC5",
                "#B0BEC5",
                "#B0BEC5",
                "#B0BEC5",
                "#B0BEC5",
                "#B0BEC5",
                "#B0BEC5",
                "red",
                "#B0BEC5",
                "#B0BEC5",
                "#B0BEC5",
                "#B0BEC5",
                "#B0BEC5",
                "#B0BEC5",
                "#B0BEC5",
                "#B0BEC5",
                "#B0BEC5",
                "#B0BEC5",
                "#B0BEC5",
                "#B0BEC5",
                "#B0BEC5",
                "#B0BEC5",
                "#B0BEC5",
                "#B0BEC5",
                "#B0BEC5",
                "#B0BEC5",
                "#B0BEC5",
                "#B0BEC5",
                "#B0BEC5",
                "#B0BEC5",
                "#B0BEC5"
               ]
              ]
             }
            ],
            "label": "Topic 17",
            "method": "update"
           },
           {
            "args": [
             {
              "marker.color": [
               [
                "#B0BEC5",
                "#B0BEC5",
                "#B0BEC5",
                "#B0BEC5",
                "#B0BEC5",
                "#B0BEC5",
                "#B0BEC5",
                "#B0BEC5",
                "#B0BEC5",
                "#B0BEC5",
                "#B0BEC5",
                "#B0BEC5",
                "#B0BEC5",
                "#B0BEC5",
                "#B0BEC5",
                "#B0BEC5",
                "#B0BEC5",
                "#B0BEC5",
                "red",
                "#B0BEC5",
                "#B0BEC5",
                "#B0BEC5",
                "#B0BEC5",
                "#B0BEC5",
                "#B0BEC5",
                "#B0BEC5",
                "#B0BEC5",
                "#B0BEC5",
                "#B0BEC5",
                "#B0BEC5",
                "#B0BEC5",
                "#B0BEC5",
                "#B0BEC5",
                "#B0BEC5",
                "#B0BEC5",
                "#B0BEC5",
                "#B0BEC5",
                "#B0BEC5",
                "#B0BEC5",
                "#B0BEC5",
                "#B0BEC5"
               ]
              ]
             }
            ],
            "label": "Topic 18",
            "method": "update"
           },
           {
            "args": [
             {
              "marker.color": [
               [
                "#B0BEC5",
                "#B0BEC5",
                "#B0BEC5",
                "#B0BEC5",
                "#B0BEC5",
                "#B0BEC5",
                "#B0BEC5",
                "#B0BEC5",
                "#B0BEC5",
                "#B0BEC5",
                "#B0BEC5",
                "#B0BEC5",
                "#B0BEC5",
                "#B0BEC5",
                "#B0BEC5",
                "#B0BEC5",
                "#B0BEC5",
                "#B0BEC5",
                "#B0BEC5",
                "red",
                "#B0BEC5",
                "#B0BEC5",
                "#B0BEC5",
                "#B0BEC5",
                "#B0BEC5",
                "#B0BEC5",
                "#B0BEC5",
                "#B0BEC5",
                "#B0BEC5",
                "#B0BEC5",
                "#B0BEC5",
                "#B0BEC5",
                "#B0BEC5",
                "#B0BEC5",
                "#B0BEC5",
                "#B0BEC5",
                "#B0BEC5",
                "#B0BEC5",
                "#B0BEC5",
                "#B0BEC5",
                "#B0BEC5"
               ]
              ]
             }
            ],
            "label": "Topic 19",
            "method": "update"
           },
           {
            "args": [
             {
              "marker.color": [
               [
                "#B0BEC5",
                "#B0BEC5",
                "#B0BEC5",
                "#B0BEC5",
                "#B0BEC5",
                "#B0BEC5",
                "#B0BEC5",
                "#B0BEC5",
                "#B0BEC5",
                "#B0BEC5",
                "#B0BEC5",
                "#B0BEC5",
                "#B0BEC5",
                "#B0BEC5",
                "#B0BEC5",
                "#B0BEC5",
                "#B0BEC5",
                "#B0BEC5",
                "#B0BEC5",
                "#B0BEC5",
                "red",
                "#B0BEC5",
                "#B0BEC5",
                "#B0BEC5",
                "#B0BEC5",
                "#B0BEC5",
                "#B0BEC5",
                "#B0BEC5",
                "#B0BEC5",
                "#B0BEC5",
                "#B0BEC5",
                "#B0BEC5",
                "#B0BEC5",
                "#B0BEC5",
                "#B0BEC5",
                "#B0BEC5",
                "#B0BEC5",
                "#B0BEC5",
                "#B0BEC5",
                "#B0BEC5",
                "#B0BEC5"
               ]
              ]
             }
            ],
            "label": "Topic 20",
            "method": "update"
           },
           {
            "args": [
             {
              "marker.color": [
               [
                "#B0BEC5",
                "#B0BEC5",
                "#B0BEC5",
                "#B0BEC5",
                "#B0BEC5",
                "#B0BEC5",
                "#B0BEC5",
                "#B0BEC5",
                "#B0BEC5",
                "#B0BEC5",
                "#B0BEC5",
                "#B0BEC5",
                "#B0BEC5",
                "#B0BEC5",
                "#B0BEC5",
                "#B0BEC5",
                "#B0BEC5",
                "#B0BEC5",
                "#B0BEC5",
                "#B0BEC5",
                "#B0BEC5",
                "red",
                "#B0BEC5",
                "#B0BEC5",
                "#B0BEC5",
                "#B0BEC5",
                "#B0BEC5",
                "#B0BEC5",
                "#B0BEC5",
                "#B0BEC5",
                "#B0BEC5",
                "#B0BEC5",
                "#B0BEC5",
                "#B0BEC5",
                "#B0BEC5",
                "#B0BEC5",
                "#B0BEC5",
                "#B0BEC5",
                "#B0BEC5",
                "#B0BEC5",
                "#B0BEC5"
               ]
              ]
             }
            ],
            "label": "Topic 21",
            "method": "update"
           },
           {
            "args": [
             {
              "marker.color": [
               [
                "#B0BEC5",
                "#B0BEC5",
                "#B0BEC5",
                "#B0BEC5",
                "#B0BEC5",
                "#B0BEC5",
                "#B0BEC5",
                "#B0BEC5",
                "#B0BEC5",
                "#B0BEC5",
                "#B0BEC5",
                "#B0BEC5",
                "#B0BEC5",
                "#B0BEC5",
                "#B0BEC5",
                "#B0BEC5",
                "#B0BEC5",
                "#B0BEC5",
                "#B0BEC5",
                "#B0BEC5",
                "#B0BEC5",
                "#B0BEC5",
                "red",
                "#B0BEC5",
                "#B0BEC5",
                "#B0BEC5",
                "#B0BEC5",
                "#B0BEC5",
                "#B0BEC5",
                "#B0BEC5",
                "#B0BEC5",
                "#B0BEC5",
                "#B0BEC5",
                "#B0BEC5",
                "#B0BEC5",
                "#B0BEC5",
                "#B0BEC5",
                "#B0BEC5",
                "#B0BEC5",
                "#B0BEC5",
                "#B0BEC5"
               ]
              ]
             }
            ],
            "label": "Topic 22",
            "method": "update"
           },
           {
            "args": [
             {
              "marker.color": [
               [
                "#B0BEC5",
                "#B0BEC5",
                "#B0BEC5",
                "#B0BEC5",
                "#B0BEC5",
                "#B0BEC5",
                "#B0BEC5",
                "#B0BEC5",
                "#B0BEC5",
                "#B0BEC5",
                "#B0BEC5",
                "#B0BEC5",
                "#B0BEC5",
                "#B0BEC5",
                "#B0BEC5",
                "#B0BEC5",
                "#B0BEC5",
                "#B0BEC5",
                "#B0BEC5",
                "#B0BEC5",
                "#B0BEC5",
                "#B0BEC5",
                "#B0BEC5",
                "red",
                "#B0BEC5",
                "#B0BEC5",
                "#B0BEC5",
                "#B0BEC5",
                "#B0BEC5",
                "#B0BEC5",
                "#B0BEC5",
                "#B0BEC5",
                "#B0BEC5",
                "#B0BEC5",
                "#B0BEC5",
                "#B0BEC5",
                "#B0BEC5",
                "#B0BEC5",
                "#B0BEC5",
                "#B0BEC5",
                "#B0BEC5"
               ]
              ]
             }
            ],
            "label": "Topic 23",
            "method": "update"
           },
           {
            "args": [
             {
              "marker.color": [
               [
                "#B0BEC5",
                "#B0BEC5",
                "#B0BEC5",
                "#B0BEC5",
                "#B0BEC5",
                "#B0BEC5",
                "#B0BEC5",
                "#B0BEC5",
                "#B0BEC5",
                "#B0BEC5",
                "#B0BEC5",
                "#B0BEC5",
                "#B0BEC5",
                "#B0BEC5",
                "#B0BEC5",
                "#B0BEC5",
                "#B0BEC5",
                "#B0BEC5",
                "#B0BEC5",
                "#B0BEC5",
                "#B0BEC5",
                "#B0BEC5",
                "#B0BEC5",
                "#B0BEC5",
                "red",
                "#B0BEC5",
                "#B0BEC5",
                "#B0BEC5",
                "#B0BEC5",
                "#B0BEC5",
                "#B0BEC5",
                "#B0BEC5",
                "#B0BEC5",
                "#B0BEC5",
                "#B0BEC5",
                "#B0BEC5",
                "#B0BEC5",
                "#B0BEC5",
                "#B0BEC5",
                "#B0BEC5",
                "#B0BEC5"
               ]
              ]
             }
            ],
            "label": "Topic 24",
            "method": "update"
           },
           {
            "args": [
             {
              "marker.color": [
               [
                "#B0BEC5",
                "#B0BEC5",
                "#B0BEC5",
                "#B0BEC5",
                "#B0BEC5",
                "#B0BEC5",
                "#B0BEC5",
                "#B0BEC5",
                "#B0BEC5",
                "#B0BEC5",
                "#B0BEC5",
                "#B0BEC5",
                "#B0BEC5",
                "#B0BEC5",
                "#B0BEC5",
                "#B0BEC5",
                "#B0BEC5",
                "#B0BEC5",
                "#B0BEC5",
                "#B0BEC5",
                "#B0BEC5",
                "#B0BEC5",
                "#B0BEC5",
                "#B0BEC5",
                "#B0BEC5",
                "red",
                "#B0BEC5",
                "#B0BEC5",
                "#B0BEC5",
                "#B0BEC5",
                "#B0BEC5",
                "#B0BEC5",
                "#B0BEC5",
                "#B0BEC5",
                "#B0BEC5",
                "#B0BEC5",
                "#B0BEC5",
                "#B0BEC5",
                "#B0BEC5",
                "#B0BEC5",
                "#B0BEC5"
               ]
              ]
             }
            ],
            "label": "Topic 25",
            "method": "update"
           },
           {
            "args": [
             {
              "marker.color": [
               [
                "#B0BEC5",
                "#B0BEC5",
                "#B0BEC5",
                "#B0BEC5",
                "#B0BEC5",
                "#B0BEC5",
                "#B0BEC5",
                "#B0BEC5",
                "#B0BEC5",
                "#B0BEC5",
                "#B0BEC5",
                "#B0BEC5",
                "#B0BEC5",
                "#B0BEC5",
                "#B0BEC5",
                "#B0BEC5",
                "#B0BEC5",
                "#B0BEC5",
                "#B0BEC5",
                "#B0BEC5",
                "#B0BEC5",
                "#B0BEC5",
                "#B0BEC5",
                "#B0BEC5",
                "#B0BEC5",
                "#B0BEC5",
                "red",
                "#B0BEC5",
                "#B0BEC5",
                "#B0BEC5",
                "#B0BEC5",
                "#B0BEC5",
                "#B0BEC5",
                "#B0BEC5",
                "#B0BEC5",
                "#B0BEC5",
                "#B0BEC5",
                "#B0BEC5",
                "#B0BEC5",
                "#B0BEC5",
                "#B0BEC5"
               ]
              ]
             }
            ],
            "label": "Topic 26",
            "method": "update"
           },
           {
            "args": [
             {
              "marker.color": [
               [
                "#B0BEC5",
                "#B0BEC5",
                "#B0BEC5",
                "#B0BEC5",
                "#B0BEC5",
                "#B0BEC5",
                "#B0BEC5",
                "#B0BEC5",
                "#B0BEC5",
                "#B0BEC5",
                "#B0BEC5",
                "#B0BEC5",
                "#B0BEC5",
                "#B0BEC5",
                "#B0BEC5",
                "#B0BEC5",
                "#B0BEC5",
                "#B0BEC5",
                "#B0BEC5",
                "#B0BEC5",
                "#B0BEC5",
                "#B0BEC5",
                "#B0BEC5",
                "#B0BEC5",
                "#B0BEC5",
                "#B0BEC5",
                "#B0BEC5",
                "red",
                "#B0BEC5",
                "#B0BEC5",
                "#B0BEC5",
                "#B0BEC5",
                "#B0BEC5",
                "#B0BEC5",
                "#B0BEC5",
                "#B0BEC5",
                "#B0BEC5",
                "#B0BEC5",
                "#B0BEC5",
                "#B0BEC5",
                "#B0BEC5"
               ]
              ]
             }
            ],
            "label": "Topic 27",
            "method": "update"
           },
           {
            "args": [
             {
              "marker.color": [
               [
                "#B0BEC5",
                "#B0BEC5",
                "#B0BEC5",
                "#B0BEC5",
                "#B0BEC5",
                "#B0BEC5",
                "#B0BEC5",
                "#B0BEC5",
                "#B0BEC5",
                "#B0BEC5",
                "#B0BEC5",
                "#B0BEC5",
                "#B0BEC5",
                "#B0BEC5",
                "#B0BEC5",
                "#B0BEC5",
                "#B0BEC5",
                "#B0BEC5",
                "#B0BEC5",
                "#B0BEC5",
                "#B0BEC5",
                "#B0BEC5",
                "#B0BEC5",
                "#B0BEC5",
                "#B0BEC5",
                "#B0BEC5",
                "#B0BEC5",
                "#B0BEC5",
                "red",
                "#B0BEC5",
                "#B0BEC5",
                "#B0BEC5",
                "#B0BEC5",
                "#B0BEC5",
                "#B0BEC5",
                "#B0BEC5",
                "#B0BEC5",
                "#B0BEC5",
                "#B0BEC5",
                "#B0BEC5",
                "#B0BEC5"
               ]
              ]
             }
            ],
            "label": "Topic 28",
            "method": "update"
           },
           {
            "args": [
             {
              "marker.color": [
               [
                "#B0BEC5",
                "#B0BEC5",
                "#B0BEC5",
                "#B0BEC5",
                "#B0BEC5",
                "#B0BEC5",
                "#B0BEC5",
                "#B0BEC5",
                "#B0BEC5",
                "#B0BEC5",
                "#B0BEC5",
                "#B0BEC5",
                "#B0BEC5",
                "#B0BEC5",
                "#B0BEC5",
                "#B0BEC5",
                "#B0BEC5",
                "#B0BEC5",
                "#B0BEC5",
                "#B0BEC5",
                "#B0BEC5",
                "#B0BEC5",
                "#B0BEC5",
                "#B0BEC5",
                "#B0BEC5",
                "#B0BEC5",
                "#B0BEC5",
                "#B0BEC5",
                "#B0BEC5",
                "red",
                "#B0BEC5",
                "#B0BEC5",
                "#B0BEC5",
                "#B0BEC5",
                "#B0BEC5",
                "#B0BEC5",
                "#B0BEC5",
                "#B0BEC5",
                "#B0BEC5",
                "#B0BEC5",
                "#B0BEC5"
               ]
              ]
             }
            ],
            "label": "Topic 29",
            "method": "update"
           },
           {
            "args": [
             {
              "marker.color": [
               [
                "#B0BEC5",
                "#B0BEC5",
                "#B0BEC5",
                "#B0BEC5",
                "#B0BEC5",
                "#B0BEC5",
                "#B0BEC5",
                "#B0BEC5",
                "#B0BEC5",
                "#B0BEC5",
                "#B0BEC5",
                "#B0BEC5",
                "#B0BEC5",
                "#B0BEC5",
                "#B0BEC5",
                "#B0BEC5",
                "#B0BEC5",
                "#B0BEC5",
                "#B0BEC5",
                "#B0BEC5",
                "#B0BEC5",
                "#B0BEC5",
                "#B0BEC5",
                "#B0BEC5",
                "#B0BEC5",
                "#B0BEC5",
                "#B0BEC5",
                "#B0BEC5",
                "#B0BEC5",
                "#B0BEC5",
                "red",
                "#B0BEC5",
                "#B0BEC5",
                "#B0BEC5",
                "#B0BEC5",
                "#B0BEC5",
                "#B0BEC5",
                "#B0BEC5",
                "#B0BEC5",
                "#B0BEC5",
                "#B0BEC5"
               ]
              ]
             }
            ],
            "label": "Topic 30",
            "method": "update"
           },
           {
            "args": [
             {
              "marker.color": [
               [
                "#B0BEC5",
                "#B0BEC5",
                "#B0BEC5",
                "#B0BEC5",
                "#B0BEC5",
                "#B0BEC5",
                "#B0BEC5",
                "#B0BEC5",
                "#B0BEC5",
                "#B0BEC5",
                "#B0BEC5",
                "#B0BEC5",
                "#B0BEC5",
                "#B0BEC5",
                "#B0BEC5",
                "#B0BEC5",
                "#B0BEC5",
                "#B0BEC5",
                "#B0BEC5",
                "#B0BEC5",
                "#B0BEC5",
                "#B0BEC5",
                "#B0BEC5",
                "#B0BEC5",
                "#B0BEC5",
                "#B0BEC5",
                "#B0BEC5",
                "#B0BEC5",
                "#B0BEC5",
                "#B0BEC5",
                "#B0BEC5",
                "red",
                "#B0BEC5",
                "#B0BEC5",
                "#B0BEC5",
                "#B0BEC5",
                "#B0BEC5",
                "#B0BEC5",
                "#B0BEC5",
                "#B0BEC5",
                "#B0BEC5"
               ]
              ]
             }
            ],
            "label": "Topic 31",
            "method": "update"
           },
           {
            "args": [
             {
              "marker.color": [
               [
                "#B0BEC5",
                "#B0BEC5",
                "#B0BEC5",
                "#B0BEC5",
                "#B0BEC5",
                "#B0BEC5",
                "#B0BEC5",
                "#B0BEC5",
                "#B0BEC5",
                "#B0BEC5",
                "#B0BEC5",
                "#B0BEC5",
                "#B0BEC5",
                "#B0BEC5",
                "#B0BEC5",
                "#B0BEC5",
                "#B0BEC5",
                "#B0BEC5",
                "#B0BEC5",
                "#B0BEC5",
                "#B0BEC5",
                "#B0BEC5",
                "#B0BEC5",
                "#B0BEC5",
                "#B0BEC5",
                "#B0BEC5",
                "#B0BEC5",
                "#B0BEC5",
                "#B0BEC5",
                "#B0BEC5",
                "#B0BEC5",
                "#B0BEC5",
                "red",
                "#B0BEC5",
                "#B0BEC5",
                "#B0BEC5",
                "#B0BEC5",
                "#B0BEC5",
                "#B0BEC5",
                "#B0BEC5",
                "#B0BEC5"
               ]
              ]
             }
            ],
            "label": "Topic 32",
            "method": "update"
           },
           {
            "args": [
             {
              "marker.color": [
               [
                "#B0BEC5",
                "#B0BEC5",
                "#B0BEC5",
                "#B0BEC5",
                "#B0BEC5",
                "#B0BEC5",
                "#B0BEC5",
                "#B0BEC5",
                "#B0BEC5",
                "#B0BEC5",
                "#B0BEC5",
                "#B0BEC5",
                "#B0BEC5",
                "#B0BEC5",
                "#B0BEC5",
                "#B0BEC5",
                "#B0BEC5",
                "#B0BEC5",
                "#B0BEC5",
                "#B0BEC5",
                "#B0BEC5",
                "#B0BEC5",
                "#B0BEC5",
                "#B0BEC5",
                "#B0BEC5",
                "#B0BEC5",
                "#B0BEC5",
                "#B0BEC5",
                "#B0BEC5",
                "#B0BEC5",
                "#B0BEC5",
                "#B0BEC5",
                "#B0BEC5",
                "red",
                "#B0BEC5",
                "#B0BEC5",
                "#B0BEC5",
                "#B0BEC5",
                "#B0BEC5",
                "#B0BEC5",
                "#B0BEC5"
               ]
              ]
             }
            ],
            "label": "Topic 33",
            "method": "update"
           },
           {
            "args": [
             {
              "marker.color": [
               [
                "#B0BEC5",
                "#B0BEC5",
                "#B0BEC5",
                "#B0BEC5",
                "#B0BEC5",
                "#B0BEC5",
                "#B0BEC5",
                "#B0BEC5",
                "#B0BEC5",
                "#B0BEC5",
                "#B0BEC5",
                "#B0BEC5",
                "#B0BEC5",
                "#B0BEC5",
                "#B0BEC5",
                "#B0BEC5",
                "#B0BEC5",
                "#B0BEC5",
                "#B0BEC5",
                "#B0BEC5",
                "#B0BEC5",
                "#B0BEC5",
                "#B0BEC5",
                "#B0BEC5",
                "#B0BEC5",
                "#B0BEC5",
                "#B0BEC5",
                "#B0BEC5",
                "#B0BEC5",
                "#B0BEC5",
                "#B0BEC5",
                "#B0BEC5",
                "#B0BEC5",
                "#B0BEC5",
                "red",
                "#B0BEC5",
                "#B0BEC5",
                "#B0BEC5",
                "#B0BEC5",
                "#B0BEC5",
                "#B0BEC5"
               ]
              ]
             }
            ],
            "label": "Topic 34",
            "method": "update"
           },
           {
            "args": [
             {
              "marker.color": [
               [
                "#B0BEC5",
                "#B0BEC5",
                "#B0BEC5",
                "#B0BEC5",
                "#B0BEC5",
                "#B0BEC5",
                "#B0BEC5",
                "#B0BEC5",
                "#B0BEC5",
                "#B0BEC5",
                "#B0BEC5",
                "#B0BEC5",
                "#B0BEC5",
                "#B0BEC5",
                "#B0BEC5",
                "#B0BEC5",
                "#B0BEC5",
                "#B0BEC5",
                "#B0BEC5",
                "#B0BEC5",
                "#B0BEC5",
                "#B0BEC5",
                "#B0BEC5",
                "#B0BEC5",
                "#B0BEC5",
                "#B0BEC5",
                "#B0BEC5",
                "#B0BEC5",
                "#B0BEC5",
                "#B0BEC5",
                "#B0BEC5",
                "#B0BEC5",
                "#B0BEC5",
                "#B0BEC5",
                "#B0BEC5",
                "red",
                "#B0BEC5",
                "#B0BEC5",
                "#B0BEC5",
                "#B0BEC5",
                "#B0BEC5"
               ]
              ]
             }
            ],
            "label": "Topic 35",
            "method": "update"
           },
           {
            "args": [
             {
              "marker.color": [
               [
                "#B0BEC5",
                "#B0BEC5",
                "#B0BEC5",
                "#B0BEC5",
                "#B0BEC5",
                "#B0BEC5",
                "#B0BEC5",
                "#B0BEC5",
                "#B0BEC5",
                "#B0BEC5",
                "#B0BEC5",
                "#B0BEC5",
                "#B0BEC5",
                "#B0BEC5",
                "#B0BEC5",
                "#B0BEC5",
                "#B0BEC5",
                "#B0BEC5",
                "#B0BEC5",
                "#B0BEC5",
                "#B0BEC5",
                "#B0BEC5",
                "#B0BEC5",
                "#B0BEC5",
                "#B0BEC5",
                "#B0BEC5",
                "#B0BEC5",
                "#B0BEC5",
                "#B0BEC5",
                "#B0BEC5",
                "#B0BEC5",
                "#B0BEC5",
                "#B0BEC5",
                "#B0BEC5",
                "#B0BEC5",
                "#B0BEC5",
                "red",
                "#B0BEC5",
                "#B0BEC5",
                "#B0BEC5",
                "#B0BEC5"
               ]
              ]
             }
            ],
            "label": "Topic 36",
            "method": "update"
           },
           {
            "args": [
             {
              "marker.color": [
               [
                "#B0BEC5",
                "#B0BEC5",
                "#B0BEC5",
                "#B0BEC5",
                "#B0BEC5",
                "#B0BEC5",
                "#B0BEC5",
                "#B0BEC5",
                "#B0BEC5",
                "#B0BEC5",
                "#B0BEC5",
                "#B0BEC5",
                "#B0BEC5",
                "#B0BEC5",
                "#B0BEC5",
                "#B0BEC5",
                "#B0BEC5",
                "#B0BEC5",
                "#B0BEC5",
                "#B0BEC5",
                "#B0BEC5",
                "#B0BEC5",
                "#B0BEC5",
                "#B0BEC5",
                "#B0BEC5",
                "#B0BEC5",
                "#B0BEC5",
                "#B0BEC5",
                "#B0BEC5",
                "#B0BEC5",
                "#B0BEC5",
                "#B0BEC5",
                "#B0BEC5",
                "#B0BEC5",
                "#B0BEC5",
                "#B0BEC5",
                "#B0BEC5",
                "red",
                "#B0BEC5",
                "#B0BEC5",
                "#B0BEC5"
               ]
              ]
             }
            ],
            "label": "Topic 37",
            "method": "update"
           },
           {
            "args": [
             {
              "marker.color": [
               [
                "#B0BEC5",
                "#B0BEC5",
                "#B0BEC5",
                "#B0BEC5",
                "#B0BEC5",
                "#B0BEC5",
                "#B0BEC5",
                "#B0BEC5",
                "#B0BEC5",
                "#B0BEC5",
                "#B0BEC5",
                "#B0BEC5",
                "#B0BEC5",
                "#B0BEC5",
                "#B0BEC5",
                "#B0BEC5",
                "#B0BEC5",
                "#B0BEC5",
                "#B0BEC5",
                "#B0BEC5",
                "#B0BEC5",
                "#B0BEC5",
                "#B0BEC5",
                "#B0BEC5",
                "#B0BEC5",
                "#B0BEC5",
                "#B0BEC5",
                "#B0BEC5",
                "#B0BEC5",
                "#B0BEC5",
                "#B0BEC5",
                "#B0BEC5",
                "#B0BEC5",
                "#B0BEC5",
                "#B0BEC5",
                "#B0BEC5",
                "#B0BEC5",
                "#B0BEC5",
                "red",
                "#B0BEC5",
                "#B0BEC5"
               ]
              ]
             }
            ],
            "label": "Topic 38",
            "method": "update"
           },
           {
            "args": [
             {
              "marker.color": [
               [
                "#B0BEC5",
                "#B0BEC5",
                "#B0BEC5",
                "#B0BEC5",
                "#B0BEC5",
                "#B0BEC5",
                "#B0BEC5",
                "#B0BEC5",
                "#B0BEC5",
                "#B0BEC5",
                "#B0BEC5",
                "#B0BEC5",
                "#B0BEC5",
                "#B0BEC5",
                "#B0BEC5",
                "#B0BEC5",
                "#B0BEC5",
                "#B0BEC5",
                "#B0BEC5",
                "#B0BEC5",
                "#B0BEC5",
                "#B0BEC5",
                "#B0BEC5",
                "#B0BEC5",
                "#B0BEC5",
                "#B0BEC5",
                "#B0BEC5",
                "#B0BEC5",
                "#B0BEC5",
                "#B0BEC5",
                "#B0BEC5",
                "#B0BEC5",
                "#B0BEC5",
                "#B0BEC5",
                "#B0BEC5",
                "#B0BEC5",
                "#B0BEC5",
                "#B0BEC5",
                "#B0BEC5",
                "red",
                "#B0BEC5"
               ]
              ]
             }
            ],
            "label": "Topic 39",
            "method": "update"
           },
           {
            "args": [
             {
              "marker.color": [
               [
                "#B0BEC5",
                "#B0BEC5",
                "#B0BEC5",
                "#B0BEC5",
                "#B0BEC5",
                "#B0BEC5",
                "#B0BEC5",
                "#B0BEC5",
                "#B0BEC5",
                "#B0BEC5",
                "#B0BEC5",
                "#B0BEC5",
                "#B0BEC5",
                "#B0BEC5",
                "#B0BEC5",
                "#B0BEC5",
                "#B0BEC5",
                "#B0BEC5",
                "#B0BEC5",
                "#B0BEC5",
                "#B0BEC5",
                "#B0BEC5",
                "#B0BEC5",
                "#B0BEC5",
                "#B0BEC5",
                "#B0BEC5",
                "#B0BEC5",
                "#B0BEC5",
                "#B0BEC5",
                "#B0BEC5",
                "#B0BEC5",
                "#B0BEC5",
                "#B0BEC5",
                "#B0BEC5",
                "#B0BEC5",
                "#B0BEC5",
                "#B0BEC5",
                "#B0BEC5",
                "#B0BEC5",
                "#B0BEC5",
                "red"
               ]
              ]
             }
            ],
            "label": "Topic 40",
            "method": "update"
           }
          ]
         }
        ],
        "template": {
         "data": {
          "bar": [
           {
            "error_x": {
             "color": "rgb(36,36,36)"
            },
            "error_y": {
             "color": "rgb(36,36,36)"
            },
            "marker": {
             "line": {
              "color": "white",
              "width": 0.5
             },
             "pattern": {
              "fillmode": "overlay",
              "size": 10,
              "solidity": 0.2
             }
            },
            "type": "bar"
           }
          ],
          "barpolar": [
           {
            "marker": {
             "line": {
              "color": "white",
              "width": 0.5
             },
             "pattern": {
              "fillmode": "overlay",
              "size": 10,
              "solidity": 0.2
             }
            },
            "type": "barpolar"
           }
          ],
          "carpet": [
           {
            "aaxis": {
             "endlinecolor": "rgb(36,36,36)",
             "gridcolor": "white",
             "linecolor": "white",
             "minorgridcolor": "white",
             "startlinecolor": "rgb(36,36,36)"
            },
            "baxis": {
             "endlinecolor": "rgb(36,36,36)",
             "gridcolor": "white",
             "linecolor": "white",
             "minorgridcolor": "white",
             "startlinecolor": "rgb(36,36,36)"
            },
            "type": "carpet"
           }
          ],
          "choropleth": [
           {
            "colorbar": {
             "outlinewidth": 1,
             "tickcolor": "rgb(36,36,36)",
             "ticks": "outside"
            },
            "type": "choropleth"
           }
          ],
          "contour": [
           {
            "colorbar": {
             "outlinewidth": 1,
             "tickcolor": "rgb(36,36,36)",
             "ticks": "outside"
            },
            "colorscale": [
             [
              0,
              "#440154"
             ],
             [
              0.1111111111111111,
              "#482878"
             ],
             [
              0.2222222222222222,
              "#3e4989"
             ],
             [
              0.3333333333333333,
              "#31688e"
             ],
             [
              0.4444444444444444,
              "#26828e"
             ],
             [
              0.5555555555555556,
              "#1f9e89"
             ],
             [
              0.6666666666666666,
              "#35b779"
             ],
             [
              0.7777777777777778,
              "#6ece58"
             ],
             [
              0.8888888888888888,
              "#b5de2b"
             ],
             [
              1,
              "#fde725"
             ]
            ],
            "type": "contour"
           }
          ],
          "contourcarpet": [
           {
            "colorbar": {
             "outlinewidth": 1,
             "tickcolor": "rgb(36,36,36)",
             "ticks": "outside"
            },
            "type": "contourcarpet"
           }
          ],
          "heatmap": [
           {
            "colorbar": {
             "outlinewidth": 1,
             "tickcolor": "rgb(36,36,36)",
             "ticks": "outside"
            },
            "colorscale": [
             [
              0,
              "#440154"
             ],
             [
              0.1111111111111111,
              "#482878"
             ],
             [
              0.2222222222222222,
              "#3e4989"
             ],
             [
              0.3333333333333333,
              "#31688e"
             ],
             [
              0.4444444444444444,
              "#26828e"
             ],
             [
              0.5555555555555556,
              "#1f9e89"
             ],
             [
              0.6666666666666666,
              "#35b779"
             ],
             [
              0.7777777777777778,
              "#6ece58"
             ],
             [
              0.8888888888888888,
              "#b5de2b"
             ],
             [
              1,
              "#fde725"
             ]
            ],
            "type": "heatmap"
           }
          ],
          "histogram": [
           {
            "marker": {
             "line": {
              "color": "white",
              "width": 0.6
             }
            },
            "type": "histogram"
           }
          ],
          "histogram2d": [
           {
            "colorbar": {
             "outlinewidth": 1,
             "tickcolor": "rgb(36,36,36)",
             "ticks": "outside"
            },
            "colorscale": [
             [
              0,
              "#440154"
             ],
             [
              0.1111111111111111,
              "#482878"
             ],
             [
              0.2222222222222222,
              "#3e4989"
             ],
             [
              0.3333333333333333,
              "#31688e"
             ],
             [
              0.4444444444444444,
              "#26828e"
             ],
             [
              0.5555555555555556,
              "#1f9e89"
             ],
             [
              0.6666666666666666,
              "#35b779"
             ],
             [
              0.7777777777777778,
              "#6ece58"
             ],
             [
              0.8888888888888888,
              "#b5de2b"
             ],
             [
              1,
              "#fde725"
             ]
            ],
            "type": "histogram2d"
           }
          ],
          "histogram2dcontour": [
           {
            "colorbar": {
             "outlinewidth": 1,
             "tickcolor": "rgb(36,36,36)",
             "ticks": "outside"
            },
            "colorscale": [
             [
              0,
              "#440154"
             ],
             [
              0.1111111111111111,
              "#482878"
             ],
             [
              0.2222222222222222,
              "#3e4989"
             ],
             [
              0.3333333333333333,
              "#31688e"
             ],
             [
              0.4444444444444444,
              "#26828e"
             ],
             [
              0.5555555555555556,
              "#1f9e89"
             ],
             [
              0.6666666666666666,
              "#35b779"
             ],
             [
              0.7777777777777778,
              "#6ece58"
             ],
             [
              0.8888888888888888,
              "#b5de2b"
             ],
             [
              1,
              "#fde725"
             ]
            ],
            "type": "histogram2dcontour"
           }
          ],
          "mesh3d": [
           {
            "colorbar": {
             "outlinewidth": 1,
             "tickcolor": "rgb(36,36,36)",
             "ticks": "outside"
            },
            "type": "mesh3d"
           }
          ],
          "parcoords": [
           {
            "line": {
             "colorbar": {
              "outlinewidth": 1,
              "tickcolor": "rgb(36,36,36)",
              "ticks": "outside"
             }
            },
            "type": "parcoords"
           }
          ],
          "pie": [
           {
            "automargin": true,
            "type": "pie"
           }
          ],
          "scatter": [
           {
            "fillpattern": {
             "fillmode": "overlay",
             "size": 10,
             "solidity": 0.2
            },
            "type": "scatter"
           }
          ],
          "scatter3d": [
           {
            "line": {
             "colorbar": {
              "outlinewidth": 1,
              "tickcolor": "rgb(36,36,36)",
              "ticks": "outside"
             }
            },
            "marker": {
             "colorbar": {
              "outlinewidth": 1,
              "tickcolor": "rgb(36,36,36)",
              "ticks": "outside"
             }
            },
            "type": "scatter3d"
           }
          ],
          "scattercarpet": [
           {
            "marker": {
             "colorbar": {
              "outlinewidth": 1,
              "tickcolor": "rgb(36,36,36)",
              "ticks": "outside"
             }
            },
            "type": "scattercarpet"
           }
          ],
          "scattergeo": [
           {
            "marker": {
             "colorbar": {
              "outlinewidth": 1,
              "tickcolor": "rgb(36,36,36)",
              "ticks": "outside"
             }
            },
            "type": "scattergeo"
           }
          ],
          "scattergl": [
           {
            "marker": {
             "colorbar": {
              "outlinewidth": 1,
              "tickcolor": "rgb(36,36,36)",
              "ticks": "outside"
             }
            },
            "type": "scattergl"
           }
          ],
          "scattermap": [
           {
            "marker": {
             "colorbar": {
              "outlinewidth": 1,
              "tickcolor": "rgb(36,36,36)",
              "ticks": "outside"
             }
            },
            "type": "scattermap"
           }
          ],
          "scattermapbox": [
           {
            "marker": {
             "colorbar": {
              "outlinewidth": 1,
              "tickcolor": "rgb(36,36,36)",
              "ticks": "outside"
             }
            },
            "type": "scattermapbox"
           }
          ],
          "scatterpolar": [
           {
            "marker": {
             "colorbar": {
              "outlinewidth": 1,
              "tickcolor": "rgb(36,36,36)",
              "ticks": "outside"
             }
            },
            "type": "scatterpolar"
           }
          ],
          "scatterpolargl": [
           {
            "marker": {
             "colorbar": {
              "outlinewidth": 1,
              "tickcolor": "rgb(36,36,36)",
              "ticks": "outside"
             }
            },
            "type": "scatterpolargl"
           }
          ],
          "scatterternary": [
           {
            "marker": {
             "colorbar": {
              "outlinewidth": 1,
              "tickcolor": "rgb(36,36,36)",
              "ticks": "outside"
             }
            },
            "type": "scatterternary"
           }
          ],
          "surface": [
           {
            "colorbar": {
             "outlinewidth": 1,
             "tickcolor": "rgb(36,36,36)",
             "ticks": "outside"
            },
            "colorscale": [
             [
              0,
              "#440154"
             ],
             [
              0.1111111111111111,
              "#482878"
             ],
             [
              0.2222222222222222,
              "#3e4989"
             ],
             [
              0.3333333333333333,
              "#31688e"
             ],
             [
              0.4444444444444444,
              "#26828e"
             ],
             [
              0.5555555555555556,
              "#1f9e89"
             ],
             [
              0.6666666666666666,
              "#35b779"
             ],
             [
              0.7777777777777778,
              "#6ece58"
             ],
             [
              0.8888888888888888,
              "#b5de2b"
             ],
             [
              1,
              "#fde725"
             ]
            ],
            "type": "surface"
           }
          ],
          "table": [
           {
            "cells": {
             "fill": {
              "color": "rgb(237,237,237)"
             },
             "line": {
              "color": "white"
             }
            },
            "header": {
             "fill": {
              "color": "rgb(217,217,217)"
             },
             "line": {
              "color": "white"
             }
            },
            "type": "table"
           }
          ]
         },
         "layout": {
          "annotationdefaults": {
           "arrowhead": 0,
           "arrowwidth": 1
          },
          "autotypenumbers": "strict",
          "coloraxis": {
           "colorbar": {
            "outlinewidth": 1,
            "tickcolor": "rgb(36,36,36)",
            "ticks": "outside"
           }
          },
          "colorscale": {
           "diverging": [
            [
             0,
             "rgb(103,0,31)"
            ],
            [
             0.1,
             "rgb(178,24,43)"
            ],
            [
             0.2,
             "rgb(214,96,77)"
            ],
            [
             0.3,
             "rgb(244,165,130)"
            ],
            [
             0.4,
             "rgb(253,219,199)"
            ],
            [
             0.5,
             "rgb(247,247,247)"
            ],
            [
             0.6,
             "rgb(209,229,240)"
            ],
            [
             0.7,
             "rgb(146,197,222)"
            ],
            [
             0.8,
             "rgb(67,147,195)"
            ],
            [
             0.9,
             "rgb(33,102,172)"
            ],
            [
             1,
             "rgb(5,48,97)"
            ]
           ],
           "sequential": [
            [
             0,
             "#440154"
            ],
            [
             0.1111111111111111,
             "#482878"
            ],
            [
             0.2222222222222222,
             "#3e4989"
            ],
            [
             0.3333333333333333,
             "#31688e"
            ],
            [
             0.4444444444444444,
             "#26828e"
            ],
            [
             0.5555555555555556,
             "#1f9e89"
            ],
            [
             0.6666666666666666,
             "#35b779"
            ],
            [
             0.7777777777777778,
             "#6ece58"
            ],
            [
             0.8888888888888888,
             "#b5de2b"
            ],
            [
             1,
             "#fde725"
            ]
           ],
           "sequentialminus": [
            [
             0,
             "#440154"
            ],
            [
             0.1111111111111111,
             "#482878"
            ],
            [
             0.2222222222222222,
             "#3e4989"
            ],
            [
             0.3333333333333333,
             "#31688e"
            ],
            [
             0.4444444444444444,
             "#26828e"
            ],
            [
             0.5555555555555556,
             "#1f9e89"
            ],
            [
             0.6666666666666666,
             "#35b779"
            ],
            [
             0.7777777777777778,
             "#6ece58"
            ],
            [
             0.8888888888888888,
             "#b5de2b"
            ],
            [
             1,
             "#fde725"
            ]
           ]
          },
          "colorway": [
           "#1F77B4",
           "#FF7F0E",
           "#2CA02C",
           "#D62728",
           "#9467BD",
           "#8C564B",
           "#E377C2",
           "#7F7F7F",
           "#BCBD22",
           "#17BECF"
          ],
          "font": {
           "color": "rgb(36,36,36)"
          },
          "geo": {
           "bgcolor": "white",
           "lakecolor": "white",
           "landcolor": "white",
           "showlakes": true,
           "showland": true,
           "subunitcolor": "white"
          },
          "hoverlabel": {
           "align": "left"
          },
          "hovermode": "closest",
          "mapbox": {
           "style": "light"
          },
          "paper_bgcolor": "white",
          "plot_bgcolor": "white",
          "polar": {
           "angularaxis": {
            "gridcolor": "rgb(232,232,232)",
            "linecolor": "rgb(36,36,36)",
            "showgrid": false,
            "showline": true,
            "ticks": "outside"
           },
           "bgcolor": "white",
           "radialaxis": {
            "gridcolor": "rgb(232,232,232)",
            "linecolor": "rgb(36,36,36)",
            "showgrid": false,
            "showline": true,
            "ticks": "outside"
           }
          },
          "scene": {
           "xaxis": {
            "backgroundcolor": "white",
            "gridcolor": "rgb(232,232,232)",
            "gridwidth": 2,
            "linecolor": "rgb(36,36,36)",
            "showbackground": true,
            "showgrid": false,
            "showline": true,
            "ticks": "outside",
            "zeroline": false,
            "zerolinecolor": "rgb(36,36,36)"
           },
           "yaxis": {
            "backgroundcolor": "white",
            "gridcolor": "rgb(232,232,232)",
            "gridwidth": 2,
            "linecolor": "rgb(36,36,36)",
            "showbackground": true,
            "showgrid": false,
            "showline": true,
            "ticks": "outside",
            "zeroline": false,
            "zerolinecolor": "rgb(36,36,36)"
           },
           "zaxis": {
            "backgroundcolor": "white",
            "gridcolor": "rgb(232,232,232)",
            "gridwidth": 2,
            "linecolor": "rgb(36,36,36)",
            "showbackground": true,
            "showgrid": false,
            "showline": true,
            "ticks": "outside",
            "zeroline": false,
            "zerolinecolor": "rgb(36,36,36)"
           }
          },
          "shapedefaults": {
           "fillcolor": "black",
           "line": {
            "width": 0
           },
           "opacity": 0.3
          },
          "ternary": {
           "aaxis": {
            "gridcolor": "rgb(232,232,232)",
            "linecolor": "rgb(36,36,36)",
            "showgrid": false,
            "showline": true,
            "ticks": "outside"
           },
           "baxis": {
            "gridcolor": "rgb(232,232,232)",
            "linecolor": "rgb(36,36,36)",
            "showgrid": false,
            "showline": true,
            "ticks": "outside"
           },
           "bgcolor": "white",
           "caxis": {
            "gridcolor": "rgb(232,232,232)",
            "linecolor": "rgb(36,36,36)",
            "showgrid": false,
            "showline": true,
            "ticks": "outside"
           }
          },
          "title": {
           "x": 0.05
          },
          "xaxis": {
           "automargin": true,
           "gridcolor": "rgb(232,232,232)",
           "linecolor": "rgb(36,36,36)",
           "showgrid": false,
           "showline": true,
           "ticks": "outside",
           "title": {
            "standoff": 15
           },
           "zeroline": false,
           "zerolinecolor": "rgb(36,36,36)"
          },
          "yaxis": {
           "automargin": true,
           "gridcolor": "rgb(232,232,232)",
           "linecolor": "rgb(36,36,36)",
           "showgrid": false,
           "showline": true,
           "ticks": "outside",
           "title": {
            "standoff": 15
           },
           "zeroline": false,
           "zerolinecolor": "rgb(36,36,36)"
          }
         }
        },
        "title": {
         "font": {
          "color": "Black",
          "size": 22
         },
         "text": "<b>Intertopic Distance Map</b>",
         "x": 0.5,
         "xanchor": "center",
         "y": 0.95,
         "yanchor": "top"
        },
        "width": 650,
        "xaxis": {
         "anchor": "y",
         "domain": [
          0,
          1
         ],
         "range": [
          -14.820623683929444,
          22.617870140075684
         ],
         "title": {
          "text": ""
         },
         "visible": false
        },
        "yaxis": {
         "anchor": "x",
         "domain": [
          0,
          1
         ],
         "range": [
          -3.8761165022850035,
          19.988854694366456
         ],
         "title": {
          "text": ""
         },
         "visible": false
        }
       }
      }
     },
     "metadata": {},
     "output_type": "display_data"
    }
   ],
   "source": [
    "sample_topic = 0  # change this to see different clusters\n",
    "print(f\"\\n--- Sample Headlines from Topic {sample_topic} ---\")\n",
    "print(gold_df_filtered[gold_df_filtered[\"Topic\"] == sample_topic][\"News\"].head(5))\n",
    "\n",
    "# Step 6: Visualize\n",
    "topic_model.visualize_topics().show()"
   ]
  },
  {
   "cell_type": "code",
   "execution_count": 10,
   "metadata": {},
   "outputs": [
    {
     "data": {
      "application/vnd.plotly.v1+json": {
       "config": {
        "plotlyServerURL": "https://plot.ly"
       },
       "data": [
        {
         "marker": {
          "color": "#D55E00"
         },
         "orientation": "h",
         "type": "bar",
         "x": [
          0.038491641733613545,
          0.051636410763326514,
          0.05253219144275673,
          0.056217656964681444,
          0.05642288749089046
         ],
         "xaxis": "x",
         "y": [
          "buy  ",
          "cues  ",
          "global cues  ",
          "demand  ",
          "global  "
         ],
         "yaxis": "y"
        },
        {
         "marker": {
          "color": "#0072B2"
         },
         "orientation": "h",
         "type": "bar",
         "x": [
          0.04362901201511154,
          0.05304921869297737,
          0.05547589529323492,
          0.066561949262454,
          0.08768780333997639
         ],
         "xaxis": "x2",
         "y": [
          "week high  ",
          "hits  ",
          "week  ",
          "month  ",
          "low  "
         ],
         "yaxis": "y2"
        },
        {
         "marker": {
          "color": "#CC79A7"
         },
         "orientation": "h",
         "type": "bar",
         "x": [
          0.03811118457161119,
          0.0412327374618604,
          0.041866901795444694,
          0.07069308508622651,
          0.15136312025403828
         ],
         "xaxis": "x3",
         "y": [
          "demand  ",
          "investo  ",
          "support  ",
          "ease  ",
          "china  "
         ],
         "yaxis": "y3"
        },
        {
         "marker": {
          "color": "#E69F00"
         },
         "orientation": "h",
         "type": "bar",
         "x": [
          0.04246233688480286,
          0.07302205777663855,
          0.08148097822721215,
          0.09183152793122513,
          0.16147568785262878
         ],
         "xaxis": "x4",
         "y": [
          "rates  ",
          "hike  ",
          "rate  ",
          "minutes  ",
          "fed  "
         ],
         "yaxis": "y4"
        },
        {
         "marker": {
          "color": "#56B4E9"
         },
         "orientation": "h",
         "type": "bar",
         "x": [
          0.12087060755793917,
          0.1208790560599961,
          0.12261808467769972,
          0.12622468085355854,
          0.16296006844440905
         ],
         "xaxis": "x5",
         "y": [
          "end  ",
          "week  ",
          "session gold  ",
          "session  ",
          "week gold  "
         ],
         "yaxis": "y5"
        },
        {
         "marker": {
          "color": "#009E73"
         },
         "orientation": "h",
         "type": "bar",
         "x": [
          0.06255107242089675,
          0.07160894859442253,
          0.08678282947476929,
          0.12301607295495205,
          0.14478386129960086
         ],
         "xaxis": "x6",
         "y": [
          "finish  ",
          "level  ",
          "record  ",
          "high gold  ",
          "highest  "
         ],
         "yaxis": "y6"
        },
        {
         "marker": {
          "color": "#F0E442"
         },
         "orientation": "h",
         "type": "bar",
         "x": [
          0.06059135518621771,
          0.06693347027344551,
          0.10137425500181083,
          0.10374077315544648,
          0.12292469986566602
         ],
         "xaxis": "x7",
         "y": [
          "seen  ",
          "q  ",
          "market  ",
          "rates  ",
          "demand  "
         ],
         "yaxis": "y7"
        },
        {
         "marker": {
          "color": "#D55E00"
         },
         "orientation": "h",
         "type": "bar",
         "x": [
          0.06511604676613443,
          0.07186110034314372,
          0.07657470141949928,
          0.08133346215407368,
          0.14559365468546753
         ],
         "xaxis": "x8",
         "y": [
          "stocks  ",
          "weaker  ",
          "remain  ",
          "steady  ",
          "dollar gold  "
         ],
         "yaxis": "y8"
        },
        {
         "marker": {
          "color": "#0072B2"
         },
         "orientation": "h",
         "type": "bar",
         "x": [
          0.06333112876806882,
          0.06887147651222862,
          0.1087258031469313,
          0.1795689363207875,
          0.2206280918589726
         ],
         "xaxis": "x9",
         "y": [
          "sharply  ",
          "price gold  ",
          "likely  ",
          "cut  ",
          "hike  "
         ],
         "yaxis": "y9"
        },
        {
         "marker": {
          "color": "#CC79A7"
         },
         "orientation": "h",
         "type": "bar",
         "x": [
          0.13767736268692973,
          0.13924183818708555,
          0.15052102015124835,
          0.2437891362772438,
          0.3329799529569726
         ],
         "xaxis": "x10",
         "y": [
          "sees  ",
          "price  ",
          "cut  ",
          "vs  ",
          "q  "
         ],
         "yaxis": "y10"
        }
       ],
       "layout": {
        "annotations": [
         {
          "font": {
           "size": 16
          },
          "showarrow": false,
          "text": "Topic 0",
          "x": 0.0875,
          "xanchor": "center",
          "xref": "paper",
          "y": 1,
          "yanchor": "bottom",
          "yref": "paper"
         },
         {
          "font": {
           "size": 16
          },
          "showarrow": false,
          "text": "Topic 1",
          "x": 0.36250000000000004,
          "xanchor": "center",
          "xref": "paper",
          "y": 1,
          "yanchor": "bottom",
          "yref": "paper"
         },
         {
          "font": {
           "size": 16
          },
          "showarrow": false,
          "text": "Topic 2",
          "x": 0.6375000000000001,
          "xanchor": "center",
          "xref": "paper",
          "y": 1,
          "yanchor": "bottom",
          "yref": "paper"
         },
         {
          "font": {
           "size": 16
          },
          "showarrow": false,
          "text": "Topic 3",
          "x": 0.9125,
          "xanchor": "center",
          "xref": "paper",
          "y": 1,
          "yanchor": "bottom",
          "yref": "paper"
         },
         {
          "font": {
           "size": 16
          },
          "showarrow": false,
          "text": "Topic 4",
          "x": 0.0875,
          "xanchor": "center",
          "xref": "paper",
          "y": 0.6222222222222222,
          "yanchor": "bottom",
          "yref": "paper"
         },
         {
          "font": {
           "size": 16
          },
          "showarrow": false,
          "text": "Topic 5",
          "x": 0.36250000000000004,
          "xanchor": "center",
          "xref": "paper",
          "y": 0.6222222222222222,
          "yanchor": "bottom",
          "yref": "paper"
         },
         {
          "font": {
           "size": 16
          },
          "showarrow": false,
          "text": "Topic 6",
          "x": 0.6375000000000001,
          "xanchor": "center",
          "xref": "paper",
          "y": 0.6222222222222222,
          "yanchor": "bottom",
          "yref": "paper"
         },
         {
          "font": {
           "size": 16
          },
          "showarrow": false,
          "text": "Topic 7",
          "x": 0.9125,
          "xanchor": "center",
          "xref": "paper",
          "y": 0.6222222222222222,
          "yanchor": "bottom",
          "yref": "paper"
         },
         {
          "font": {
           "size": 16
          },
          "showarrow": false,
          "text": "Topic 8",
          "x": 0.0875,
          "xanchor": "center",
          "xref": "paper",
          "y": 0.24444444444444446,
          "yanchor": "bottom",
          "yref": "paper"
         },
         {
          "font": {
           "size": 16
          },
          "showarrow": false,
          "text": "Topic 9",
          "x": 0.36250000000000004,
          "xanchor": "center",
          "xref": "paper",
          "y": 0.24444444444444446,
          "yanchor": "bottom",
          "yref": "paper"
         }
        ],
        "height": 750,
        "hoverlabel": {
         "bgcolor": "white",
         "font": {
          "family": "Rockwell",
          "size": 16
         }
        },
        "showlegend": false,
        "template": {
         "data": {
          "bar": [
           {
            "error_x": {
             "color": "#2a3f5f"
            },
            "error_y": {
             "color": "#2a3f5f"
            },
            "marker": {
             "line": {
              "color": "white",
              "width": 0.5
             },
             "pattern": {
              "fillmode": "overlay",
              "size": 10,
              "solidity": 0.2
             }
            },
            "type": "bar"
           }
          ],
          "barpolar": [
           {
            "marker": {
             "line": {
              "color": "white",
              "width": 0.5
             },
             "pattern": {
              "fillmode": "overlay",
              "size": 10,
              "solidity": 0.2
             }
            },
            "type": "barpolar"
           }
          ],
          "carpet": [
           {
            "aaxis": {
             "endlinecolor": "#2a3f5f",
             "gridcolor": "#C8D4E3",
             "linecolor": "#C8D4E3",
             "minorgridcolor": "#C8D4E3",
             "startlinecolor": "#2a3f5f"
            },
            "baxis": {
             "endlinecolor": "#2a3f5f",
             "gridcolor": "#C8D4E3",
             "linecolor": "#C8D4E3",
             "minorgridcolor": "#C8D4E3",
             "startlinecolor": "#2a3f5f"
            },
            "type": "carpet"
           }
          ],
          "choropleth": [
           {
            "colorbar": {
             "outlinewidth": 0,
             "ticks": ""
            },
            "type": "choropleth"
           }
          ],
          "contour": [
           {
            "colorbar": {
             "outlinewidth": 0,
             "ticks": ""
            },
            "colorscale": [
             [
              0,
              "#0d0887"
             ],
             [
              0.1111111111111111,
              "#46039f"
             ],
             [
              0.2222222222222222,
              "#7201a8"
             ],
             [
              0.3333333333333333,
              "#9c179e"
             ],
             [
              0.4444444444444444,
              "#bd3786"
             ],
             [
              0.5555555555555556,
              "#d8576b"
             ],
             [
              0.6666666666666666,
              "#ed7953"
             ],
             [
              0.7777777777777778,
              "#fb9f3a"
             ],
             [
              0.8888888888888888,
              "#fdca26"
             ],
             [
              1,
              "#f0f921"
             ]
            ],
            "type": "contour"
           }
          ],
          "contourcarpet": [
           {
            "colorbar": {
             "outlinewidth": 0,
             "ticks": ""
            },
            "type": "contourcarpet"
           }
          ],
          "heatmap": [
           {
            "colorbar": {
             "outlinewidth": 0,
             "ticks": ""
            },
            "colorscale": [
             [
              0,
              "#0d0887"
             ],
             [
              0.1111111111111111,
              "#46039f"
             ],
             [
              0.2222222222222222,
              "#7201a8"
             ],
             [
              0.3333333333333333,
              "#9c179e"
             ],
             [
              0.4444444444444444,
              "#bd3786"
             ],
             [
              0.5555555555555556,
              "#d8576b"
             ],
             [
              0.6666666666666666,
              "#ed7953"
             ],
             [
              0.7777777777777778,
              "#fb9f3a"
             ],
             [
              0.8888888888888888,
              "#fdca26"
             ],
             [
              1,
              "#f0f921"
             ]
            ],
            "type": "heatmap"
           }
          ],
          "histogram": [
           {
            "marker": {
             "pattern": {
              "fillmode": "overlay",
              "size": 10,
              "solidity": 0.2
             }
            },
            "type": "histogram"
           }
          ],
          "histogram2d": [
           {
            "colorbar": {
             "outlinewidth": 0,
             "ticks": ""
            },
            "colorscale": [
             [
              0,
              "#0d0887"
             ],
             [
              0.1111111111111111,
              "#46039f"
             ],
             [
              0.2222222222222222,
              "#7201a8"
             ],
             [
              0.3333333333333333,
              "#9c179e"
             ],
             [
              0.4444444444444444,
              "#bd3786"
             ],
             [
              0.5555555555555556,
              "#d8576b"
             ],
             [
              0.6666666666666666,
              "#ed7953"
             ],
             [
              0.7777777777777778,
              "#fb9f3a"
             ],
             [
              0.8888888888888888,
              "#fdca26"
             ],
             [
              1,
              "#f0f921"
             ]
            ],
            "type": "histogram2d"
           }
          ],
          "histogram2dcontour": [
           {
            "colorbar": {
             "outlinewidth": 0,
             "ticks": ""
            },
            "colorscale": [
             [
              0,
              "#0d0887"
             ],
             [
              0.1111111111111111,
              "#46039f"
             ],
             [
              0.2222222222222222,
              "#7201a8"
             ],
             [
              0.3333333333333333,
              "#9c179e"
             ],
             [
              0.4444444444444444,
              "#bd3786"
             ],
             [
              0.5555555555555556,
              "#d8576b"
             ],
             [
              0.6666666666666666,
              "#ed7953"
             ],
             [
              0.7777777777777778,
              "#fb9f3a"
             ],
             [
              0.8888888888888888,
              "#fdca26"
             ],
             [
              1,
              "#f0f921"
             ]
            ],
            "type": "histogram2dcontour"
           }
          ],
          "mesh3d": [
           {
            "colorbar": {
             "outlinewidth": 0,
             "ticks": ""
            },
            "type": "mesh3d"
           }
          ],
          "parcoords": [
           {
            "line": {
             "colorbar": {
              "outlinewidth": 0,
              "ticks": ""
             }
            },
            "type": "parcoords"
           }
          ],
          "pie": [
           {
            "automargin": true,
            "type": "pie"
           }
          ],
          "scatter": [
           {
            "fillpattern": {
             "fillmode": "overlay",
             "size": 10,
             "solidity": 0.2
            },
            "type": "scatter"
           }
          ],
          "scatter3d": [
           {
            "line": {
             "colorbar": {
              "outlinewidth": 0,
              "ticks": ""
             }
            },
            "marker": {
             "colorbar": {
              "outlinewidth": 0,
              "ticks": ""
             }
            },
            "type": "scatter3d"
           }
          ],
          "scattercarpet": [
           {
            "marker": {
             "colorbar": {
              "outlinewidth": 0,
              "ticks": ""
             }
            },
            "type": "scattercarpet"
           }
          ],
          "scattergeo": [
           {
            "marker": {
             "colorbar": {
              "outlinewidth": 0,
              "ticks": ""
             }
            },
            "type": "scattergeo"
           }
          ],
          "scattergl": [
           {
            "marker": {
             "colorbar": {
              "outlinewidth": 0,
              "ticks": ""
             }
            },
            "type": "scattergl"
           }
          ],
          "scattermap": [
           {
            "marker": {
             "colorbar": {
              "outlinewidth": 0,
              "ticks": ""
             }
            },
            "type": "scattermap"
           }
          ],
          "scattermapbox": [
           {
            "marker": {
             "colorbar": {
              "outlinewidth": 0,
              "ticks": ""
             }
            },
            "type": "scattermapbox"
           }
          ],
          "scatterpolar": [
           {
            "marker": {
             "colorbar": {
              "outlinewidth": 0,
              "ticks": ""
             }
            },
            "type": "scatterpolar"
           }
          ],
          "scatterpolargl": [
           {
            "marker": {
             "colorbar": {
              "outlinewidth": 0,
              "ticks": ""
             }
            },
            "type": "scatterpolargl"
           }
          ],
          "scatterternary": [
           {
            "marker": {
             "colorbar": {
              "outlinewidth": 0,
              "ticks": ""
             }
            },
            "type": "scatterternary"
           }
          ],
          "surface": [
           {
            "colorbar": {
             "outlinewidth": 0,
             "ticks": ""
            },
            "colorscale": [
             [
              0,
              "#0d0887"
             ],
             [
              0.1111111111111111,
              "#46039f"
             ],
             [
              0.2222222222222222,
              "#7201a8"
             ],
             [
              0.3333333333333333,
              "#9c179e"
             ],
             [
              0.4444444444444444,
              "#bd3786"
             ],
             [
              0.5555555555555556,
              "#d8576b"
             ],
             [
              0.6666666666666666,
              "#ed7953"
             ],
             [
              0.7777777777777778,
              "#fb9f3a"
             ],
             [
              0.8888888888888888,
              "#fdca26"
             ],
             [
              1,
              "#f0f921"
             ]
            ],
            "type": "surface"
           }
          ],
          "table": [
           {
            "cells": {
             "fill": {
              "color": "#EBF0F8"
             },
             "line": {
              "color": "white"
             }
            },
            "header": {
             "fill": {
              "color": "#C8D4E3"
             },
             "line": {
              "color": "white"
             }
            },
            "type": "table"
           }
          ]
         },
         "layout": {
          "annotationdefaults": {
           "arrowcolor": "#2a3f5f",
           "arrowhead": 0,
           "arrowwidth": 1
          },
          "autotypenumbers": "strict",
          "coloraxis": {
           "colorbar": {
            "outlinewidth": 0,
            "ticks": ""
           }
          },
          "colorscale": {
           "diverging": [
            [
             0,
             "#8e0152"
            ],
            [
             0.1,
             "#c51b7d"
            ],
            [
             0.2,
             "#de77ae"
            ],
            [
             0.3,
             "#f1b6da"
            ],
            [
             0.4,
             "#fde0ef"
            ],
            [
             0.5,
             "#f7f7f7"
            ],
            [
             0.6,
             "#e6f5d0"
            ],
            [
             0.7,
             "#b8e186"
            ],
            [
             0.8,
             "#7fbc41"
            ],
            [
             0.9,
             "#4d9221"
            ],
            [
             1,
             "#276419"
            ]
           ],
           "sequential": [
            [
             0,
             "#0d0887"
            ],
            [
             0.1111111111111111,
             "#46039f"
            ],
            [
             0.2222222222222222,
             "#7201a8"
            ],
            [
             0.3333333333333333,
             "#9c179e"
            ],
            [
             0.4444444444444444,
             "#bd3786"
            ],
            [
             0.5555555555555556,
             "#d8576b"
            ],
            [
             0.6666666666666666,
             "#ed7953"
            ],
            [
             0.7777777777777778,
             "#fb9f3a"
            ],
            [
             0.8888888888888888,
             "#fdca26"
            ],
            [
             1,
             "#f0f921"
            ]
           ],
           "sequentialminus": [
            [
             0,
             "#0d0887"
            ],
            [
             0.1111111111111111,
             "#46039f"
            ],
            [
             0.2222222222222222,
             "#7201a8"
            ],
            [
             0.3333333333333333,
             "#9c179e"
            ],
            [
             0.4444444444444444,
             "#bd3786"
            ],
            [
             0.5555555555555556,
             "#d8576b"
            ],
            [
             0.6666666666666666,
             "#ed7953"
            ],
            [
             0.7777777777777778,
             "#fb9f3a"
            ],
            [
             0.8888888888888888,
             "#fdca26"
            ],
            [
             1,
             "#f0f921"
            ]
           ]
          },
          "colorway": [
           "#636efa",
           "#EF553B",
           "#00cc96",
           "#ab63fa",
           "#FFA15A",
           "#19d3f3",
           "#FF6692",
           "#B6E880",
           "#FF97FF",
           "#FECB52"
          ],
          "font": {
           "color": "#2a3f5f"
          },
          "geo": {
           "bgcolor": "white",
           "lakecolor": "white",
           "landcolor": "white",
           "showlakes": true,
           "showland": true,
           "subunitcolor": "#C8D4E3"
          },
          "hoverlabel": {
           "align": "left"
          },
          "hovermode": "closest",
          "mapbox": {
           "style": "light"
          },
          "paper_bgcolor": "white",
          "plot_bgcolor": "white",
          "polar": {
           "angularaxis": {
            "gridcolor": "#EBF0F8",
            "linecolor": "#EBF0F8",
            "ticks": ""
           },
           "bgcolor": "white",
           "radialaxis": {
            "gridcolor": "#EBF0F8",
            "linecolor": "#EBF0F8",
            "ticks": ""
           }
          },
          "scene": {
           "xaxis": {
            "backgroundcolor": "white",
            "gridcolor": "#DFE8F3",
            "gridwidth": 2,
            "linecolor": "#EBF0F8",
            "showbackground": true,
            "ticks": "",
            "zerolinecolor": "#EBF0F8"
           },
           "yaxis": {
            "backgroundcolor": "white",
            "gridcolor": "#DFE8F3",
            "gridwidth": 2,
            "linecolor": "#EBF0F8",
            "showbackground": true,
            "ticks": "",
            "zerolinecolor": "#EBF0F8"
           },
           "zaxis": {
            "backgroundcolor": "white",
            "gridcolor": "#DFE8F3",
            "gridwidth": 2,
            "linecolor": "#EBF0F8",
            "showbackground": true,
            "ticks": "",
            "zerolinecolor": "#EBF0F8"
           }
          },
          "shapedefaults": {
           "line": {
            "color": "#2a3f5f"
           }
          },
          "ternary": {
           "aaxis": {
            "gridcolor": "#DFE8F3",
            "linecolor": "#A2B1C6",
            "ticks": ""
           },
           "baxis": {
            "gridcolor": "#DFE8F3",
            "linecolor": "#A2B1C6",
            "ticks": ""
           },
           "bgcolor": "white",
           "caxis": {
            "gridcolor": "#DFE8F3",
            "linecolor": "#A2B1C6",
            "ticks": ""
           }
          },
          "title": {
           "x": 0.05
          },
          "xaxis": {
           "automargin": true,
           "gridcolor": "#EBF0F8",
           "linecolor": "#EBF0F8",
           "ticks": "",
           "title": {
            "standoff": 15
           },
           "zerolinecolor": "#EBF0F8",
           "zerolinewidth": 2
          },
          "yaxis": {
           "automargin": true,
           "gridcolor": "#EBF0F8",
           "linecolor": "#EBF0F8",
           "ticks": "",
           "title": {
            "standoff": 15
           },
           "zerolinecolor": "#EBF0F8",
           "zerolinewidth": 2
          }
         }
        },
        "title": {
         "font": {
          "color": "Black",
          "size": 22
         },
         "text": "Topic Word Scores",
         "x": 0.5,
         "xanchor": "center",
         "yanchor": "top"
        },
        "width": 1000,
        "xaxis": {
         "anchor": "y",
         "domain": [
          0,
          0.175
         ],
         "showgrid": true
        },
        "xaxis10": {
         "anchor": "y10",
         "domain": [
          0.275,
          0.45
         ],
         "showgrid": true
        },
        "xaxis11": {
         "anchor": "y11",
         "domain": [
          0.55,
          0.7250000000000001
         ],
         "showgrid": true
        },
        "xaxis12": {
         "anchor": "y12",
         "domain": [
          0.825,
          1
         ],
         "showgrid": true
        },
        "xaxis2": {
         "anchor": "y2",
         "domain": [
          0.275,
          0.45
         ],
         "showgrid": true
        },
        "xaxis3": {
         "anchor": "y3",
         "domain": [
          0.55,
          0.7250000000000001
         ],
         "showgrid": true
        },
        "xaxis4": {
         "anchor": "y4",
         "domain": [
          0.825,
          1
         ],
         "showgrid": true
        },
        "xaxis5": {
         "anchor": "y5",
         "domain": [
          0,
          0.175
         ],
         "showgrid": true
        },
        "xaxis6": {
         "anchor": "y6",
         "domain": [
          0.275,
          0.45
         ],
         "showgrid": true
        },
        "xaxis7": {
         "anchor": "y7",
         "domain": [
          0.55,
          0.7250000000000001
         ],
         "showgrid": true
        },
        "xaxis8": {
         "anchor": "y8",
         "domain": [
          0.825,
          1
         ],
         "showgrid": true
        },
        "xaxis9": {
         "anchor": "y9",
         "domain": [
          0,
          0.175
         ],
         "showgrid": true
        },
        "yaxis": {
         "anchor": "x",
         "domain": [
          0.7555555555555555,
          1
         ],
         "showgrid": true
        },
        "yaxis10": {
         "anchor": "x10",
         "domain": [
          0,
          0.24444444444444446
         ],
         "showgrid": true
        },
        "yaxis11": {
         "anchor": "x11",
         "domain": [
          0,
          0.24444444444444446
         ],
         "showgrid": true
        },
        "yaxis12": {
         "anchor": "x12",
         "domain": [
          0,
          0.24444444444444446
         ],
         "showgrid": true
        },
        "yaxis2": {
         "anchor": "x2",
         "domain": [
          0.7555555555555555,
          1
         ],
         "showgrid": true
        },
        "yaxis3": {
         "anchor": "x3",
         "domain": [
          0.7555555555555555,
          1
         ],
         "showgrid": true
        },
        "yaxis4": {
         "anchor": "x4",
         "domain": [
          0.7555555555555555,
          1
         ],
         "showgrid": true
        },
        "yaxis5": {
         "anchor": "x5",
         "domain": [
          0.37777777777777777,
          0.6222222222222222
         ],
         "showgrid": true
        },
        "yaxis6": {
         "anchor": "x6",
         "domain": [
          0.37777777777777777,
          0.6222222222222222
         ],
         "showgrid": true
        },
        "yaxis7": {
         "anchor": "x7",
         "domain": [
          0.37777777777777777,
          0.6222222222222222
         ],
         "showgrid": true
        },
        "yaxis8": {
         "anchor": "x8",
         "domain": [
          0.37777777777777777,
          0.6222222222222222
         ],
         "showgrid": true
        },
        "yaxis9": {
         "anchor": "x9",
         "domain": [
          0,
          0.24444444444444446
         ],
         "showgrid": true
        }
       }
      }
     },
     "metadata": {},
     "output_type": "display_data"
    }
   ],
   "source": [
    "topic_model.visualize_barchart(top_n_topics=10).show()"
   ]
  },
  {
   "cell_type": "code",
   "execution_count": 11,
   "metadata": {},
   "outputs": [
    {
     "data": {
      "application/vnd.plotly.v1+json": {
       "config": {
        "plotlyServerURL": "https://plot.ly"
       },
       "data": [
        {
         "hoverinfo": "text",
         "marker": {
          "color": "rgb(61,153,112)"
         },
         "mode": "lines",
         "type": "scatter",
         "x": {
          "bdata": "AAAAAAAAAABUP53+g4HZP1Q/nf6Dgdk/AAAAAAAAAAA=",
          "dtype": "f8"
         },
         "xaxis": "x",
         "y": {
          "bdata": "AAAAAAAAFMAAAAAAAAAUwAAAAAAAAC7AAAAAAAAALsA=",
          "dtype": "f8"
         },
         "yaxis": "y"
        },
        {
         "hoverinfo": "text",
         "marker": {
          "color": "rgb(61,153,112)"
         },
         "mode": "lines",
         "type": "scatter",
         "x": {
          "bdata": "AAAAAAAAAADUtWWTqrLiP9S1ZZOqsuI/AAAAAAAAAAA=",
          "dtype": "f8"
         },
         "xaxis": "x",
         "y": {
          "bdata": "AAAAAAAAOcAAAAAAAAA5wAAAAAAAgEHAAAAAAACAQcA=",
          "dtype": "f8"
         },
         "yaxis": "y"
        },
        {
         "hoverinfo": "text",
         "marker": {
          "color": "rgb(61,153,112)"
         },
         "mode": "lines",
         "type": "scatter",
         "x": {
          "bdata": "VD+d/oOB2T9gZnFjjCvsP2BmcWOMK+w/1LVlk6qy4j8=",
          "dtype": "f8"
         },
         "xaxis": "x",
         "y": {
          "bdata": "AAAAAAAAJMAAAAAAAAAkwAAAAAAAAD7AAAAAAAAAPsA=",
          "dtype": "f8"
         },
         "yaxis": "y"
        },
        {
         "hoverinfo": "text",
         "marker": {
          "color": "rgb(255,65,54)"
         },
         "mode": "lines",
         "type": "scatter",
         "x": {
          "bdata": "AAAAAAAAAAD8nBvtUKrfP/ycG+1Qqt8/AAAAAAAAAAA=",
          "dtype": "f8"
         },
         "xaxis": "x",
         "y": {
          "bdata": "AAAAAACAS8AAAAAAAIBLwAAAAAAAQFDAAAAAAABAUMA=",
          "dtype": "f8"
         },
         "yaxis": "y"
        },
        {
         "hoverinfo": "text",
         "marker": {
          "color": "rgb(255,65,54)"
         },
         "mode": "lines",
         "type": "scatter",
         "x": {
          "bdata": "AAAAAAAAAACi/4Oo+7XmP6L/g6j7teY//Jwb7VCq3z8=",
          "dtype": "f8"
         },
         "xaxis": "x",
         "y": {
          "bdata": "AAAAAACARsAAAAAAAIBGwAAAAAAAAE7AAAAAAAAATsA=",
          "dtype": "f8"
         },
         "yaxis": "y"
        },
        {
         "hoverinfo": "text",
         "marker": {
          "color": "rgb(255,65,54)"
         },
         "mode": "lines",
         "type": "scatter",
         "x": {
          "bdata": "AAAAAAAAAAAkpvP1opvVPySm8/Wim9U/AAAAAAAAAAA=",
          "dtype": "f8"
         },
         "xaxis": "x",
         "y": {
          "bdata": "AAAAAADAUsAAAAAAAMBSwAAAAAAAQFXAAAAAAABAVcA=",
          "dtype": "f8"
         },
         "yaxis": "y"
        },
        {
         "hoverinfo": "text",
         "marker": {
          "color": "rgb(255,65,54)"
         },
         "mode": "lines",
         "type": "scatter",
         "x": {
          "bdata": "ov+DqPu15j8S8c8P0LTvPxLxzw/QtO8/JKbz9aKb1T8=",
          "dtype": "f8"
         },
         "xaxis": "x",
         "y": {
          "bdata": "AAAAAABASsAAAAAAAEBKwAAAAAAAAFTAAAAAAAAAVMA=",
          "dtype": "f8"
         },
         "yaxis": "y"
        },
        {
         "hoverinfo": "text",
         "marker": {
          "color": "rgb(35,205,205)"
         },
         "mode": "lines",
         "type": "scatter",
         "x": {
          "bdata": "AAAAAAAAAAB8Rnncf0nhP3xGedx/SeE/AAAAAAAAAAA=",
          "dtype": "f8"
         },
         "xaxis": "x",
         "y": {
          "bdata": "AAAAAADAV8AAAAAAAMBXwAAAAAAAQFrAAAAAAABAWsA=",
          "dtype": "f8"
         },
         "yaxis": "y"
        },
        {
         "hoverinfo": "text",
         "marker": {
          "color": "rgb(35,205,205)"
         },
         "mode": "lines",
         "type": "scatter",
         "x": {
          "bdata": "fEZ53H9J4T9zOLaJa9vtP3M4tolr2+0/AAAAAAAAAAA=",
          "dtype": "f8"
         },
         "xaxis": "x",
         "y": {
          "bdata": "AAAAAAAAWcAAAAAAAABZwAAAAAAAwFzAAAAAAADAXMA=",
          "dtype": "f8"
         },
         "yaxis": "y"
        },
        {
         "hoverinfo": "text",
         "marker": {
          "color": "rgb(0,116,217)"
         },
         "mode": "lines",
         "type": "scatter",
         "x": {
          "bdata": "AAAAAAAAAAAAAAAAAADwPwAAAAAAAPA/AAAAAAAAAAA=",
          "dtype": "f8"
         },
         "xaxis": "x",
         "y": {
          "bdata": "AAAAAABAX8AAAAAAAEBfwAAAAAAA4GDAAAAAAADgYMA=",
          "dtype": "f8"
         },
         "yaxis": "y"
        },
        {
         "hoverinfo": "text",
         "marker": {
          "color": "rgb(133,20,75)"
         },
         "mode": "lines",
         "type": "scatter",
         "x": {
          "bdata": "AAAAAAAAAADFavbyk3joP8Vq9vKTeOg/AAAAAAAAAAA=",
          "dtype": "f8"
         },
         "xaxis": "x",
         "y": {
          "bdata": "AAAAAAAgYsAAAAAAACBiwAAAAAAAYGPAAAAAAABgY8A=",
          "dtype": "f8"
         },
         "yaxis": "y"
        },
        {
         "hoverinfo": "text",
         "marker": {
          "color": "rgb(0,116,217)"
         },
         "mode": "lines",
         "type": "scatter",
         "x": {
          "bdata": "AAAAAAAA8D8JKzRLIpXxPwkrNEsilfE/xWr28pN46D8=",
          "dtype": "f8"
         },
         "xaxis": "x",
         "y": {
          "bdata": "AAAAAABAYMAAAAAAAEBgwAAAAAAAwGLAAAAAAADAYsA=",
          "dtype": "f8"
         },
         "yaxis": "y"
        },
        {
         "hoverinfo": "text",
         "marker": {
          "color": "rgb(255,220,0)"
         },
         "mode": "lines",
         "type": "scatter",
         "x": {
          "bdata": "AAAAAAAAAAAEKXFJub3mPwQpcUm5veY/AAAAAAAAAAA=",
          "dtype": "f8"
         },
         "xaxis": "x",
         "y": {
          "bdata": "AAAAAACgZMAAAAAAAKBkwAAAAAAA4GXAAAAAAADgZcA=",
          "dtype": "f8"
         },
         "yaxis": "y"
        },
        {
         "hoverinfo": "text",
         "marker": {
          "color": "rgb(0,116,217)"
         },
         "mode": "lines",
         "type": "scatter",
         "x": {
          "bdata": "CSs0SyKV8T8VHlW8QtHyPxUeVbxC0fI/BClxSbm95j8=",
          "dtype": "f8"
         },
         "xaxis": "x",
         "y": {
          "bdata": "AAAAAACAYcAAAAAAAIBhwAAAAAAAQGXAAAAAAABAZcA=",
          "dtype": "f8"
         },
         "yaxis": "y"
        },
        {
         "hoverinfo": "text",
         "marker": {
          "color": "rgb(0,116,217)"
         },
         "mode": "lines",
         "type": "scatter",
         "x": {
          "bdata": "czi2iWvb7T/ANdGSReXzP8A10ZJF5fM/FR5VvELR8j8=",
          "dtype": "f8"
         },
         "xaxis": "x",
         "y": {
          "bdata": "AAAAAADgWsAAAAAAAOBawAAAAAAAYGPAAAAAAABgY8A=",
          "dtype": "f8"
         },
         "yaxis": "y"
        },
        {
         "hoverinfo": "text",
         "marker": {
          "color": "rgb(40,35,35)"
         },
         "mode": "lines",
         "type": "scatter",
         "x": {
          "bdata": "AAAAAAAAAADytyMBsvbWP/K3IwGy9tY/AAAAAAAAAAA=",
          "dtype": "f8"
         },
         "xaxis": "x",
         "y": {
          "bdata": "AAAAAAAgZ8AAAAAAACBnwAAAAAAAYGjAAAAAAABgaMA=",
          "dtype": "f8"
         },
         "yaxis": "y"
        },
        {
         "hoverinfo": "text",
         "marker": {
          "color": "rgb(40,35,35)"
         },
         "mode": "lines",
         "type": "scatter",
         "x": {
          "bdata": "AAAAAAAAAAAB2y7lexnmPwHbLuV7GeY/AAAAAAAAAAA=",
          "dtype": "f8"
         },
         "xaxis": "x",
         "y": {
          "bdata": "AAAAAACgacAAAAAAAKBpwAAAAAAA4GrAAAAAAADgasA=",
          "dtype": "f8"
         },
         "yaxis": "y"
        },
        {
         "hoverinfo": "text",
         "marker": {
          "color": "rgb(40,35,35)"
         },
         "mode": "lines",
         "type": "scatter",
         "x": {
          "bdata": "8rcjAbL21j+eEe/cm7PuP54R79ybs+4/Adsu5XsZ5j8=",
          "dtype": "f8"
         },
         "xaxis": "x",
         "y": {
          "bdata": "AAAAAADAZ8AAAAAAAMBnwAAAAAAAQGrAAAAAAABAasA=",
          "dtype": "f8"
         },
         "yaxis": "y"
        },
        {
         "hoverinfo": "text",
         "marker": {
          "color": "rgb(61,153,112)"
         },
         "mode": "lines",
         "type": "scatter",
         "x": {
          "bdata": "AAAAAAAAAAAI71Fd28i/PwjvUV3byL8/AAAAAAAAAAA=",
          "dtype": "f8"
         },
         "xaxis": "x",
         "y": {
          "bdata": "AAAAAAAgbMAAAAAAACBswAAAAAAAYG3AAAAAAABgbcA=",
          "dtype": "f8"
         },
         "yaxis": "y"
        },
        {
         "hoverinfo": "text",
         "marker": {
          "color": "rgb(0,116,217)"
         },
         "mode": "lines",
         "type": "scatter",
         "x": {
          "bdata": "nhHv3Juz7j8xxtDgdPz0PzHG0OB0/PQ/CO9RXdvIvz8=",
          "dtype": "f8"
         },
         "xaxis": "x",
         "y": {
          "bdata": "AAAAAAAAacAAAAAAAABpwAAAAAAAwGzAAAAAAADAbMA=",
          "dtype": "f8"
         },
         "yaxis": "y"
        },
        {
         "hoverinfo": "text",
         "marker": {
          "color": "rgb(0,116,217)"
         },
         "mode": "lines",
         "type": "scatter",
         "x": {
          "bdata": "wDXRkkXl8z80JrilILr1PzQmuKUguvU/McbQ4HT89D8=",
          "dtype": "f8"
         },
         "xaxis": "x",
         "y": {
          "bdata": "AAAAAABoYMAAAAAAAGhgwAAAAAAA4GrAAAAAAADgasA=",
          "dtype": "f8"
         },
         "yaxis": "y"
        },
        {
         "hoverinfo": "text",
         "marker": {
          "color": "rgb(0,116,217)"
         },
         "mode": "lines",
         "type": "scatter",
         "x": {
          "bdata": "EvHPD9C07z+klAJuStn2P6SUAm5K2fY/NCa4pSC69T8=",
          "dtype": "f8"
         },
         "xaxis": "x",
         "y": {
          "bdata": "AAAAAACQUMAAAAAAAJBQwAAAAAAApGXAAAAAAACkZcA=",
          "dtype": "f8"
         },
         "yaxis": "y"
        },
        {
         "hoverinfo": "text",
         "marker": {
          "color": "rgb(0,116,217)"
         },
         "mode": "lines",
         "type": "scatter",
         "x": {
          "bdata": "YGZxY4wr7D+26UfC56P4P7bpR8Lno/g/pJQCbkrZ9j8=",
          "dtype": "f8"
         },
         "xaxis": "x",
         "y": {
          "bdata": "AAAAAAAANMAAAAAAAAA0wAAAAAAA7F3AAAAAAADsXcA=",
          "dtype": "f8"
         },
         "yaxis": "y"
        },
        {
         "hoverinfo": "text",
         "marker": {
          "color": "rgb(255,65,54)"
         },
         "mode": "lines",
         "type": "scatter",
         "x": {
          "bdata": "AAAAAAAAAACSAe9ZzOzVP5IB71nM7NU/AAAAAAAAAAA=",
          "dtype": "f8"
         },
         "xaxis": "x",
         "y": {
          "bdata": "AAAAAACgbsAAAAAAAKBuwAAAAAAA4G/AAAAAAADgb8A=",
          "dtype": "f8"
         },
         "yaxis": "y"
        },
        {
         "hoverinfo": "text",
         "marker": {
          "color": "rgb(255,65,54)"
         },
         "mode": "lines",
         "type": "scatter",
         "x": {
          "bdata": "kgHvWczs1T/5Lu8DmgHqP/ku7wOaAeo/AAAAAAAAAAA=",
          "dtype": "f8"
         },
         "xaxis": "x",
         "y": {
          "bdata": "AAAAAABAb8AAAAAAAEBvwAAAAAAAkHDAAAAAAACQcMA=",
          "dtype": "f8"
         },
         "yaxis": "y"
        },
        {
         "hoverinfo": "text",
         "marker": {
          "color": "rgb(255,65,54)"
         },
         "mode": "lines",
         "type": "scatter",
         "x": {
          "bdata": "+S7vA5oB6j+EGO16cnjtP4QY7XpyeO0/AAAAAAAAAAA=",
          "dtype": "f8"
         },
         "xaxis": "x",
         "y": {
          "bdata": "AAAAAAAYcMAAAAAAABhwwAAAAAAAMHHAAAAAAAAwccA=",
          "dtype": "f8"
         },
         "yaxis": "y"
        },
        {
         "hoverinfo": "text",
         "marker": {
          "color": "rgb(35,205,205)"
         },
         "mode": "lines",
         "type": "scatter",
         "x": {
          "bdata": "AAAAAAAAAABWkModaU/fP1aQyh1pT98/AAAAAAAAAAA=",
          "dtype": "f8"
         },
         "xaxis": "x",
         "y": {
          "bdata": "AAAAAADQccAAAAAAANBxwAAAAAAAcHLAAAAAAABwcsA=",
          "dtype": "f8"
         },
         "yaxis": "y"
        },
        {
         "hoverinfo": "text",
         "marker": {
          "color": "rgb(35,205,205)"
         },
         "mode": "lines",
         "type": "scatter",
         "x": {
          "bdata": "AAAAAAAAAACMug6hfO7jP4y6DqF87uM/AAAAAAAAAAA=",
          "dtype": "f8"
         },
         "xaxis": "x",
         "y": {
          "bdata": "AAAAAAAQc8AAAAAAABBzwAAAAAAAsHPAAAAAAACwc8A=",
          "dtype": "f8"
         },
         "yaxis": "y"
        },
        {
         "hoverinfo": "text",
         "marker": {
          "color": "rgb(35,205,205)"
         },
         "mode": "lines",
         "type": "scatter",
         "x": {
          "bdata": "VpDKHWlP3z8nbswHdNjqPyduzAd02Oo/jLoOoXzu4z8=",
          "dtype": "f8"
         },
         "xaxis": "x",
         "y": {
          "bdata": "AAAAAAAgcsAAAAAAACBywAAAAAAAYHPAAAAAAABgc8A=",
          "dtype": "f8"
         },
         "yaxis": "y"
        },
        {
         "hoverinfo": "text",
         "marker": {
          "color": "rgb(61,153,112)"
         },
         "mode": "lines",
         "type": "scatter",
         "x": {
          "bdata": "AAAAAAAAAAD4Zh9MoSXbP/hmH0yhJds/AAAAAAAAAAA=",
          "dtype": "f8"
         },
         "xaxis": "x",
         "y": {
          "bdata": "AAAAAABQdMAAAAAAAFB0wAAAAAAA8HTAAAAAAADwdMA=",
          "dtype": "f8"
         },
         "yaxis": "y"
        },
        {
         "hoverinfo": "text",
         "marker": {
          "color": "rgb(61,153,112)"
         },
         "mode": "lines",
         "type": "scatter",
         "x": {
          "bdata": "AAAAAAAAAADYRLIGmQnmP9hEsgaZCeY/AAAAAAAAAAA=",
          "dtype": "f8"
         },
         "xaxis": "x",
         "y": {
          "bdata": "AAAAAACQdcAAAAAAAJB1wAAAAAAAMHbAAAAAAAAwdsA=",
          "dtype": "f8"
         },
         "yaxis": "y"
        },
        {
         "hoverinfo": "text",
         "marker": {
          "color": "rgb(61,153,112)"
         },
         "mode": "lines",
         "type": "scatter",
         "x": {
          "bdata": "2ESyBpkJ5j9JyJsfig/qP0nImx+KD+o/AAAAAAAAAAA=",
          "dtype": "f8"
         },
         "xaxis": "x",
         "y": {
          "bdata": "AAAAAADgdcAAAAAAAOB1wAAAAAAA0HbAAAAAAADQdsA=",
          "dtype": "f8"
         },
         "yaxis": "y"
        },
        {
         "hoverinfo": "text",
         "marker": {
          "color": "rgb(61,153,112)"
         },
         "mode": "lines",
         "type": "scatter",
         "x": {
          "bdata": "+GYfTKEl2z+/ClxTz4TsP78KXFPPhOw/ScibH4oP6j8=",
          "dtype": "f8"
         },
         "xaxis": "x",
         "y": {
          "bdata": "AAAAAACgdMAAAAAAAKB0wAAAAAAAWHbAAAAAAABYdsA=",
          "dtype": "f8"
         },
         "yaxis": "y"
        },
        {
         "hoverinfo": "text",
         "marker": {
          "color": "rgb(0,116,217)"
         },
         "mode": "lines",
         "type": "scatter",
         "x": {
          "bdata": "J27MB3TY6j9DEaKy1STyP0MRorLVJPI/vwpcU8+E7D8=",
          "dtype": "f8"
         },
         "xaxis": "x",
         "y": {
          "bdata": "AAAAAADAcsAAAAAAAMBywAAAAAAAfHXAAAAAAAB8dcA=",
          "dtype": "f8"
         },
         "yaxis": "y"
        },
        {
         "hoverinfo": "text",
         "marker": {
          "color": "rgb(0,116,217)"
         },
         "mode": "lines",
         "type": "scatter",
         "x": {
          "bdata": "hBjtenJ47T9GSi6Wzw72P0ZKLpbPDvY/QxGistUk8j8=",
          "dtype": "f8"
         },
         "xaxis": "x",
         "y": {
          "bdata": "AAAAAACkcMAAAAAAAKRwwAAAAAAAHnTAAAAAAAAedMA=",
          "dtype": "f8"
         },
         "yaxis": "y"
        },
        {
         "hoverinfo": "text",
         "marker": {
          "color": "rgb(255,65,54)"
         },
         "mode": "lines",
         "type": "scatter",
         "x": {
          "bdata": "AAAAAAAAAABSetSSaSPQP1J61JJpI9A/AAAAAAAAAAA=",
          "dtype": "f8"
         },
         "xaxis": "x",
         "y": {
          "bdata": "AAAAAAAQeMAAAAAAABB4wAAAAAAAsHjAAAAAAACweMA=",
          "dtype": "f8"
         },
         "yaxis": "y"
        },
        {
         "hoverinfo": "text",
         "marker": {
          "color": "rgb(255,65,54)"
         },
         "mode": "lines",
         "type": "scatter",
         "x": {
          "bdata": "AAAAAAAAAAC2IMf9wm/XP7Ygx/3Cb9c/UnrUkmkj0D8=",
          "dtype": "f8"
         },
         "xaxis": "x",
         "y": {
          "bdata": "AAAAAABwd8AAAAAAAHB3wAAAAAAAYHjAAAAAAABgeMA=",
          "dtype": "f8"
         },
         "yaxis": "y"
        },
        {
         "hoverinfo": "text",
         "marker": {
          "color": "rgb(255,65,54)"
         },
         "mode": "lines",
         "type": "scatter",
         "x": {
          "bdata": "tiDH/cJv1z8zzb0+xqXcPzPNvT7Gpdw/AAAAAAAAAAA=",
          "dtype": "f8"
         },
         "xaxis": "x",
         "y": {
          "bdata": "AAAAAADod8AAAAAAAOh3wAAAAAAAUHnAAAAAAABQecA=",
          "dtype": "f8"
         },
         "yaxis": "y"
        },
        {
         "hoverinfo": "text",
         "marker": {
          "color": "rgb(0,116,217)"
         },
         "mode": "lines",
         "type": "scatter",
         "x": {
          "bdata": "Rkouls8O9j+Nn9SVqcn6P42f1JWpyfo/M829Psal3D8=",
          "dtype": "f8"
         },
         "xaxis": "x",
         "y": {
          "bdata": "AAAAAABhcsAAAAAAAGFywAAAAAAAnHjAAAAAAACceMA=",
          "dtype": "f8"
         },
         "yaxis": "y"
        },
        {
         "hoverinfo": "text",
         "marker": {
          "color": "rgb(0,116,217)"
         },
         "mode": "lines",
         "type": "scatter",
         "x": {
          "bdata": "tulHwuej+D/dTSeW7ZT8P91NJ5btlPw/jZ/UlanJ+j8=",
          "dtype": "f8"
         },
         "xaxis": "x",
         "y": {
          "bdata": "AAAAAAB2UcAAAAAAAHZRwAAAAACAfnXAAAAAAIB+dcA=",
          "dtype": "f8"
         },
         "yaxis": "y"
        }
       ],
       "layout": {
        "autosize": false,
        "height": 815,
        "hoverlabel": {
         "bgcolor": "white",
         "font": {
          "family": "Rockwell",
          "size": 16
         }
        },
        "hovermode": "closest",
        "plot_bgcolor": "#ECEFF1",
        "showlegend": false,
        "template": {
         "data": {
          "bar": [
           {
            "error_x": {
             "color": "#2a3f5f"
            },
            "error_y": {
             "color": "#2a3f5f"
            },
            "marker": {
             "line": {
              "color": "white",
              "width": 0.5
             },
             "pattern": {
              "fillmode": "overlay",
              "size": 10,
              "solidity": 0.2
             }
            },
            "type": "bar"
           }
          ],
          "barpolar": [
           {
            "marker": {
             "line": {
              "color": "white",
              "width": 0.5
             },
             "pattern": {
              "fillmode": "overlay",
              "size": 10,
              "solidity": 0.2
             }
            },
            "type": "barpolar"
           }
          ],
          "carpet": [
           {
            "aaxis": {
             "endlinecolor": "#2a3f5f",
             "gridcolor": "#C8D4E3",
             "linecolor": "#C8D4E3",
             "minorgridcolor": "#C8D4E3",
             "startlinecolor": "#2a3f5f"
            },
            "baxis": {
             "endlinecolor": "#2a3f5f",
             "gridcolor": "#C8D4E3",
             "linecolor": "#C8D4E3",
             "minorgridcolor": "#C8D4E3",
             "startlinecolor": "#2a3f5f"
            },
            "type": "carpet"
           }
          ],
          "choropleth": [
           {
            "colorbar": {
             "outlinewidth": 0,
             "ticks": ""
            },
            "type": "choropleth"
           }
          ],
          "contour": [
           {
            "colorbar": {
             "outlinewidth": 0,
             "ticks": ""
            },
            "colorscale": [
             [
              0,
              "#0d0887"
             ],
             [
              0.1111111111111111,
              "#46039f"
             ],
             [
              0.2222222222222222,
              "#7201a8"
             ],
             [
              0.3333333333333333,
              "#9c179e"
             ],
             [
              0.4444444444444444,
              "#bd3786"
             ],
             [
              0.5555555555555556,
              "#d8576b"
             ],
             [
              0.6666666666666666,
              "#ed7953"
             ],
             [
              0.7777777777777778,
              "#fb9f3a"
             ],
             [
              0.8888888888888888,
              "#fdca26"
             ],
             [
              1,
              "#f0f921"
             ]
            ],
            "type": "contour"
           }
          ],
          "contourcarpet": [
           {
            "colorbar": {
             "outlinewidth": 0,
             "ticks": ""
            },
            "type": "contourcarpet"
           }
          ],
          "heatmap": [
           {
            "colorbar": {
             "outlinewidth": 0,
             "ticks": ""
            },
            "colorscale": [
             [
              0,
              "#0d0887"
             ],
             [
              0.1111111111111111,
              "#46039f"
             ],
             [
              0.2222222222222222,
              "#7201a8"
             ],
             [
              0.3333333333333333,
              "#9c179e"
             ],
             [
              0.4444444444444444,
              "#bd3786"
             ],
             [
              0.5555555555555556,
              "#d8576b"
             ],
             [
              0.6666666666666666,
              "#ed7953"
             ],
             [
              0.7777777777777778,
              "#fb9f3a"
             ],
             [
              0.8888888888888888,
              "#fdca26"
             ],
             [
              1,
              "#f0f921"
             ]
            ],
            "type": "heatmap"
           }
          ],
          "histogram": [
           {
            "marker": {
             "pattern": {
              "fillmode": "overlay",
              "size": 10,
              "solidity": 0.2
             }
            },
            "type": "histogram"
           }
          ],
          "histogram2d": [
           {
            "colorbar": {
             "outlinewidth": 0,
             "ticks": ""
            },
            "colorscale": [
             [
              0,
              "#0d0887"
             ],
             [
              0.1111111111111111,
              "#46039f"
             ],
             [
              0.2222222222222222,
              "#7201a8"
             ],
             [
              0.3333333333333333,
              "#9c179e"
             ],
             [
              0.4444444444444444,
              "#bd3786"
             ],
             [
              0.5555555555555556,
              "#d8576b"
             ],
             [
              0.6666666666666666,
              "#ed7953"
             ],
             [
              0.7777777777777778,
              "#fb9f3a"
             ],
             [
              0.8888888888888888,
              "#fdca26"
             ],
             [
              1,
              "#f0f921"
             ]
            ],
            "type": "histogram2d"
           }
          ],
          "histogram2dcontour": [
           {
            "colorbar": {
             "outlinewidth": 0,
             "ticks": ""
            },
            "colorscale": [
             [
              0,
              "#0d0887"
             ],
             [
              0.1111111111111111,
              "#46039f"
             ],
             [
              0.2222222222222222,
              "#7201a8"
             ],
             [
              0.3333333333333333,
              "#9c179e"
             ],
             [
              0.4444444444444444,
              "#bd3786"
             ],
             [
              0.5555555555555556,
              "#d8576b"
             ],
             [
              0.6666666666666666,
              "#ed7953"
             ],
             [
              0.7777777777777778,
              "#fb9f3a"
             ],
             [
              0.8888888888888888,
              "#fdca26"
             ],
             [
              1,
              "#f0f921"
             ]
            ],
            "type": "histogram2dcontour"
           }
          ],
          "mesh3d": [
           {
            "colorbar": {
             "outlinewidth": 0,
             "ticks": ""
            },
            "type": "mesh3d"
           }
          ],
          "parcoords": [
           {
            "line": {
             "colorbar": {
              "outlinewidth": 0,
              "ticks": ""
             }
            },
            "type": "parcoords"
           }
          ],
          "pie": [
           {
            "automargin": true,
            "type": "pie"
           }
          ],
          "scatter": [
           {
            "fillpattern": {
             "fillmode": "overlay",
             "size": 10,
             "solidity": 0.2
            },
            "type": "scatter"
           }
          ],
          "scatter3d": [
           {
            "line": {
             "colorbar": {
              "outlinewidth": 0,
              "ticks": ""
             }
            },
            "marker": {
             "colorbar": {
              "outlinewidth": 0,
              "ticks": ""
             }
            },
            "type": "scatter3d"
           }
          ],
          "scattercarpet": [
           {
            "marker": {
             "colorbar": {
              "outlinewidth": 0,
              "ticks": ""
             }
            },
            "type": "scattercarpet"
           }
          ],
          "scattergeo": [
           {
            "marker": {
             "colorbar": {
              "outlinewidth": 0,
              "ticks": ""
             }
            },
            "type": "scattergeo"
           }
          ],
          "scattergl": [
           {
            "marker": {
             "colorbar": {
              "outlinewidth": 0,
              "ticks": ""
             }
            },
            "type": "scattergl"
           }
          ],
          "scattermap": [
           {
            "marker": {
             "colorbar": {
              "outlinewidth": 0,
              "ticks": ""
             }
            },
            "type": "scattermap"
           }
          ],
          "scattermapbox": [
           {
            "marker": {
             "colorbar": {
              "outlinewidth": 0,
              "ticks": ""
             }
            },
            "type": "scattermapbox"
           }
          ],
          "scatterpolar": [
           {
            "marker": {
             "colorbar": {
              "outlinewidth": 0,
              "ticks": ""
             }
            },
            "type": "scatterpolar"
           }
          ],
          "scatterpolargl": [
           {
            "marker": {
             "colorbar": {
              "outlinewidth": 0,
              "ticks": ""
             }
            },
            "type": "scatterpolargl"
           }
          ],
          "scatterternary": [
           {
            "marker": {
             "colorbar": {
              "outlinewidth": 0,
              "ticks": ""
             }
            },
            "type": "scatterternary"
           }
          ],
          "surface": [
           {
            "colorbar": {
             "outlinewidth": 0,
             "ticks": ""
            },
            "colorscale": [
             [
              0,
              "#0d0887"
             ],
             [
              0.1111111111111111,
              "#46039f"
             ],
             [
              0.2222222222222222,
              "#7201a8"
             ],
             [
              0.3333333333333333,
              "#9c179e"
             ],
             [
              0.4444444444444444,
              "#bd3786"
             ],
             [
              0.5555555555555556,
              "#d8576b"
             ],
             [
              0.6666666666666666,
              "#ed7953"
             ],
             [
              0.7777777777777778,
              "#fb9f3a"
             ],
             [
              0.8888888888888888,
              "#fdca26"
             ],
             [
              1,
              "#f0f921"
             ]
            ],
            "type": "surface"
           }
          ],
          "table": [
           {
            "cells": {
             "fill": {
              "color": "#EBF0F8"
             },
             "line": {
              "color": "white"
             }
            },
            "header": {
             "fill": {
              "color": "#C8D4E3"
             },
             "line": {
              "color": "white"
             }
            },
            "type": "table"
           }
          ]
         },
         "layout": {
          "annotationdefaults": {
           "arrowcolor": "#2a3f5f",
           "arrowhead": 0,
           "arrowwidth": 1
          },
          "autotypenumbers": "strict",
          "coloraxis": {
           "colorbar": {
            "outlinewidth": 0,
            "ticks": ""
           }
          },
          "colorscale": {
           "diverging": [
            [
             0,
             "#8e0152"
            ],
            [
             0.1,
             "#c51b7d"
            ],
            [
             0.2,
             "#de77ae"
            ],
            [
             0.3,
             "#f1b6da"
            ],
            [
             0.4,
             "#fde0ef"
            ],
            [
             0.5,
             "#f7f7f7"
            ],
            [
             0.6,
             "#e6f5d0"
            ],
            [
             0.7,
             "#b8e186"
            ],
            [
             0.8,
             "#7fbc41"
            ],
            [
             0.9,
             "#4d9221"
            ],
            [
             1,
             "#276419"
            ]
           ],
           "sequential": [
            [
             0,
             "#0d0887"
            ],
            [
             0.1111111111111111,
             "#46039f"
            ],
            [
             0.2222222222222222,
             "#7201a8"
            ],
            [
             0.3333333333333333,
             "#9c179e"
            ],
            [
             0.4444444444444444,
             "#bd3786"
            ],
            [
             0.5555555555555556,
             "#d8576b"
            ],
            [
             0.6666666666666666,
             "#ed7953"
            ],
            [
             0.7777777777777778,
             "#fb9f3a"
            ],
            [
             0.8888888888888888,
             "#fdca26"
            ],
            [
             1,
             "#f0f921"
            ]
           ],
           "sequentialminus": [
            [
             0,
             "#0d0887"
            ],
            [
             0.1111111111111111,
             "#46039f"
            ],
            [
             0.2222222222222222,
             "#7201a8"
            ],
            [
             0.3333333333333333,
             "#9c179e"
            ],
            [
             0.4444444444444444,
             "#bd3786"
            ],
            [
             0.5555555555555556,
             "#d8576b"
            ],
            [
             0.6666666666666666,
             "#ed7953"
            ],
            [
             0.7777777777777778,
             "#fb9f3a"
            ],
            [
             0.8888888888888888,
             "#fdca26"
            ],
            [
             1,
             "#f0f921"
            ]
           ]
          },
          "colorway": [
           "#636efa",
           "#EF553B",
           "#00cc96",
           "#ab63fa",
           "#FFA15A",
           "#19d3f3",
           "#FF6692",
           "#B6E880",
           "#FF97FF",
           "#FECB52"
          ],
          "font": {
           "color": "#2a3f5f"
          },
          "geo": {
           "bgcolor": "white",
           "lakecolor": "white",
           "landcolor": "white",
           "showlakes": true,
           "showland": true,
           "subunitcolor": "#C8D4E3"
          },
          "hoverlabel": {
           "align": "left"
          },
          "hovermode": "closest",
          "mapbox": {
           "style": "light"
          },
          "paper_bgcolor": "white",
          "plot_bgcolor": "white",
          "polar": {
           "angularaxis": {
            "gridcolor": "#EBF0F8",
            "linecolor": "#EBF0F8",
            "ticks": ""
           },
           "bgcolor": "white",
           "radialaxis": {
            "gridcolor": "#EBF0F8",
            "linecolor": "#EBF0F8",
            "ticks": ""
           }
          },
          "scene": {
           "xaxis": {
            "backgroundcolor": "white",
            "gridcolor": "#DFE8F3",
            "gridwidth": 2,
            "linecolor": "#EBF0F8",
            "showbackground": true,
            "ticks": "",
            "zerolinecolor": "#EBF0F8"
           },
           "yaxis": {
            "backgroundcolor": "white",
            "gridcolor": "#DFE8F3",
            "gridwidth": 2,
            "linecolor": "#EBF0F8",
            "showbackground": true,
            "ticks": "",
            "zerolinecolor": "#EBF0F8"
           },
           "zaxis": {
            "backgroundcolor": "white",
            "gridcolor": "#DFE8F3",
            "gridwidth": 2,
            "linecolor": "#EBF0F8",
            "showbackground": true,
            "ticks": "",
            "zerolinecolor": "#EBF0F8"
           }
          },
          "shapedefaults": {
           "line": {
            "color": "#2a3f5f"
           }
          },
          "ternary": {
           "aaxis": {
            "gridcolor": "#DFE8F3",
            "linecolor": "#A2B1C6",
            "ticks": ""
           },
           "baxis": {
            "gridcolor": "#DFE8F3",
            "linecolor": "#A2B1C6",
            "ticks": ""
           },
           "bgcolor": "white",
           "caxis": {
            "gridcolor": "#DFE8F3",
            "linecolor": "#A2B1C6",
            "ticks": ""
           }
          },
          "title": {
           "x": 0.05
          },
          "xaxis": {
           "automargin": true,
           "gridcolor": "#EBF0F8",
           "linecolor": "#EBF0F8",
           "ticks": "",
           "title": {
            "standoff": 15
           },
           "zerolinecolor": "#EBF0F8",
           "zerolinewidth": 2
          },
          "yaxis": {
           "automargin": true,
           "gridcolor": "#EBF0F8",
           "linecolor": "#EBF0F8",
           "ticks": "",
           "title": {
            "standoff": 15
           },
           "zerolinecolor": "#EBF0F8",
           "zerolinewidth": 2
          }
         }
        },
        "title": {
         "font": {
          "color": "Black",
          "size": 22
         },
         "text": "<b>Hierarchical Clustering</b>",
         "x": 0.5,
         "xanchor": "center",
         "yanchor": "top"
        },
        "width": 1000,
        "xaxis": {
         "mirror": "allticks",
         "rangemode": "tozero",
         "showgrid": false,
         "showline": true,
         "showticklabels": true,
         "ticks": "outside",
         "type": "linear",
         "zeroline": false
        },
        "yaxis": {
         "mirror": "allticks",
         "range": [
          -410,
          0
         ],
         "rangemode": "tozero",
         "showgrid": false,
         "showline": true,
         "showticklabels": true,
         "tickmode": "array",
         "ticks": "outside",
         "ticktext": [
          "31_edge_trading gold_hold",
          "33_trading gold_trade gold_...",
          "36_gold trades_trade gold_e...",
          "29_cents_settlement_gold tr...",
          "1_low_month_week",
          "5_highest_high gold_record",
          "18_highest_logs_weeks",
          "11_week gold_day_ends",
          "4_week gold_session_session...",
          "25_ends gold_settles_gold e...",
          "19_gold settles_settles_set...",
          "21_comex_settlement_gold se...",
          "32_gold slightly_slightly_vs",
          "35_time__",
          "16_spot_gold climbs_climbs",
          "12_settle gold_settle_ounce...",
          "10_support_buy_key",
          "28_gm_ease_",
          "37_index_closes_end",
          "39_index_closes_gold closes",
          "22_gold closes_closes_close...",
          "15_close_close gold_end",
          "13_ounce gold_ounce_gold ends",
          "24_ounce gold_ounce_gold tu...",
          "20_jobs_report_jobs report",
          "14_data gold_gold holds_data",
          "26_losses_gold extends_exte...",
          "23_oil_oil gold_gold oil",
          "27_rally_dollar gold_sharply",
          "7_dollar gold_steady_remain",
          "2_china_ease_support",
          "3_fed_minutes_rate",
          "0_global_demand_global cues",
          "6_demand_rates_market",
          "8_hike_cut_likely",
          "9_q_vs_cut",
          "30_shares_prices gold_metals",
          "34_decline_global cues gold...",
          "38_cues gold_global cues go...",
          "17_weak_futures trade_globa...",
          "40_pulls_global cues_cues"
         ],
         "tickvals": [
          -5,
          -15,
          -25,
          -35,
          -45,
          -55,
          -65,
          -75,
          -85,
          -95,
          -105,
          -115,
          -125,
          -135,
          -145,
          -155,
          -165,
          -175,
          -185,
          -195,
          -205,
          -215,
          -225,
          -235,
          -245,
          -255,
          -265,
          -275,
          -285,
          -295,
          -305,
          -315,
          -325,
          -335,
          -345,
          -355,
          -365,
          -375,
          -385,
          -395,
          -405
         ],
         "type": "linear",
         "zeroline": false
        }
       }
      }
     },
     "metadata": {},
     "output_type": "display_data"
    }
   ],
   "source": [
    "topic_model.visualize_hierarchy().show()"
   ]
  },
  {
   "cell_type": "code",
   "execution_count": 12,
   "metadata": {},
   "outputs": [
    {
     "data": {
      "application/vnd.plotly.v1+json": {
       "config": {
        "plotlyServerURL": "https://plot.ly"
       },
       "data": [
        {
         "coloraxis": "coloraxis",
         "hovertemplate": "x: %{x}<br>y: %{y}<br>Similarity Score: %{z}<extra></extra>",
         "name": "0",
         "type": "heatmap",
         "x": [
          "0_global_demand_global cues",
          "1_low_month_week",
          "2_china_ease_support",
          "3_fed_minutes_rate",
          "4_week gold_session_session...",
          "5_highest_high gold_record",
          "6_demand_rates_market",
          "7_dollar gold_steady_remain",
          "8_hike_cut_likely",
          "9_q_vs_cut",
          "10_support_buy_key",
          "11_week gold_day_ends",
          "12_settle gold_settle_ounce...",
          "13_ounce gold_ounce_gold ends",
          "14_data gold_gold holds_data",
          "15_close_close gold_end",
          "16_spot_gold climbs_climbs",
          "17_weak_futures trade_globa...",
          "18_highest_logs_weeks",
          "19_gold settles_settles_set...",
          "20_jobs_report_jobs report",
          "21_comex_settlement_gold se...",
          "22_gold closes_closes_close...",
          "23_oil_oil gold_gold oil",
          "24_ounce gold_ounce_gold tu...",
          "25_ends gold_settles_gold e...",
          "26_losses_gold extends_exte...",
          "27_rally_dollar gold_sharply",
          "28_gm_ease_",
          "29_cents_settlement_gold tr...",
          "30_shares_prices gold_metals",
          "31_edge_trading gold_hold",
          "32_gold slightly_slightly_vs",
          "33_trading gold_trade gold_...",
          "34_decline_global cues gold...",
          "35_time__",
          "36_gold trades_trade gold_e...",
          "37_index_closes_end",
          "38_cues gold_global cues go...",
          "39_index_closes_gold closes",
          "40_pulls_global cues_cues"
         ],
         "xaxis": "x",
         "y": [
          "0_global_demand_global cues",
          "1_low_month_week",
          "2_china_ease_support",
          "3_fed_minutes_rate",
          "4_week gold_session_session...",
          "5_highest_high gold_record",
          "6_demand_rates_market",
          "7_dollar gold_steady_remain",
          "8_hike_cut_likely",
          "9_q_vs_cut",
          "10_support_buy_key",
          "11_week gold_day_ends",
          "12_settle gold_settle_ounce...",
          "13_ounce gold_ounce_gold ends",
          "14_data gold_gold holds_data",
          "15_close_close gold_end",
          "16_spot_gold climbs_climbs",
          "17_weak_futures trade_globa...",
          "18_highest_logs_weeks",
          "19_gold settles_settles_set...",
          "20_jobs_report_jobs report",
          "21_comex_settlement_gold se...",
          "22_gold closes_closes_close...",
          "23_oil_oil gold_gold oil",
          "24_ounce gold_ounce_gold tu...",
          "25_ends gold_settles_gold e...",
          "26_losses_gold extends_exte...",
          "27_rally_dollar gold_sharply",
          "28_gm_ease_",
          "29_cents_settlement_gold tr...",
          "30_shares_prices gold_metals",
          "31_edge_trading gold_hold",
          "32_gold slightly_slightly_vs",
          "33_trading gold_trade gold_...",
          "34_decline_global cues gold...",
          "35_time__",
          "36_gold trades_trade gold_e...",
          "37_index_closes_end",
          "38_cues gold_global cues go...",
          "39_index_closes_gold closes",
          "40_pulls_global cues_cues"
         ],
         "yaxis": "y",
         "z": {
          "bdata": "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",
          "dtype": "f4",
          "shape": "41, 41"
         }
        }
       ],
       "layout": {
        "coloraxis": {
         "colorbar": {
          "title": {
           "text": "Similarity Score"
          }
         },
         "colorscale": [
          [
           0,
           "rgb(247,252,240)"
          ],
          [
           0.125,
           "rgb(224,243,219)"
          ],
          [
           0.25,
           "rgb(204,235,197)"
          ],
          [
           0.375,
           "rgb(168,221,181)"
          ],
          [
           0.5,
           "rgb(123,204,196)"
          ],
          [
           0.625,
           "rgb(78,179,211)"
          ],
          [
           0.75,
           "rgb(43,140,190)"
          ],
          [
           0.875,
           "rgb(8,104,172)"
          ],
          [
           1,
           "rgb(8,64,129)"
          ]
         ]
        },
        "height": 800,
        "hoverlabel": {
         "bgcolor": "white",
         "font": {
          "family": "Rockwell",
          "size": 16
         }
        },
        "legend": {
         "title": {
          "text": "Trend"
         }
        },
        "margin": {
         "t": 60
        },
        "showlegend": true,
        "template": {
         "data": {
          "bar": [
           {
            "error_x": {
             "color": "#2a3f5f"
            },
            "error_y": {
             "color": "#2a3f5f"
            },
            "marker": {
             "line": {
              "color": "#E5ECF6",
              "width": 0.5
             },
             "pattern": {
              "fillmode": "overlay",
              "size": 10,
              "solidity": 0.2
             }
            },
            "type": "bar"
           }
          ],
          "barpolar": [
           {
            "marker": {
             "line": {
              "color": "#E5ECF6",
              "width": 0.5
             },
             "pattern": {
              "fillmode": "overlay",
              "size": 10,
              "solidity": 0.2
             }
            },
            "type": "barpolar"
           }
          ],
          "carpet": [
           {
            "aaxis": {
             "endlinecolor": "#2a3f5f",
             "gridcolor": "white",
             "linecolor": "white",
             "minorgridcolor": "white",
             "startlinecolor": "#2a3f5f"
            },
            "baxis": {
             "endlinecolor": "#2a3f5f",
             "gridcolor": "white",
             "linecolor": "white",
             "minorgridcolor": "white",
             "startlinecolor": "#2a3f5f"
            },
            "type": "carpet"
           }
          ],
          "choropleth": [
           {
            "colorbar": {
             "outlinewidth": 0,
             "ticks": ""
            },
            "type": "choropleth"
           }
          ],
          "contour": [
           {
            "colorbar": {
             "outlinewidth": 0,
             "ticks": ""
            },
            "colorscale": [
             [
              0,
              "#0d0887"
             ],
             [
              0.1111111111111111,
              "#46039f"
             ],
             [
              0.2222222222222222,
              "#7201a8"
             ],
             [
              0.3333333333333333,
              "#9c179e"
             ],
             [
              0.4444444444444444,
              "#bd3786"
             ],
             [
              0.5555555555555556,
              "#d8576b"
             ],
             [
              0.6666666666666666,
              "#ed7953"
             ],
             [
              0.7777777777777778,
              "#fb9f3a"
             ],
             [
              0.8888888888888888,
              "#fdca26"
             ],
             [
              1,
              "#f0f921"
             ]
            ],
            "type": "contour"
           }
          ],
          "contourcarpet": [
           {
            "colorbar": {
             "outlinewidth": 0,
             "ticks": ""
            },
            "type": "contourcarpet"
           }
          ],
          "heatmap": [
           {
            "colorbar": {
             "outlinewidth": 0,
             "ticks": ""
            },
            "colorscale": [
             [
              0,
              "#0d0887"
             ],
             [
              0.1111111111111111,
              "#46039f"
             ],
             [
              0.2222222222222222,
              "#7201a8"
             ],
             [
              0.3333333333333333,
              "#9c179e"
             ],
             [
              0.4444444444444444,
              "#bd3786"
             ],
             [
              0.5555555555555556,
              "#d8576b"
             ],
             [
              0.6666666666666666,
              "#ed7953"
             ],
             [
              0.7777777777777778,
              "#fb9f3a"
             ],
             [
              0.8888888888888888,
              "#fdca26"
             ],
             [
              1,
              "#f0f921"
             ]
            ],
            "type": "heatmap"
           }
          ],
          "histogram": [
           {
            "marker": {
             "pattern": {
              "fillmode": "overlay",
              "size": 10,
              "solidity": 0.2
             }
            },
            "type": "histogram"
           }
          ],
          "histogram2d": [
           {
            "colorbar": {
             "outlinewidth": 0,
             "ticks": ""
            },
            "colorscale": [
             [
              0,
              "#0d0887"
             ],
             [
              0.1111111111111111,
              "#46039f"
             ],
             [
              0.2222222222222222,
              "#7201a8"
             ],
             [
              0.3333333333333333,
              "#9c179e"
             ],
             [
              0.4444444444444444,
              "#bd3786"
             ],
             [
              0.5555555555555556,
              "#d8576b"
             ],
             [
              0.6666666666666666,
              "#ed7953"
             ],
             [
              0.7777777777777778,
              "#fb9f3a"
             ],
             [
              0.8888888888888888,
              "#fdca26"
             ],
             [
              1,
              "#f0f921"
             ]
            ],
            "type": "histogram2d"
           }
          ],
          "histogram2dcontour": [
           {
            "colorbar": {
             "outlinewidth": 0,
             "ticks": ""
            },
            "colorscale": [
             [
              0,
              "#0d0887"
             ],
             [
              0.1111111111111111,
              "#46039f"
             ],
             [
              0.2222222222222222,
              "#7201a8"
             ],
             [
              0.3333333333333333,
              "#9c179e"
             ],
             [
              0.4444444444444444,
              "#bd3786"
             ],
             [
              0.5555555555555556,
              "#d8576b"
             ],
             [
              0.6666666666666666,
              "#ed7953"
             ],
             [
              0.7777777777777778,
              "#fb9f3a"
             ],
             [
              0.8888888888888888,
              "#fdca26"
             ],
             [
              1,
              "#f0f921"
             ]
            ],
            "type": "histogram2dcontour"
           }
          ],
          "mesh3d": [
           {
            "colorbar": {
             "outlinewidth": 0,
             "ticks": ""
            },
            "type": "mesh3d"
           }
          ],
          "parcoords": [
           {
            "line": {
             "colorbar": {
              "outlinewidth": 0,
              "ticks": ""
             }
            },
            "type": "parcoords"
           }
          ],
          "pie": [
           {
            "automargin": true,
            "type": "pie"
           }
          ],
          "scatter": [
           {
            "fillpattern": {
             "fillmode": "overlay",
             "size": 10,
             "solidity": 0.2
            },
            "type": "scatter"
           }
          ],
          "scatter3d": [
           {
            "line": {
             "colorbar": {
              "outlinewidth": 0,
              "ticks": ""
             }
            },
            "marker": {
             "colorbar": {
              "outlinewidth": 0,
              "ticks": ""
             }
            },
            "type": "scatter3d"
           }
          ],
          "scattercarpet": [
           {
            "marker": {
             "colorbar": {
              "outlinewidth": 0,
              "ticks": ""
             }
            },
            "type": "scattercarpet"
           }
          ],
          "scattergeo": [
           {
            "marker": {
             "colorbar": {
              "outlinewidth": 0,
              "ticks": ""
             }
            },
            "type": "scattergeo"
           }
          ],
          "scattergl": [
           {
            "marker": {
             "colorbar": {
              "outlinewidth": 0,
              "ticks": ""
             }
            },
            "type": "scattergl"
           }
          ],
          "scattermap": [
           {
            "marker": {
             "colorbar": {
              "outlinewidth": 0,
              "ticks": ""
             }
            },
            "type": "scattermap"
           }
          ],
          "scattermapbox": [
           {
            "marker": {
             "colorbar": {
              "outlinewidth": 0,
              "ticks": ""
             }
            },
            "type": "scattermapbox"
           }
          ],
          "scatterpolar": [
           {
            "marker": {
             "colorbar": {
              "outlinewidth": 0,
              "ticks": ""
             }
            },
            "type": "scatterpolar"
           }
          ],
          "scatterpolargl": [
           {
            "marker": {
             "colorbar": {
              "outlinewidth": 0,
              "ticks": ""
             }
            },
            "type": "scatterpolargl"
           }
          ],
          "scatterternary": [
           {
            "marker": {
             "colorbar": {
              "outlinewidth": 0,
              "ticks": ""
             }
            },
            "type": "scatterternary"
           }
          ],
          "surface": [
           {
            "colorbar": {
             "outlinewidth": 0,
             "ticks": ""
            },
            "colorscale": [
             [
              0,
              "#0d0887"
             ],
             [
              0.1111111111111111,
              "#46039f"
             ],
             [
              0.2222222222222222,
              "#7201a8"
             ],
             [
              0.3333333333333333,
              "#9c179e"
             ],
             [
              0.4444444444444444,
              "#bd3786"
             ],
             [
              0.5555555555555556,
              "#d8576b"
             ],
             [
              0.6666666666666666,
              "#ed7953"
             ],
             [
              0.7777777777777778,
              "#fb9f3a"
             ],
             [
              0.8888888888888888,
              "#fdca26"
             ],
             [
              1,
              "#f0f921"
             ]
            ],
            "type": "surface"
           }
          ],
          "table": [
           {
            "cells": {
             "fill": {
              "color": "#EBF0F8"
             },
             "line": {
              "color": "white"
             }
            },
            "header": {
             "fill": {
              "color": "#C8D4E3"
             },
             "line": {
              "color": "white"
             }
            },
            "type": "table"
           }
          ]
         },
         "layout": {
          "annotationdefaults": {
           "arrowcolor": "#2a3f5f",
           "arrowhead": 0,
           "arrowwidth": 1
          },
          "autotypenumbers": "strict",
          "coloraxis": {
           "colorbar": {
            "outlinewidth": 0,
            "ticks": ""
           }
          },
          "colorscale": {
           "diverging": [
            [
             0,
             "#8e0152"
            ],
            [
             0.1,
             "#c51b7d"
            ],
            [
             0.2,
             "#de77ae"
            ],
            [
             0.3,
             "#f1b6da"
            ],
            [
             0.4,
             "#fde0ef"
            ],
            [
             0.5,
             "#f7f7f7"
            ],
            [
             0.6,
             "#e6f5d0"
            ],
            [
             0.7,
             "#b8e186"
            ],
            [
             0.8,
             "#7fbc41"
            ],
            [
             0.9,
             "#4d9221"
            ],
            [
             1,
             "#276419"
            ]
           ],
           "sequential": [
            [
             0,
             "#0d0887"
            ],
            [
             0.1111111111111111,
             "#46039f"
            ],
            [
             0.2222222222222222,
             "#7201a8"
            ],
            [
             0.3333333333333333,
             "#9c179e"
            ],
            [
             0.4444444444444444,
             "#bd3786"
            ],
            [
             0.5555555555555556,
             "#d8576b"
            ],
            [
             0.6666666666666666,
             "#ed7953"
            ],
            [
             0.7777777777777778,
             "#fb9f3a"
            ],
            [
             0.8888888888888888,
             "#fdca26"
            ],
            [
             1,
             "#f0f921"
            ]
           ],
           "sequentialminus": [
            [
             0,
             "#0d0887"
            ],
            [
             0.1111111111111111,
             "#46039f"
            ],
            [
             0.2222222222222222,
             "#7201a8"
            ],
            [
             0.3333333333333333,
             "#9c179e"
            ],
            [
             0.4444444444444444,
             "#bd3786"
            ],
            [
             0.5555555555555556,
             "#d8576b"
            ],
            [
             0.6666666666666666,
             "#ed7953"
            ],
            [
             0.7777777777777778,
             "#fb9f3a"
            ],
            [
             0.8888888888888888,
             "#fdca26"
            ],
            [
             1,
             "#f0f921"
            ]
           ]
          },
          "colorway": [
           "#636efa",
           "#EF553B",
           "#00cc96",
           "#ab63fa",
           "#FFA15A",
           "#19d3f3",
           "#FF6692",
           "#B6E880",
           "#FF97FF",
           "#FECB52"
          ],
          "font": {
           "color": "#2a3f5f"
          },
          "geo": {
           "bgcolor": "white",
           "lakecolor": "white",
           "landcolor": "#E5ECF6",
           "showlakes": true,
           "showland": true,
           "subunitcolor": "white"
          },
          "hoverlabel": {
           "align": "left"
          },
          "hovermode": "closest",
          "mapbox": {
           "style": "light"
          },
          "paper_bgcolor": "white",
          "plot_bgcolor": "#E5ECF6",
          "polar": {
           "angularaxis": {
            "gridcolor": "white",
            "linecolor": "white",
            "ticks": ""
           },
           "bgcolor": "#E5ECF6",
           "radialaxis": {
            "gridcolor": "white",
            "linecolor": "white",
            "ticks": ""
           }
          },
          "scene": {
           "xaxis": {
            "backgroundcolor": "#E5ECF6",
            "gridcolor": "white",
            "gridwidth": 2,
            "linecolor": "white",
            "showbackground": true,
            "ticks": "",
            "zerolinecolor": "white"
           },
           "yaxis": {
            "backgroundcolor": "#E5ECF6",
            "gridcolor": "white",
            "gridwidth": 2,
            "linecolor": "white",
            "showbackground": true,
            "ticks": "",
            "zerolinecolor": "white"
           },
           "zaxis": {
            "backgroundcolor": "#E5ECF6",
            "gridcolor": "white",
            "gridwidth": 2,
            "linecolor": "white",
            "showbackground": true,
            "ticks": "",
            "zerolinecolor": "white"
           }
          },
          "shapedefaults": {
           "line": {
            "color": "#2a3f5f"
           }
          },
          "ternary": {
           "aaxis": {
            "gridcolor": "white",
            "linecolor": "white",
            "ticks": ""
           },
           "baxis": {
            "gridcolor": "white",
            "linecolor": "white",
            "ticks": ""
           },
           "bgcolor": "#E5ECF6",
           "caxis": {
            "gridcolor": "white",
            "linecolor": "white",
            "ticks": ""
           }
          },
          "title": {
           "x": 0.05
          },
          "xaxis": {
           "automargin": true,
           "gridcolor": "white",
           "linecolor": "white",
           "ticks": "",
           "title": {
            "standoff": 15
           },
           "zerolinecolor": "white",
           "zerolinewidth": 2
          },
          "yaxis": {
           "automargin": true,
           "gridcolor": "white",
           "linecolor": "white",
           "ticks": "",
           "title": {
            "standoff": 15
           },
           "zerolinecolor": "white",
           "zerolinewidth": 2
          }
         }
        },
        "title": {
         "font": {
          "color": "Black",
          "size": 22
         },
         "text": "<b>Similarity Matrix</b>",
         "x": 0.55,
         "xanchor": "center",
         "y": 0.95,
         "yanchor": "top"
        },
        "width": 800,
        "xaxis": {
         "anchor": "y",
         "constrain": "domain",
         "domain": [
          0,
          1
         ],
         "scaleanchor": "y"
        },
        "yaxis": {
         "anchor": "x",
         "autorange": "reversed",
         "constrain": "domain",
         "domain": [
          0,
          1
         ]
        }
       }
      }
     },
     "metadata": {},
     "output_type": "display_data"
    }
   ],
   "source": [
    "topic_model.visualize_heatmap()"
   ]
  },
  {
   "cell_type": "code",
   "execution_count": 13,
   "metadata": {},
   "outputs": [],
   "source": [
    "from sklearn.metrics.pairwise import cosine_similarity\n",
    "import numpy as np\n",
    "import itertools"
   ]
  },
  {
   "cell_type": "code",
   "execution_count": 14,
   "metadata": {},
   "outputs": [],
   "source": [
    "# Step 1: Get topic embeddings and IDs\n",
    "topic_ids = topic_model.get_topic_info().Topic.tolist()\n",
    "# Filter out -1 (outliers)\n",
    "topic_ids = [t for t in topic_ids if t != -1]"
   ]
  },
  {
   "cell_type": "code",
   "execution_count": 15,
   "metadata": {},
   "outputs": [],
   "source": [
    "embeddings = topic_model.topic_embeddings_\n",
    "# Only keep embeddings for the selected topic IDs\n",
    "topic_idx_map = {i: topic_ids.index(i) for i in topic_ids}\n",
    "filtered_embeddings = np.array([embeddings[i] for i in topic_ids])"
   ]
  },
  {
   "cell_type": "code",
   "execution_count": 16,
   "metadata": {},
   "outputs": [],
   "source": [
    "# Step 2: Compute cosine similarity matrix\n",
    "cosine_sim = cosine_similarity(filtered_embeddings)\n",
    "\n",
    "# Step 3: Find topic pairs with high similarity (excluding diagonal)\n",
    "threshold = 0.85\n",
    "highly_similar_pairs = []\n",
    "for i, j in itertools.combinations(range(len(topic_ids)), 2):\n",
    "    if cosine_sim[i, j] >= threshold:\n",
    "        highly_similar_pairs.append((topic_ids[i], topic_ids[j]))"
   ]
  },
  {
   "cell_type": "code",
   "execution_count": 17,
   "metadata": {},
   "outputs": [
    {
     "data": {
      "text/plain": [
       "34"
      ]
     },
     "execution_count": 17,
     "metadata": {},
     "output_type": "execute_result"
    }
   ],
   "source": [
    "len(highly_similar_pairs)"
   ]
  },
  {
   "cell_type": "code",
   "execution_count": 18,
   "metadata": {},
   "outputs": [
    {
     "data": {
      "text/plain": [
       "[(0, 1),\n",
       " (0, 2),\n",
       " (0, 3),\n",
       " (0, 4),\n",
       " (0, 5),\n",
       " (0, 8),\n",
       " (0, 15),\n",
       " (0, 18),\n",
       " (0, 28),\n",
       " (0, 31),\n",
       " (0, 32),\n",
       " (0, 37),\n",
       " (1, 3),\n",
       " (1, 15),\n",
       " (1, 31),\n",
       " (1, 37),\n",
       " (2, 6),\n",
       " (3, 4),\n",
       " (3, 8),\n",
       " (4, 8),\n",
       " (5, 16),\n",
       " (5, 32),\n",
       " (14, 25),\n",
       " (15, 21),\n",
       " (16, 18),\n",
       " (16, 32),\n",
       " (18, 28),\n",
       " (18, 32),\n",
       " (18, 35),\n",
       " (18, 39),\n",
       " (28, 32),\n",
       " (30, 37),\n",
       " (33, 36),\n",
       " (34, 37)]"
      ]
     },
     "execution_count": 18,
     "metadata": {},
     "output_type": "execute_result"
    }
   ],
   "source": [
    "highly_similar_pairs"
   ]
  },
  {
   "cell_type": "code",
   "execution_count": 19,
   "metadata": {},
   "outputs": [
    {
     "data": {
      "text/plain": [
       "41"
      ]
     },
     "execution_count": 19,
     "metadata": {},
     "output_type": "execute_result"
    }
   ],
   "source": [
    "len(topic_ids)"
   ]
  },
  {
   "cell_type": "code",
   "execution_count": 20,
   "metadata": {},
   "outputs": [],
   "source": [
    "unique_topics = gold_df_filtered.Topic.unique()"
   ]
  },
  {
   "cell_type": "code",
   "execution_count": 21,
   "metadata": {},
   "outputs": [
    {
     "data": {
      "text/html": [
       "<div>\n",
       "<style scoped>\n",
       "    .dataframe tbody tr th:only-of-type {\n",
       "        vertical-align: middle;\n",
       "    }\n",
       "\n",
       "    .dataframe tbody tr th {\n",
       "        vertical-align: top;\n",
       "    }\n",
       "\n",
       "    .dataframe thead th {\n",
       "        text-align: right;\n",
       "    }\n",
       "</style>\n",
       "<table border=\"1\" class=\"dataframe\">\n",
       "  <thead>\n",
       "    <tr style=\"text-align: right;\">\n",
       "      <th></th>\n",
       "      <th>Dates</th>\n",
       "      <th>URL</th>\n",
       "      <th>News</th>\n",
       "      <th>Price Direction Up</th>\n",
       "      <th>Price Direction Constant</th>\n",
       "      <th>Price Direction Down</th>\n",
       "      <th>Asset Comparision</th>\n",
       "      <th>Past Information</th>\n",
       "      <th>Future Information</th>\n",
       "      <th>Price Sentiment</th>\n",
       "      <th>Topic</th>\n",
       "    </tr>\n",
       "  </thead>\n",
       "  <tbody>\n",
       "    <tr>\n",
       "      <th>0</th>\n",
       "      <td>28-01-2016</td>\n",
       "      <td>http://www.marketwatch.com/story/april-gold-do...</td>\n",
       "      <td>april gold down 20 cents to settle at $1,116.1...</td>\n",
       "      <td>0</td>\n",
       "      <td>0</td>\n",
       "      <td>1</td>\n",
       "      <td>0</td>\n",
       "      <td>1</td>\n",
       "      <td>0</td>\n",
       "      <td>negative</td>\n",
       "      <td>-1</td>\n",
       "    </tr>\n",
       "    <tr>\n",
       "      <th>1</th>\n",
       "      <td>13-09-2017</td>\n",
       "      <td>http://www.marketwatch.com/story/gold-prices-s...</td>\n",
       "      <td>gold suffers third straight daily decline</td>\n",
       "      <td>0</td>\n",
       "      <td>0</td>\n",
       "      <td>1</td>\n",
       "      <td>0</td>\n",
       "      <td>1</td>\n",
       "      <td>0</td>\n",
       "      <td>negative</td>\n",
       "      <td>18</td>\n",
       "    </tr>\n",
       "    <tr>\n",
       "      <th>2</th>\n",
       "      <td>26-07-2016</td>\n",
       "      <td>http://www.marketwatch.com/story/gold-futures-...</td>\n",
       "      <td>Gold futures edge up after two-session decline</td>\n",
       "      <td>1</td>\n",
       "      <td>0</td>\n",
       "      <td>0</td>\n",
       "      <td>0</td>\n",
       "      <td>1</td>\n",
       "      <td>0</td>\n",
       "      <td>positive</td>\n",
       "      <td>31</td>\n",
       "    </tr>\n",
       "    <tr>\n",
       "      <th>3</th>\n",
       "      <td>28-02-2018</td>\n",
       "      <td>https://www.metalsdaily.com/link/277199/dent-r...</td>\n",
       "      <td>dent research : is gold's day in the sun comin...</td>\n",
       "      <td>0</td>\n",
       "      <td>0</td>\n",
       "      <td>0</td>\n",
       "      <td>0</td>\n",
       "      <td>0</td>\n",
       "      <td>1</td>\n",
       "      <td>none</td>\n",
       "      <td>0</td>\n",
       "    </tr>\n",
       "    <tr>\n",
       "      <th>4</th>\n",
       "      <td>06-09-2017</td>\n",
       "      <td>http://www.marketwatch.com/story/gold-steadies...</td>\n",
       "      <td>Gold snaps three-day rally as Trump, lawmakers...</td>\n",
       "      <td>0</td>\n",
       "      <td>0</td>\n",
       "      <td>1</td>\n",
       "      <td>0</td>\n",
       "      <td>1</td>\n",
       "      <td>0</td>\n",
       "      <td>negative</td>\n",
       "      <td>-1</td>\n",
       "    </tr>\n",
       "    <tr>\n",
       "      <th>...</th>\n",
       "      <td>...</td>\n",
       "      <td>...</td>\n",
       "      <td>...</td>\n",
       "      <td>...</td>\n",
       "      <td>...</td>\n",
       "      <td>...</td>\n",
       "      <td>...</td>\n",
       "      <td>...</td>\n",
       "      <td>...</td>\n",
       "      <td>...</td>\n",
       "      <td>...</td>\n",
       "    </tr>\n",
       "    <tr>\n",
       "      <th>10565</th>\n",
       "      <td>07-01-2013</td>\n",
       "      <td>https://www.moneycontrol.com/news/business/mar...</td>\n",
       "      <td>gold seen falling from 3-week high this week</td>\n",
       "      <td>0</td>\n",
       "      <td>0</td>\n",
       "      <td>1</td>\n",
       "      <td>0</td>\n",
       "      <td>1</td>\n",
       "      <td>0</td>\n",
       "      <td>negative</td>\n",
       "      <td>1</td>\n",
       "    </tr>\n",
       "    <tr>\n",
       "      <th>10566</th>\n",
       "      <td>27-09-2018</td>\n",
       "      <td>https://www.metalsdaily.com/link/284468/domini...</td>\n",
       "      <td>dominic frisby : now looks like a good time to...</td>\n",
       "      <td>1</td>\n",
       "      <td>0</td>\n",
       "      <td>0</td>\n",
       "      <td>0</td>\n",
       "      <td>0</td>\n",
       "      <td>1</td>\n",
       "      <td>positive</td>\n",
       "      <td>0</td>\n",
       "    </tr>\n",
       "    <tr>\n",
       "      <th>10567</th>\n",
       "      <td>03-03-2017</td>\n",
       "      <td>https://www.thehindubusinessline.com/markets/g...</td>\n",
       "      <td>Gold heading for worst week since November on ...</td>\n",
       "      <td>0</td>\n",
       "      <td>0</td>\n",
       "      <td>1</td>\n",
       "      <td>0</td>\n",
       "      <td>1</td>\n",
       "      <td>0</td>\n",
       "      <td>negative</td>\n",
       "      <td>1</td>\n",
       "    </tr>\n",
       "    <tr>\n",
       "      <th>10568</th>\n",
       "      <td>11-06-2008</td>\n",
       "      <td>http://www.marketwatch.com/story/august-gold-u...</td>\n",
       "      <td>august gold up $7.60 at $878.80 an ounce on nymex</td>\n",
       "      <td>1</td>\n",
       "      <td>0</td>\n",
       "      <td>0</td>\n",
       "      <td>0</td>\n",
       "      <td>1</td>\n",
       "      <td>0</td>\n",
       "      <td>positive</td>\n",
       "      <td>-1</td>\n",
       "    </tr>\n",
       "    <tr>\n",
       "      <th>10569</th>\n",
       "      <td>01-10-2007</td>\n",
       "      <td>http://www.marketwatch.com/story/december-gold...</td>\n",
       "      <td>december gold down $1 at $749 an ounce on nymex</td>\n",
       "      <td>0</td>\n",
       "      <td>0</td>\n",
       "      <td>1</td>\n",
       "      <td>0</td>\n",
       "      <td>1</td>\n",
       "      <td>0</td>\n",
       "      <td>negative</td>\n",
       "      <td>-1</td>\n",
       "    </tr>\n",
       "  </tbody>\n",
       "</table>\n",
       "<p>10570 rows × 11 columns</p>\n",
       "</div>"
      ],
      "text/plain": [
       "            Dates                                                URL  \\\n",
       "0      28-01-2016  http://www.marketwatch.com/story/april-gold-do...   \n",
       "1      13-09-2017  http://www.marketwatch.com/story/gold-prices-s...   \n",
       "2      26-07-2016  http://www.marketwatch.com/story/gold-futures-...   \n",
       "3      28-02-2018  https://www.metalsdaily.com/link/277199/dent-r...   \n",
       "4      06-09-2017  http://www.marketwatch.com/story/gold-steadies...   \n",
       "...           ...                                                ...   \n",
       "10565  07-01-2013  https://www.moneycontrol.com/news/business/mar...   \n",
       "10566  27-09-2018  https://www.metalsdaily.com/link/284468/domini...   \n",
       "10567  03-03-2017  https://www.thehindubusinessline.com/markets/g...   \n",
       "10568  11-06-2008  http://www.marketwatch.com/story/august-gold-u...   \n",
       "10569  01-10-2007  http://www.marketwatch.com/story/december-gold...   \n",
       "\n",
       "                                                    News  Price Direction Up  \\\n",
       "0      april gold down 20 cents to settle at $1,116.1...                   0   \n",
       "1              gold suffers third straight daily decline                   0   \n",
       "2         Gold futures edge up after two-session decline                   1   \n",
       "3      dent research : is gold's day in the sun comin...                   0   \n",
       "4      Gold snaps three-day rally as Trump, lawmakers...                   0   \n",
       "...                                                  ...                 ...   \n",
       "10565       gold seen falling from 3-week high this week                   0   \n",
       "10566  dominic frisby : now looks like a good time to...                   1   \n",
       "10567  Gold heading for worst week since November on ...                   0   \n",
       "10568  august gold up $7.60 at $878.80 an ounce on nymex                   1   \n",
       "10569    december gold down $1 at $749 an ounce on nymex                   0   \n",
       "\n",
       "       Price Direction Constant  Price Direction Down  Asset Comparision  \\\n",
       "0                             0                     1                  0   \n",
       "1                             0                     1                  0   \n",
       "2                             0                     0                  0   \n",
       "3                             0                     0                  0   \n",
       "4                             0                     1                  0   \n",
       "...                         ...                   ...                ...   \n",
       "10565                         0                     1                  0   \n",
       "10566                         0                     0                  0   \n",
       "10567                         0                     1                  0   \n",
       "10568                         0                     0                  0   \n",
       "10569                         0                     1                  0   \n",
       "\n",
       "       Past Information  Future Information Price Sentiment  Topic  \n",
       "0                     1                   0        negative     -1  \n",
       "1                     1                   0        negative     18  \n",
       "2                     1                   0        positive     31  \n",
       "3                     0                   1            none      0  \n",
       "4                     1                   0        negative     -1  \n",
       "...                 ...                 ...             ...    ...  \n",
       "10565                 1                   0        negative      1  \n",
       "10566                 0                   1        positive      0  \n",
       "10567                 1                   0        negative      1  \n",
       "10568                 1                   0        positive     -1  \n",
       "10569                 1                   0        negative     -1  \n",
       "\n",
       "[10570 rows x 11 columns]"
      ]
     },
     "execution_count": 21,
     "metadata": {},
     "output_type": "execute_result"
    }
   ],
   "source": [
    "gold_df_filtered"
   ]
  },
  {
   "cell_type": "code",
   "execution_count": 22,
   "metadata": {},
   "outputs": [],
   "source": [
    "# Step 1: Build Union-Find to track connected components\n",
    "class UnionFind:\n",
    "    def __init__(self):\n",
    "        self.parent = {}\n",
    "\n",
    "    def find(self, x):\n",
    "        if x != self.parent.setdefault(x, x):\n",
    "            self.parent[x] = self.find(self.parent[x])\n",
    "        return self.parent[x]\n",
    "\n",
    "    def union(self, x, y):\n",
    "        self.parent[self.find(y)] = self.find(x)\n",
    "\n",
    "\n",
    "uf = UnionFind()\n",
    "for a, b in highly_similar_pairs:\n",
    "    uf.union(min(a, b), max(a, b))  # Always union to the smaller ID\n",
    "\n",
    "# Step 2: Build final topic mapping to lowest ID in each group\n",
    "# Also apply to all unique topics (including those not in pairs)\n",
    "final_mapping = {}\n",
    "for topic in unique_topics:\n",
    "    if topic == -1:\n",
    "        final_mapping[topic] = -1\n",
    "    else:\n",
    "        final_mapping[topic] = uf.find(topic)\n",
    "\n",
    "# Step 3: Apply the mapping to the dataframe\n",
    "gold_df_filtered[\"Merged_Topic\"] = gold_df_filtered[\"Topic\"].map(final_mapping)"
   ]
  },
  {
   "cell_type": "code",
   "execution_count": 23,
   "metadata": {},
   "outputs": [],
   "source": [
    "# remove the noise data\n",
    "noise_data = gold_df_filtered[gold_df_filtered.Merged_Topic == -1]\n",
    "\n",
    "gold_df_filtered = gold_df_filtered[gold_df_filtered.Merged_Topic != -1]"
   ]
  },
  {
   "cell_type": "code",
   "execution_count": 24,
   "metadata": {},
   "outputs": [
    {
     "data": {
      "text/plain": [
       "(2656, 12)"
      ]
     },
     "execution_count": 24,
     "metadata": {},
     "output_type": "execute_result"
    }
   ],
   "source": [
    "noise_data.shape"
   ]
  },
  {
   "cell_type": "code",
   "execution_count": 25,
   "metadata": {},
   "outputs": [
    {
     "data": {
      "text/plain": [
       "(7914, 12)"
      ]
     },
     "execution_count": 25,
     "metadata": {},
     "output_type": "execute_result"
    }
   ],
   "source": [
    "gold_df_filtered.shape"
   ]
  },
  {
   "cell_type": "code",
   "execution_count": 26,
   "metadata": {},
   "outputs": [
    {
     "data": {
      "text/plain": [
       "20"
      ]
     },
     "execution_count": 26,
     "metadata": {},
     "output_type": "execute_result"
    }
   ],
   "source": [
    "len(gold_df_filtered[\"Merged_Topic\"].unique())"
   ]
  },
  {
   "cell_type": "code",
   "execution_count": 27,
   "metadata": {},
   "outputs": [
    {
     "data": {
      "text/plain": [
       "Merged_Topic\n",
       "34    5488\n",
       "14     237\n",
       "7      192\n",
       "9      186\n",
       "10     176\n",
       "11     173\n",
       "12     162\n",
       "33     148\n",
       "13     146\n",
       "17     117\n",
       "19     105\n",
       "20     102\n",
       "22     100\n",
       "23      96\n",
       "24      95\n",
       "26      91\n",
       "27      89\n",
       "29      84\n",
       "38      66\n",
       "40      61\n",
       "Name: count, dtype: int64"
      ]
     },
     "execution_count": 27,
     "metadata": {},
     "output_type": "execute_result"
    }
   ],
   "source": [
    "gold_df_filtered[\"Merged_Topic\"].value_counts()"
   ]
  },
  {
   "cell_type": "code",
   "execution_count": 28,
   "metadata": {},
   "outputs": [
    {
     "data": {
      "text/plain": [
       "Series([], Name: News, dtype: object)"
      ]
     },
     "execution_count": 28,
     "metadata": {},
     "output_type": "execute_result"
    }
   ],
   "source": [
    "gold_df_filtered[gold_df_filtered.Merged_Topic == 39][\"News\"]\n",
    "# seems to be downward price movement"
   ]
  },
  {
   "cell_type": "code",
   "execution_count": 29,
   "metadata": {},
   "outputs": [
    {
     "data": {
      "text/plain": [
       "112                 gold futures fall 0.24% on global cues\n",
       "224               gold futures rebound on firm global cues\n",
       "242       gold rises rs 67 in futures trade on global cues\n",
       "334                 gold futures give up europe-deal gains\n",
       "629                 gold futures rise rs 34 on global cues\n",
       "                               ...                        \n",
       "9402         Gold futures down at Rs 30,800 on global cues\n",
       "9571     Gold, silver futures rise with U.S. data, Ukra...\n",
       "9667                  gold futures rise as japan mulls buy\n",
       "10152         gold futures up by rs 91 on firm global cues\n",
       "10187    Gold Rate Today: Gold rises in futures trade; ...\n",
       "Name: News, Length: 66, dtype: object"
      ]
     },
     "execution_count": 29,
     "metadata": {},
     "output_type": "execute_result"
    }
   ],
   "source": [
    "gold_df_filtered[gold_df_filtered.Merged_Topic == 38][\"News\"]\n",
    "# macroeconomic events"
   ]
  },
  {
   "cell_type": "code",
   "execution_count": 30,
   "metadata": {},
   "outputs": [
    {
     "data": {
      "text/plain": [
       "10     feb. gold ends up $9.60, or 1.1%, at $901.60 a...\n",
       "45          gold ends 0.5% higher, at $1,159.60 an ounce\n",
       "207           gold futures up $12.20 at $954.70 an ounce\n",
       "213    june gold futures fall $11.60, or 0.9%, to set...\n",
       "245          gold futures up $8.50 at $1,005.20 an ounce\n",
       "401    gold ends floor trade up $9.8 at $1191.7 an ounce\n",
       "471               gold futures up $3.40 at $653 an ounce\n",
       "477       gold futures down $10.70 at $1,590.40 an ounce\n",
       "518         gold futures up $12.20 at $1,212.40 an ounce\n",
       "533         gold futures up $11.40 at $1,198.70 an ounce\n",
       "Name: News, dtype: object"
      ]
     },
     "execution_count": 30,
     "metadata": {},
     "output_type": "execute_result"
    }
   ],
   "source": [
    "gold_df_filtered[gold_df_filtered.Merged_Topic == 13][\"News\"].head(10)\n",
    "# bullish movement"
   ]
  },
  {
   "cell_type": "code",
   "execution_count": 31,
   "metadata": {},
   "outputs": [
    {
     "data": {
      "text/plain": [
       "Series([], Name: News, dtype: object)"
      ]
     },
     "execution_count": 31,
     "metadata": {},
     "output_type": "execute_result"
    }
   ],
   "source": [
    "gold_df_filtered[gold_df_filtered.Merged_Topic == 28][\"News\"].head(10)\n",
    "# broader market conditions"
   ]
  }
 ],
 "metadata": {
  "kernelspec": {
   "display_name": "base",
   "language": "python",
   "name": "python3"
  },
  "language_info": {
   "codemirror_mode": {
    "name": "ipython",
    "version": 3
   },
   "file_extension": ".py",
   "mimetype": "text/x-python",
   "name": "python",
   "nbconvert_exporter": "python",
   "pygments_lexer": "ipython3",
   "version": "3.12.8"
  }
 },
 "nbformat": 4,
 "nbformat_minor": 2
}
